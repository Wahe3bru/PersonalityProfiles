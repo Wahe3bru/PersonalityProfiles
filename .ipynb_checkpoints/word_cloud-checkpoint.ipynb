{
 "cells": [
  {
   "cell_type": "code",
   "execution_count": 1,
   "metadata": {},
   "outputs": [],
   "source": [
    "import nltk"
   ]
  },
  {
   "cell_type": "code",
   "execution_count": 2,
   "metadata": {},
   "outputs": [],
   "source": [
    "import numpy as np\n",
    "import pandas as pd\n",
    "import matplotlib.pyplot as plt\n",
    "%matplotlib inline\n",
    "import seaborn as sns\n",
    "import re"
   ]
  },
  {
   "cell_type": "markdown",
   "metadata": {},
   "source": [
    "## Let's get the data and clean it up a bit"
   ]
  },
  {
   "cell_type": "code",
   "execution_count": 12,
   "metadata": {},
   "outputs": [],
   "source": [
    "all_mbti = pd.read_csv('data/Essay_data.csv')\n",
    "\n",
    "# List of mbti types \n",
    "type_labels = ['ISTJ', 'ISFJ', 'INFJ', 'INTJ', \n",
    "               'ISTP', 'ISFP', 'INFP', 'INTP', \n",
    "               'ESTP', 'ESFP', 'ENFP', 'ENTP', \n",
    "               'ESTJ', 'ESFJ', 'ENFJ', 'ENTJ']"
   ]
  },
  {
   "cell_type": "code",
   "execution_count": 13,
   "metadata": {},
   "outputs": [
    {
     "data": {
      "text/html": [
       "<div>\n",
       "<style>\n",
       "    .dataframe thead tr:only-child th {\n",
       "        text-align: right;\n",
       "    }\n",
       "\n",
       "    .dataframe thead th {\n",
       "        text-align: left;\n",
       "    }\n",
       "\n",
       "    .dataframe tbody tr th {\n",
       "        vertical-align: top;\n",
       "    }\n",
       "</style>\n",
       "<table border=\"1\" class=\"dataframe\">\n",
       "  <thead>\n",
       "    <tr style=\"text-align: right;\">\n",
       "      <th></th>\n",
       "      <th>I/E</th>\n",
       "      <th>N/S</th>\n",
       "      <th>T/F</th>\n",
       "      <th>J/P</th>\n",
       "      <th>Essay</th>\n",
       "    </tr>\n",
       "  </thead>\n",
       "  <tbody>\n",
       "    <tr>\n",
       "      <th>0</th>\n",
       "      <td>I</td>\n",
       "      <td>S</td>\n",
       "      <td>T</td>\n",
       "      <td>J</td>\n",
       "      <td>My first 4 months at the EDSA have been filled...</td>\n",
       "    </tr>\n",
       "    <tr>\n",
       "      <th>1</th>\n",
       "      <td>I</td>\n",
       "      <td>N</td>\n",
       "      <td>F</td>\n",
       "      <td>J</td>\n",
       "      <td>I joined the academy being at a crossroads of ...</td>\n",
       "    </tr>\n",
       "    <tr>\n",
       "      <th>2</th>\n",
       "      <td>E</td>\n",
       "      <td>N</td>\n",
       "      <td>F</td>\n",
       "      <td>J</td>\n",
       "      <td>so far my experience has been positive and i c...</td>\n",
       "    </tr>\n",
       "    <tr>\n",
       "      <th>3</th>\n",
       "      <td>I</td>\n",
       "      <td>N</td>\n",
       "      <td>F</td>\n",
       "      <td>J</td>\n",
       "      <td>I have been very fortunate to have the opportu...</td>\n",
       "    </tr>\n",
       "    <tr>\n",
       "      <th>4</th>\n",
       "      <td>I</td>\n",
       "      <td>N</td>\n",
       "      <td>T</td>\n",
       "      <td>J</td>\n",
       "      <td>Looking back to when one got to the academy an...</td>\n",
       "    </tr>\n",
       "  </tbody>\n",
       "</table>\n",
       "</div>"
      ],
      "text/plain": [
       "  I/E N/S T/F J/P                                              Essay\n",
       "0   I   S   T   J  My first 4 months at the EDSA have been filled...\n",
       "1   I   N   F   J  I joined the academy being at a crossroads of ...\n",
       "2   E   N   F   J  so far my experience has been positive and i c...\n",
       "3   I   N   F   J  I have been very fortunate to have the opportu...\n",
       "4   I   N   T   J  Looking back to when one got to the academy an..."
      ]
     },
     "execution_count": 13,
     "metadata": {},
     "output_type": "execute_result"
    }
   ],
   "source": [
    "all_mbti.head()"
   ]
  },
  {
   "cell_type": "markdown",
   "metadata": {},
   "source": [
    "## Removing Noise"
   ]
  },
  {
   "cell_type": "code",
   "execution_count": 8,
   "metadata": {},
   "outputs": [],
   "source": [
    "pattern_url = r'http[s]?://(?:[A-Za-z]|[0-9]|[$-_@.&+]|[!*\\(\\),]|(?:%[0-9A-Fa-f][0-9A-Fa-f]))+'\n",
    "subs_url = r'url-web'\n",
    "all_mbti['post'] = all_mbti['post'].replace(to_replace = pattern_url, value = subs_url, regex = True)"
   ]
  },
  {
   "cell_type": "markdown",
   "metadata": {},
   "source": [
    "### Remove punctuation"
   ]
  },
  {
   "cell_type": "code",
   "execution_count": 14,
   "metadata": {},
   "outputs": [],
   "source": [
    "# first we make everything lower case to remove some noise from capitalisation\n",
    "all_mbti['Essay'] = all_mbti['Essay'].str.lower()"
   ]
  },
  {
   "cell_type": "code",
   "execution_count": 11,
   "metadata": {},
   "outputs": [
    {
     "name": "stdout",
     "output_type": "stream",
     "text": [
      "!\"#$%&'()*+,-./:;<=>?@[\\]^_`{|}~\n"
     ]
    }
   ],
   "source": [
    "import string\n",
    "# these are the chars that count as punctuation. Let's remove the punctuation\n",
    "print(string.punctuation)"
   ]
  },
  {
   "cell_type": "code",
   "execution_count": 12,
   "metadata": {},
   "outputs": [],
   "source": [
    "def remove_punctuation(post):\n",
    "    return ''.join([l for l in post if l not in string.punctuation])"
   ]
  },
  {
   "cell_type": "code",
   "execution_count": 13,
   "metadata": {},
   "outputs": [],
   "source": [
    "all_mbti['post'] = all_mbti['post'].apply(remove_punctuation)"
   ]
  },
  {
   "cell_type": "code",
   "execution_count": 19,
   "metadata": {},
   "outputs": [
    {
     "name": "stdout",
     "output_type": "stream",
     "text": [
      "<class 'pandas.core.frame.DataFrame'>\n",
      "RangeIndex: 67 entries, 0 to 66\n",
      "Data columns (total 5 columns):\n",
      "I/E      67 non-null object\n",
      "N/S      67 non-null object\n",
      "T/F      67 non-null object\n",
      "J/P      67 non-null object\n",
      "Essay    64 non-null object\n",
      "dtypes: object(5)\n",
      "memory usage: 2.7+ KB\n"
     ]
    }
   ],
   "source": [
    "all_mbti.info()"
   ]
  },
  {
   "cell_type": "markdown",
   "metadata": {},
   "source": [
    "## [Tokenising](http://www.nltk.org/howto/tokenize.html) "
   ]
  },
  {
   "cell_type": "markdown",
   "metadata": {},
   "source": [
    "A tokenizer divides text into a sequence of tokens, which roughly correspond to \"words\". (see the [Stanford Tokeniser](https://nlp.stanford.edu/software/tokenizer.shtml))  We will use tokenisers to clean up the data, making it ready for analysis."
   ]
  },
  {
   "cell_type": "code",
   "execution_count": 9,
   "metadata": {},
   "outputs": [],
   "source": [
    "#nltk.download('punkt')\n",
    "from nltk.tokenize import word_tokenize, TreebankWordTokenizer"
   ]
  },
  {
   "cell_type": "code",
   "execution_count": 26,
   "metadata": {},
   "outputs": [],
   "source": [
    "all_mbti['Essay'] = all_mbti['Essay'].astype(str)"
   ]
  },
  {
   "cell_type": "code",
   "execution_count": 27,
   "metadata": {},
   "outputs": [],
   "source": [
    "# we will use the TreeBankWordTokenizer since it is MUCH quicker than the word_tokenise function\n",
    "tokeniser = TreebankWordTokenizer()\n",
    "all_mbti['tokens'] = all_mbti['Essay'].apply(tokeniser.tokenize)"
   ]
  },
  {
   "cell_type": "markdown",
   "metadata": {},
   "source": [
    "## [Lemmatization](https://pythonprogramming.net/lemmatizing-nltk-tutorial/)"
   ]
  },
  {
   "cell_type": "code",
   "execution_count": 19,
   "metadata": {},
   "outputs": [
    {
     "name": "stdout",
     "output_type": "stream",
     "text": [
      "[nltk_data] Downloading package wordnet to\n",
      "[nltk_data]     /Users/wahe3bru/nltk_data...\n",
      "[nltk_data]   Package wordnet is already up-to-date!\n",
      "cat\n",
      "cactus\n",
      "goose\n",
      "rock\n",
      "python\n",
      "good\n",
      "best\n",
      "run\n",
      "run\n"
     ]
    }
   ],
   "source": [
    "from nltk.stem import WordNetLemmatizer\n",
    "nltk.download('wordnet')\n",
    "\n",
    "lemmatizer = WordNetLemmatizer()"
   ]
  },
  {
   "cell_type": "code",
   "execution_count": 20,
   "metadata": {},
   "outputs": [],
   "source": [
    "def mbti_lemma(words, lemmatizer):\n",
    "    return [lemmatizer.lemmatize(word) for word in words]    "
   ]
  },
  {
   "cell_type": "code",
   "execution_count": null,
   "metadata": {},
   "outputs": [],
   "source": [
    "# lemmatize all words in dataframe\n",
    "all_mbti['lemma'] = all_mbti['tokens'].apply(mbti_lemma, args=(lemmatizer, ))"
   ]
  },
  {
   "cell_type": "code",
   "execution_count": null,
   "metadata": {},
   "outputs": [],
   "source": [
    "for i, t in enumerate(all_mbti.iloc[268702]['tokens']):    \n",
    "    print ('{:20s} --> {:10s}'.format(t, all_mbti.iloc[268702]['lemma'][i]))"
   ]
  },
  {
   "cell_type": "markdown",
   "metadata": {},
   "source": [
    "## [Stop Words](http://johnlaudun.org/20130126-nltk-stopwords/)"
   ]
  },
  {
   "cell_type": "markdown",
   "metadata": {},
   "source": [
    "Stop words are words which do not contain important significance to be used in Search Queries. Usually these words are filtered out from search queries because they return a vast amount of unnecessary information.  See this [blog post](http://xpo6.com/list-of-english-stop-words/) for more information."
   ]
  },
  {
   "cell_type": "code",
   "execution_count": 28,
   "metadata": {},
   "outputs": [],
   "source": [
    "from nltk.corpus import stopwords"
   ]
  },
  {
   "cell_type": "code",
   "execution_count": 29,
   "metadata": {},
   "outputs": [
    {
     "data": {
      "text/plain": [
       "['a', 'about', 'above', 'after', 'again', 'against', 'ain', 'all', 'am', 'an']"
      ]
     },
     "execution_count": 29,
     "metadata": {},
     "output_type": "execute_result"
    }
   ],
   "source": [
    "sorted(stopwords.words('english'))[0:10]"
   ]
  },
  {
   "cell_type": "code",
   "execution_count": 30,
   "metadata": {},
   "outputs": [],
   "source": [
    "def remove_stop_words(tokens):    \n",
    "    return [t for t in tokens if t not in stopwords.words('english')]"
   ]
  },
  {
   "cell_type": "markdown",
   "metadata": {},
   "source": [
    "Let's leave the stop words in for now so that we can test the following **Hypothesis**:\n",
    "* Introverts tend to use the word **`I`** more than extroverts\n",
    "* Conversely, Extroverts tend to favour the word **`you`**"
   ]
  },
  {
   "cell_type": "markdown",
   "metadata": {},
   "source": [
    "In case you want to run the analysis again without stop words! Be warned, this can take long with the pandas apply function"
   ]
  },
  {
   "cell_type": "code",
   "execution_count": 31,
   "metadata": {},
   "outputs": [],
   "source": [
    "all_mbti['tokens'] = all_mbti['tokens'].apply(remove_stop_words)"
   ]
  },
  {
   "cell_type": "code",
   "execution_count": 48,
   "metadata": {},
   "outputs": [],
   "source": [
    "all_mbti.drop('Essay', axis=1, inplace=True)"
   ]
  },
  {
   "cell_type": "code",
   "execution_count": 50,
   "metadata": {},
   "outputs": [
    {
     "data": {
      "text/html": [
       "<div>\n",
       "<style>\n",
       "    .dataframe thead tr:only-child th {\n",
       "        text-align: right;\n",
       "    }\n",
       "\n",
       "    .dataframe thead th {\n",
       "        text-align: left;\n",
       "    }\n",
       "\n",
       "    .dataframe tbody tr th {\n",
       "        vertical-align: top;\n",
       "    }\n",
       "</style>\n",
       "<table border=\"1\" class=\"dataframe\">\n",
       "  <thead>\n",
       "    <tr style=\"text-align: right;\">\n",
       "      <th></th>\n",
       "      <th>I/E</th>\n",
       "      <th>N/S</th>\n",
       "      <th>T/F</th>\n",
       "      <th>J/P</th>\n",
       "      <th>tokens</th>\n",
       "    </tr>\n",
       "  </thead>\n",
       "  <tbody>\n",
       "    <tr>\n",
       "      <th>0</th>\n",
       "      <td>I</td>\n",
       "      <td>S</td>\n",
       "      <td>T</td>\n",
       "      <td>J</td>\n",
       "      <td>[first, 4, months, edsa, filled, many, new, ex...</td>\n",
       "    </tr>\n",
       "    <tr>\n",
       "      <th>1</th>\n",
       "      <td>I</td>\n",
       "      <td>N</td>\n",
       "      <td>F</td>\n",
       "      <td>J</td>\n",
       "      <td>[joined, academy, crossroads, sorts, life., ac...</td>\n",
       "    </tr>\n",
       "    <tr>\n",
       "      <th>2</th>\n",
       "      <td>E</td>\n",
       "      <td>N</td>\n",
       "      <td>F</td>\n",
       "      <td>J</td>\n",
       "      <td>[far, experience, positive, definitely, see, v...</td>\n",
       "    </tr>\n",
       "    <tr>\n",
       "      <th>3</th>\n",
       "      <td>I</td>\n",
       "      <td>N</td>\n",
       "      <td>F</td>\n",
       "      <td>J</td>\n",
       "      <td>[fortunate, opportunity, join, academy, year.,...</td>\n",
       "    </tr>\n",
       "    <tr>\n",
       "      <th>4</th>\n",
       "      <td>I</td>\n",
       "      <td>N</td>\n",
       "      <td>T</td>\n",
       "      <td>J</td>\n",
       "      <td>[looking, back, one, got, academy, right, ,, c...</td>\n",
       "    </tr>\n",
       "  </tbody>\n",
       "</table>\n",
       "</div>"
      ],
      "text/plain": [
       "  I/E N/S T/F J/P                                             tokens\n",
       "0   I   S   T   J  [first, 4, months, edsa, filled, many, new, ex...\n",
       "1   I   N   F   J  [joined, academy, crossroads, sorts, life., ac...\n",
       "2   E   N   F   J  [far, experience, positive, definitely, see, v...\n",
       "3   I   N   F   J  [fortunate, opportunity, join, academy, year.,...\n",
       "4   I   N   T   J  [looking, back, one, got, academy, right, ,, c..."
      ]
     },
     "execution_count": 50,
     "metadata": {},
     "output_type": "execute_result"
    }
   ],
   "source": [
    "all_mbti.head()"
   ]
  },
  {
   "cell_type": "code",
   "execution_count": 35,
   "metadata": {},
   "outputs": [],
   "source": [
    "all_mbti['type'] = all_mbti['I/E'] + all_mbti['N/S'] + all_mbti['T/F'] + all_mbti['J/P']"
   ]
  },
  {
   "cell_type": "code",
   "execution_count": 106,
   "metadata": {},
   "outputs": [],
   "source": [
    "I = all_mbti[all_mbti['I/E']=='I']['tokens']"
   ]
  },
  {
   "cell_type": "code",
   "execution_count": 107,
   "metadata": {},
   "outputs": [
    {
     "data": {
      "text/plain": [
       "0    [first, 4, months, edsa, filled, many, new, ex...\n",
       "1    [joined, academy, crossroads, sorts, life., ac...\n",
       "3    [fortunate, opportunity, join, academy, year.,...\n",
       "4    [looking, back, one, got, academy, right, ,, c...\n",
       "5    [overall, experience, academy, far, great, som...\n",
       "Name: tokens, dtype: object"
      ]
     },
     "execution_count": 107,
     "metadata": {},
     "output_type": "execute_result"
    }
   ],
   "source": [
    "I.head()"
   ]
  },
  {
   "cell_type": "code",
   "execution_count": 67,
   "metadata": {},
   "outputs": [],
   "source": [
    "E = all_mbti[all_mbti['I/E']=='E']['tokens']"
   ]
  },
  {
   "cell_type": "code",
   "execution_count": 135,
   "metadata": {},
   "outputs": [
    {
     "data": {
      "text/plain": [
       "2     [far, experience, positive, definitely, see, v...\n",
       "13    [journey, exciting., stress, constructive, sen...\n",
       "16    [coming, academy, best, thing, ever, happened,...\n",
       "19    [experience, far, great, though, first, bit, a...\n",
       "25    [experience, explore, data, science, academy, ...\n",
       "Name: tokens, dtype: object"
      ]
     },
     "execution_count": 135,
     "metadata": {},
     "output_type": "execute_result"
    }
   ],
   "source": [
    "E.head()"
   ]
  },
  {
   "cell_type": "code",
   "execution_count": 68,
   "metadata": {},
   "outputs": [],
   "source": [
    "N = all_mbti[all_mbti['N/S']=='N']['tokens']"
   ]
  },
  {
   "cell_type": "code",
   "execution_count": 69,
   "metadata": {},
   "outputs": [],
   "source": [
    "S = all_mbti[all_mbti['N/S']=='S']['tokens']"
   ]
  },
  {
   "cell_type": "code",
   "execution_count": 70,
   "metadata": {},
   "outputs": [],
   "source": [
    "T = all_mbti[all_mbti['T/F']=='T']['tokens']"
   ]
  },
  {
   "cell_type": "code",
   "execution_count": 206,
   "metadata": {},
   "outputs": [
    {
     "data": {
      "text/plain": [
       "0     [first, 4, months, edsa, filled, many, new, ex...\n",
       "4     [looking, back, one, got, academy, right, ,, c...\n",
       "7     [attending, explore, data, science, academy, a...\n",
       "8     [wonderful, place, ,, place, waking, morning, ...\n",
       "10    [essay, discussing, personal, experience, rega...\n",
       "Name: tokens, dtype: object"
      ]
     },
     "execution_count": 206,
     "metadata": {},
     "output_type": "execute_result"
    }
   ],
   "source": [
    "T.head()"
   ]
  },
  {
   "cell_type": "code",
   "execution_count": 77,
   "metadata": {},
   "outputs": [],
   "source": [
    "F = all_mbti[all_mbti['T/F']=='F']['tokens']"
   ]
  },
  {
   "cell_type": "code",
   "execution_count": 166,
   "metadata": {},
   "outputs": [],
   "source": [
    "J = all_mbti[all_mbti['J/P']=='J']['tokens']"
   ]
  },
  {
   "cell_type": "code",
   "execution_count": 89,
   "metadata": {},
   "outputs": [],
   "source": [
    "P = all_mbti[all_mbti['J/P']=='P']['tokens']"
   ]
  },
  {
   "cell_type": "code",
   "execution_count": 80,
   "metadata": {},
   "outputs": [
    {
     "data": {
      "text/plain": [
       "5     [overall, experience, academy, far, great, som...\n",
       "6     [got, academy, ,, felt, like, n't, belong, her...\n",
       "8     [wonderful, place, ,, place, waking, morning, ...\n",
       "9     [start, academy, quite, tricking, due, meeting...\n",
       "12    [experience, academy, enjoyable, far., learnin...\n",
       "Name: tokens, dtype: object"
      ]
     },
     "execution_count": 80,
     "metadata": {},
     "output_type": "execute_result"
    }
   ],
   "source": [
    "P.head()"
   ]
  },
  {
   "cell_type": "markdown",
   "metadata": {},
   "source": [
    "### [Bag of words](https://www.packtpub.com/mapt/book/application_development/9781849513609/7/ch07lvl1sec73/bag-of-words-feature-extraction)"
   ]
  },
  {
   "cell_type": "markdown",
   "metadata": {},
   "source": [
    "Text feature extraction is the process of transforming what is essentially a list of words into a feature set that is usable by a classifier. The NLTK classifiers expect dict style feature sets, so we must therefore transform our text into a dict. The Bag of Words model is the simplest method; it constructs a word presence feature set from all the words of an instance."
   ]
  },
  {
   "cell_type": "code",
   "execution_count": 32,
   "metadata": {},
   "outputs": [],
   "source": [
    "def bag_of_words_count(words, word_dict={}):\n",
    "    \"\"\" this function takes in a list of words and returns a dictionary \n",
    "        with each word as a key, and the value represents the number of \n",
    "        times that word appeared\"\"\"\n",
    "    for word in words:\n",
    "        if word in word_dict.keys():\n",
    "            word_dict[word] += 1\n",
    "        else:\n",
    "            word_dict[word] = 1\n",
    "    return word_dict"
   ]
  },
  {
   "cell_type": "code",
   "execution_count": 217,
   "metadata": {},
   "outputs": [
    {
     "data": {
      "text/plain": [
       "\"  first 4 months edsa filled many new experiences ; challenges , others joyful , resulted positive growth person. -- -meeting new people -- - enjoy meeting new people everyone met edsa pleasant. particularly enjoyed listening backgrounds strongest candidates within edsa , provided insight gained experience tools like python & sql. also cherish able build network data scientists tomorrow well established industry professionals.. -- -working together lab -- - working computer lab formal work environment comes pros & cons. 's useful 99 colleagues , supervisors & facilitators provide technical/personal support net necessary. obvious con would noise distraction - least say know trending music albums 2018 , win ! -- -working teams & team dynamics -- - 've worked team projects solo projects professional work environment. enjoy both. experience would say team works best 's team co-ordinator plan work divided conquered ( provided everybody takes full responsibility part ) members first group noobs sql & python , gather analyse phases really exposed technical deficiencies resulted lot frustration came time delivering tasks. experience took comfort zone important lesson patience us all. second group high level experience , strong team co-ordinator team members took full responsibility tasks. even though work complex comfortable team dynamic. -- -how decisions teams made consistent make decisions -- - team decisions groups made deliberation. decisions easier make person presented clear points opinion was. group dynamic strong decision making felt natural , similiar make decision own. -- -how rational emotional decision making process -- - somebody technical knowledge could provide interpretation best solution. problem required research would take place would rely rational logical thinking arrive solution. regarding emotions , used open communication channels facilitators supervisors discuss emotions opposed letting emotions making project decisions. -- -overall -- - previous role electrical designer smitten data analytics within electricity metering sector. edsa provided platform pursue passion broader scope data using market leading tools importantly upgrade skill-set thus opening new opportunities within workplace .  joined academy crossroads sorts life. academy offered opportunity pivot career engineering data science unfairly dismissed struggling find employment result. meeting 100+ ( faculty students ) new people would part life whole year something get used , even though worked multinational companies. ability deal people different backgrounds , beliefs , etc. tested group work. needless say lead tension one 's life team mates pulling weight. team dynamics always learning process/curve , thankfully bad experience till now. needless say , people try cheat system , act dishonestly sometimes plain lazy. many opinionated thus rendered incapable making great contribution. way things always consider everyone 's well-being , opinions contributions. somehow persons think ok cynical unhelpful. end day , supposed learn become data scientists. work , improve daily. .  far experience positive definitely see value course. experience working different people valuable me. worked well attitude everyone team deliver take responsibility. difficult step back trust team work , however cases team members exceeded expectations. felt bit frustrated team members applied taken substandard lazy approach problems. like get stuck something get immediate results improve there. think approach worked well however also learnt allot team members structured task based approach. allot time spent tangents add value projects however tangents either paid results learnings took them. decision making approach generate ideas create structured work flow around ideas distribute work among individuals take interested work flow. conflicting ideas typically took democratic approach combined healthy debate. find build relationships people 'm teams with. get know best. strongest connections team members also people academy learn from. took team bit data collecting tangent last sprint necessarily productive use time could avoided understood problem better. one case probably assertive team , however way like make decisions get stuck workflow stream adapt go n't supervisor direction point. find environment stimulative enjoy going around teams see working on. good relationship people happy share working great. also found environment distracting times , would like help people get satisfaction , however 'm also that. working different people mixing regularly something im excited everyone different learnings experience theres something learn everyone .  fortunate opportunity join academy year. sure career choice , academy provided great chance change career paths. help choosing new path allow eventually reach larger goals life. moving cape town joining academy challenging , already knew two people academy joining. however made bit difficult making new friends. typically reserved , easily make new friends , especially already good friends , case see reason make new friends. working teams academy great challenge me. normally prefer work pace working team forced cooperate people adjust skill levels. sometimes meant taking work allocated me. addition , found difficult working individuals invested projects aiming learning much experience intend to. within teams , leadership quite lacking. typically like forcing onto people , circumstances , forced take lead projects. taking lead tried best lead behind , making sure consensus within team deciding. generally due lack experience one teams , meant think plan , execution thereof , followed team implementing without challenging ideas laid out. approach worked well , would liked greater input team , unsustainable left would render team incapable functioning properly. team , people much competent four members , decisions much easier take. good idea , still elected leader , role much organic time , much balanced consensual way making decisions. however , completion tasks effectively still perfect left. teams struggled making decisions , never experienced conflict generally emotional making decisions .  looking back one got academy right , confidently say grown intrapersonally interpersonally optimistic perception working also gradually shifted realistic end spectrum. came nothing positive outlook journey gotten opportunity embark , however , learned couple valuable lessons - one stand value understanding teammates expecting one understand you. put far put cap assertive nature gotten lot f pressure given opportunity even sharpen softer skills tends help quite lot even outside academy good vibe generator - one deflects negative energy positive energies whatever spheres happen find in. getting know colleagues exciting initially thought would best get know everyone due knowing underlying power networking much tend ripe rewards least expect it. however , due various factors including time constraints , one n't yet gotten know everyone. nonetheless , 've connected way pivoted range experiences 've exposed anything - 've found one connects colleagues duties get better understanding really drives bed morning tends relative ease synergies working people group. foundation good teamwork come play proven crucial implementing fulfilling common goal quicker. establishing people 's unique abilities also n't easiest tasks , one things far made role duty allocations bit messy groups. mind team makes decisions usually made voting process duties tend easily misallocated accord effectiveness leverage ( exploiting team member unique abilities motivate everyone play strengths avoid weaknesses proper balance ) . teamwork easy job exciting time takes one individual break firm structure especially individual wants make decisions- hinders progress flow ideas team turn leads dull average outcome. 've found decision-making techniques bit irrational due central tend especially find group nice people express feel whoever so. learned focus making sure ’ expected delivered timely miss beauty process focussing relatively small hurdles ’ vast amount captivating material engage in. getting know colleagues exciting initially thought would best get know everyone due knowing underlying power networking much tend ripe rewards least expect it. however , due various factors including time constraints , one n't yet gotten know everyone. nonetheless , 've connected way pivoted range experiences 've exposed anything - 've found one connects colleagues duties get better understanding really drives bed morning tends relative ease synergies working people group. foundation good teamwork come play proven crucial implementing fulfilling common goal quicker. establishing people 's unique abilities also n't easiest tasks , one things far made role duty allocations bit messy groups. mind team makes decisions usually made voting process duties tend easily misallocated accord effectiveness leverage ( exploiting team member unique abilities motivate everyone play strengths avoid weaknesses proper balance ) . teamwork easy job exciting time takes one individual break firm structure especially individual wants make decisions- hinders progress flow ideas team turn leads dull average outcome. 've found decision-making techniques bit irrational due central tend especially find group nice people express feel whoever so. 've also learned never bring emotions workplace people tend step sensitive things without noticing- example someone staring shoulder commenting work 're quite unpleasant kills moral detaching focusing 's required best coping mechanisms .  attending explore data science academy already proven , continues amazing experience. ’ quite astonishing realize much ’ learned mastered past couple months , chief among would ( subject essay ) , teamwork. meeting new people daunting task ( including ) . however academy different start. sheer excitement students especially explore team ( supervisors facilitators ) acted social catalyst , smoothing social awkwardness , knew getting along like house fire. working teams people completely different backgrounds personalities challenging throughout first project , said , also interesting see individual adapts accommodate team help build team dynamic. starting cape town water crisis project honestly idea expect , certainly ’ expect team dynamic play huge role success deliverables. team overcome different levels knowledge , skills , self motivation. couple late nights flared tempers managed get work done , realised overlooked crucial part teamwork. one need self motivation , also create environment team motivate comfortable enough ask help ’ feeling overwhelmed struggling get grips difficult concept. team definitely lacking aspect , take chin regards deliverables , walked away learning priceless lesson moving next sprint. assigned new teams rsa stock market sprint , refreshing hear ’ team struggled certain aspects team dynamics. get go approached structured interactive way things. decided stand meetings every morning report previous day ’ goals well setting new goals day ahead. already made huge difference motivation team. another part success dividing work ’ get overwhelmed individuals rather sharing workload one-on-ones relevant team members gain deeper understanding section work. approach even advantages thought. structure communication team members lead lower stress levels ( even though still ever present ) , resulting cooler tempers clear headed decisions less emotionally-driven first project. goes show “ soft ” skills important technical skills working teams. ’ wait learn brilliant diverse people academy. '' individual commitment group effort -- makes team work , company work , society work , civilization work. '' -- vince lombardi  essay discussing personal experience regards academy like meeting new people especially introverted person am. speak different teams , different different felt , learned different characters. comparing decision making done teams versus personal decision making. getting plane cape town without place stay friends city big risk , certain plan academy kept praying want scam plot get specific building get kidnapped. fairly surprised get meet people walks life , also kind questioning legit , mean hard question , sounded way good true good things learned ’ happen people like us , guess time shine receive blessings. ’ think academy , blessing. said , experience academy ups downs like always ends up.i learned lot , fallen love data science , things small mindedness used consider geek ’ s. learned push , always try learn , practice computers always evolving. since met people different personalities academy , personality clashes occurred 1 biggest lessons , able work different people different personalities. working teams ’ easy thought would first , everyone idea assumed supposed done different opinions could dismissed everyone 's opinion valuable working team , opinions somehow seemed clash. working teams taught patient , quality possess whatsoever. second time changed teams though seemed though everyone gotten idea working teams ’ like , basically dipping toes working teams thing first sprint , second sprint bit confident meant worked better second teams , improving go. teams , split work equally amongst , making sure everyone gets chance tackle important lessons like coding dashboard. group coordinator state views , he/she would speak supervisor decision would made way , supervisor would guide us right direction hearing thought right way.its almost concept use guess making decisions , weigh options , see one best one worst outcome obviously go best outcome. conclusion working teams skill gaining developing everyday , ’ mastered , heck difficult master many personalities , getting .  coming academy best thing ever happened grateful opportunity. learned academy going encourage teamwork excited meet new people different spheres life exchange ideas network it. working teams thus far ok. things like team commitment work work ethic thereof. comes decision making n't enjoy part felt sense dictatorship member would defy group 's decision still want impose best team start delegating work teammates based vision. felt defied purpose brainstorming planning objectives. role played team always conscientize group imperativeness working within scope prioritizing required us form basis going structure project would help decision making. supervisor meetings reporting based `` '' , `` '' . sign individualism collective project perpetrated unnecessary competition. enjoyed networking variety people academy also participate win hackathon hosted city capetown one best networks team collaborations went well me. like random conversations technology trying link 'd connect inspire other. brief summary work prefer plan try much possible stick plan always room changes. consolidation key helps deciding conflicting ideas .  past months one challenging thrilling experience life. coming , expected engage people knew introvert , experience academy would force engaging people. something totally outside comfort zone. ready ; much prepared , ready challenged understood growth reached uncomfortable spaces. experience taught could imagined. learnt fearless embrace greatness within me. come across shy , willingness push things enabled speak room full people made realize get nervous things actual fact get nervous things capable also fail. way scared inabilities potential. understand still lot learn fully comfortable know feel still lot knowledge gained. coming bit theoretical statistical background , interesting see techniques learnt university applied real world scenarios. coming space , space full well equipped individuals , felt bit intimidated idea career going lacked confidence really good at. experience far definitely given better understanding skill set career take , importantly come learn alone. able meet lots people also similar situation , simply shown worries worth worrying things fall place. environment quite relaxed , yet taught behave professional workplace. support peers also tremendous. observing everyday events supervisors taught teamwork , people come together get things done . although sometimes remind use inside voice , feel adapting environment relatively well. going forward , expect learn develop skills .  experiences explore data science academy experience meeting lots new people great one , months already learned lot , continue daily level. terms meeting new people much gain , especially terms offered different perspectives , challenged way thinking. also taken comfort zone turn taught lot handle different personalities. experience working together lab teams much appreciated close real world experience , 've already similar environment throughout university always found enjoyable interact people. level productivity performance exponentially increased , mainly deadlines needed meet wanting disappoint teammates , generally working others helps achieving individual. say interpersonal skills increased , example speaking listening others. come realize collaborating others helped identify strengths weaknesses , basically self-aware. experience decisions made teams was/am consistent like make decisions. lot people considerate want attain goal , appreciated , far people worked take time listen person say try take consideration relevant concise , decisions made depending everyone felt. experience rational emotional decision-making process been. decisions made rational group took time take people ’ emotions consideration possible. ’ obvious always agree completely certain things , occured , time taken explain person things certain way beneficial way disagreeing member thought. accepting possibility incorrect important role , especially comes working others. conclusion , experience positive anything academy .  attending academy first time like first year , however difference everyone age. idea meeting people really cool however issue forced work people things tend bit shaky everyone standards. make matters interesting grades directly dependent interaction team. varsity must admit best experiences working group tend find similar roles characters. however bit optimistic given diverse ages academy assumption folk work experience hopefully mature. furthermore , come realize establishing solid authentic team dynamics 's also lot stressful actually may seem without trying fake sake team trying accommodating. real issue trust decisions tends made around dominant personalities perspective may particularly best interest team whole. although always agree approach would agree fundamentally understanding skill set equally distributed also end day delivery project. overall happy rational decision making process. divide trust conquer works best teams something come learn. within teams lucky may find someone work ethic dedicated case would likely help could find someone understands work complements style. think initially everyone problem admitting n't get something deliverables due. journey emotional especially towards end tend give less less input become concerned delivery .  good fun experience though 's often case pressure. lab allowed enough time practice get used coding , improved efficiency coding working computer. coming academy n't used idea working team , along year got better , knowing someone count , rely go need help. also got know personal level makes easy understand , strength weaknesses allows us form strong team. sometimes disagreements think right , effective solving , lucky enough co-operative team members since beginning year. though n't got know many colleagues ones got know would say pleasure meeting  experience explore data science academy great far. goals explore year develop & master skills data science well improve leadership skills. felt empowered content ’ taught. four months , believe already learnt skills would allow enter & succeed job market. next 7 months plan spend refining data science skills using 1 hour evenings revising content learnt class. regards second goal ( improve leadership skills ) , ’ fortune team great coordinator & excellent team dynamics. also great team coordinator team. ’ taken many lessons experiences read book. given practical lessons improve leadership skills. ’ two teams far , worked first 1. coordinator nudged us always making progress towards bigger goal. 2. teammates voluntarily picked segment project would responsible for. 3. loose deadlines agreed , deadlines also allowances members equip skills required fulfil parts project. 4. team met twice week discuss progress. 5. time member grew comfortable asking help others well given feedback. team dynamic encouraged member give part project all. inevitably , team members technically advanced others ended taking advanced work rest , however time felt like overburden. given positive experience eager also try coordinator next sprint came around. new teams assigned & volunteered coordinate. aspects believe could done better. 1. ’ commonly accepted bigger goal. 2. ’ involve team identifying small goals were. worked work plan overnight & presented team. team loved plan , individual responsibilities work assigned. 3. led situation members team clear responsibilities were. 4. result power leadership , members team ended bulk work. able pull together & present satisfactory project , however believe could led better & helped team deliver far better project. member team would also proud contributed fully project. learnt great deal experience & would like give coordinating another try , like skill believe leadership learnt practice .  explore data science academy , road never thought would take lifetime. love passion cars , accepted data science internship one last thing never saw coming. love travelling exploring new avenues `` let 's '' tip. first day coming explore data science academy ( edsa ) beyond expectations , visually appealing facilities provided us. first could believe , cape town , comfort zone , pushing something involve anything studied. came expectations , however , told something need give order leave experience back future. speech supervisors gave us 22nd january reassured make mistake coming here. first week given work , install softwares would using throughout year , thought would pre-installed arrived. first , introvert side steering wheel interact lot people besides housemate. started interacting people water crisis sprint started. team people different background ; bioinformatics sciences , computer science , economic statistics mix , different parts south africa ( mostly gauteng ) . one things stood type people would start conversations loud side come order make everybody feel comfortable. first week gather sprint took team start making progress , thursday already figured system worked everyone order use something show supervisor. put weaknesses strengths table , started communicating better team. results shown supervisor told us think would deliver delivered , however , delivered end fundamental , faith would best one best. love good music , adventure socializing led connecting people group. time fundamentals spent helping people , building friendships would carry edsa year even greater , learning languages like python sql , channeling mind data scientist mode. weekends colleagues would tour cape town going beach , hike mountains could see edsa lab , visiting malls theme parks around cape town. python , one complex languages learn. well , thought since programming background. two teammates experience working languages , changing one language another , fairly doable. advantage since two people could consult whenever ran problem python. presentation fundamental one laid back fundamentals face since preplanned wanted add slides clear storyline. fact split fundamentals tore us apart , however , vowed exit whatsapp group created. review week , weekend , people never talked friends edsa lab suggested go theme park near canal walk mall take minds water crisis sprint. character part outting shy , yet interesting backgrounds. still friends them. stock market sprint came flew by. really feeling team since lot judgemental people felt like knew better. lacked communication , managed pull find sprint one piece. events bcx hosted highlights first months edsa , amount inpirational people engaged events. felt like meant every time spoke lucky waiting us greater wildest dreams. week takes cup. never expected go home least july. honestly grateful spending year edsa lab , could chose anything else .  academy amazing , love petry dish talent ! handful genius characters here.. backgrounds unique stories , explore data science academy best place develop data analysis skills. love time ! far , 've experienced whole lot pressure change something better. spend time studying , better feel , comfortable become closer get quality employee entrepreneur. everyday come office , feel home , learn something new.. something directly use business application. look around entire building get inspired start business 've learned here. speak among business academy helping us realize ideas clearly. without information back ideas , 's difficult starting. availability information outstanding. really appreciate nest. last two teams great work with. achieved bunch , , thanks resources available. first sprint tough though. team , realized strengths taught other. n't problem sql python used technologies before. understanding statistics applications data given difficult. worst , water crisis data n't collected well. n't worst experience data taught things career perfect. perfect skills data cleaning. realize limited number solutions data analysis. perfect outcomes data science , could breeze work future. believe hyper prepared things.. game theory data science would prove beneficial. emotionally , 'm great. academy brings best worst skills provides controlled environment mend holes analytical judgement. relief , emotionally physically becomes process bettering daily , bit bit without forcing stress .  experience edsa far combination challenging , fascinating , unpredictable. coming academy , excited would get meet new people learn new skills ; anticipated might somewhat difficult engaging new people ( since introverted ) coming grips new technical ideas ( creative technophile ) , since loved good challenge , still excited immerse experience. surprise , challenges faced none anticipated generally able interact cordially new people understand technicalities program. greatest challenge far working lab. environment many people ( different personalities , habits , learning techniques preferences ) forced natural inclination isolate working. easily distracted , think carefully navigate space simulate environment conducive learning. also found team consider optimally ration work , challenging , especially beginning n't yet good understanding 's strengths weaknesses. said , gotten know fairly well , able make decisions believed would amplify strengths diminish weaknesses could produce results best possible quality. sense , much decision-making teams rational rather emotional. would apply logic reason wanted achieve thought might able , found always room empathetic thoughtful ( thereby engaging emotions rather reason ) , sake team member , alter original plan. somewhat consistent personally make decisions : think times base decisions think yield best results terms trying achieve , even happens inconvenient taxing process ; times , especially decision made great consequence , make decisions based emotions believe 'rational ' 'logical ' decision likely hurt someone 's feelings cast bad light. , learned awful lot : preferences , strengths weaknesses , character ... found learning curve steep emotions rather turbulent throughout process , enjoyed every part challenge could mean future -- prospect holds together worst days exhilarates best days .  experience edsa interesting one thus far. pushed get shell interact people. since academy realised smarter think lot valuable knowledge insight share. biggest fear coming academy social aspect interact different people , since able overcome fear. first placed groups literally sweating , heart rate high felt sick stomach idea group strangers. second time split new groups ’ nervous. become social enjoy meeting working new people now. working groups challenge me. frustrating everyone different everyone different approach learning process project management. ’ learned lot working others. took backseat things even knew better way things. spoke saw helped team steer team better direction. become assertive. thought passive person ’ assertive save life , think assertive ’ find daunting. biggest frustration working teams dealing people think know everything ’ willing open learning something new fellow teammates. person like previous group. person would dictate team ’ want collaborate team , dominating personality rest us shy. realised none us ’ speak ’ fail sprint forced breakout shyness. think still fairly shy comes work fight shyness. decisions previous group initially made one person. prefer problems discussed everyone team different possible solutions explored come collaborative solution. found current team. still issues , people letting pride emotions get way work , people distracted ’ committed project. working labs challenge. lot distractions noise focus easily , prefer work home , get much done home. people come academy socialise anything distracting .  past 5 months explore academy challenging. make great adjustments order here. positive negative experiences. one positive experiences much learned. met lot people highly intelligent interests. worked 2 different teams. prefer work alone working team makes sense due sheer volume work. first team experience incredibly frustrating. team members highly introverted technically strong made discussions assigning tasks difficult. even tasks assigned accountability meet deadlines. prefer chip away steadily work opposed rushing close deadline finish. working second team much better. met regularly , communicated lot. tasks assigned everyone accountable. team members helpful towards .  experiences academy far life-changing say least. meeting smart , passionate , hardworking ambitious people different backgrounds happen many similar interests mine interesting journey. introvert prefers working alone pace within space , quickly find way adapt polish social skills order socialize 99 strangers going learning data science with. understood word go need socialize form meaningful relationships fellow interns could see forming strong network may helpful many years come career , long internship. academy ’ emphasis importance team work concept took warm to. teams exposing different individuals varying academic , social , work geographical background different personalities : introverts , extroverts , intuitive , artistic even really funny characters. teammates phenomenal experienced fields previous exposure to. learned lot them. equally ’ also encountered independent disagreeeable teammates required adjust levels patience , tolerance understanding may necessarily share similar beliefs me. need patient tolerant people ’ points view approaches solving completing team tasks. teams , due differing views , opinions approaches use democracy ( voting ) order reach decisions within groups. although easy one resort taking emotionally-driven decisions due one ’ firm beliefs ways things high level emotional intelligence critical favourable team dynamics. academy based cape town , city ’ visited holidays before. moving cape town challenges required solid ‘ family ’ away family fortunately found fellow interns resourceful many ways even outside ‘ labs ’ . example group share information accomodation , transport around city , social events extramural activities. chance test team-building skills virtues regular group sessions nuri believe helpful giving idea relate people less formal settings. credit due supervisors , facilitators oprerations officer ; helpful making internship experience manageable definitely one memorable years come. commitment programme makes easier people personalities settle nicely within diverse small community .  experience academy exceptional. meeting new people amazing , specifically working them. much challenging first inception relate , time things gets better begin know get use one another. odds events one two group member want participate ( eg. missing meetings ) thing way oppose agreed group , really problem participating also productive , especially meet group expectations group works , members end work. means group take collaborative decision planning expect everyone deliver agreed planned. lab one best way work , especially comes group work , find collaborative useful. 's unfortunate group members choose work home leave early come late. found behavior hinder progress , especially tasks divided sub groups among group members. critical aspect group always communication. members usually communicate inability complete task late work due. members get emotional approach , end day always encourage one another see right side approach task project hand. working many different people taught rely others , means trust member work , even better me. fun leaning since day one .  social perspective , experiences academy refreshing impact personal development. prefer things myself. reflected interest gaming , reading fan-fiction writing. however , willing interact others necessary. enjoy paintball friends far sitting lounge rather making casual small talk. applies workplace well essentially things together. even talking , inevitably get topics related coding such. generally people ( outside academy known years ) seem identify introvert give misconception poor communication skills n't always case. many issues communicating team mates others class regarding various topics ranging work-related hobbies ( especially sport , gaming anime ) . prefer finish roleplaying video game lounge talk also like talking science nerdy things. words , need socialise , problems so. intuition observation valuable traits workplace data scientist team-based project. working teams allowed utilise both. found often analysis others n't done apply intuition. managed thing. different academics would essentially everything myself. regard , team-based nature course done well. often think good one working others stimulate us potentially become good trait previously thought n't naturally suited to. case , working teams sort force us find ways overcome weakness make strength instead. said , team dynamics sometimes involved lack coordinated planning among team members. good keep things open , applied plan rather plan. decide certain approach solving problem involves coding , dashboard , n't mean ca n't improvise. agree improvisation ultimate way things. make plan rely open-minded thinking plan n't appear working , improvise. generally experience academy , emotion seems rule roost logic seen potential barrier team work cooperation. mean students end becoming dependent affect teamwork negatively long term. overall course excelled bringing personality traits relevance workplace , providing opportunities overcome weaknesses utilise strengths instead .  academy challenging experience. expected prior coding knowledge help minimal help , greatest challenge statistics. slowing getting point n't actually try understand concept thoroughly rather get basic theory focus application. overall , insightful journey , learning interact different personalities group dynamics. really excited leaning nlp regression incorporate app development monetize it. genuinely regret applying academy although days doubt hurdles remembering greatness opportunity always great motivator .  big part joining academy year meeting working lots new people. unexpectedly positive experience. despite everyone different backgrounds , sense camaraderie interns friendly. even though everyone tested graded environment non-competitive people willing help other. made enjoyable work lab. however , noise bustle lab sometimes overwhelming draining find productive sometimes spend hour two day lab working home quiet. challenging aspect year far teamwork. first project ( cape town water crisis ) times conflict team due team member contributing much therefore shifting workload team members. led resentment team members , expected. team projects work rarely equally divided team managed complete project despite difficulties. reflecting experience grateful done big share work gave opportunity learn lot would otherwise. second project ( jse stock market sprint ) much shorter time span therefore team approached project different. team divide work time everyone involved deliverables. hard meant trusting people work without directly involved dependant complete it. process decision making teams democratic. team discusses problems possible approaches usually obvious decision everyone agrees on. decision making far tended rational team members emotional. emotional part projects stress faced final deadlines neared. , experience academy far positive learnt lot. hope improve way approach team work upcoming sprints .  ‘ greatest opportunity part 100 chosen individuals wonderful programme. explore data science academy ( edsa ) environment makes feel welcome perfect terms collaboration networking different individuals interesting views personalities. ’ hard distinguish edsa work environment. type environment prepare real job. edsa provides one opportunity learn work diverse group people terms career background , culture religion. working groups different individuals project exciting. throughout time , ’ learned lot working teams. first ’ learned team work achieve terms results learning new things. secondly , come decision making , everyone opinion coming final decision another thing. learned ’ voicing opinion , convincing fellow team members indeed opinion fruitful. comes team strategies embark particular project , ’ one size fits situations. team come strategy going solve assigned problem. difficult , especially serve team coordinator serve , time complete different team whole set different personalities characters. instance learned strategy based skills , capabilities mostly team ’ attitude towards project hand. knowing strengths weaknesses team members good start. far learned lot. ’ still intrigued eager learn lot more. feel like becoming real data scientist day passes thanks edsa giving wonderful opportunity .  explore data science academy 19 weeks ( counted ) ; let ’ simplify 3 months shall ? exciting working group challenging problems , feel like world possibilities opened us. exciting overwhelming met many new people. right away seem made name myself. proud , even excited people feel someone come help - practical emotional. helping others role comfortable since typically excelled academic environment , ’ admit disappointment people ’ ask help more. like thought expert ( even like feel like expert , find happens less grow older ( experienced ? wiser ? one old greeks said something wisdom knowing ’ know ) . aspect larger group find overwhelming trying remember everyone , especially since many people seem know am. enjoy learning people ’ backgrounds amazed great selection people attending college. experience working intensely type team entirely new. worked teams school , university work , never amount diversity team. never sitting next team members everyday ; majority one ’ efforts focussed team work. immediate challenge first team working people skills ways operating different own. realised career worked people , background training. made less adaptable less tolerant different approaches problem. trying learn relax give people ’ method approaching problems chance. felt comfortable group leader first sprint , uncomfortable giving reigns second sprint onwards. second project usurped actual leader number occasions seldom pulled back. formed real bond first team , despite ( ) struggles. second team relationship seems formal , although things went much smoothly team arguably effective. found frustrating deal reserved people. hard read difficult reserve judgement ’ produce tangible outputs. still trying figure best deal people , draw shell patience hear trying say. also need consciously tell offer may valuable ( remain unconvinced evidence right table ) . experience also underlined much rely external encouragement praise , played interactions students staff. enjoy teaching students , specifically one one small groups , alot immediate feedback. first weeks felt really supported facilitators , later weeks felt like abandoned newer , exciting projects. similarly felt much secure first mentor ’ hands-on , available , approach second facilitator ’ reserved , hands-off approach .  young age always sheltered , reserved terrified getting comfort zone. knew year would challenge ’ challenged break shell. first day got real knew one person hundred. push open interact crowd ( struggle considering ’ shy standing front people makes extremely nervous ) . lucky people academy friendly understanding. working teams never problem , issue able fully center attention speak thoughts. taught importance communicate ideas without shy. one biggest challenge working team dealing teammates ’ fully committed tasks assigned them. personally prefer get things done certain way bit challenge team timelines ’ met team members ’ putting much effort everyone else. lab exposes us different personalities one needs learn work together effectively many personalities many conflicting personalities could recipe disaster. could say lucky teams assigned ’ difficult. understood importance contribution communication. misunderstanding ’ address becomes conflict , way able prevent it. teams decision-making process pretty much same. generally , challenge put team , communicate strengths weaknesses , able distribute tasks together based strengths weaknesses. decisions need made , every member given opportunity give opinion decide together team taking consideration every member 's contribution. overall , experience far great. learning new things everyday. workload get challenging time time managed. slowly coming shell , talking , interacting opening .  experience academy thus far potent insightful year , changed life become person really enjoys importance cooperating others. brought together amazing minds space really helped acquire soft hard skills short space time , indeed helped elevate way learning new technical subjects efficiently effectively. also , management team large especially supervisors instrumental always improvising make sure led way help us walk away well informed junior data scientists end year , hence work tirelessly making sure break obstacle attractive easily comprehended possible us order put hard work. addition , nuri formidable way helping us cope psychological illnesses caused intensity program , always go extra mile making sure one feels solitary. supporting structure throughout program importance , help us understand essence behind excruciating vulnerability management enable see work not. last words , want close saying means life , 'm grateful opportunity , best thing ever happened life besides varsity , 'm pretty sure set life greater things achievements .  time academy far challenging , yet extremely rewarding self-fulfilling - especially regards working people different backgrounds domains expertise. although meeting different people interesting , concerned bring different people together towards achieving common goal. two teams worked , often one take lead , drawing ambition past experience relation data science related fields. challenging , since used - comfortable - working alone. hold personal contributions team-based projects highest standards , therefore difficult team members show dedication team-based projects do. working teams challenged personality positive negative ways. like control , therefore difficult allow people take lead different aspects projects , especially objectively feel experience completing particular objective. however , learned impossible control aspects project therefore welcomed aided contributions team members shown willingness aptitude contribute. contrast , difficult form motivate team members show apathy towards achieving common goal. although somewhat frustrating , ensured never derailed team following initial plan objectives. felt comfortable role coordinator , relished opportunity deliver high-quality deliverables high pressure situations. drive work ethic good , always productive worker. over-analysed spent excessive amounts time subjects interesting challenging personal level , instead focusing time pressing matters. generally tend spend time challenging interesting concepts , tend postpone often neglect routine administrative tasks. creates frantic dash line time runs , creates unnecessary anxiety. conscious shortcoming , actively try remind prioritise complete pressing matters regardless personal interest. know often regarded serious fellow team mates , since always focused driven comes task hand. little time chit-chat tend engage conversations related intriguing philosophical subjects. feel comfortable responsive. however , learned casual conversation regarding sports hobbies helps learn team members , forges professional , understanding relationships team members. overall , work experience academy enlightening one , far perfect. lots learn , eager improve aspect career benefit team mates .  hardest moments life learning new things , matter simple easy might be. difficulty met new people academy. truth talkative nature , ’ always found difficult start conversations students anyone academy. however , amazing experience discover learn different students ’ cultural backgrounds diversities , interest data science life whole. academy , realized people learn discover interaction others. new environments nervous , yet exciting ones. explore data science academy best example scenarios. academy provided great exposure working environment challenges ought face work teams. able work team prerequisite skill needed data scientist. learning curve allowed self disciplined , self-motivated introspection little effort group work affect entire team ’ progress thus , results poor performance entire team work. people different cultural , educational programming backgrounds , learning difference right , right right became key determining factor understanding work teams. months academy , feel close becoming data scientist before. hunger efforts put understand data science seem rewarding now. great feeling among first group given opportunity learn data science. although pressure much times , hope believe everything designed meant prepare us real world working environments .  22nd january 2018 , time 7:00. seemed like normal day time. hit , difference location. 'm western cape , cape town precise. moved away home embark journey become data scientist explore data science academy ( edsa ) .today 8th may 2018 lot happened since ... first week got meet students different family background different level education. met explore team , included supervisors , facilitators nuri. told would working groups fives. nervous got used everything own. actually terrified. first group called optimize prime ( still cracks ) . made nervous everyone post matric qualification. beginning thought underdog , realised competition. mean must 've reason teamed guys , learn contribute wherever can. next group , named wolves woodstock ( named movie wolves wallstreet ) , confident engaging. developed previous group. even headed one sub projects. experience amazing great. even sister n't believe me. first group given opportunity work cape town water crisis , investigated demand supply factors affected cape town water crisis. project got use sql powerbi first time. saw another use python n't know capability , analysing data. second group got explore rsa stock market data. used data predict target return individual companies. interesting project accuracy predictions , limitations models. group assigned supervisors. got chance mentored two different supervisors. wish could create table comparison , two different , effective. times stats , python others gets much. group sessions nuri , refresh .  experience edsa great far. massive learning curve academically also personally. took myers-briggs test twice : , last night earlier today got slightly different results. first time came letter combination infp second time isfj. though slightly different , feel accurate overall representation various attributes exhibit. seen diplomat-mediator well ( second time taking test ) defender sentinel. naturally reserved nature , unfriendly , prefer working alone comfortable enough sit alone group people. however , approached , come across friendly. able read various personality types groups fairly quickly , allows quickly adapt different situations needed group times. n't usually take charge , know end goal something achieve , prefer clear cut plan achieve , one challenging parts working group , made need step comfort zone recently make decisions voice myself. times experienced stress due fact felt frustrated able comprehend certain concepts quick enough significant work project , deadlines much issue. overall , feel thoroughly enjoyed learning group dynamics far edsa .  nan  like meeting new people similar interests , many new people , connecting people time goes assigned new group. n't spoken students merely strong introverts , recent group nominated group coordinator take lead every meeting , every interaction acknowledge personal level group members feeling day , something never really thought experienced , even grew every mondays share weekend , really appreciated put position challenge grow personal academically. like make decisions based merits decision efficient come attention efficient time take account people 's feelings , made decisions past group people feel included left , worth noting individuals contribute project way , barely showed academy , never written one single line code left member take care making dashboard , presentation ultimately present , two us took uncomfortable route diplomacy , pleaded every morning attend briefings supervisor us , went group training sessions made impact , next group , understood academy meant worked together well. stallions , magnificent , sudden paradigm changed , enjoyed one idea best things , originally typed minutes meetings another member suggested trello effective , learnt something new , excited , day , well every day went bed knowing something ’ know woke ’ data scientist ask for. one important lesson got working two different groups leave time guide team work flow everyone miserable end project , however everything planned trello ( ’ trello ) ‘ tees ’ crossed ‘ eyes ’ dotted , pleasant experience bring best everyone involved , team creativity grow levels one planned beginning. , irrespective put group work , sit maybe second session “ getting know ” map strategy roles assigned , significant insignificant .  nan  edsa reflections 24 november 2017 , filled joy , excitement anxious time opened email edsa titled “ congratulations ! ’ accepted explore data science academy ! ” fast forward 22 january 2018 , ready meet new people ( possibly form new friendships ) , meet edsa team learn lies ahead 2018 , overwelming day was. today 6 may 2018 , lot happened past 3 months , ’ learned much ! sql , stats , python , power bi , presentation skills… [ still learning , never stops : ) ] . grateful selected one top 100 , ’ appreciative opportunity , thank edsa making possible me. lab data scientists making , greatly enjoy lab , environment condusive learning , group data science enthusiasts one room feel receipe success. training limited online courses edsa staff students learn lot , different backrounds , skills experience making lab interesting fun place grow academically socially. teamwork water crisis project : team liquidata must say initially concerned amount individual work deliver team well. realized importance effective team , working well team reduced work load stress also helpful individual tasks. roses regards team dynamics , working different individuals perceptions opinions challenging first , frustrating decide certain matters , helped lot grounded problem statement kept us focused needed done. worked well ’ result driven given task , completing task successfully required relevant info important , refering back problem statement got stuck great tool us. emotional moments team due personality clashes end worked well contributed success team , awesome team ! rsa stock market project : wolves woodstock accepted ’ work new people , really problem , hope wish strong programmer team , wish realised statistician programmer team , lovely ! great team , felt like outspoken person ( ) bit much , still worked well though delivered. prefer working team different ideas , creativity different skills ’ huge advantage eveyone team result driven , absolutelty appreciate that. ’ good experience teams far .  year huge one change , involving many aspects : leaving stable job , moving cities , moving new field , going back student , long distance taking chance brand new data science academy. quite excited meet new data science students despite usual shyness. people taking similar plunges shared interest field. enjoyed ( slowly ) meeting new people learning backgrounds , interesting varied stories are. working lab new experience. complete self learning tough journey , glad academy experience supervisors help guide us way becoming data scientists. bit unusual area ’ computer lab learning , also sort office , also people socialise. ’ sure nailed exactly be. feel work better home quiet comfortable ( apparently line personality profile ) . group work element year probably one biggest pain points. see intent setting us way , ’ think quite worked yet . group work challenging. throw meeting new people different backgrounds , huge amount new content learned fairly significant stakes ( internship opportunity ) difficult situation. think resulted frustrations running high poor quality work delivered , individual group would wanted. think worrying getting project done sometimes gotten way actually trying learn content. terms decision making groups far , think one positive definitely logic valued field students. state reasoning behind plan solidly ’ problem. think challenge group member interpret instructions priorities differently , sorting get get everyone page take valuable time. personal level noticed always looking clear , decisive decisions plans , deal well “ seeing goes ” . think something need look team setting , expect manager well. overall , still pretty excited year regrets decision join. think academy still bit rough around edges needs refinement , part iterative process right ?  first 4 months edsa filled many new experiences ; challenges , others joyful , resulted positive growth person. -- -meeting new people -- - enjoy meeting new people everyone met edsa pleasant. particularly enjoyed listening backgrounds strongest candidates within edsa , provided insight gained experience tools like python & sql. also cherish able build network data scientists tomorrow well established industry professionals.. -- -working together lab -- - working computer lab formal work environment comes pros & cons. 's useful 99 colleagues , supervisors & facilitators provide technical/personal support net necessary. obvious con would noise distraction - least say know trending music albums 2018 , win ! -- -working teams & team dynamics -- - 've worked team projects solo projects professional work environment. enjoy both. experience would say team works best 's team co-ordinator plan work divided conquered ( provided everybody takes full responsibility part ) members first group noobs sql & python , gather analyse phases really exposed technical deficiencies resulted lot frustration came time delivering tasks. experience took comfort zone important lesson patience us all. second group high level experience , strong team co-ordinator team members took full responsibility tasks. even though work complex comfortable team dynamic. -- -how decisions teams made consistent make decisions -- - team decisions groups made deliberation. decisions easier make person presented clear points opinion was. group dynamic strong decision making felt natural , similiar make decision own. -- -how rational emotional decision making process -- - somebody technical knowledge could provide interpretation best solution. problem required research would take place would rely rational logical thinking arrive solution. regarding emotions , used open communication channels facilitators supervisors discuss emotions opposed letting emotions making project decisions. -- -overall -- - previous role electrical designer smitten data analytics within electricity metering sector. edsa provided platform pursue passion broader scope data using market leading tools importantly upgrade skill-set thus opening new opportunities within workplace .  joined academy crossroads sorts life. academy offered opportunity pivot career engineering data science unfairly dismissed struggling find employment result. meeting 100+ ( faculty students ) new people would part life whole year something get used , even though worked multinational companies. ability deal people different backgrounds , beliefs , etc. tested group work. needless say lead tension one 's life team mates pulling weight. team dynamics always learning process/curve , thankfully bad experience till now. needless say , people try cheat system , act dishonestly sometimes plain lazy. many opinionated thus rendered incapable making great contribution. way things always consider everyone 's well-being , opinions contributions. somehow persons think ok cynical unhelpful. end day , supposed learn become data scientists. work , improve daily. .  far experience positive definitely see value course. experience working different people valuable me. worked well attitude everyone team deliver take responsibility. difficult step back trust team work , however cases team members exceeded expectations. felt bit frustrated team members applied taken substandard lazy approach problems. like get stuck something get immediate results improve there. think approach worked well however also learnt allot team members structured task based approach. allot time spent tangents add value projects however tangents either paid results learnings took them. decision making approach generate ideas create structured work flow around ideas distribute work among individuals take interested work flow. conflicting ideas typically took democratic approach combined healthy debate. find build relationships people 'm teams with. get know best. strongest connections team members also people academy learn from. took team bit data collecting tangent last sprint necessarily productive use time could avoided understood problem better. one case probably assertive team , however way like make decisions get stuck workflow stream adapt go n't supervisor direction point. find environment stimulative enjoy going around teams see working on. good relationship people happy share working great. also found environment distracting times , would like help people get satisfaction , however 'm also that. working different people mixing regularly something im excited everyone different learnings experience theres something learn everyone .  fortunate opportunity join academy year. sure career choice , academy provided great chance change career paths. help choosing new path allow eventually reach larger goals life. moving cape town joining academy challenging , already knew two people academy joining. however made bit difficult making new friends. typically reserved , easily make new friends , especially already good friends , case see reason make new friends. working teams academy great challenge me. normally prefer work pace working team forced cooperate people adjust skill levels. sometimes meant taking work allocated me. addition , found difficult working individuals invested projects aiming learning much experience intend to. within teams , leadership quite lacking. typically like forcing onto people , circumstances , forced take lead projects. taking lead tried best lead behind , making sure consensus within team deciding. generally due lack experience one teams , meant think plan , execution thereof , followed team implementing without challenging ideas laid out. approach worked well , would liked greater input team , unsustainable left would render team incapable functioning properly. team , people much competent four members , decisions much easier take. good idea , still elected leader , role much organic time , much balanced consensual way making decisions. however , completion tasks effectively still perfect left. teams struggled making decisions , never experienced conflict generally emotional making decisions .  looking back one got academy right , confidently say grown intrapersonally interpersonally optimistic perception working also gradually shifted realistic end spectrum. came nothing positive outlook journey gotten opportunity embark , however , learned couple valuable lessons - one stand value understanding teammates expecting one understand you. put far put cap assertive nature gotten lot f pressure given opportunity even sharpen softer skills tends help quite lot even outside academy good vibe generator - one deflects negative energy positive energies whatever spheres happen find in. getting know colleagues exciting initially thought would best get know everyone due knowing underlying power networking much tend ripe rewards least expect it. however , due various factors including time constraints , one n't yet gotten know everyone. nonetheless , 've connected way pivoted range experiences 've exposed anything - 've found one connects colleagues duties get better understanding really drives bed morning tends relative ease synergies working people group. foundation good teamwork come play proven crucial implementing fulfilling common goal quicker. establishing people 's unique abilities also n't easiest tasks , one things far made role duty allocations bit messy groups. mind team makes decisions usually made voting process duties tend easily misallocated accord effectiveness leverage ( exploiting team member unique abilities motivate everyone play strengths avoid weaknesses proper balance ) . teamwork easy job exciting time takes one individual break firm structure especially individual wants make decisions- hinders progress flow ideas team turn leads dull average outcome. 've found decision-making techniques bit irrational due central tend especially find group nice people express feel whoever so. learned focus making sure ’ expected delivered timely miss beauty process focussing relatively small hurdles ’ vast amount captivating material engage in. getting know colleagues exciting initially thought would best get know everyone due knowing underlying power networking much tend ripe rewards least expect it. however , due various factors including time constraints , one n't yet gotten know everyone. nonetheless , 've connected way pivoted range experiences 've exposed anything - 've found one connects colleagues duties get better understanding really drives bed morning tends relative ease synergies working people group. foundation good teamwork come play proven crucial implementing fulfilling common goal quicker. establishing people 's unique abilities also n't easiest tasks , one things far made role duty allocations bit messy groups. mind team makes decisions usually made voting process duties tend easily misallocated accord effectiveness leverage ( exploiting team member unique abilities motivate everyone play strengths avoid weaknesses proper balance ) . teamwork easy job exciting time takes one individual break firm structure especially individual wants make decisions- hinders progress flow ideas team turn leads dull average outcome. 've found decision-making techniques bit irrational due central tend especially find group nice people express feel whoever so. 've also learned never bring emotions workplace people tend step sensitive things without noticing- example someone staring shoulder commenting work 're quite unpleasant kills moral detaching focusing 's required best coping mechanisms .  attending explore data science academy already proven , continues amazing experience. ’ quite astonishing realize much ’ learned mastered past couple months , chief among would ( subject essay ) , teamwork. meeting new people daunting task ( including ) . however academy different start. sheer excitement students especially explore team ( supervisors facilitators ) acted social catalyst , smoothing social awkwardness , knew getting along like house fire. working teams people completely different backgrounds personalities challenging throughout first project , said , also interesting see individual adapts accommodate team help build team dynamic. starting cape town water crisis project honestly idea expect , certainly ’ expect team dynamic play huge role success deliverables. team overcome different levels knowledge , skills , self motivation. couple late nights flared tempers managed get work done , realised overlooked crucial part teamwork. one need self motivation , also create environment team motivate comfortable enough ask help ’ feeling overwhelmed struggling get grips difficult concept. team definitely lacking aspect , take chin regards deliverables , walked away learning priceless lesson moving next sprint. assigned new teams rsa stock market sprint , refreshing hear ’ team struggled certain aspects team dynamics. get go approached structured interactive way things. decided stand meetings every morning report previous day ’ goals well setting new goals day ahead. already made huge difference motivation team. another part success dividing work ’ get overwhelmed individuals rather sharing workload one-on-ones relevant team members gain deeper understanding section work. approach even advantages thought. structure communication team members lead lower stress levels ( even though still ever present ) , resulting cooler tempers clear headed decisions less emotionally-driven first project. goes show “ soft ” skills important technical skills working teams. ’ wait learn brilliant diverse people academy. '' individual commitment group effort -- makes team work , company work , society work , civilization work. '' -- vince lombardi  essay discussing personal experience regards academy like meeting new people especially introverted person am. speak different teams , different different felt , learned different characters. comparing decision making done teams versus personal decision making. getting plane cape town without place stay friends city big risk , certain plan academy kept praying want scam plot get specific building get kidnapped. fairly surprised get meet people walks life , also kind questioning legit , mean hard question , sounded way good true good things learned ’ happen people like us , guess time shine receive blessings. ’ think academy , blessing. said , experience academy ups downs like always ends up.i learned lot , fallen love data science , things small mindedness used consider geek ’ s. learned push , always try learn , practice computers always evolving. since met people different personalities academy , personality clashes occurred 1 biggest lessons , able work different people different personalities. working teams ’ easy thought would first , everyone idea assumed supposed done different opinions could dismissed everyone 's opinion valuable working team , opinions somehow seemed clash. working teams taught patient , quality possess whatsoever. second time changed teams though seemed though everyone gotten idea working teams ’ like , basically dipping toes working teams thing first sprint , second sprint bit confident meant worked better second teams , improving go. teams , split work equally amongst , making sure everyone gets chance tackle important lessons like coding dashboard. group coordinator state views , he/she would speak supervisor decision would made way , supervisor would guide us right direction hearing thought right way.its almost concept use guess making decisions , weigh options , see one best one worst outcome obviously go best outcome. conclusion working teams skill gaining developing everyday , ’ mastered , heck difficult master many personalities , getting .  coming academy best thing ever happened grateful opportunity. learned academy going encourage teamwork excited meet new people different spheres life exchange ideas network it. working teams thus far ok. things like team commitment work work ethic thereof. comes decision making n't enjoy part felt sense dictatorship member would defy group 's decision still want impose best team start delegating work teammates based vision. felt defied purpose brainstorming planning objectives. role played team always conscientize group imperativeness working within scope prioritizing required us form basis going structure project would help decision making. supervisor meetings reporting based `` '' , `` '' . sign individualism collective project perpetrated unnecessary competition. enjoyed networking variety people academy also participate win hackathon hosted city capetown one best networks team collaborations went well me. like random conversations technology trying link 'd connect inspire other. brief summary work prefer plan try much possible stick plan always room changes. consolidation key helps deciding conflicting ideas .  past months one challenging thrilling experience life. coming , expected engage people knew introvert , experience academy would force engaging people. something totally outside comfort zone. ready ; much prepared , ready challenged understood growth reached uncomfortable spaces. experience taught could imagined. learnt fearless embrace greatness within me. come across shy , willingness push things enabled speak room full people made realize get nervous things actual fact get nervous things capable also fail. way scared inabilities potential. understand still lot learn fully comfortable know feel still lot knowledge gained. coming bit theoretical statistical background , interesting see techniques learnt university applied real world scenarios. coming space , space full well equipped individuals , felt bit intimidated idea career going lacked confidence really good at. experience far definitely given better understanding skill set career take , importantly come learn alone. able meet lots people also similar situation , simply shown worries worth worrying things fall place. environment quite relaxed , yet taught behave professional workplace. support peers also tremendous. observing everyday events supervisors taught teamwork , people come together get things done . although sometimes remind use inside voice , feel adapting environment relatively well. going forward , expect learn develop skills .  experiences explore data science academy experience meeting lots new people great one , months already learned lot , continue daily level. terms meeting new people much gain , especially terms offered different perspectives , challenged way thinking. also taken comfort zone turn taught lot handle different personalities. experience working together lab teams much appreciated close real world experience , 've already similar environment throughout university always found enjoyable interact people. level productivity performance exponentially increased , mainly deadlines needed meet wanting disappoint teammates , generally working others helps achieving individual. say interpersonal skills increased , example speaking listening others. come realize collaborating others helped identify strengths weaknesses , basically self-aware. experience decisions made teams was/am consistent like make decisions. lot people considerate want attain goal , appreciated , far people worked take time listen person say try take consideration relevant concise , decisions made depending everyone felt. experience rational emotional decision-making process been. decisions made rational group took time take people ’ emotions consideration possible. ’ obvious always agree completely certain things , occured , time taken explain person things certain way beneficial way disagreeing member thought. accepting possibility incorrect important role , especially comes working others. conclusion , experience positive anything academy .  attending academy first time like first year , however difference everyone age. idea meeting people really cool however issue forced work people things tend bit shaky everyone standards. make matters interesting grades directly dependent interaction team. varsity must admit best experiences working group tend find similar roles characters. however bit optimistic given diverse ages academy assumption folk work experience hopefully mature. furthermore , come realize establishing solid authentic team dynamics 's also lot stressful actually may seem without trying fake sake team trying accommodating. real issue trust decisions tends made around dominant personalities perspective may particularly best interest team whole. although always agree approach would agree fundamentally understanding skill set equally distributed also end day delivery project. overall happy rational decision making process. divide trust conquer works best teams something come learn. within teams lucky may find someone work ethic dedicated case would likely help could find someone understands work complements style. think initially everyone problem admitting n't get something deliverables due. journey emotional especially towards end tend give less less input become concerned delivery .  good fun experience though 's often case pressure. lab allowed enough time practice get used coding , improved efficiency coding working computer. coming academy n't used idea working team , along year got better , knowing someone count , rely go need help. also got know personal level makes easy understand , strength weaknesses allows us form strong team. sometimes disagreements think right , effective solving , lucky enough co-operative team members since beginning year. though n't got know many colleagues ones got know would say pleasure meeting  experience explore data science academy great far. goals explore year develop & master skills data science well improve leadership skills. felt empowered content ’ taught. four months , believe already learnt skills would allow enter & succeed job market. next 7 months plan spend refining data science skills using 1 hour evenings revising content learnt class. regards second goal ( improve leadership skills ) , ’ fortune team great coordinator & excellent team dynamics. also great team coordinator team. ’ taken many lessons experiences read book. given practical lessons improve leadership skills. ’ two teams far , worked first 1. coordinator nudged us always making progress towards bigger goal. 2. teammates voluntarily picked segment project would responsible for. 3. loose deadlines agreed , deadlines also allowances members equip skills required fulfil parts project. 4. team met twice week discuss progress. 5. time member grew comfortable asking help others well given feedback. team dynamic encouraged member give part project all. inevitably , team members technically advanced others ended taking advanced work rest , however time felt like overburden. given positive experience eager also try coordinator next sprint came around. new teams assigned & volunteered coordinate. aspects believe could done better. 1. ’ commonly accepted bigger goal. 2. ’ involve team identifying small goals were. worked work plan overnight & presented team. team loved plan , individual responsibilities work assigned. 3. led situation members team clear responsibilities were. 4. result power leadership , members team ended bulk work. able pull together & present satisfactory project , however believe could led better & helped team deliver far better project. member team would also proud contributed fully project. learnt great deal experience & would like give coordinating another try , like skill believe leadership learnt practice .  explore data science academy , road never thought would take lifetime. love passion cars , accepted data science internship one last thing never saw coming. love travelling exploring new avenues `` let 's '' tip. first day coming explore data science academy ( edsa ) beyond expectations , visually appealing facilities provided us. first could believe , cape town , comfort zone , pushing something involve anything studied. came expectations , however , told something need give order leave experience back future. speech supervisors gave us 22nd january reassured make mistake coming here. first week given work , install softwares would using throughout year , thought would pre-installed arrived. first , introvert side steering wheel interact lot people besides housemate. started interacting people water crisis sprint started. team people different background ; bioinformatics sciences , computer science , economic statistics mix , different parts south africa ( mostly gauteng ) . one things stood type people would start conversations loud side come order make everybody feel comfortable. first week gather sprint took team start making progress , thursday already figured system worked everyone order use something show supervisor. put weaknesses strengths table , started communicating better team. results shown supervisor told us think would deliver delivered , however , delivered end fundamental , faith would best one best. love good music , adventure socializing led connecting people group. time fundamentals spent helping people , building friendships would carry edsa year even greater , learning languages like python sql , channeling mind data scientist mode. weekends colleagues would tour cape town going beach , hike mountains could see edsa lab , visiting malls theme parks around cape town. python , one complex languages learn. well , thought since programming background. two teammates experience working languages , changing one language another , fairly doable. advantage since two people could consult whenever ran problem python. presentation fundamental one laid back fundamentals face since preplanned wanted add slides clear storyline. fact split fundamentals tore us apart , however , vowed exit whatsapp group created. review week , weekend , people never talked friends edsa lab suggested go theme park near canal walk mall take minds water crisis sprint. character part outting shy , yet interesting backgrounds. still friends them. stock market sprint came flew by. really feeling team since lot judgemental people felt like knew better. lacked communication , managed pull find sprint one piece. events bcx hosted highlights first months edsa , amount inpirational people engaged events. felt like meant every time spoke lucky waiting us greater wildest dreams. week takes cup. never expected go home least july. honestly grateful spending year edsa lab , could chose anything else .  academy amazing , love petry dish talent ! handful genius characters here.. backgrounds unique stories , explore data science academy best place develop data analysis skills. love time ! far , 've experienced whole lot pressure change something better. spend time studying , better feel , comfortable become closer get quality employee entrepreneur. everyday come office , feel home , learn something new.. something directly use business application. look around entire building get inspired start business 've learned here. speak among business academy helping us realize ideas clearly. without information back ideas , 's difficult starting. availability information outstanding. really appreciate nest. last two teams great work with. achieved bunch , , thanks resources available. first sprint tough though. team , realized strengths taught other. n't problem sql python used technologies before. understanding statistics applications data given difficult. worst , water crisis data n't collected well. n't worst experience data taught things career perfect. perfect skills data cleaning. realize limited number solutions data analysis. perfect outcomes data science , could breeze work future. believe hyper prepared things.. game theory data science would prove beneficial. emotionally , 'm great. academy brings best worst skills provides controlled environment mend holes analytical judgement. relief , emotionally physically becomes process bettering daily , bit bit without forcing stress .  experience edsa far combination challenging , fascinating , unpredictable. coming academy , excited would get meet new people learn new skills ; anticipated might somewhat difficult engaging new people ( since introverted ) coming grips new technical ideas ( creative technophile ) , since loved good challenge , still excited immerse experience. surprise , challenges faced none anticipated generally able interact cordially new people understand technicalities program. greatest challenge far working lab. environment many people ( different personalities , habits , learning techniques preferences ) forced natural inclination isolate working. easily distracted , think carefully navigate space simulate environment conducive learning. also found team consider optimally ration work , challenging , especially beginning n't yet good understanding 's strengths weaknesses. said , gotten know fairly well , able make decisions believed would amplify strengths diminish weaknesses could produce results best possible quality. sense , much decision-making teams rational rather emotional. would apply logic reason wanted achieve thought might able , found always room empathetic thoughtful ( thereby engaging emotions rather reason ) , sake team member , alter original plan. somewhat consistent personally make decisions : think times base decisions think yield best results terms trying achieve , even happens inconvenient taxing process ; times , especially decision made great consequence , make decisions based emotions believe 'rational ' 'logical ' decision likely hurt someone 's feelings cast bad light. , learned awful lot : preferences , strengths weaknesses , character ... found learning curve steep emotions rather turbulent throughout process , enjoyed every part challenge could mean future -- prospect holds together worst days exhilarates best days .  experience edsa interesting one thus far. pushed get shell interact people. since academy realised smarter think lot valuable knowledge insight share. biggest fear coming academy social aspect interact different people , since able overcome fear. first placed groups literally sweating , heart rate high felt sick stomach idea group strangers. second time split new groups ’ nervous. become social enjoy meeting working new people now. working groups challenge me. frustrating everyone different everyone different approach learning process project management. ’ learned lot working others. took backseat things even knew better way things. spoke saw helped team steer team better direction. become assertive. thought passive person ’ assertive save life , think assertive ’ find daunting. biggest frustration working teams dealing people think know everything ’ willing open learning something new fellow teammates. person like previous group. person would dictate team ’ want collaborate team , dominating personality rest us shy. realised none us ’ speak ’ fail sprint forced breakout shyness. think still fairly shy comes work fight shyness. decisions previous group initially made one person. prefer problems discussed everyone team different possible solutions explored come collaborative solution. found current team. still issues , people letting pride emotions get way work , people distracted ’ committed project. working labs challenge. lot distractions noise focus easily , prefer work home , get much done home. people come academy socialise anything distracting .  past 5 months explore academy challenging. make great adjustments order here. positive negative experiences. one positive experiences much learned. met lot people highly intelligent interests. worked 2 different teams. prefer work alone working team makes sense due sheer volume work. first team experience incredibly frustrating. team members highly introverted technically strong made discussions assigning tasks difficult. even tasks assigned accountability meet deadlines. prefer chip away steadily work opposed rushing close deadline finish. working second team much better. met regularly , communicated lot. tasks assigned everyone accountable. team members helpful towards .  experiences academy far life-changing say least. meeting smart , passionate , hardworking ambitious people different backgrounds happen many similar interests mine interesting journey. introvert prefers working alone pace within space , quickly find way adapt polish social skills order socialize 99 strangers going learning data science with. understood word go need socialize form meaningful relationships fellow interns could see forming strong network may helpful many years come career , long internship. academy ’ emphasis importance team work concept took warm to. teams exposing different individuals varying academic , social , work geographical background different personalities : introverts , extroverts , intuitive , artistic even really funny characters. teammates phenomenal experienced fields previous exposure to. learned lot them. equally ’ also encountered independent disagreeeable teammates required adjust levels patience , tolerance understanding may necessarily share similar beliefs me. need patient tolerant people ’ points view approaches solving completing team tasks. teams , due differing views , opinions approaches use democracy ( voting ) order reach decisions within groups. although easy one resort taking emotionally-driven decisions due one ’ firm beliefs ways things high level emotional intelligence critical favourable team dynamics. academy based cape town , city ’ visited holidays before. moving cape town challenges required solid ‘ family ’ away family fortunately found fellow interns resourceful many ways even outside ‘ labs ’ . example group share information accomodation , transport around city , social events extramural activities. chance test team-building skills virtues regular group sessions nuri believe helpful giving idea relate people less formal settings. credit due supervisors , facilitators oprerations officer ; helpful making internship experience manageable definitely one memorable years come. commitment programme makes easier people personalities settle nicely within diverse small community .  experience academy exceptional. meeting new people amazing , specifically working them. much challenging first inception relate , time things gets better begin know get use one another. odds events one two group member want participate ( eg. missing meetings ) thing way oppose agreed group , really problem participating also productive , especially meet group expectations group works , members end work. means group take collaborative decision planning expect everyone deliver agreed planned. lab one best way work , especially comes group work , find collaborative useful. 's unfortunate group members choose work home leave early come late. found behavior hinder progress , especially tasks divided sub groups among group members. critical aspect group always communication. members usually communicate inability complete task late work due. members get emotional approach , end day always encourage one another see right side approach task project hand. working many different people taught rely others , means trust member work , even better me. fun leaning since day one .  social perspective , experiences academy refreshing impact personal development. prefer things myself. reflected interest gaming , reading fan-fiction writing. however , willing interact others necessary. enjoy paintball friends far sitting lounge rather making casual small talk. applies workplace well essentially things together. even talking , inevitably get topics related coding such. generally people ( outside academy known years ) seem identify introvert give misconception poor communication skills n't always case. many issues communicating team mates others class regarding various topics ranging work-related hobbies ( especially sport , gaming anime ) . prefer finish roleplaying video game lounge talk also like talking science nerdy things. words , need socialise , problems so. intuition observation valuable traits workplace data scientist team-based project. working teams allowed utilise both. found often analysis others n't done apply intuition. managed thing. different academics would essentially everything myself. regard , team-based nature course done well. often think good one working others stimulate us potentially become good trait previously thought n't naturally suited to. case , working teams sort force us find ways overcome weakness make strength instead. said , team dynamics sometimes involved lack coordinated planning among team members. good keep things open , applied plan rather plan. decide certain approach solving problem involves coding , dashboard , n't mean ca n't improvise. agree improvisation ultimate way things. make plan rely open-minded thinking plan n't appear working , improvise. generally experience academy , emotion seems rule roost logic seen potential barrier team work cooperation. mean students end becoming dependent affect teamwork negatively long term. overall course excelled bringing personality traits relevance workplace , providing opportunities overcome weaknesses utilise strengths instead .  academy challenging experience. expected prior coding knowledge help minimal help , greatest challenge statistics. slowing getting point n't actually try understand concept thoroughly rather get basic theory focus application. overall , insightful journey , learning interact different personalities group dynamics. really excited leaning nlp regression incorporate app development monetize it. genuinely regret applying academy although days doubt hurdles remembering greatness opportunity always great motivator .  big part joining academy year meeting working lots new people. unexpectedly positive experience. despite everyone different backgrounds , sense camaraderie interns friendly. even though everyone tested graded environment non-competitive people willing help other. made enjoyable work lab. however , noise bustle lab sometimes overwhelming draining find productive sometimes spend hour two day lab working home quiet. challenging aspect year far teamwork. first project ( cape town water crisis ) times conflict team due team member contributing much therefore shifting workload team members. led resentment team members , expected. team projects work rarely equally divided team managed complete project despite difficulties. reflecting experience grateful done big share work gave opportunity learn lot would otherwise. second project ( jse stock market sprint ) much shorter time span therefore team approached project different. team divide work time everyone involved deliverables. hard meant trusting people work without directly involved dependant complete it. process decision making teams democratic. team discusses problems possible approaches usually obvious decision everyone agrees on. decision making far tended rational team members emotional. emotional part projects stress faced final deadlines neared. , experience academy far positive learnt lot. hope improve way approach team work upcoming sprints .  ‘ greatest opportunity part 100 chosen individuals wonderful programme. explore data science academy ( edsa ) environment makes feel welcome perfect terms collaboration networking different individuals interesting views personalities. ’ hard distinguish edsa work environment. type environment prepare real job. edsa provides one opportunity learn work diverse group people terms career background , culture religion. working groups different individuals project exciting. throughout time , ’ learned lot working teams. first ’ learned team work achieve terms results learning new things. secondly , come decision making , everyone opinion coming final decision another thing. learned ’ voicing opinion , convincing fellow team members indeed opinion fruitful. comes team strategies embark particular project , ’ one size fits situations. team come strategy going solve assigned problem. difficult , especially serve team coordinator serve , time complete different team whole set different personalities characters. instance learned strategy based skills , capabilities mostly team ’ attitude towards project hand. knowing strengths weaknesses team members good start. far learned lot. ’ still intrigued eager learn lot more. feel like becoming real data scientist day passes thanks edsa giving wonderful opportunity .  explore data science academy 19 weeks ( counted ) ; let ’ simplify 3 months shall ? exciting working group challenging problems , feel like world possibilities opened us. exciting overwhelming met many new people. right away seem made name myself. proud , even excited people feel someone come help - practical emotional. helping others role comfortable since typically excelled academic environment , ’ admit disappointment people ’ ask help more. like thought expert ( even like feel like expert , find happens less grow older ( experienced ? wiser ? one old greeks said something wisdom knowing ’ know ) . aspect larger group find overwhelming trying remember everyone , especially since many people seem know am. enjoy learning people ’ backgrounds amazed great selection people attending college. experience working intensely type team entirely new. worked teams school , university work , never amount diversity team. never sitting next team members everyday ; majority one ’ efforts focussed team work. immediate challenge first team working people skills ways operating different own. realised career worked people , background training. made less adaptable less tolerant different approaches problem. trying learn relax give people ’ method approaching problems chance. felt comfortable group leader first sprint , uncomfortable giving reigns second sprint onwards. second project usurped actual leader number occasions seldom pulled back. formed real bond first team , despite ( ) struggles. second team relationship seems formal , although things went much smoothly team arguably effective. found frustrating deal reserved people. hard read difficult reserve judgement ’ produce tangible outputs. still trying figure best deal people , draw shell patience hear trying say. also need consciously tell offer may valuable ( remain unconvinced evidence right table ) . experience also underlined much rely external encouragement praise , played interactions students staff. enjoy teaching students , specifically one one small groups , alot immediate feedback. first weeks felt really supported facilitators , later weeks felt like abandoned newer , exciting projects. similarly felt much secure first mentor ’ hands-on , available , approach second facilitator ’ reserved , hands-off approach .  young age always sheltered , reserved terrified getting comfort zone. knew year would challenge ’ challenged break shell. first day got real knew one person hundred. push open interact crowd ( struggle considering ’ shy standing front people makes extremely nervous ) . lucky people academy friendly understanding. working teams never problem , issue able fully center attention speak thoughts. taught importance communicate ideas without shy. one biggest challenge working team dealing teammates ’ fully committed tasks assigned them. personally prefer get things done certain way bit challenge team timelines ’ met team members ’ putting much effort everyone else. lab exposes us different personalities one needs learn work together effectively many personalities many conflicting personalities could recipe disaster. could say lucky teams assigned ’ difficult. understood importance contribution communication. misunderstanding ’ address becomes conflict , way able prevent it. teams decision-making process pretty much same. generally , challenge put team , communicate strengths weaknesses , able distribute tasks together based strengths weaknesses. decisions need made , every member given opportunity give opinion decide together team taking consideration every member 's contribution. overall , experience far great. learning new things everyday. workload get challenging time time managed. slowly coming shell , talking , interacting opening .  experience academy thus far potent insightful year , changed life become person really enjoys importance cooperating others. brought together amazing minds space really helped acquire soft hard skills short space time , indeed helped elevate way learning new technical subjects efficiently effectively. also , management team large especially supervisors instrumental always improvising make sure led way help us walk away well informed junior data scientists end year , hence work tirelessly making sure break obstacle attractive easily comprehended possible us order put hard work. addition , nuri formidable way helping us cope psychological illnesses caused intensity program , always go extra mile making sure one feels solitary. supporting structure throughout program importance , help us understand essence behind excruciating vulnerability management enable see work not. last words , want close saying means life , 'm grateful opportunity , best thing ever happened life besides varsity , 'm pretty sure set life greater things achievements .  time academy far challenging , yet extremely rewarding self-fulfilling - especially regards working people different backgrounds domains expertise. although meeting different people interesting , concerned bring different people together towards achieving common goal. two teams worked , often one take lead , drawing ambition past experience relation data science related fields. challenging , since used - comfortable - working alone. hold personal contributions team-based projects highest standards , therefore difficult team members show dedication team-based projects do. working teams challenged personality positive negative ways. like control , therefore difficult allow people take lead different aspects projects , especially objectively feel experience completing particular objective. however , learned impossible control aspects project therefore welcomed aided contributions team members shown willingness aptitude contribute. contrast , difficult form motivate team members show apathy towards achieving common goal. although somewhat frustrating , ensured never derailed team following initial plan objectives. felt comfortable role coordinator , relished opportunity deliver high-quality deliverables high pressure situations. drive work ethic good , always productive worker. over-analysed spent excessive amounts time subjects interesting challenging personal level , instead focusing time pressing matters. generally tend spend time challenging interesting concepts , tend postpone often neglect routine administrative tasks. creates frantic dash line time runs , creates unnecessary anxiety. conscious shortcoming , actively try remind prioritise complete pressing matters regardless personal interest. know often regarded serious fellow team mates , since always focused driven comes task hand. little time chit-chat tend engage conversations related intriguing philosophical subjects. feel comfortable responsive. however , learned casual conversation regarding sports hobbies helps learn team members , forges professional , understanding relationships team members. overall , work experience academy enlightening one , far perfect. lots learn , eager improve aspect career benefit team mates .  hardest moments life learning new things , matter simple easy might be. difficulty met new people academy. truth talkative nature , ’ always found difficult start conversations students anyone academy. however , amazing experience discover learn different students ’ cultural backgrounds diversities , interest data science life whole. academy , realized people learn discover interaction others. new environments nervous , yet exciting ones. explore data science academy best example scenarios. academy provided great exposure working environment challenges ought face work teams. able work team prerequisite skill needed data scientist. learning curve allowed self disciplined , self-motivated introspection little effort group work affect entire team ’ progress thus , results poor performance entire team work. people different cultural , educational programming backgrounds , learning difference right , right right became key determining factor understanding work teams. months academy , feel close becoming data scientist before. hunger efforts put understand data science seem rewarding now. great feeling among first group given opportunity learn data science. although pressure much times , hope believe everything designed meant prepare us real world working environments .  22nd january 2018 , time 7:00. seemed like normal day time. hit , difference location. 'm western cape , cape town precise. moved away home embark journey become data scientist explore data science academy ( edsa ) .today 8th may 2018 lot happened since ... first week got meet students different family background different level education. met explore team , included supervisors , facilitators nuri. told would working groups fives. nervous got used everything own. actually terrified. first group called optimize prime ( still cracks ) . made nervous everyone post matric qualification. beginning thought underdog , realised competition. mean must 've reason teamed guys , learn contribute wherever can. next group , named wolves woodstock ( named movie wolves wallstreet ) , confident engaging. developed previous group. even headed one sub projects. experience amazing great. even sister n't believe me. first group given opportunity work cape town water crisis , investigated demand supply factors affected cape town water crisis. project got use sql powerbi first time. saw another use python n't know capability , analysing data. second group got explore rsa stock market data. used data predict target return individual companies. interesting project accuracy predictions , limitations models. group assigned supervisors. got chance mentored two different supervisors. wish could create table comparison , two different , effective. times stats , python others gets much. group sessions nuri , refresh .  experience edsa great far. massive learning curve academically also personally. took myers-briggs test twice : , last night earlier today got slightly different results. first time came letter combination infp second time isfj. though slightly different , feel accurate overall representation various attributes exhibit. seen diplomat-mediator well ( second time taking test ) defender sentinel. naturally reserved nature , unfriendly , prefer working alone comfortable enough sit alone group people. however , approached , come across friendly. able read various personality types groups fairly quickly , allows quickly adapt different situations needed group times. n't usually take charge , know end goal something achieve , prefer clear cut plan achieve , one challenging parts working group , made need step comfort zone recently make decisions voice myself. times experienced stress due fact felt frustrated able comprehend certain concepts quick enough significant work project , deadlines much issue. overall , feel thoroughly enjoyed learning group dynamics far edsa .  nan  like meeting new people similar interests , many new people , connecting people time goes assigned new group. n't spoken students merely strong introverts , recent group nominated group coordinator take lead every meeting , every interaction acknowledge personal level group members feeling day , something never really thought experienced , even grew every mondays share weekend , really appreciated put position challenge grow personal academically. like make decisions based merits decision efficient come attention efficient time take account people 's feelings , made decisions past group people feel included left , worth noting individuals contribute project way , barely showed academy , never written one single line code left member take care making dashboard , presentation ultimately present , two us took uncomfortable route diplomacy , pleaded every morning attend briefings supervisor us , went group training sessions made impact , next group , understood academy meant worked together well. stallions , magnificent , sudden paradigm changed , enjoyed one idea best things , originally typed minutes meetings another member suggested trello effective , learnt something new , excited , day , well every day went bed knowing something ’ know woke ’ data scientist ask for. one important lesson got working two different groups leave time guide team work flow everyone miserable end project , however everything planned trello ( ’ trello ) ‘ tees ’ crossed ‘ eyes ’ dotted , pleasant experience bring best everyone involved , team creativity grow levels one planned beginning. , irrespective put group work , sit maybe second session “ getting know ” map strategy roles assigned , significant insignificant .  nan  edsa reflections 24 november 2017 , filled joy , excitement anxious time opened email edsa titled “ congratulations ! ’ accepted explore data science academy ! ” fast forward 22 january 2018 , ready meet new people ( possibly form new friendships ) , meet edsa team learn lies ahead 2018 , overwelming day was. today 6 may 2018 , lot happened past 3 months , ’ learned much ! sql , stats , python , power bi , presentation skills… [ still learning , never stops : ) ] . grateful selected one top 100 , ’ appreciative opportunity , thank edsa making possible me. lab data scientists making , greatly enjoy lab , environment condusive learning , group data science enthusiasts one room feel receipe success. training limited online courses edsa staff students learn lot , different backrounds , skills experience making lab interesting fun place grow academically socially. teamwork water crisis project : team liquidata must say initially concerned amount individual work deliver team well. realized importance effective team , working well team reduced work load stress also helpful individual tasks. roses regards team dynamics , working different individuals perceptions opinions challenging first , frustrating decide certain matters , helped lot grounded problem statement kept us focused needed done. worked well ’ result driven given task , completing task successfully required relevant info important , refering back problem statement got stuck great tool us. emotional moments team due personality clashes end worked well contributed success team , awesome team ! rsa stock market project : wolves woodstock accepted ’ work new people , really problem , hope wish strong programmer team , wish realised statistician programmer team , lovely ! great team , felt like outspoken person ( ) bit much , still worked well though delivered. prefer working team different ideas , creativity different skills ’ huge advantage eveyone team result driven , absolutelty appreciate that. ’ good experience teams far .  year huge one change , involving many aspects : leaving stable job , moving cities , moving new field , going back student , long distance taking chance brand new data science academy. quite excited meet new data science students despite usual shyness. people taking similar plunges shared interest field. enjoyed ( slowly ) meeting new people learning backgrounds , interesting varied stories are. working lab new experience. complete self learning tough journey , glad academy experience supervisors help guide us way becoming data scientists. bit unusual area ’ computer lab learning , also sort office , also people socialise. ’ sure nailed exactly be. feel work better home quiet comfortable ( apparently line personality profile ) . group work element year probably one biggest pain points. see intent setting us way , ’ think quite worked yet . group work challenging. throw meeting new people different backgrounds , huge amount new content learned fairly significant stakes ( internship opportunity ) difficult situation. think resulted frustrations running high poor quality work delivered , individual group would wanted. think worrying getting project done sometimes gotten way actually trying learn content. terms decision making groups far , think one positive definitely logic valued field students. state reasoning behind plan solidly ’ problem. think challenge group member interpret instructions priorities differently , sorting get get everyone page take valuable time. personal level noticed always looking clear , decisive decisions plans , deal well “ seeing goes ” . think something need look team setting , expect manager well. overall , still pretty excited year regrets decision join. think academy still bit rough around edges needs refinement , part iterative process right ?\""
      ]
     },
     "execution_count": 217,
     "metadata": {},
     "output_type": "execute_result"
    }
   ],
   "source": [
    "JtXt"
   ]
  },
  {
   "cell_type": "code",
   "execution_count": 218,
   "metadata": {},
   "outputs": [
    {
     "data": {
      "text/plain": [
       "\"  first 4 months edsa filled many new experiences ; challenges , others joyful , resulted positive growth person. -- -meeting new people -- - enjoy meeting new people everyone met edsa pleasant. particularly enjoyed listening backgrounds strongest candidates within edsa , provided insight gained experience tools like python & sql. also cherish able build network data scientists tomorrow well established industry professionals.. -- -working together lab -- - working computer lab formal work environment comes pros & cons. 's useful 99 colleagues , supervisors & facilitators provide technical/personal support net necessary. obvious con would noise distraction - least say know trending music albums 2018 , win ! -- -working teams & team dynamics -- - 've worked team projects solo projects professional work environment. enjoy both. experience would say team works best 's team co-ordinator plan work divided conquered ( provided everybody takes full responsibility part ) members first group noobs sql & python , gather analyse phases really exposed technical deficiencies resulted lot frustration came time delivering tasks. experience took comfort zone important lesson patience us all. second group high level experience , strong team co-ordinator team members took full responsibility tasks. even though work complex comfortable team dynamic. -- -how decisions teams made consistent make decisions -- - team decisions groups made deliberation. decisions easier make person presented clear points opinion was. group dynamic strong decision making felt natural , similiar make decision own. -- -how rational emotional decision making process -- - somebody technical knowledge could provide interpretation best solution. problem required research would take place would rely rational logical thinking arrive solution. regarding emotions , used open communication channels facilitators supervisors discuss emotions opposed letting emotions making project decisions. -- -overall -- - previous role electrical designer smitten data analytics within electricity metering sector. edsa provided platform pursue passion broader scope data using market leading tools importantly upgrade skill-set thus opening new opportunities within workplace .  joined academy crossroads sorts life. academy offered opportunity pivot career engineering data science unfairly dismissed struggling find employment result. meeting 100+ ( faculty students ) new people would part life whole year something get used , even though worked multinational companies. ability deal people different backgrounds , beliefs , etc. tested group work. needless say lead tension one 's life team mates pulling weight. team dynamics always learning process/curve , thankfully bad experience till now. needless say , people try cheat system , act dishonestly sometimes plain lazy. many opinionated thus rendered incapable making great contribution. way things always consider everyone 's well-being , opinions contributions. somehow persons think ok cynical unhelpful. end day , supposed learn become data scientists. work , improve daily. .  far experience positive definitely see value course. experience working different people valuable me. worked well attitude everyone team deliver take responsibility. difficult step back trust team work , however cases team members exceeded expectations. felt bit frustrated team members applied taken substandard lazy approach problems. like get stuck something get immediate results improve there. think approach worked well however also learnt allot team members structured task based approach. allot time spent tangents add value projects however tangents either paid results learnings took them. decision making approach generate ideas create structured work flow around ideas distribute work among individuals take interested work flow. conflicting ideas typically took democratic approach combined healthy debate. find build relationships people 'm teams with. get know best. strongest connections team members also people academy learn from. took team bit data collecting tangent last sprint necessarily productive use time could avoided understood problem better. one case probably assertive team , however way like make decisions get stuck workflow stream adapt go n't supervisor direction point. find environment stimulative enjoy going around teams see working on. good relationship people happy share working great. also found environment distracting times , would like help people get satisfaction , however 'm also that. working different people mixing regularly something im excited everyone different learnings experience theres something learn everyone .  fortunate opportunity join academy year. sure career choice , academy provided great chance change career paths. help choosing new path allow eventually reach larger goals life. moving cape town joining academy challenging , already knew two people academy joining. however made bit difficult making new friends. typically reserved , easily make new friends , especially already good friends , case see reason make new friends. working teams academy great challenge me. normally prefer work pace working team forced cooperate people adjust skill levels. sometimes meant taking work allocated me. addition , found difficult working individuals invested projects aiming learning much experience intend to. within teams , leadership quite lacking. typically like forcing onto people , circumstances , forced take lead projects. taking lead tried best lead behind , making sure consensus within team deciding. generally due lack experience one teams , meant think plan , execution thereof , followed team implementing without challenging ideas laid out. approach worked well , would liked greater input team , unsustainable left would render team incapable functioning properly. team , people much competent four members , decisions much easier take. good idea , still elected leader , role much organic time , much balanced consensual way making decisions. however , completion tasks effectively still perfect left. teams struggled making decisions , never experienced conflict generally emotional making decisions .  looking back one got academy right , confidently say grown intrapersonally interpersonally optimistic perception working also gradually shifted realistic end spectrum. came nothing positive outlook journey gotten opportunity embark , however , learned couple valuable lessons - one stand value understanding teammates expecting one understand you. put far put cap assertive nature gotten lot f pressure given opportunity even sharpen softer skills tends help quite lot even outside academy good vibe generator - one deflects negative energy positive energies whatever spheres happen find in. getting know colleagues exciting initially thought would best get know everyone due knowing underlying power networking much tend ripe rewards least expect it. however , due various factors including time constraints , one n't yet gotten know everyone. nonetheless , 've connected way pivoted range experiences 've exposed anything - 've found one connects colleagues duties get better understanding really drives bed morning tends relative ease synergies working people group. foundation good teamwork come play proven crucial implementing fulfilling common goal quicker. establishing people 's unique abilities also n't easiest tasks , one things far made role duty allocations bit messy groups. mind team makes decisions usually made voting process duties tend easily misallocated accord effectiveness leverage ( exploiting team member unique abilities motivate everyone play strengths avoid weaknesses proper balance ) . teamwork easy job exciting time takes one individual break firm structure especially individual wants make decisions- hinders progress flow ideas team turn leads dull average outcome. 've found decision-making techniques bit irrational due central tend especially find group nice people express feel whoever so. learned focus making sure ’ expected delivered timely miss beauty process focussing relatively small hurdles ’ vast amount captivating material engage in. getting know colleagues exciting initially thought would best get know everyone due knowing underlying power networking much tend ripe rewards least expect it. however , due various factors including time constraints , one n't yet gotten know everyone. nonetheless , 've connected way pivoted range experiences 've exposed anything - 've found one connects colleagues duties get better understanding really drives bed morning tends relative ease synergies working people group. foundation good teamwork come play proven crucial implementing fulfilling common goal quicker. establishing people 's unique abilities also n't easiest tasks , one things far made role duty allocations bit messy groups. mind team makes decisions usually made voting process duties tend easily misallocated accord effectiveness leverage ( exploiting team member unique abilities motivate everyone play strengths avoid weaknesses proper balance ) . teamwork easy job exciting time takes one individual break firm structure especially individual wants make decisions- hinders progress flow ideas team turn leads dull average outcome. 've found decision-making techniques bit irrational due central tend especially find group nice people express feel whoever so. 've also learned never bring emotions workplace people tend step sensitive things without noticing- example someone staring shoulder commenting work 're quite unpleasant kills moral detaching focusing 's required best coping mechanisms .  attending explore data science academy already proven , continues amazing experience. ’ quite astonishing realize much ’ learned mastered past couple months , chief among would ( subject essay ) , teamwork. meeting new people daunting task ( including ) . however academy different start. sheer excitement students especially explore team ( supervisors facilitators ) acted social catalyst , smoothing social awkwardness , knew getting along like house fire. working teams people completely different backgrounds personalities challenging throughout first project , said , also interesting see individual adapts accommodate team help build team dynamic. starting cape town water crisis project honestly idea expect , certainly ’ expect team dynamic play huge role success deliverables. team overcome different levels knowledge , skills , self motivation. couple late nights flared tempers managed get work done , realised overlooked crucial part teamwork. one need self motivation , also create environment team motivate comfortable enough ask help ’ feeling overwhelmed struggling get grips difficult concept. team definitely lacking aspect , take chin regards deliverables , walked away learning priceless lesson moving next sprint. assigned new teams rsa stock market sprint , refreshing hear ’ team struggled certain aspects team dynamics. get go approached structured interactive way things. decided stand meetings every morning report previous day ’ goals well setting new goals day ahead. already made huge difference motivation team. another part success dividing work ’ get overwhelmed individuals rather sharing workload one-on-ones relevant team members gain deeper understanding section work. approach even advantages thought. structure communication team members lead lower stress levels ( even though still ever present ) , resulting cooler tempers clear headed decisions less emotionally-driven first project. goes show “ soft ” skills important technical skills working teams. ’ wait learn brilliant diverse people academy. '' individual commitment group effort -- makes team work , company work , society work , civilization work. '' -- vince lombardi  essay discussing personal experience regards academy like meeting new people especially introverted person am. speak different teams , different different felt , learned different characters. comparing decision making done teams versus personal decision making. getting plane cape town without place stay friends city big risk , certain plan academy kept praying want scam plot get specific building get kidnapped. fairly surprised get meet people walks life , also kind questioning legit , mean hard question , sounded way good true good things learned ’ happen people like us , guess time shine receive blessings. ’ think academy , blessing. said , experience academy ups downs like always ends up.i learned lot , fallen love data science , things small mindedness used consider geek ’ s. learned push , always try learn , practice computers always evolving. since met people different personalities academy , personality clashes occurred 1 biggest lessons , able work different people different personalities. working teams ’ easy thought would first , everyone idea assumed supposed done different opinions could dismissed everyone 's opinion valuable working team , opinions somehow seemed clash. working teams taught patient , quality possess whatsoever. second time changed teams though seemed though everyone gotten idea working teams ’ like , basically dipping toes working teams thing first sprint , second sprint bit confident meant worked better second teams , improving go. teams , split work equally amongst , making sure everyone gets chance tackle important lessons like coding dashboard. group coordinator state views , he/she would speak supervisor decision would made way , supervisor would guide us right direction hearing thought right way.its almost concept use guess making decisions , weigh options , see one best one worst outcome obviously go best outcome. conclusion working teams skill gaining developing everyday , ’ mastered , heck difficult master many personalities , getting .  coming academy best thing ever happened grateful opportunity. learned academy going encourage teamwork excited meet new people different spheres life exchange ideas network it. working teams thus far ok. things like team commitment work work ethic thereof. comes decision making n't enjoy part felt sense dictatorship member would defy group 's decision still want impose best team start delegating work teammates based vision. felt defied purpose brainstorming planning objectives. role played team always conscientize group imperativeness working within scope prioritizing required us form basis going structure project would help decision making. supervisor meetings reporting based `` '' , `` '' . sign individualism collective project perpetrated unnecessary competition. enjoyed networking variety people academy also participate win hackathon hosted city capetown one best networks team collaborations went well me. like random conversations technology trying link 'd connect inspire other. brief summary work prefer plan try much possible stick plan always room changes. consolidation key helps deciding conflicting ideas .  past months one challenging thrilling experience life. coming , expected engage people knew introvert , experience academy would force engaging people. something totally outside comfort zone. ready ; much prepared , ready challenged understood growth reached uncomfortable spaces. experience taught could imagined. learnt fearless embrace greatness within me. come across shy , willingness push things enabled speak room full people made realize get nervous things actual fact get nervous things capable also fail. way scared inabilities potential. understand still lot learn fully comfortable know feel still lot knowledge gained. coming bit theoretical statistical background , interesting see techniques learnt university applied real world scenarios. coming space , space full well equipped individuals , felt bit intimidated idea career going lacked confidence really good at. experience far definitely given better understanding skill set career take , importantly come learn alone. able meet lots people also similar situation , simply shown worries worth worrying things fall place. environment quite relaxed , yet taught behave professional workplace. support peers also tremendous. observing everyday events supervisors taught teamwork , people come together get things done . although sometimes remind use inside voice , feel adapting environment relatively well. going forward , expect learn develop skills .  experiences explore data science academy experience meeting lots new people great one , months already learned lot , continue daily level. terms meeting new people much gain , especially terms offered different perspectives , challenged way thinking. also taken comfort zone turn taught lot handle different personalities. experience working together lab teams much appreciated close real world experience , 've already similar environment throughout university always found enjoyable interact people. level productivity performance exponentially increased , mainly deadlines needed meet wanting disappoint teammates , generally working others helps achieving individual. say interpersonal skills increased , example speaking listening others. come realize collaborating others helped identify strengths weaknesses , basically self-aware. experience decisions made teams was/am consistent like make decisions. lot people considerate want attain goal , appreciated , far people worked take time listen person say try take consideration relevant concise , decisions made depending everyone felt. experience rational emotional decision-making process been. decisions made rational group took time take people ’ emotions consideration possible. ’ obvious always agree completely certain things , occured , time taken explain person things certain way beneficial way disagreeing member thought. accepting possibility incorrect important role , especially comes working others. conclusion , experience positive anything academy .  attending academy first time like first year , however difference everyone age. idea meeting people really cool however issue forced work people things tend bit shaky everyone standards. make matters interesting grades directly dependent interaction team. varsity must admit best experiences working group tend find similar roles characters. however bit optimistic given diverse ages academy assumption folk work experience hopefully mature. furthermore , come realize establishing solid authentic team dynamics 's also lot stressful actually may seem without trying fake sake team trying accommodating. real issue trust decisions tends made around dominant personalities perspective may particularly best interest team whole. although always agree approach would agree fundamentally understanding skill set equally distributed also end day delivery project. overall happy rational decision making process. divide trust conquer works best teams something come learn. within teams lucky may find someone work ethic dedicated case would likely help could find someone understands work complements style. think initially everyone problem admitting n't get something deliverables due. journey emotional especially towards end tend give less less input become concerned delivery .  good fun experience though 's often case pressure. lab allowed enough time practice get used coding , improved efficiency coding working computer. coming academy n't used idea working team , along year got better , knowing someone count , rely go need help. also got know personal level makes easy understand , strength weaknesses allows us form strong team. sometimes disagreements think right , effective solving , lucky enough co-operative team members since beginning year. though n't got know many colleagues ones got know would say pleasure meeting  experience explore data science academy great far. goals explore year develop & master skills data science well improve leadership skills. felt empowered content ’ taught. four months , believe already learnt skills would allow enter & succeed job market. next 7 months plan spend refining data science skills using 1 hour evenings revising content learnt class. regards second goal ( improve leadership skills ) , ’ fortune team great coordinator & excellent team dynamics. also great team coordinator team. ’ taken many lessons experiences read book. given practical lessons improve leadership skills. ’ two teams far , worked first 1. coordinator nudged us always making progress towards bigger goal. 2. teammates voluntarily picked segment project would responsible for. 3. loose deadlines agreed , deadlines also allowances members equip skills required fulfil parts project. 4. team met twice week discuss progress. 5. time member grew comfortable asking help others well given feedback. team dynamic encouraged member give part project all. inevitably , team members technically advanced others ended taking advanced work rest , however time felt like overburden. given positive experience eager also try coordinator next sprint came around. new teams assigned & volunteered coordinate. aspects believe could done better. 1. ’ commonly accepted bigger goal. 2. ’ involve team identifying small goals were. worked work plan overnight & presented team. team loved plan , individual responsibilities work assigned. 3. led situation members team clear responsibilities were. 4. result power leadership , members team ended bulk work. able pull together & present satisfactory project , however believe could led better & helped team deliver far better project. member team would also proud contributed fully project. learnt great deal experience & would like give coordinating another try , like skill believe leadership learnt practice .  explore data science academy , road never thought would take lifetime. love passion cars , accepted data science internship one last thing never saw coming. love travelling exploring new avenues `` let 's '' tip. first day coming explore data science academy ( edsa ) beyond expectations , visually appealing facilities provided us. first could believe , cape town , comfort zone , pushing something involve anything studied. came expectations , however , told something need give order leave experience back future. speech supervisors gave us 22nd january reassured make mistake coming here. first week given work , install softwares would using throughout year , thought would pre-installed arrived. first , introvert side steering wheel interact lot people besides housemate. started interacting people water crisis sprint started. team people different background ; bioinformatics sciences , computer science , economic statistics mix , different parts south africa ( mostly gauteng ) . one things stood type people would start conversations loud side come order make everybody feel comfortable. first week gather sprint took team start making progress , thursday already figured system worked everyone order use something show supervisor. put weaknesses strengths table , started communicating better team. results shown supervisor told us think would deliver delivered , however , delivered end fundamental , faith would best one best. love good music , adventure socializing led connecting people group. time fundamentals spent helping people , building friendships would carry edsa year even greater , learning languages like python sql , channeling mind data scientist mode. weekends colleagues would tour cape town going beach , hike mountains could see edsa lab , visiting malls theme parks around cape town. python , one complex languages learn. well , thought since programming background. two teammates experience working languages , changing one language another , fairly doable. advantage since two people could consult whenever ran problem python. presentation fundamental one laid back fundamentals face since preplanned wanted add slides clear storyline. fact split fundamentals tore us apart , however , vowed exit whatsapp group created. review week , weekend , people never talked friends edsa lab suggested go theme park near canal walk mall take minds water crisis sprint. character part outting shy , yet interesting backgrounds. still friends them. stock market sprint came flew by. really feeling team since lot judgemental people felt like knew better. lacked communication , managed pull find sprint one piece. events bcx hosted highlights first months edsa , amount inpirational people engaged events. felt like meant every time spoke lucky waiting us greater wildest dreams. week takes cup. never expected go home least july. honestly grateful spending year edsa lab , could chose anything else .  academy amazing , love petry dish talent ! handful genius characters here.. backgrounds unique stories , explore data science academy best place develop data analysis skills. love time ! far , 've experienced whole lot pressure change something better. spend time studying , better feel , comfortable become closer get quality employee entrepreneur. everyday come office , feel home , learn something new.. something directly use business application. look around entire building get inspired start business 've learned here. speak among business academy helping us realize ideas clearly. without information back ideas , 's difficult starting. availability information outstanding. really appreciate nest. last two teams great work with. achieved bunch , , thanks resources available. first sprint tough though. team , realized strengths taught other. n't problem sql python used technologies before. understanding statistics applications data given difficult. worst , water crisis data n't collected well. n't worst experience data taught things career perfect. perfect skills data cleaning. realize limited number solutions data analysis. perfect outcomes data science , could breeze work future. believe hyper prepared things.. game theory data science would prove beneficial. emotionally , 'm great. academy brings best worst skills provides controlled environment mend holes analytical judgement. relief , emotionally physically becomes process bettering daily , bit bit without forcing stress .  experience edsa far combination challenging , fascinating , unpredictable. coming academy , excited would get meet new people learn new skills ; anticipated might somewhat difficult engaging new people ( since introverted ) coming grips new technical ideas ( creative technophile ) , since loved good challenge , still excited immerse experience. surprise , challenges faced none anticipated generally able interact cordially new people understand technicalities program. greatest challenge far working lab. environment many people ( different personalities , habits , learning techniques preferences ) forced natural inclination isolate working. easily distracted , think carefully navigate space simulate environment conducive learning. also found team consider optimally ration work , challenging , especially beginning n't yet good understanding 's strengths weaknesses. said , gotten know fairly well , able make decisions believed would amplify strengths diminish weaknesses could produce results best possible quality. sense , much decision-making teams rational rather emotional. would apply logic reason wanted achieve thought might able , found always room empathetic thoughtful ( thereby engaging emotions rather reason ) , sake team member , alter original plan. somewhat consistent personally make decisions : think times base decisions think yield best results terms trying achieve , even happens inconvenient taxing process ; times , especially decision made great consequence , make decisions based emotions believe 'rational ' 'logical ' decision likely hurt someone 's feelings cast bad light. , learned awful lot : preferences , strengths weaknesses , character ... found learning curve steep emotions rather turbulent throughout process , enjoyed every part challenge could mean future -- prospect holds together worst days exhilarates best days .  experience edsa interesting one thus far. pushed get shell interact people. since academy realised smarter think lot valuable knowledge insight share. biggest fear coming academy social aspect interact different people , since able overcome fear. first placed groups literally sweating , heart rate high felt sick stomach idea group strangers. second time split new groups ’ nervous. become social enjoy meeting working new people now. working groups challenge me. frustrating everyone different everyone different approach learning process project management. ’ learned lot working others. took backseat things even knew better way things. spoke saw helped team steer team better direction. become assertive. thought passive person ’ assertive save life , think assertive ’ find daunting. biggest frustration working teams dealing people think know everything ’ willing open learning something new fellow teammates. person like previous group. person would dictate team ’ want collaborate team , dominating personality rest us shy. realised none us ’ speak ’ fail sprint forced breakout shyness. think still fairly shy comes work fight shyness. decisions previous group initially made one person. prefer problems discussed everyone team different possible solutions explored come collaborative solution. found current team. still issues , people letting pride emotions get way work , people distracted ’ committed project. working labs challenge. lot distractions noise focus easily , prefer work home , get much done home. people come academy socialise anything distracting .  past 5 months explore academy challenging. make great adjustments order here. positive negative experiences. one positive experiences much learned. met lot people highly intelligent interests. worked 2 different teams. prefer work alone working team makes sense due sheer volume work. first team experience incredibly frustrating. team members highly introverted technically strong made discussions assigning tasks difficult. even tasks assigned accountability meet deadlines. prefer chip away steadily work opposed rushing close deadline finish. working second team much better. met regularly , communicated lot. tasks assigned everyone accountable. team members helpful towards .  experiences academy far life-changing say least. meeting smart , passionate , hardworking ambitious people different backgrounds happen many similar interests mine interesting journey. introvert prefers working alone pace within space , quickly find way adapt polish social skills order socialize 99 strangers going learning data science with. understood word go need socialize form meaningful relationships fellow interns could see forming strong network may helpful many years come career , long internship. academy ’ emphasis importance team work concept took warm to. teams exposing different individuals varying academic , social , work geographical background different personalities : introverts , extroverts , intuitive , artistic even really funny characters. teammates phenomenal experienced fields previous exposure to. learned lot them. equally ’ also encountered independent disagreeeable teammates required adjust levels patience , tolerance understanding may necessarily share similar beliefs me. need patient tolerant people ’ points view approaches solving completing team tasks. teams , due differing views , opinions approaches use democracy ( voting ) order reach decisions within groups. although easy one resort taking emotionally-driven decisions due one ’ firm beliefs ways things high level emotional intelligence critical favourable team dynamics. academy based cape town , city ’ visited holidays before. moving cape town challenges required solid ‘ family ’ away family fortunately found fellow interns resourceful many ways even outside ‘ labs ’ . example group share information accomodation , transport around city , social events extramural activities. chance test team-building skills virtues regular group sessions nuri believe helpful giving idea relate people less formal settings. credit due supervisors , facilitators oprerations officer ; helpful making internship experience manageable definitely one memorable years come. commitment programme makes easier people personalities settle nicely within diverse small community .  experience academy exceptional. meeting new people amazing , specifically working them. much challenging first inception relate , time things gets better begin know get use one another. odds events one two group member want participate ( eg. missing meetings ) thing way oppose agreed group , really problem participating also productive , especially meet group expectations group works , members end work. means group take collaborative decision planning expect everyone deliver agreed planned. lab one best way work , especially comes group work , find collaborative useful. 's unfortunate group members choose work home leave early come late. found behavior hinder progress , especially tasks divided sub groups among group members. critical aspect group always communication. members usually communicate inability complete task late work due. members get emotional approach , end day always encourage one another see right side approach task project hand. working many different people taught rely others , means trust member work , even better me. fun leaning since day one .  social perspective , experiences academy refreshing impact personal development. prefer things myself. reflected interest gaming , reading fan-fiction writing. however , willing interact others necessary. enjoy paintball friends far sitting lounge rather making casual small talk. applies workplace well essentially things together. even talking , inevitably get topics related coding such. generally people ( outside academy known years ) seem identify introvert give misconception poor communication skills n't always case. many issues communicating team mates others class regarding various topics ranging work-related hobbies ( especially sport , gaming anime ) . prefer finish roleplaying video game lounge talk also like talking science nerdy things. words , need socialise , problems so. intuition observation valuable traits workplace data scientist team-based project. working teams allowed utilise both. found often analysis others n't done apply intuition. managed thing. different academics would essentially everything myself. regard , team-based nature course done well. often think good one working others stimulate us potentially become good trait previously thought n't naturally suited to. case , working teams sort force us find ways overcome weakness make strength instead. said , team dynamics sometimes involved lack coordinated planning among team members. good keep things open , applied plan rather plan. decide certain approach solving problem involves coding , dashboard , n't mean ca n't improvise. agree improvisation ultimate way things. make plan rely open-minded thinking plan n't appear working , improvise. generally experience academy , emotion seems rule roost logic seen potential barrier team work cooperation. mean students end becoming dependent affect teamwork negatively long term. overall course excelled bringing personality traits relevance workplace , providing opportunities overcome weaknesses utilise strengths instead .  academy challenging experience. expected prior coding knowledge help minimal help , greatest challenge statistics. slowing getting point n't actually try understand concept thoroughly rather get basic theory focus application. overall , insightful journey , learning interact different personalities group dynamics. really excited leaning nlp regression incorporate app development monetize it. genuinely regret applying academy although days doubt hurdles remembering greatness opportunity always great motivator .  big part joining academy year meeting working lots new people. unexpectedly positive experience. despite everyone different backgrounds , sense camaraderie interns friendly. even though everyone tested graded environment non-competitive people willing help other. made enjoyable work lab. however , noise bustle lab sometimes overwhelming draining find productive sometimes spend hour two day lab working home quiet. challenging aspect year far teamwork. first project ( cape town water crisis ) times conflict team due team member contributing much therefore shifting workload team members. led resentment team members , expected. team projects work rarely equally divided team managed complete project despite difficulties. reflecting experience grateful done big share work gave opportunity learn lot would otherwise. second project ( jse stock market sprint ) much shorter time span therefore team approached project different. team divide work time everyone involved deliverables. hard meant trusting people work without directly involved dependant complete it. process decision making teams democratic. team discusses problems possible approaches usually obvious decision everyone agrees on. decision making far tended rational team members emotional. emotional part projects stress faced final deadlines neared. , experience academy far positive learnt lot. hope improve way approach team work upcoming sprints .  ‘ greatest opportunity part 100 chosen individuals wonderful programme. explore data science academy ( edsa ) environment makes feel welcome perfect terms collaboration networking different individuals interesting views personalities. ’ hard distinguish edsa work environment. type environment prepare real job. edsa provides one opportunity learn work diverse group people terms career background , culture religion. working groups different individuals project exciting. throughout time , ’ learned lot working teams. first ’ learned team work achieve terms results learning new things. secondly , come decision making , everyone opinion coming final decision another thing. learned ’ voicing opinion , convincing fellow team members indeed opinion fruitful. comes team strategies embark particular project , ’ one size fits situations. team come strategy going solve assigned problem. difficult , especially serve team coordinator serve , time complete different team whole set different personalities characters. instance learned strategy based skills , capabilities mostly team ’ attitude towards project hand. knowing strengths weaknesses team members good start. far learned lot. ’ still intrigued eager learn lot more. feel like becoming real data scientist day passes thanks edsa giving wonderful opportunity .  explore data science academy 19 weeks ( counted ) ; let ’ simplify 3 months shall ? exciting working group challenging problems , feel like world possibilities opened us. exciting overwhelming met many new people. right away seem made name myself. proud , even excited people feel someone come help - practical emotional. helping others role comfortable since typically excelled academic environment , ’ admit disappointment people ’ ask help more. like thought expert ( even like feel like expert , find happens less grow older ( experienced ? wiser ? one old greeks said something wisdom knowing ’ know ) . aspect larger group find overwhelming trying remember everyone , especially since many people seem know am. enjoy learning people ’ backgrounds amazed great selection people attending college. experience working intensely type team entirely new. worked teams school , university work , never amount diversity team. never sitting next team members everyday ; majority one ’ efforts focussed team work. immediate challenge first team working people skills ways operating different own. realised career worked people , background training. made less adaptable less tolerant different approaches problem. trying learn relax give people ’ method approaching problems chance. felt comfortable group leader first sprint , uncomfortable giving reigns second sprint onwards. second project usurped actual leader number occasions seldom pulled back. formed real bond first team , despite ( ) struggles. second team relationship seems formal , although things went much smoothly team arguably effective. found frustrating deal reserved people. hard read difficult reserve judgement ’ produce tangible outputs. still trying figure best deal people , draw shell patience hear trying say. also need consciously tell offer may valuable ( remain unconvinced evidence right table ) . experience also underlined much rely external encouragement praise , played interactions students staff. enjoy teaching students , specifically one one small groups , alot immediate feedback. first weeks felt really supported facilitators , later weeks felt like abandoned newer , exciting projects. similarly felt much secure first mentor ’ hands-on , available , approach second facilitator ’ reserved , hands-off approach .  young age always sheltered , reserved terrified getting comfort zone. knew year would challenge ’ challenged break shell. first day got real knew one person hundred. push open interact crowd ( struggle considering ’ shy standing front people makes extremely nervous ) . lucky people academy friendly understanding. working teams never problem , issue able fully center attention speak thoughts. taught importance communicate ideas without shy. one biggest challenge working team dealing teammates ’ fully committed tasks assigned them. personally prefer get things done certain way bit challenge team timelines ’ met team members ’ putting much effort everyone else. lab exposes us different personalities one needs learn work together effectively many personalities many conflicting personalities could recipe disaster. could say lucky teams assigned ’ difficult. understood importance contribution communication. misunderstanding ’ address becomes conflict , way able prevent it. teams decision-making process pretty much same. generally , challenge put team , communicate strengths weaknesses , able distribute tasks together based strengths weaknesses. decisions need made , every member given opportunity give opinion decide together team taking consideration every member 's contribution. overall , experience far great. learning new things everyday. workload get challenging time time managed. slowly coming shell , talking , interacting opening .  experience academy thus far potent insightful year , changed life become person really enjoys importance cooperating others. brought together amazing minds space really helped acquire soft hard skills short space time , indeed helped elevate way learning new technical subjects efficiently effectively. also , management team large especially supervisors instrumental always improvising make sure led way help us walk away well informed junior data scientists end year , hence work tirelessly making sure break obstacle attractive easily comprehended possible us order put hard work. addition , nuri formidable way helping us cope psychological illnesses caused intensity program , always go extra mile making sure one feels solitary. supporting structure throughout program importance , help us understand essence behind excruciating vulnerability management enable see work not. last words , want close saying means life , 'm grateful opportunity , best thing ever happened life besides varsity , 'm pretty sure set life greater things achievements .  time academy far challenging , yet extremely rewarding self-fulfilling - especially regards working people different backgrounds domains expertise. although meeting different people interesting , concerned bring different people together towards achieving common goal. two teams worked , often one take lead , drawing ambition past experience relation data science related fields. challenging , since used - comfortable - working alone. hold personal contributions team-based projects highest standards , therefore difficult team members show dedication team-based projects do. working teams challenged personality positive negative ways. like control , therefore difficult allow people take lead different aspects projects , especially objectively feel experience completing particular objective. however , learned impossible control aspects project therefore welcomed aided contributions team members shown willingness aptitude contribute. contrast , difficult form motivate team members show apathy towards achieving common goal. although somewhat frustrating , ensured never derailed team following initial plan objectives. felt comfortable role coordinator , relished opportunity deliver high-quality deliverables high pressure situations. drive work ethic good , always productive worker. over-analysed spent excessive amounts time subjects interesting challenging personal level , instead focusing time pressing matters. generally tend spend time challenging interesting concepts , tend postpone often neglect routine administrative tasks. creates frantic dash line time runs , creates unnecessary anxiety. conscious shortcoming , actively try remind prioritise complete pressing matters regardless personal interest. know often regarded serious fellow team mates , since always focused driven comes task hand. little time chit-chat tend engage conversations related intriguing philosophical subjects. feel comfortable responsive. however , learned casual conversation regarding sports hobbies helps learn team members , forges professional , understanding relationships team members. overall , work experience academy enlightening one , far perfect. lots learn , eager improve aspect career benefit team mates .  hardest moments life learning new things , matter simple easy might be. difficulty met new people academy. truth talkative nature , ’ always found difficult start conversations students anyone academy. however , amazing experience discover learn different students ’ cultural backgrounds diversities , interest data science life whole. academy , realized people learn discover interaction others. new environments nervous , yet exciting ones. explore data science academy best example scenarios. academy provided great exposure working environment challenges ought face work teams. able work team prerequisite skill needed data scientist. learning curve allowed self disciplined , self-motivated introspection little effort group work affect entire team ’ progress thus , results poor performance entire team work. people different cultural , educational programming backgrounds , learning difference right , right right became key determining factor understanding work teams. months academy , feel close becoming data scientist before. hunger efforts put understand data science seem rewarding now. great feeling among first group given opportunity learn data science. although pressure much times , hope believe everything designed meant prepare us real world working environments .  22nd january 2018 , time 7:00. seemed like normal day time. hit , difference location. 'm western cape , cape town precise. moved away home embark journey become data scientist explore data science academy ( edsa ) .today 8th may 2018 lot happened since ... first week got meet students different family background different level education. met explore team , included supervisors , facilitators nuri. told would working groups fives. nervous got used everything own. actually terrified. first group called optimize prime ( still cracks ) . made nervous everyone post matric qualification. beginning thought underdog , realised competition. mean must 've reason teamed guys , learn contribute wherever can. next group , named wolves woodstock ( named movie wolves wallstreet ) , confident engaging. developed previous group. even headed one sub projects. experience amazing great. even sister n't believe me. first group given opportunity work cape town water crisis , investigated demand supply factors affected cape town water crisis. project got use sql powerbi first time. saw another use python n't know capability , analysing data. second group got explore rsa stock market data. used data predict target return individual companies. interesting project accuracy predictions , limitations models. group assigned supervisors. got chance mentored two different supervisors. wish could create table comparison , two different , effective. times stats , python others gets much. group sessions nuri , refresh .  experience edsa great far. massive learning curve academically also personally. took myers-briggs test twice : , last night earlier today got slightly different results. first time came letter combination infp second time isfj. though slightly different , feel accurate overall representation various attributes exhibit. seen diplomat-mediator well ( second time taking test ) defender sentinel. naturally reserved nature , unfriendly , prefer working alone comfortable enough sit alone group people. however , approached , come across friendly. able read various personality types groups fairly quickly , allows quickly adapt different situations needed group times. n't usually take charge , know end goal something achieve , prefer clear cut plan achieve , one challenging parts working group , made need step comfort zone recently make decisions voice myself. times experienced stress due fact felt frustrated able comprehend certain concepts quick enough significant work project , deadlines much issue. overall , feel thoroughly enjoyed learning group dynamics far edsa .  nan  like meeting new people similar interests , many new people , connecting people time goes assigned new group. n't spoken students merely strong introverts , recent group nominated group coordinator take lead every meeting , every interaction acknowledge personal level group members feeling day , something never really thought experienced , even grew every mondays share weekend , really appreciated put position challenge grow personal academically. like make decisions based merits decision efficient come attention efficient time take account people 's feelings , made decisions past group people feel included left , worth noting individuals contribute project way , barely showed academy , never written one single line code left member take care making dashboard , presentation ultimately present , two us took uncomfortable route diplomacy , pleaded every morning attend briefings supervisor us , went group training sessions made impact , next group , understood academy meant worked together well. stallions , magnificent , sudden paradigm changed , enjoyed one idea best things , originally typed minutes meetings another member suggested trello effective , learnt something new , excited , day , well every day went bed knowing something ’ know woke ’ data scientist ask for. one important lesson got working two different groups leave time guide team work flow everyone miserable end project , however everything planned trello ( ’ trello ) ‘ tees ’ crossed ‘ eyes ’ dotted , pleasant experience bring best everyone involved , team creativity grow levels one planned beginning. , irrespective put group work , sit maybe second session “ getting know ” map strategy roles assigned , significant insignificant .  nan  edsa reflections 24 november 2017 , filled joy , excitement anxious time opened email edsa titled “ congratulations ! ’ accepted explore data science academy ! ” fast forward 22 january 2018 , ready meet new people ( possibly form new friendships ) , meet edsa team learn lies ahead 2018 , overwelming day was. today 6 may 2018 , lot happened past 3 months , ’ learned much ! sql , stats , python , power bi , presentation skills… [ still learning , never stops : ) ] . grateful selected one top 100 , ’ appreciative opportunity , thank edsa making possible me. lab data scientists making , greatly enjoy lab , environment condusive learning , group data science enthusiasts one room feel receipe success. training limited online courses edsa staff students learn lot , different backrounds , skills experience making lab interesting fun place grow academically socially. teamwork water crisis project : team liquidata must say initially concerned amount individual work deliver team well. realized importance effective team , working well team reduced work load stress also helpful individual tasks. roses regards team dynamics , working different individuals perceptions opinions challenging first , frustrating decide certain matters , helped lot grounded problem statement kept us focused needed done. worked well ’ result driven given task , completing task successfully required relevant info important , refering back problem statement got stuck great tool us. emotional moments team due personality clashes end worked well contributed success team , awesome team ! rsa stock market project : wolves woodstock accepted ’ work new people , really problem , hope wish strong programmer team , wish realised statistician programmer team , lovely ! great team , felt like outspoken person ( ) bit much , still worked well though delivered. prefer working team different ideas , creativity different skills ’ huge advantage eveyone team result driven , absolutelty appreciate that. ’ good experience teams far .  year huge one change , involving many aspects : leaving stable job , moving cities , moving new field , going back student , long distance taking chance brand new data science academy. quite excited meet new data science students despite usual shyness. people taking similar plunges shared interest field. enjoyed ( slowly ) meeting new people learning backgrounds , interesting varied stories are. working lab new experience. complete self learning tough journey , glad academy experience supervisors help guide us way becoming data scientists. bit unusual area ’ computer lab learning , also sort office , also people socialise. ’ sure nailed exactly be. feel work better home quiet comfortable ( apparently line personality profile ) . group work element year probably one biggest pain points. see intent setting us way , ’ think quite worked yet . group work challenging. throw meeting new people different backgrounds , huge amount new content learned fairly significant stakes ( internship opportunity ) difficult situation. think resulted frustrations running high poor quality work delivered , individual group would wanted. think worrying getting project done sometimes gotten way actually trying learn content. terms decision making groups far , think one positive definitely logic valued field students. state reasoning behind plan solidly ’ problem. think challenge group member interpret instructions priorities differently , sorting get get everyone page take valuable time. personal level noticed always looking clear , decisive decisions plans , deal well “ seeing goes ” . think something need look team setting , expect manager well. overall , still pretty excited year regrets decision join. think academy still bit rough around edges needs refinement , part iterative process right ?\""
      ]
     },
     "execution_count": 218,
     "metadata": {},
     "output_type": "execute_result"
    }
   ],
   "source": [
    "ItXt"
   ]
  },
  {
   "cell_type": "code",
   "execution_count": 219,
   "metadata": {},
   "outputs": [
    {
     "data": {
      "text/plain": [
       "\"  far experience positive definitely see value course. experience working different people valuable me. worked well attitude everyone team deliver take responsibility. difficult step back trust team work , however cases team members exceeded expectations. felt bit frustrated team members applied taken substandard lazy approach problems. like get stuck something get immediate results improve there. think approach worked well however also learnt allot team members structured task based approach. allot time spent tangents add value projects however tangents either paid results learnings took them. decision making approach generate ideas create structured work flow around ideas distribute work among individuals take interested work flow. conflicting ideas typically took democratic approach combined healthy debate. find build relationships people 'm teams with. get know best. strongest connections team members also people academy learn from. took team bit data collecting tangent last sprint necessarily productive use time could avoided understood problem better. one case probably assertive team , however way like make decisions get stuck workflow stream adapt go n't supervisor direction point. find environment stimulative enjoy going around teams see working on. good relationship people happy share working great. also found environment distracting times , would like help people get satisfaction , however 'm also that. working different people mixing regularly something im excited everyone different learnings experience theres something learn everyone .  journey exciting. stress constructive sense forced work. everyday excited come academy interact vast personalities class offer. given nature work , days really tough days really good ( especially code running ) . academy taught , testing limits understanding. whole life 've always team player. although n't like charge , somehow found leadership positions based assertiveness became norm. shocking finding opposite position first sprint. zero communication whatsoever , made feel uncomfortable could n't share thoughts feelings , however found way work well collective. took forever wrap head around content work reason made feel futile. due lack communication , people felt right thing , would later put everything together. opinion , think structure , leader would keep us track. way decisions made , shared responsibilities based people 's strengths weaknesses. equally made decisions led productivity , sometimes would disagreements. times , would emotionally draining , every low , growth. throughout roller coaster journey , 's nothing growth , understanding learning. understanding workplace , understanding colleagues understanding .  coming academy best thing ever happened grateful opportunity. learned academy going encourage teamwork excited meet new people different spheres life exchange ideas network it. working teams thus far ok. things like team commitment work work ethic thereof. comes decision making n't enjoy part felt sense dictatorship member would defy group 's decision still want impose best team start delegating work teammates based vision. felt defied purpose brainstorming planning objectives. role played team always conscientize group imperativeness working within scope prioritizing required us form basis going structure project would help decision making. supervisor meetings reporting based `` '' , `` '' . sign individualism collective project perpetrated unnecessary competition. enjoyed networking variety people academy also participate win hackathon hosted city capetown one best networks team collaborations went well me. like random conversations technology trying link 'd connect inspire other. brief summary work prefer plan try much possible stick plan always room changes. consolidation key helps deciding conflicting ideas .  experience far great though first bit anxious excited whole program , working teams challenging first still becoming less less challenging , far groups far completely different 's interesting terms knowing works n't , also helps experiencing different thinking processes ...  experience explore data science academy great far. goals explore year develop & master skills data science well improve leadership skills. felt empowered content ’ taught. four months , believe already learnt skills would allow enter & succeed job market. next 7 months plan spend refining data science skills using 1 hour evenings revising content learnt class. regards second goal ( improve leadership skills ) , ’ fortune team great coordinator & excellent team dynamics. also great team coordinator team. ’ taken many lessons experiences read book. given practical lessons improve leadership skills. ’ two teams far , worked first 1. coordinator nudged us always making progress towards bigger goal. 2. teammates voluntarily picked segment project would responsible for. 3. loose deadlines agreed , deadlines also allowances members equip skills required fulfil parts project. 4. team met twice week discuss progress. 5. time member grew comfortable asking help others well given feedback. team dynamic encouraged member give part project all. inevitably , team members technically advanced others ended taking advanced work rest , however time felt like overburden. given positive experience eager also try coordinator next sprint came around. new teams assigned & volunteered coordinate. aspects believe could done better. 1. ’ commonly accepted bigger goal. 2. ’ involve team identifying small goals were. worked work plan overnight & presented team. team loved plan , individual responsibilities work assigned. 3. led situation members team clear responsibilities were. 4. result power leadership , members team ended bulk work. able pull together & present satisfactory project , however believe could led better & helped team deliver far better project. member team would also proud contributed fully project. learnt great deal experience & would like give coordinating another try , like skill believe leadership learnt practice .  explore data science academy , road never thought would take lifetime. love passion cars , accepted data science internship one last thing never saw coming. love travelling exploring new avenues `` let 's '' tip. first day coming explore data science academy ( edsa ) beyond expectations , visually appealing facilities provided us. first could believe , cape town , comfort zone , pushing something involve anything studied. came expectations , however , told something need give order leave experience back future. speech supervisors gave us 22nd january reassured make mistake coming here. first week given work , install softwares would using throughout year , thought would pre-installed arrived. first , introvert side steering wheel interact lot people besides housemate. started interacting people water crisis sprint started. team people different background ; bioinformatics sciences , computer science , economic statistics mix , different parts south africa ( mostly gauteng ) . one things stood type people would start conversations loud side come order make everybody feel comfortable. first week gather sprint took team start making progress , thursday already figured system worked everyone order use something show supervisor. put weaknesses strengths table , started communicating better team. results shown supervisor told us think would deliver delivered , however , delivered end fundamental , faith would best one best. love good music , adventure socializing led connecting people group. time fundamentals spent helping people , building friendships would carry edsa year even greater , learning languages like python sql , channeling mind data scientist mode. weekends colleagues would tour cape town going beach , hike mountains could see edsa lab , visiting malls theme parks around cape town. python , one complex languages learn. well , thought since programming background. two teammates experience working languages , changing one language another , fairly doable. advantage since two people could consult whenever ran problem python. presentation fundamental one laid back fundamentals face since preplanned wanted add slides clear storyline. fact split fundamentals tore us apart , however , vowed exit whatsapp group created. review week , weekend , people never talked friends edsa lab suggested go theme park near canal walk mall take minds water crisis sprint. character part outting shy , yet interesting backgrounds. still friends them. stock market sprint came flew by. really feeling team since lot judgemental people felt like knew better. lacked communication , managed pull find sprint one piece. events bcx hosted highlights first months edsa , amount inpirational people engaged events. felt like meant every time spoke lucky waiting us greater wildest dreams. week takes cup. never expected go home least july. honestly grateful spending year edsa lab , could chose anything else .  imagine excited finally meet people like minded. maybe could rephrased meeting people like me. however , instead , meet small sample different types people different types personalities. yet find stuck world different types people different , different interest ambitions , translates make decisions every day. decisions affect , especially working teams. hand , decisions make affect team processes. according personality test , personality defined five letters entp-t , according classification debater. true debater , convinced , play along suck test discuss personality affected general experience academy. lab allowed us access well collaborate , although working effectively lab challenge , many distractions. found easier get know people type strengths , knowledge background passions general. type knowledge allows efficient knowing ask help different things. prefer asking facilitator. always done past prefer working challenge peer , along process learn would otherwise. comes working teams , always , first one speak give opinion came variety ideas , ’ extroverted side me. therefore , end leading , team. role prefer police people , therefore either allowed people lead would make sure project requirements completed end. last sprint dedicate responsibilities according people ’ backgrounds strengths interests. one person leading deliverable project end would ensure requirements submission met. employed similar strategies past , working tangibly people bring table. framed decision making teams worked in. someone shows work work have. approach made easier focus objective deliver projects. decision making rational time little emotive times , irrational judgements employed make assumption people attitudes toward project work. creates barrier people pulling weight past immediately , integrate teams later. however team dynamics forced finisher .  experience academy exceptional. meeting new people amazing , specifically working them. much challenging first inception relate , time things gets better begin know get use one another. odds events one two group member want participate ( eg. missing meetings ) thing way oppose agreed group , really problem participating also productive , especially meet group expectations group works , members end work. means group take collaborative decision planning expect everyone deliver agreed planned. lab one best way work , especially comes group work , find collaborative useful. 's unfortunate group members choose work home leave early come late. found behavior hinder progress , especially tasks divided sub groups among group members. critical aspect group always communication. members usually communicate inability complete task late work due. members get emotional approach , end day always encourage one another see right side approach task project hand. working many different people taught rely others , means trust member work , even better me. fun leaning since day one .  enjoy meeting new people different walks life constant , everyday social interaction. slightly reserved comes approaching people much older me. also fear inadequate unqualified many people already worked professional environments qualification , undergraduate otherwise. large emphasis group work big learning curve always preferred work alone everything way want , although improved since time here. tend take charge unless one else better talking people helping find role. versatile n't mind taking least desired role despite preferences. one group decisive. general guideline try stick although hardly case. prefer versatile approach work. rather consistent method making decisions. little less organised group though. tend procrastinate make major decisions complete important tasks last minute. tend sway easily depending emotions. know let emotions run ahead ( since something known ) put foot , take step back examine things rational perspective. hard easy put emotions beside .  life academy. wonderful experience , joyous full many possibilities. 22nd january 2018 took tax kraainfontein heading woodstock , place never , told far capetown cbd. exact location going woodstock exchange building 's explore data science academy located. help asking people taxi help gps able find building got around 10:30 , yes late got presentation room aidan ( supervisor ) giving overview academy expected us ( student ) . room full 100 students different provinces , races backgrounds. listened long bearded white guy speaking eloquent profound right. one thing struck intention emphasis speech intelligent ( students ) apparently 8000 people applied program , 3000 people able finish whole selection process 250 people interviewed top 100 made program. aidan 's words full passion compassionate , inspiring encourages , gave birth new hope life knew labelled people 'failure ' knew opportunity beginning great journey ahead. promised things different time , work hard play less , would make friends pray give thanks heavenly father. week later ( students ) split group five people work capetown water crisis using skill learnt past week i.e sql , python power bi. group name bean bags , group four males one female , embark project , use divide conquer approach help assign work member , group members wonderful people work , jelled much fun together . bean bags often worked together , using one computer helped tasks assigned member. worked together two months present findings regarding capetown water crisis solutions suggestions sprint came end. split south african stock market project , working different people adjust new team went name stockoverflow , bit nervous previous team already made friends working together forged friendship amongst adjust. stockoverflow team three males two females , sprint month much done. learning different models predict stock prices fascinating challenging me. used divide conquer approach assigning tasks member consolidating member done google drive , 26th april presented model predictions stock price one week break came back another sprint. realized short space time learned many many skills apply solve real world problems. wonderful experience grateful .  four months since decided embark journey. packed bag , moved new city took first step living best moments life. love meeting new souls. always fascinating finding someone else ’ journey began , similar different footsteps left are. amongst 99 brilliant minds incredible , getting know refreshing. people stand , everyone unique. always good working , taking reins. ability work effectively team acquired skill , understand different personalities , people deal problems communicate. delegating seemed help terms getting work done teams , person taking piece , sure finish elephants. decision-making process structured , benefited whole team. guidelines rubric supervisors helped keep us right track. decision-making mostly based impulse , following process ideal getting results. great team members pay attention detail since mostly focus bigger picture. made sure work appealing. quite experience , constant learning. growing skill set , including soft skills. beginning , lot learn .  ‘ greatest opportunity part 100 chosen individuals wonderful programme. explore data science academy ( edsa ) environment makes feel welcome perfect terms collaboration networking different individuals interesting views personalities. ’ hard distinguish edsa work environment. type environment prepare real job. edsa provides one opportunity learn work diverse group people terms career background , culture religion. working groups different individuals project exciting. throughout time , ’ learned lot working teams. first ’ learned team work achieve terms results learning new things. secondly , come decision making , everyone opinion coming final decision another thing. learned ’ voicing opinion , convincing fellow team members indeed opinion fruitful. comes team strategies embark particular project , ’ one size fits situations. team come strategy going solve assigned problem. difficult , especially serve team coordinator serve , time complete different team whole set different personalities characters. instance learned strategy based skills , capabilities mostly team ’ attitude towards project hand. knowing strengths weaknesses team members good start. far learned lot. ’ still intrigued eager learn lot more. feel like becoming real data scientist day passes thanks edsa giving wonderful opportunity .  explore data science academy 19 weeks ( counted ) ; let ’ simplify 3 months shall ? exciting working group challenging problems , feel like world possibilities opened us. exciting overwhelming met many new people. right away seem made name myself. proud , even excited people feel someone come help - practical emotional. helping others role comfortable since typically excelled academic environment , ’ admit disappointment people ’ ask help more. like thought expert ( even like feel like expert , find happens less grow older ( experienced ? wiser ? one old greeks said something wisdom knowing ’ know ) . aspect larger group find overwhelming trying remember everyone , especially since many people seem know am. enjoy learning people ’ backgrounds amazed great selection people attending college. experience working intensely type team entirely new. worked teams school , university work , never amount diversity team. never sitting next team members everyday ; majority one ’ efforts focussed team work. immediate challenge first team working people skills ways operating different own. realised career worked people , background training. made less adaptable less tolerant different approaches problem. trying learn relax give people ’ method approaching problems chance. felt comfortable group leader first sprint , uncomfortable giving reigns second sprint onwards. second project usurped actual leader number occasions seldom pulled back. formed real bond first team , despite ( ) struggles. second team relationship seems formal , although things went much smoothly team arguably effective. found frustrating deal reserved people. hard read difficult reserve judgement ’ produce tangible outputs. still trying figure best deal people , draw shell patience hear trying say. also need consciously tell offer may valuable ( remain unconvinced evidence right table ) . experience also underlined much rely external encouragement praise , played interactions students staff. enjoy teaching students , specifically one one small groups , alot immediate feedback. first weeks felt really supported facilitators , later weeks felt like abandoned newer , exciting projects. similarly felt much secure first mentor ’ hands-on , available , approach second facilitator ’ reserved , hands-off approach .  hardest moments life learning new things , matter simple easy might be. difficulty met new people academy. truth talkative nature , ’ always found difficult start conversations students anyone academy. however , amazing experience discover learn different students ’ cultural backgrounds diversities , interest data science life whole. academy , realized people learn discover interaction others. new environments nervous , yet exciting ones. explore data science academy best example scenarios. academy provided great exposure working environment challenges ought face work teams. able work team prerequisite skill needed data scientist. learning curve allowed self disciplined , self-motivated introspection little effort group work affect entire team ’ progress thus , results poor performance entire team work. people different cultural , educational programming backgrounds , learning difference right , right right became key determining factor understanding work teams. months academy , feel close becoming data scientist before. hunger efforts put understand data science seem rewarding now. great feeling among first group given opportunity learn data science. although pressure much times , hope believe everything designed meant prepare us real world working environments .  nan  bit loner times id say experience really taught engage people talk especially student kind goal. based academic level think got experience programming fact familiar sql python shows grown academic level. knowing wake everyday see new faces lab thought able manage knowing loner told working teams thought end much talker people thought going express opinions , participate happened best experience even started releasing need talk order opinion heard. last team really understood much teams challenges valued opinions decision making part even pimplier , first team agreed everybody gon na take part everything look strength weaknesses. assign one another activities concerning project still forgetting help strengthen academy weaknesses basically created fridays helping other. comes decision coming acadamy one hard decisions take cape town far home choose completing honors degree academy. ended choosing academy honors degree felt like needed experience data science marketing world academy would best place start fact ought learn everything beginning great computing skills wanted stipend also contributed decision coming here. would conclude regret coming instead happy here.its 5 months already feel like year going bit faster want even programming skills think would got much experience programming languages skills honors.the experience got far best. helped growing academically also helped gain confidence individual .  edsa reflections 24 november 2017 , filled joy , excitement anxious time opened email edsa titled “ congratulations ! ’ accepted explore data science academy ! ” fast forward 22 january 2018 , ready meet new people ( possibly form new friendships ) , meet edsa team learn lies ahead 2018 , overwelming day was. today 6 may 2018 , lot happened past 3 months , ’ learned much ! sql , stats , python , power bi , presentation skills… [ still learning , never stops : ) ] . grateful selected one top 100 , ’ appreciative opportunity , thank edsa making possible me. lab data scientists making , greatly enjoy lab , environment condusive learning , group data science enthusiasts one room feel receipe success. training limited online courses edsa staff students learn lot , different backrounds , skills experience making lab interesting fun place grow academically socially. teamwork water crisis project : team liquidata must say initially concerned amount individual work deliver team well. realized importance effective team , working well team reduced work load stress also helpful individual tasks. roses regards team dynamics , working different individuals perceptions opinions challenging first , frustrating decide certain matters , helped lot grounded problem statement kept us focused needed done. worked well ’ result driven given task , completing task successfully required relevant info important , refering back problem statement got stuck great tool us. emotional moments team due personality clashes end worked well contributed success team , awesome team ! rsa stock market project : wolves woodstock accepted ’ work new people , really problem , hope wish strong programmer team , wish realised statistician programmer team , lovely ! great team , felt like outspoken person ( ) bit much , still worked well though delivered. prefer working team different ideas , creativity different skills ’ huge advantage eveyone team result driven , absolutelty appreciate that. ’ good experience teams far .  nan  enjoyed time edsa far. love meeting new people first time life talk people face-to-face programming topics around data science. previously strangers internet. great discussing algorithms coding challenges geeking people understand contribute , rather watching people 's eyes gloss describe trying achieve ( laymans terms ) . love prescribed uniform everyone comfortable naturally ease , opposed fashion parade. countless times struck conversation work , weekend even mountain. sometimes team members get distracted abit long guests talk abit loud , n't big thing. biggest challenge balancing studying implementation theory everyone page. team suffers individuals pulling weight put strain rest. luckily found colleagues kick around ideas discuss solutions current problems. decision making process voting best way forward. typically consensus reached roles , typically 2 3 members end bulk work. conflict resentment arise far real flare ups encountered , hard individuals argue decision made present put work. tend keep peace expect everyone act respectable adults. hate micromanagement love freedom given solve problem statement. glad able view teams ' presentations see went solving problem. continue learn lot data science well working time time constraint seeing people manage. even workload others offer time assist need help  experience edsa one sparked lot introspection. socially , made affirm fact extroverted person cherishes human connection , communication cares 's well-being. regards team-work , made realize quite assertive prefer logical structure comes completing tasks fulfilling set roles. made also realize end taking charge situation group , even n't initially bargained , mainly seems like n't much direction group time seems going waste. decision- making process rational one mostly times based emotion people would choose certain roles based believing good certain thing interest end n't end achieving/delivering much end burning out. 've also realized things n't go according plan comes activities part role , stress feel defeated easily perfectionist side creeps end completing needs done time. future teams wish branch attempt master every different skill best ability instead focusing much individual role , lot potential know capable .\""
      ]
     },
     "execution_count": 219,
     "metadata": {},
     "output_type": "execute_result"
    }
   ],
   "source": [
    "EtXt"
   ]
  },
  {
   "cell_type": "code",
   "execution_count": 220,
   "metadata": {},
   "outputs": [
    {
     "data": {
      "text/plain": [
       "\"  joined academy crossroads sorts life. academy offered opportunity pivot career engineering data science unfairly dismissed struggling find employment result. meeting 100+ ( faculty students ) new people would part life whole year something get used , even though worked multinational companies. ability deal people different backgrounds , beliefs , etc. tested group work. needless say lead tension one 's life team mates pulling weight. team dynamics always learning process/curve , thankfully bad experience till now. needless say , people try cheat system , act dishonestly sometimes plain lazy. many opinionated thus rendered incapable making great contribution. way things always consider everyone 's well-being , opinions contributions. somehow persons think ok cynical unhelpful. end day , supposed learn become data scientists. work , improve daily. .  far experience positive definitely see value course. experience working different people valuable me. worked well attitude everyone team deliver take responsibility. difficult step back trust team work , however cases team members exceeded expectations. felt bit frustrated team members applied taken substandard lazy approach problems. like get stuck something get immediate results improve there. think approach worked well however also learnt allot team members structured task based approach. allot time spent tangents add value projects however tangents either paid results learnings took them. decision making approach generate ideas create structured work flow around ideas distribute work among individuals take interested work flow. conflicting ideas typically took democratic approach combined healthy debate. find build relationships people 'm teams with. get know best. strongest connections team members also people academy learn from. took team bit data collecting tangent last sprint necessarily productive use time could avoided understood problem better. one case probably assertive team , however way like make decisions get stuck workflow stream adapt go n't supervisor direction point. find environment stimulative enjoy going around teams see working on. good relationship people happy share working great. also found environment distracting times , would like help people get satisfaction , however 'm also that. working different people mixing regularly something im excited everyone different learnings experience theres something learn everyone .  fortunate opportunity join academy year. sure career choice , academy provided great chance change career paths. help choosing new path allow eventually reach larger goals life. moving cape town joining academy challenging , already knew two people academy joining. however made bit difficult making new friends. typically reserved , easily make new friends , especially already good friends , case see reason make new friends. working teams academy great challenge me. normally prefer work pace working team forced cooperate people adjust skill levels. sometimes meant taking work allocated me. addition , found difficult working individuals invested projects aiming learning much experience intend to. within teams , leadership quite lacking. typically like forcing onto people , circumstances , forced take lead projects. taking lead tried best lead behind , making sure consensus within team deciding. generally due lack experience one teams , meant think plan , execution thereof , followed team implementing without challenging ideas laid out. approach worked well , would liked greater input team , unsustainable left would render team incapable functioning properly. team , people much competent four members , decisions much easier take. good idea , still elected leader , role much organic time , much balanced consensual way making decisions. however , completion tasks effectively still perfect left. teams struggled making decisions , never experienced conflict generally emotional making decisions .  looking back one got academy right , confidently say grown intrapersonally interpersonally optimistic perception working also gradually shifted realistic end spectrum. came nothing positive outlook journey gotten opportunity embark , however , learned couple valuable lessons - one stand value understanding teammates expecting one understand you. put far put cap assertive nature gotten lot f pressure given opportunity even sharpen softer skills tends help quite lot even outside academy good vibe generator - one deflects negative energy positive energies whatever spheres happen find in. getting know colleagues exciting initially thought would best get know everyone due knowing underlying power networking much tend ripe rewards least expect it. however , due various factors including time constraints , one n't yet gotten know everyone. nonetheless , 've connected way pivoted range experiences 've exposed anything - 've found one connects colleagues duties get better understanding really drives bed morning tends relative ease synergies working people group. foundation good teamwork come play proven crucial implementing fulfilling common goal quicker. establishing people 's unique abilities also n't easiest tasks , one things far made role duty allocations bit messy groups. mind team makes decisions usually made voting process duties tend easily misallocated accord effectiveness leverage ( exploiting team member unique abilities motivate everyone play strengths avoid weaknesses proper balance ) . teamwork easy job exciting time takes one individual break firm structure especially individual wants make decisions- hinders progress flow ideas team turn leads dull average outcome. 've found decision-making techniques bit irrational due central tend especially find group nice people express feel whoever so. learned focus making sure ’ expected delivered timely miss beauty process focussing relatively small hurdles ’ vast amount captivating material engage in. getting know colleagues exciting initially thought would best get know everyone due knowing underlying power networking much tend ripe rewards least expect it. however , due various factors including time constraints , one n't yet gotten know everyone. nonetheless , 've connected way pivoted range experiences 've exposed anything - 've found one connects colleagues duties get better understanding really drives bed morning tends relative ease synergies working people group. foundation good teamwork come play proven crucial implementing fulfilling common goal quicker. establishing people 's unique abilities also n't easiest tasks , one things far made role duty allocations bit messy groups. mind team makes decisions usually made voting process duties tend easily misallocated accord effectiveness leverage ( exploiting team member unique abilities motivate everyone play strengths avoid weaknesses proper balance ) . teamwork easy job exciting time takes one individual break firm structure especially individual wants make decisions- hinders progress flow ideas team turn leads dull average outcome. 've found decision-making techniques bit irrational due central tend especially find group nice people express feel whoever so. 've also learned never bring emotions workplace people tend step sensitive things without noticing- example someone staring shoulder commenting work 're quite unpleasant kills moral detaching focusing 's required best coping mechanisms .  got academy , felt like n't belong here. felt place. person n't like talk people own. people approached , got know them. getting know fellow classmates , made realise feeling similar emotions 'm feeling. 've met lots like minded people. personally like work alone , working group always difficult me. academy made easier me. forcing work teamwork skills. often , 's group member takes charge , keeping team focused shared end goal .  attending explore data science academy already proven , continues amazing experience. ’ quite astonishing realize much ’ learned mastered past couple months , chief among would ( subject essay ) , teamwork. meeting new people daunting task ( including ) . however academy different start. sheer excitement students especially explore team ( supervisors facilitators ) acted social catalyst , smoothing social awkwardness , knew getting along like house fire. working teams people completely different backgrounds personalities challenging throughout first project , said , also interesting see individual adapts accommodate team help build team dynamic. starting cape town water crisis project honestly idea expect , certainly ’ expect team dynamic play huge role success deliverables. team overcome different levels knowledge , skills , self motivation. couple late nights flared tempers managed get work done , realised overlooked crucial part teamwork. one need self motivation , also create environment team motivate comfortable enough ask help ’ feeling overwhelmed struggling get grips difficult concept. team definitely lacking aspect , take chin regards deliverables , walked away learning priceless lesson moving next sprint. assigned new teams rsa stock market sprint , refreshing hear ’ team struggled certain aspects team dynamics. get go approached structured interactive way things. decided stand meetings every morning report previous day ’ goals well setting new goals day ahead. already made huge difference motivation team. another part success dividing work ’ get overwhelmed individuals rather sharing workload one-on-ones relevant team members gain deeper understanding section work. approach even advantages thought. structure communication team members lead lower stress levels ( even though still ever present ) , resulting cooler tempers clear headed decisions less emotionally-driven first project. goes show “ soft ” skills important technical skills working teams. ’ wait learn brilliant diverse people academy. '' individual commitment group effort -- makes team work , company work , society work , civilization work. '' -- vince lombardi  wonderful place , place waking morning easy task great desire learning something new everyday. meeting new people great thing learn work team also socialize since person well crowd. actually first time working lab like reason experience labs quite instrumentals labs testing experiments computers , n't computer labs first time coding lab reason coming edsa first choice . skills data scientist one drove apply wan na learn coding. learned lot lab also working team. one main problem faced working team group rather , groups perfect might wish change disaster.sometimes set time slots group meet discuss progress deliverable surprised one member pitch thought lot work , disappointing would mostly prefer working alone future. working team sometimes emotional draining decision divide conquer could work together well. hoping great team smart people need told since every sprint `` lists '' .  essay discussing personal experience regards academy like meeting new people especially introverted person am. speak different teams , different different felt , learned different characters. comparing decision making done teams versus personal decision making. getting plane cape town without place stay friends city big risk , certain plan academy kept praying want scam plot get specific building get kidnapped. fairly surprised get meet people walks life , also kind questioning legit , mean hard question , sounded way good true good things learned ’ happen people like us , guess time shine receive blessings. ’ think academy , blessing. said , experience academy ups downs like always ends up.i learned lot , fallen love data science , things small mindedness used consider geek ’ s. learned push , always try learn , practice computers always evolving. since met people different personalities academy , personality clashes occurred 1 biggest lessons , able work different people different personalities. working teams ’ easy thought would first , everyone idea assumed supposed done different opinions could dismissed everyone 's opinion valuable working team , opinions somehow seemed clash. working teams taught patient , quality possess whatsoever. second time changed teams though seemed though everyone gotten idea working teams ’ like , basically dipping toes working teams thing first sprint , second sprint bit confident meant worked better second teams , improving go. teams , split work equally amongst , making sure everyone gets chance tackle important lessons like coding dashboard. group coordinator state views , he/she would speak supervisor decision would made way , supervisor would guide us right direction hearing thought right way.its almost concept use guess making decisions , weigh options , see one best one worst outcome obviously go best outcome. conclusion working teams skill gaining developing everyday , ’ mastered , heck difficult master many personalities , getting .  experience academy enjoyable far. learning lot interesting valuable skills meeting many intelligent interesting people. meeting working new people lot fun rewarding experience. working lab challenging. open plan allows many diverse unusual conversions easily started joined also prevent work done people interrupt prevent others entering staying state flow necessary learning. especially destructive slower learners like myself. working teams also challenging insightful. sometimes tricky setting understanding team dynamics new teams especially people ’ know well , practice working teams always appreciated team dynamics always easy decipher understand. decisions made group ( least feeling ) without one person charge giving orders. could also part still learning try make effort person group feels opinion asked heard decisions made group decisions everyone opportunity raise differing opinions votes support. consistent way enjoy making decisions think allows everyone feel involved dedicated outcome everyone feeling others group think feel decisions made. say decision making rational emotional know accurately determine that. maybe mix , though slightly leaning towards rational .  started academy workload easily manageable students able keep learning curve , whereas struggled either asked peers caught , n't got stuck behind pack. workload difficulty increased , able keep better programming foundation others course. although might helped lot , appeared blessing curse. found losing lot time could spent work , helping students ( bad thing ) , questions asked topic currently working found difficult get back line doing. decision teams need made , seemed myth. team needed carry lot workload rest team members order get scores wanted , trying teach team thing two long way. similar situation second sprint , severe , 2 members team got flying start , 2 spectating participating one eventually found feet ended bang , last member , felt , never contributed final `` prediction '' , speculations. quite frustrating like working teams , however members carries weight. might sound selfish , n't want affecting results much goal year 1 30 students going bcx. feel working hard enough spending enough time working , still happy ultimately hand present group. finally happy course content. course already taught lot data science thought knew ca n't wait come. awesome experience happy chose .  coming academy best thing ever happened grateful opportunity. learned academy going encourage teamwork excited meet new people different spheres life exchange ideas network it. working teams thus far ok. things like team commitment work work ethic thereof. comes decision making n't enjoy part felt sense dictatorship member would defy group 's decision still want impose best team start delegating work teammates based vision. felt defied purpose brainstorming planning objectives. role played team always conscientize group imperativeness working within scope prioritizing required us form basis going structure project would help decision making. supervisor meetings reporting based `` '' , `` '' . sign individualism collective project perpetrated unnecessary competition. enjoyed networking variety people academy also participate win hackathon hosted city capetown one best networks team collaborations went well me. like random conversations technology trying link 'd connect inspire other. brief summary work prefer plan try much possible stick plan always room changes. consolidation key helps deciding conflicting ideas .  past months one challenging thrilling experience life. coming , expected engage people knew introvert , experience academy would force engaging people. something totally outside comfort zone. ready ; much prepared , ready challenged understood growth reached uncomfortable spaces. experience taught could imagined. learnt fearless embrace greatness within me. come across shy , willingness push things enabled speak room full people made realize get nervous things actual fact get nervous things capable also fail. way scared inabilities potential. understand still lot learn fully comfortable know feel still lot knowledge gained. coming bit theoretical statistical background , interesting see techniques learnt university applied real world scenarios. coming space , space full well equipped individuals , felt bit intimidated idea career going lacked confidence really good at. experience far definitely given better understanding skill set career take , importantly come learn alone. able meet lots people also similar situation , simply shown worries worth worrying things fall place. environment quite relaxed , yet taught behave professional workplace. support peers also tremendous. observing everyday events supervisors taught teamwork , people come together get things done . although sometimes remind use inside voice , feel adapting environment relatively well. going forward , expect learn develop skills .  experiences explore data science academy experience meeting lots new people great one , months already learned lot , continue daily level. terms meeting new people much gain , especially terms offered different perspectives , challenged way thinking. also taken comfort zone turn taught lot handle different personalities. experience working together lab teams much appreciated close real world experience , 've already similar environment throughout university always found enjoyable interact people. level productivity performance exponentially increased , mainly deadlines needed meet wanting disappoint teammates , generally working others helps achieving individual. say interpersonal skills increased , example speaking listening others. come realize collaborating others helped identify strengths weaknesses , basically self-aware. experience decisions made teams was/am consistent like make decisions. lot people considerate want attain goal , appreciated , far people worked take time listen person say try take consideration relevant concise , decisions made depending everyone felt. experience rational emotional decision-making process been. decisions made rational group took time take people ’ emotions consideration possible. ’ obvious always agree completely certain things , occured , time taken explain person things certain way beneficial way disagreeing member thought. accepting possibility incorrect important role , especially comes working others. conclusion , experience positive anything academy .  experience far great though first bit anxious excited whole program , working teams challenging first still becoming less less challenging , far groups far completely different 's interesting terms knowing works n't , also helps experiencing different thinking processes ...  experiences edsa experience academy intense , interesting fun. even though met small subset people academy , great gotten know time. also particularly interesting , seeing different everyone ’ background perspective is. learning come want life chose apart academy. working lab great experience , reminds worked open plan office space feel like ’ great comfortable environment work in. also proven difficult times , slow computers noisy environment keeping focused sometimes tricky , views mountain really great ’ complain much. regards team dynamics , two groups part different terms worked , however overlap dynamics. one dynamic found two groups extroverted individuals groups took leadership role early team took cues two groups pushed leadership role. part groups introverted individuals extroverted ones. ’ major conflicts clashes dominance. first group differences personalities caused friction conflict. despite , got long worked together cohesively meet goals. natural personalities would create conflict never lost sight there. regards decision making two groups. first group lot uncertainty terms approach problems created environment aimlessness uncertainty times. second group came consensus based strengths team members would allocate roles accordingly. decisions first group made based high emotions think caused new environment learning new skills created stress , coupled trying meet deliverables made tensions high. whereas second group came decisions based logical approach. would say overall decision making rational tried deal problem statements thoughtful planned manner would allow us cope coordinate responsibilities effectively .  data science academy amazing path far , one room people ambitious love learning got excited work also supervisors facilitators determined love job motivates even keeps thrilled like one day. thankful part academy , much learn everyday proven need specific field certain level education data scientist , way academy structured students fields various level education think great idea , would see someone never studied computer science statistics knowing concept better degrees , brief say need order survive academy focused know expected everyday. fortunate enough placed teams people determined never struggled get group mate deliver expected , hence said people academy focused know for. think selection team good job placing us academy. appreciate also fact much supervisors facilitators busy , always accessible help us work passion , see getting better better day become data scientist certain end year level corporate expects be. academy coaching sessions assists come across obstacles program , work related personal problems , someone talk share predicaments going , find helpful workload much might loose track things , especially something distracting going personal life , deviate attention work , think service useful personally used load shoulders shared problems someone trust judge share problems anyone. randomly placed teams believe help us come across different personalities people learn work around , although people hoped , believe prepares us fit enough deal people meet corporate world. also learn assist patient people might struggle certain concept also learn others .  good day , really n't know start essay besides good day. anyway 's way lets start business. moments academy mostly up. let start day one meeting students south africa great , meeting people different personalities coming different background. people different races , culture tribes ( enjoy stuck cape town since day born. ) . getting first team , part crazy , fun team. guys n't look one another open , strength. first weeks everyone working well getting close end became frustrated team members started lose focus ( assume got tired sprint long ) . following team great came work bonding n't all. two members liked working home ( productive ) two quit time. came decision making , meter bouncing ideas around choosing one move stayed one teams. second team split two teams two teams thing 's believe new way things great. submitting individual team one learnt skill taught sprint. thanks .  good fun experience though 's often case pressure. lab allowed enough time practice get used coding , improved efficiency coding working computer. coming academy n't used idea working team , along year got better , knowing someone count , rely go need help. also got know personal level makes easy understand , strength weaknesses allows us form strong team. sometimes disagreements think right , effective solving , lucky enough co-operative team members since beginning year. though n't got know many colleagues ones got know would say pleasure meeting  experience explore data science academy great far. goals explore year develop & master skills data science well improve leadership skills. felt empowered content ’ taught. four months , believe already learnt skills would allow enter & succeed job market. next 7 months plan spend refining data science skills using 1 hour evenings revising content learnt class. regards second goal ( improve leadership skills ) , ’ fortune team great coordinator & excellent team dynamics. also great team coordinator team. ’ taken many lessons experiences read book. given practical lessons improve leadership skills. ’ two teams far , worked first 1. coordinator nudged us always making progress towards bigger goal. 2. teammates voluntarily picked segment project would responsible for. 3. loose deadlines agreed , deadlines also allowances members equip skills required fulfil parts project. 4. team met twice week discuss progress. 5. time member grew comfortable asking help others well given feedback. team dynamic encouraged member give part project all. inevitably , team members technically advanced others ended taking advanced work rest , however time felt like overburden. given positive experience eager also try coordinator next sprint came around. new teams assigned & volunteered coordinate. aspects believe could done better. 1. ’ commonly accepted bigger goal. 2. ’ involve team identifying small goals were. worked work plan overnight & presented team. team loved plan , individual responsibilities work assigned. 3. led situation members team clear responsibilities were. 4. result power leadership , members team ended bulk work. able pull together & present satisfactory project , however believe could led better & helped team deliver far better project. member team would also proud contributed fully project. learnt great deal experience & would like give coordinating another try , like skill believe leadership learnt practice .  academy amazing , love petry dish talent ! handful genius characters here.. backgrounds unique stories , explore data science academy best place develop data analysis skills. love time ! far , 've experienced whole lot pressure change something better. spend time studying , better feel , comfortable become closer get quality employee entrepreneur. everyday come office , feel home , learn something new.. something directly use business application. look around entire building get inspired start business 've learned here. speak among business academy helping us realize ideas clearly. without information back ideas , 's difficult starting. availability information outstanding. really appreciate nest. last two teams great work with. achieved bunch , , thanks resources available. first sprint tough though. team , realized strengths taught other. n't problem sql python used technologies before. understanding statistics applications data given difficult. worst , water crisis data n't collected well. n't worst experience data taught things career perfect. perfect skills data cleaning. realize limited number solutions data analysis. perfect outcomes data science , could breeze work future. believe hyper prepared things.. game theory data science would prove beneficial. emotionally , 'm great. academy brings best worst skills provides controlled environment mend holes analytical judgement. relief , emotionally physically becomes process bettering daily , bit bit without forcing stress .  experience edsa far combination challenging , fascinating , unpredictable. coming academy , excited would get meet new people learn new skills ; anticipated might somewhat difficult engaging new people ( since introverted ) coming grips new technical ideas ( creative technophile ) , since loved good challenge , still excited immerse experience. surprise , challenges faced none anticipated generally able interact cordially new people understand technicalities program. greatest challenge far working lab. environment many people ( different personalities , habits , learning techniques preferences ) forced natural inclination isolate working. easily distracted , think carefully navigate space simulate environment conducive learning. also found team consider optimally ration work , challenging , especially beginning n't yet good understanding 's strengths weaknesses. said , gotten know fairly well , able make decisions believed would amplify strengths diminish weaknesses could produce results best possible quality. sense , much decision-making teams rational rather emotional. would apply logic reason wanted achieve thought might able , found always room empathetic thoughtful ( thereby engaging emotions rather reason ) , sake team member , alter original plan. somewhat consistent personally make decisions : think times base decisions think yield best results terms trying achieve , even happens inconvenient taxing process ; times , especially decision made great consequence , make decisions based emotions believe 'rational ' 'logical ' decision likely hurt someone 's feelings cast bad light. , learned awful lot : preferences , strengths weaknesses , character ... found learning curve steep emotions rather turbulent throughout process , enjoyed every part challenge could mean future -- prospect holds together worst days exhilarates best days .  imagine excited finally meet people like minded. maybe could rephrased meeting people like me. however , instead , meet small sample different types people different types personalities. yet find stuck world different types people different , different interest ambitions , translates make decisions every day. decisions affect , especially working teams. hand , decisions make affect team processes. according personality test , personality defined five letters entp-t , according classification debater. true debater , convinced , play along suck test discuss personality affected general experience academy. lab allowed us access well collaborate , although working effectively lab challenge , many distractions. found easier get know people type strengths , knowledge background passions general. type knowledge allows efficient knowing ask help different things. prefer asking facilitator. always done past prefer working challenge peer , along process learn would otherwise. comes working teams , always , first one speak give opinion came variety ideas , ’ extroverted side me. therefore , end leading , team. role prefer police people , therefore either allowed people lead would make sure project requirements completed end. last sprint dedicate responsibilities according people ’ backgrounds strengths interests. one person leading deliverable project end would ensure requirements submission met. employed similar strategies past , working tangibly people bring table. framed decision making teams worked in. someone shows work work have. approach made easier focus objective deliver projects. decision making rational time little emotive times , irrational judgements employed make assumption people attitudes toward project work. creates barrier people pulling weight past immediately , integrate teams later. however team dynamics forced finisher .  experience edsa interesting one thus far. pushed get shell interact people. since academy realised smarter think lot valuable knowledge insight share. biggest fear coming academy social aspect interact different people , since able overcome fear. first placed groups literally sweating , heart rate high felt sick stomach idea group strangers. second time split new groups ’ nervous. become social enjoy meeting working new people now. working groups challenge me. frustrating everyone different everyone different approach learning process project management. ’ learned lot working others. took backseat things even knew better way things. spoke saw helped team steer team better direction. become assertive. thought passive person ’ assertive save life , think assertive ’ find daunting. biggest frustration working teams dealing people think know everything ’ willing open learning something new fellow teammates. person like previous group. person would dictate team ’ want collaborate team , dominating personality rest us shy. realised none us ’ speak ’ fail sprint forced breakout shyness. think still fairly shy comes work fight shyness. decisions previous group initially made one person. prefer problems discussed everyone team different possible solutions explored come collaborative solution. found current team. still issues , people letting pride emotions get way work , people distracted ’ committed project. working labs challenge. lot distractions noise focus easily , prefer work home , get much done home. people come academy socialise anything distracting .  past 5 months explore academy challenging. make great adjustments order here. positive negative experiences. one positive experiences much learned. met lot people highly intelligent interests. worked 2 different teams. prefer work alone working team makes sense due sheer volume work. first team experience incredibly frustrating. team members highly introverted technically strong made discussions assigning tasks difficult. even tasks assigned accountability meet deadlines. prefer chip away steadily work opposed rushing close deadline finish. working second team much better. met regularly , communicated lot. tasks assigned everyone accountable. team members helpful towards .  experiences academy far life-changing say least. meeting smart , passionate , hardworking ambitious people different backgrounds happen many similar interests mine interesting journey. introvert prefers working alone pace within space , quickly find way adapt polish social skills order socialize 99 strangers going learning data science with. understood word go need socialize form meaningful relationships fellow interns could see forming strong network may helpful many years come career , long internship. academy ’ emphasis importance team work concept took warm to. teams exposing different individuals varying academic , social , work geographical background different personalities : introverts , extroverts , intuitive , artistic even really funny characters. teammates phenomenal experienced fields previous exposure to. learned lot them. equally ’ also encountered independent disagreeeable teammates required adjust levels patience , tolerance understanding may necessarily share similar beliefs me. need patient tolerant people ’ points view approaches solving completing team tasks. teams , due differing views , opinions approaches use democracy ( voting ) order reach decisions within groups. although easy one resort taking emotionally-driven decisions due one ’ firm beliefs ways things high level emotional intelligence critical favourable team dynamics. academy based cape town , city ’ visited holidays before. moving cape town challenges required solid ‘ family ’ away family fortunately found fellow interns resourceful many ways even outside ‘ labs ’ . example group share information accomodation , transport around city , social events extramural activities. chance test team-building skills virtues regular group sessions nuri believe helpful giving idea relate people less formal settings. credit due supervisors , facilitators oprerations officer ; helpful making internship experience manageable definitely one memorable years come. commitment programme makes easier people personalities settle nicely within diverse small community .  experience academy far interesting 4 months although apprehensive meeting work new people , still enjoyed work looking forward comes next. group work team dynamics particular challenge although ’ really socialised colleagues since arrived cape town , friendships formed mostly students live house me. team dynamics challenge fundamentals sprint ’ fair division responsibility well accountability team. group members would slack part hard hold anyone accountable concerned nice. decision-making group fundamentals sprint mixture rational emotional , things right things badly one wanted take responsibility , much passing buck. team also beset laziness unwillingness really get learn needed deliver project. rsa stock market sprint , group somewhat better people hard-workers divided responsibilities early based perceived strengths individual. really serious problem group communication different areas functional responsibility , clear group members prepared presentation fully understand analysis analysis team performed. decision-making group rational. working labs , nerve-wracking experience significant proportion people simply go socialise distracting us , prefer working environment absolute silence ( hence prefer working midnight ) simply think problem allow creative possible solving problem. people assist thought-processes terms thinking problem solutions irritating distraction. around many people long eventually lose focus problem focus people , would much better silence mandated enforced labs. also need individual work instead group-work. suggests ways could contribute group signs learnt lessons emerged previous group , still lot trepidation comes next. hope meet group members committed project , otherwise , everything end tears .  enjoy meeting new people different walks life constant , everyday social interaction. slightly reserved comes approaching people much older me. also fear inadequate unqualified many people already worked professional environments qualification , undergraduate otherwise. large emphasis group work big learning curve always preferred work alone everything way want , although improved since time here. tend take charge unless one else better talking people helping find role. versatile n't mind taking least desired role despite preferences. one group decisive. general guideline try stick although hardly case. prefer versatile approach work. rather consistent method making decisions. little less organised group though. tend procrastinate make major decisions complete important tasks last minute. tend sway easily depending emotions. know let emotions run ahead ( since something known ) put foot , take step back examine things rational perspective. hard easy put emotions beside .  honesty enjoying time regret choices made. really educational love structure , environment one force work push much facilitator really helpful bounce ideas see far able explore imagination. meeting new people 's always nice stories people far go life , combine different cultural group things got learn people 's culture stories tell. work together 's really tricky fun times tricky , matter many times think always tricky talk wont enough words left. making decisions 's simple everyone agreeing goals deadline arrived people stories , 'm unable relate excuses , honestly wish everyone could adhere words , really would like decisions made like explore lot 'm working something due time constrain sometimes 's best expected enough time explore more. team members sensitive way sensitive leave part there. love academy wish time learn bit , enough resources even conduct maybe research , instance know write good machine learning algorithms n't understand work might even able improve .  starting academy wonderful experience. cape town beautiful city location academy could better. meeting different characters really experience.in first weeks meeting new people daily basis sometimes intimidating. teamwork never really strongest skill always something would like improve upon , heard academy strong teamwork emphasis happy.the academy working lab strong social element , even though work learning somewhat technical. first sprint , quickly discovered diverse group was. vastly differing amounts experience fresh high-school graduate someone working decade. also differing skill sets. working groups challenging rewarding time. cape town sprint primary downfall lack planning what. resulted us almost late deadlines. communication within group could lot better. tend keep flexible approach completing tasks , flexibility ended costing establish proper deadlines .  academy challenging experience. expected prior coding knowledge help minimal help , greatest challenge statistics. slowing getting point n't actually try understand concept thoroughly rather get basic theory focus application. overall , insightful journey , learning interact different personalities group dynamics. really excited leaning nlp regression incorporate app development monetize it. genuinely regret applying academy although days doubt hurdles remembering greatness opportunity always great motivator .  big part joining academy year meeting working lots new people. unexpectedly positive experience. despite everyone different backgrounds , sense camaraderie interns friendly. even though everyone tested graded environment non-competitive people willing help other. made enjoyable work lab. however , noise bustle lab sometimes overwhelming draining find productive sometimes spend hour two day lab working home quiet. challenging aspect year far teamwork. first project ( cape town water crisis ) times conflict team due team member contributing much therefore shifting workload team members. led resentment team members , expected. team projects work rarely equally divided team managed complete project despite difficulties. reflecting experience grateful done big share work gave opportunity learn lot would otherwise. second project ( jse stock market sprint ) much shorter time span therefore team approached project different. team divide work time everyone involved deliverables. hard meant trusting people work without directly involved dependant complete it. process decision making teams democratic. team discusses problems possible approaches usually obvious decision everyone agrees on. decision making far tended rational team members emotional. emotional part projects stress faced final deadlines neared. , experience academy far positive learnt lot. hope improve way approach team work upcoming sprints .  four months since decided embark journey. packed bag , moved new city took first step living best moments life. love meeting new souls. always fascinating finding someone else ’ journey began , similar different footsteps left are. amongst 99 brilliant minds incredible , getting know refreshing. people stand , everyone unique. always good working , taking reins. ability work effectively team acquired skill , understand different personalities , people deal problems communicate. delegating seemed help terms getting work done teams , person taking piece , sure finish elephants. decision-making process structured , benefited whole team. guidelines rubric supervisors helped keep us right track. decision-making mostly based impulse , following process ideal getting results. great team members pay attention detail since mostly focus bigger picture. made sure work appealing. quite experience , constant learning. growing skill set , including soft skills. beginning , lot learn .  explore data science academy 19 weeks ( counted ) ; let ’ simplify 3 months shall ? exciting working group challenging problems , feel like world possibilities opened us. exciting overwhelming met many new people. right away seem made name myself. proud , even excited people feel someone come help - practical emotional. helping others role comfortable since typically excelled academic environment , ’ admit disappointment people ’ ask help more. like thought expert ( even like feel like expert , find happens less grow older ( experienced ? wiser ? one old greeks said something wisdom knowing ’ know ) . aspect larger group find overwhelming trying remember everyone , especially since many people seem know am. enjoy learning people ’ backgrounds amazed great selection people attending college. experience working intensely type team entirely new. worked teams school , university work , never amount diversity team. never sitting next team members everyday ; majority one ’ efforts focussed team work. immediate challenge first team working people skills ways operating different own. realised career worked people , background training. made less adaptable less tolerant different approaches problem. trying learn relax give people ’ method approaching problems chance. felt comfortable group leader first sprint , uncomfortable giving reigns second sprint onwards. second project usurped actual leader number occasions seldom pulled back. formed real bond first team , despite ( ) struggles. second team relationship seems formal , although things went much smoothly team arguably effective. found frustrating deal reserved people. hard read difficult reserve judgement ’ produce tangible outputs. still trying figure best deal people , draw shell patience hear trying say. also need consciously tell offer may valuable ( remain unconvinced evidence right table ) . experience also underlined much rely external encouragement praise , played interactions students staff. enjoy teaching students , specifically one one small groups , alot immediate feedback. first weeks felt really supported facilitators , later weeks felt like abandoned newer , exciting projects. similarly felt much secure first mentor ’ hands-on , available , approach second facilitator ’ reserved , hands-off approach .  young age always sheltered , reserved terrified getting comfort zone. knew year would challenge ’ challenged break shell. first day got real knew one person hundred. push open interact crowd ( struggle considering ’ shy standing front people makes extremely nervous ) . lucky people academy friendly understanding. working teams never problem , issue able fully center attention speak thoughts. taught importance communicate ideas without shy. one biggest challenge working team dealing teammates ’ fully committed tasks assigned them. personally prefer get things done certain way bit challenge team timelines ’ met team members ’ putting much effort everyone else. lab exposes us different personalities one needs learn work together effectively many personalities many conflicting personalities could recipe disaster. could say lucky teams assigned ’ difficult. understood importance contribution communication. misunderstanding ’ address becomes conflict , way able prevent it. teams decision-making process pretty much same. generally , challenge put team , communicate strengths weaknesses , able distribute tasks together based strengths weaknesses. decisions need made , every member given opportunity give opinion decide together team taking consideration every member 's contribution. overall , experience far great. learning new things everyday. workload get challenging time time managed. slowly coming shell , talking , interacting opening .  experience academy really mixed bag far. initially `` '' whatever decision making process needed order get ahead , new group , 've participate others made feel `` follower '' leader times. 's really nice working people myriad personalities. n't really think 've come across situation tempered emotionally although think quite emotional person. think far decision making way prefer ; logical straightforward also room change improve personal knowledge  find experiences academy interesting fulfilling. really like working smart people explore gives abundance. personality clashes character development hurdles point need growth adjustment. one real challenges find balance zoning focus work teaming discuss ideas others help others. choose start would rather acted like focused introvert would give time learn without harming learning curve. honestly contributed negatively group members know , well , deliver more. working together lab thing made real progress growth us individuals. crucial team decisions easier make. working lab also downsides feel still take full advantage privilege. missed couple key submissions already , messed two tests failed badly. made aware team dynamics past negatively affected catch-up work cost team process. honestly think hard also says high expectations myself. decision-making process usually one based voting. people seen getting things knowledgeable automatically obtain voting power. past experience work usually drive person chooses group role willing play. future , would prefer , rules engagement given thorough attention prior commencement group work. way , best obtained everyone. personally believe need place comfortable enough work done tools available. accomplished. achieve contribute .  experience academy thus far potent insightful year , changed life become person really enjoys importance cooperating others. brought together amazing minds space really helped acquire soft hard skills short space time , indeed helped elevate way learning new technical subjects efficiently effectively. also , management team large especially supervisors instrumental always improvising make sure led way help us walk away well informed junior data scientists end year , hence work tirelessly making sure break obstacle attractive easily comprehended possible us order put hard work. addition , nuri formidable way helping us cope psychological illnesses caused intensity program , always go extra mile making sure one feels solitary. supporting structure throughout program importance , help us understand essence behind excruciating vulnerability management enable see work not. last words , want close saying means life , 'm grateful opportunity , best thing ever happened life besides varsity , 'm pretty sure set life greater things achievements .  time academy far challenging , yet extremely rewarding self-fulfilling - especially regards working people different backgrounds domains expertise. although meeting different people interesting , concerned bring different people together towards achieving common goal. two teams worked , often one take lead , drawing ambition past experience relation data science related fields. challenging , since used - comfortable - working alone. hold personal contributions team-based projects highest standards , therefore difficult team members show dedication team-based projects do. working teams challenged personality positive negative ways. like control , therefore difficult allow people take lead different aspects projects , especially objectively feel experience completing particular objective. however , learned impossible control aspects project therefore welcomed aided contributions team members shown willingness aptitude contribute. contrast , difficult form motivate team members show apathy towards achieving common goal. although somewhat frustrating , ensured never derailed team following initial plan objectives. felt comfortable role coordinator , relished opportunity deliver high-quality deliverables high pressure situations. drive work ethic good , always productive worker. over-analysed spent excessive amounts time subjects interesting challenging personal level , instead focusing time pressing matters. generally tend spend time challenging interesting concepts , tend postpone often neglect routine administrative tasks. creates frantic dash line time runs , creates unnecessary anxiety. conscious shortcoming , actively try remind prioritise complete pressing matters regardless personal interest. know often regarded serious fellow team mates , since always focused driven comes task hand. little time chit-chat tend engage conversations related intriguing philosophical subjects. feel comfortable responsive. however , learned casual conversation regarding sports hobbies helps learn team members , forges professional , understanding relationships team members. overall , work experience academy enlightening one , far perfect. lots learn , eager improve aspect career benefit team mates .  22nd january 2018 , time 7:00. seemed like normal day time. hit , difference location. 'm western cape , cape town precise. moved away home embark journey become data scientist explore data science academy ( edsa ) .today 8th may 2018 lot happened since ... first week got meet students different family background different level education. met explore team , included supervisors , facilitators nuri. told would working groups fives. nervous got used everything own. actually terrified. first group called optimize prime ( still cracks ) . made nervous everyone post matric qualification. beginning thought underdog , realised competition. mean must 've reason teamed guys , learn contribute wherever can. next group , named wolves woodstock ( named movie wolves wallstreet ) , confident engaging. developed previous group. even headed one sub projects. experience amazing great. even sister n't believe me. first group given opportunity work cape town water crisis , investigated demand supply factors affected cape town water crisis. project got use sql powerbi first time. saw another use python n't know capability , analysing data. second group got explore rsa stock market data. used data predict target return individual companies. interesting project accuracy predictions , limitations models. group assigned supervisors. got chance mentored two different supervisors. wish could create table comparison , two different , effective. times stats , python others gets much. group sessions nuri , refresh .  positive experience academy far. enjoyed meeting people interest data science also made unusual choice learning institution. fascinating getting know people class. people incredibly wide range personalities backgrounds. generally enjoyed working lab though get rowdy lunch people 's work motivation decreases motivation socialise increases. found first team members rather like-able , felt team dynamic failed dismally properly tackling project. success beginning ultimately disappointed team ’ performance. lacked cohesiveness n't project manage effectively. people focused exclusively individual learning rather group work. second group considerably better. clear strategy allocated tasks effectively. regular meetings , took minutes , wrote tasks sub deadlines. member motivated pulled weight. also communicated frequently balanced individual group tasks much better previous group. decision making initial group rational however rarely executed decisions intended. lot procrastination members arrived late class left early. one group member spent time away group chatting friends. claimed working group tasks , ended contributing absolutely nothing group tasks. contrast , individual second group went beyond call duty. regular meetings ensured tasks divided properly. progress closely monitored , problem occurred , rallied together solve adapt strategy. one member group already quite experienced particular topic project tremendous advantage us. thought carefully team workflow set appropriate software working folders. analysed project marking rubric created gantt chart schedule tasks , understand dependencies. also manage group member availability member group required periods absence project. also scheduled tasks around class tests aware time allocated individual efforts. initial group unhealthy diffusion responsibility member assumed someone else would pick slack. lead group members becoming despondent refusing carry group members. also faced issue one group member ’ feel sufficient programming skills make decent contribution group effort. despite shortcomings group got reasonable marks. credit go two five group members. sure second group get good marks. credit also given equally group members one member particularly strong. however think efforts equal previous group everyone felt satisfied group effort end .  nan  nan  first day first looked familiar faces. started looking people would like associate self with. meeting new people fine long n't expect keep conversation going. found nice , guys hang with. love working together labs , could share idea 's , findings ways certain things. enjoy working teams. believe 2 minds better one. also another line validity checking. one also learns lot new things working groups. team dynamics like , everyone knows need achieve bigger picture. long term though ones ideas change clearer picture , completed task. ( problems change unforeseen problems come up. ) decisions made done still needs happen. times felt team members know exactly needed next ( floated around ) . decision making based possible without overworking everyone .  enjoyed time edsa far. love meeting new people first time life talk people face-to-face programming topics around data science. previously strangers internet. great discussing algorithms coding challenges geeking people understand contribute , rather watching people 's eyes gloss describe trying achieve ( laymans terms ) . love prescribed uniform everyone comfortable naturally ease , opposed fashion parade. countless times struck conversation work , weekend even mountain. sometimes team members get distracted abit long guests talk abit loud , n't big thing. biggest challenge balancing studying implementation theory everyone page. team suffers individuals pulling weight put strain rest. luckily found colleagues kick around ideas discuss solutions current problems. decision making process voting best way forward. typically consensus reached roles , typically 2 3 members end bulk work. conflict resentment arise far real flare ups encountered , hard individuals argue decision made present put work. tend keep peace expect everyone act respectable adults. hate micromanagement love freedom given solve problem statement. glad able view teams ' presentations see went solving problem. continue learn lot data science well working time time constraint seeing people manage. even workload others offer time assist need help  experience edsa one sparked lot introspection. socially , made affirm fact extroverted person cherishes human connection , communication cares 's well-being. regards team-work , made realize quite assertive prefer logical structure comes completing tasks fulfilling set roles. made also realize end taking charge situation group , even n't initially bargained , mainly seems like n't much direction group time seems going waste. decision- making process rational one mostly times based emotion people would choose certain roles based believing good certain thing interest end n't end achieving/delivering much end burning out. 've also realized things n't go according plan comes activities part role , stress feel defeated easily perfectionist side creeps end completing needs done time. future teams wish branch attempt master every different skill best ability instead focusing much individual role , lot potential know capable .\""
      ]
     },
     "execution_count": 220,
     "metadata": {},
     "output_type": "execute_result"
    }
   ],
   "source": [
    "NtXt"
   ]
  },
  {
   "cell_type": "code",
   "execution_count": 221,
   "metadata": {},
   "outputs": [
    {
     "data": {
      "text/plain": [
       "\"  first 4 months edsa filled many new experiences ; challenges , others joyful , resulted positive growth person. -- -meeting new people -- - enjoy meeting new people everyone met edsa pleasant. particularly enjoyed listening backgrounds strongest candidates within edsa , provided insight gained experience tools like python & sql. also cherish able build network data scientists tomorrow well established industry professionals.. -- -working together lab -- - working computer lab formal work environment comes pros & cons. 's useful 99 colleagues , supervisors & facilitators provide technical/personal support net necessary. obvious con would noise distraction - least say know trending music albums 2018 , win ! -- -working teams & team dynamics -- - 've worked team projects solo projects professional work environment. enjoy both. experience would say team works best 's team co-ordinator plan work divided conquered ( provided everybody takes full responsibility part ) members first group noobs sql & python , gather analyse phases really exposed technical deficiencies resulted lot frustration came time delivering tasks. experience took comfort zone important lesson patience us all. second group high level experience , strong team co-ordinator team members took full responsibility tasks. even though work complex comfortable team dynamic. -- -how decisions teams made consistent make decisions -- - team decisions groups made deliberation. decisions easier make person presented clear points opinion was. group dynamic strong decision making felt natural , similiar make decision own. -- -how rational emotional decision making process -- - somebody technical knowledge could provide interpretation best solution. problem required research would take place would rely rational logical thinking arrive solution. regarding emotions , used open communication channels facilitators supervisors discuss emotions opposed letting emotions making project decisions. -- -overall -- - previous role electrical designer smitten data analytics within electricity metering sector. edsa provided platform pursue passion broader scope data using market leading tools importantly upgrade skill-set thus opening new opportunities within workplace .  overall experience academy far great somewhat challenging. firstly team leader elected team ; tasks disturbed among members. disagreement team meetings. achieved aim , members satisfied. team achieved aim could done time. allocation work workloads decided team leader discussing team. arguments workload. team leader assumed everyone level. questions answered answered satisfy members. individual members needed extra research questions answered properly. team able work together , reliable tried level best punctual meetings. allocated different tasks person researched thoroughly co-ordinated findings together team asked support needed. personally helped individual confident , however bit strain keep mates vast experience programming statistics sometimes felt incompetent tasks given , helped gain knowledge pushed learn harder. role played team members team player , several suggestions made everyone team adopted. team selective adopting new ideas. team worked well , agreements reached almost issues little new information gained members. believe team work ideal method quick information gathering , learning oneself time consuming tiresome. believe contributed effectively team reliable although bit hesitant first stages adjust different characters communicate freely afraid judged believe group work essential would mind working team aim team achieved .  start academy quite tricking due meeting new people , unknown environment away home family proved tricky. first fundemnental sprint extrememely challenging memebers group failed help work assignment hence resulting lot friction stress. poor coomunication bad attendance critical times. resulting wasted time send message finding nessecary details perosn thus wasting time. problems poor team dymanics dealt memebers realise importanace good team dynamic order complete set task. next sprint alot better group organised everyone commited assigned task intially lacking prior sprint. group communicated effectiely term problems incountered. first sprint reveal emotional weakness team memebers unable keep instead moving foward broke away decided give instead still trying help team current assign task. second sprint clear cut division two teams helped left driven knew expected .  journey exciting. stress constructive sense forced work. everyday excited come academy interact vast personalities class offer. given nature work , days really tough days really good ( especially code running ) . academy taught , testing limits understanding. whole life 've always team player. although n't like charge , somehow found leadership positions based assertiveness became norm. shocking finding opposite position first sprint. zero communication whatsoever , made feel uncomfortable could n't share thoughts feelings , however found way work well collective. took forever wrap head around content work reason made feel futile. due lack communication , people felt right thing , would later put everything together. opinion , think structure , leader would keep us track. way decisions made , shared responsibilities based people 's strengths weaknesses. equally made decisions led productivity , sometimes would disagreements. times , would emotionally draining , every low , growth. throughout roller coaster journey , 's nothing growth , understanding learning. understanding workplace , understanding colleagues understanding .  intimidating meeting many new people , especially wildly different personalities backgrounds. sharing work space sometimes challenging everyone shares views communal space treated terms cleanliness keeping noise levels down. interacted lot people , small number individuals like background temperament. team dynamics far challenging part course. particularly struggle team-members lack self-motivation work ethic. found often instead insisting team member pulling weight would rather task myself. tend feel someone lacks motivation something unlikely perform task best abilities. also seem little confidence others completing task way would like done. generally , decision making teams easy mostly due apathy uncertainty surrounding decision behalf team members. found frustrating since often lead one-sided discussion resulted unspoken dissatisfaction resultant product. decisions also often ignored later , dont mind changing decisions believe communicated completing project still paramount. feel often good sense required complete project communicate steps team members , however rarely self-assurance properly delegate tasks hold people accountable meet deadlines complete task .  attending academy first time like first year , however difference everyone age. idea meeting people really cool however issue forced work people things tend bit shaky everyone standards. make matters interesting grades directly dependent interaction team. varsity must admit best experiences working group tend find similar roles characters. however bit optimistic given diverse ages academy assumption folk work experience hopefully mature. furthermore , come realize establishing solid authentic team dynamics 's also lot stressful actually may seem without trying fake sake team trying accommodating. real issue trust decisions tends made around dominant personalities perspective may particularly best interest team whole. although always agree approach would agree fundamentally understanding skill set equally distributed also end day delivery project. overall happy rational decision making process. divide trust conquer works best teams something come learn. within teams lucky may find someone work ethic dedicated case would likely help could find someone understands work complements style. think initially everyone problem admitting n't get something deliverables due. journey emotional especially towards end tend give less less input become concerned delivery .  explore data science academy , road never thought would take lifetime. love passion cars , accepted data science internship one last thing never saw coming. love travelling exploring new avenues `` let 's '' tip. first day coming explore data science academy ( edsa ) beyond expectations , visually appealing facilities provided us. first could believe , cape town , comfort zone , pushing something involve anything studied. came expectations , however , told something need give order leave experience back future. speech supervisors gave us 22nd january reassured make mistake coming here. first week given work , install softwares would using throughout year , thought would pre-installed arrived. first , introvert side steering wheel interact lot people besides housemate. started interacting people water crisis sprint started. team people different background ; bioinformatics sciences , computer science , economic statistics mix , different parts south africa ( mostly gauteng ) . one things stood type people would start conversations loud side come order make everybody feel comfortable. first week gather sprint took team start making progress , thursday already figured system worked everyone order use something show supervisor. put weaknesses strengths table , started communicating better team. results shown supervisor told us think would deliver delivered , however , delivered end fundamental , faith would best one best. love good music , adventure socializing led connecting people group. time fundamentals spent helping people , building friendships would carry edsa year even greater , learning languages like python sql , channeling mind data scientist mode. weekends colleagues would tour cape town going beach , hike mountains could see edsa lab , visiting malls theme parks around cape town. python , one complex languages learn. well , thought since programming background. two teammates experience working languages , changing one language another , fairly doable. advantage since two people could consult whenever ran problem python. presentation fundamental one laid back fundamentals face since preplanned wanted add slides clear storyline. fact split fundamentals tore us apart , however , vowed exit whatsapp group created. review week , weekend , people never talked friends edsa lab suggested go theme park near canal walk mall take minds water crisis sprint. character part outting shy , yet interesting backgrounds. still friends them. stock market sprint came flew by. really feeling team since lot judgemental people felt like knew better. lacked communication , managed pull find sprint one piece. events bcx hosted highlights first months edsa , amount inpirational people engaged events. felt like meant every time spoke lucky waiting us greater wildest dreams. week takes cup. never expected go home least july. honestly grateful spending year edsa lab , could chose anything else .  experience academy exceptional. meeting new people amazing , specifically working them. much challenging first inception relate , time things gets better begin know get use one another. odds events one two group member want participate ( eg. missing meetings ) thing way oppose agreed group , really problem participating also productive , especially meet group expectations group works , members end work. means group take collaborative decision planning expect everyone deliver agreed planned. lab one best way work , especially comes group work , find collaborative useful. 's unfortunate group members choose work home leave early come late. found behavior hinder progress , especially tasks divided sub groups among group members. critical aspect group always communication. members usually communicate inability complete task late work due. members get emotional approach , end day always encourage one another see right side approach task project hand. working many different people taught rely others , means trust member work , even better me. fun leaning since day one .  life academy. wonderful experience , joyous full many possibilities. 22nd january 2018 took tax kraainfontein heading woodstock , place never , told far capetown cbd. exact location going woodstock exchange building 's explore data science academy located. help asking people taxi help gps able find building got around 10:30 , yes late got presentation room aidan ( supervisor ) giving overview academy expected us ( student ) . room full 100 students different provinces , races backgrounds. listened long bearded white guy speaking eloquent profound right. one thing struck intention emphasis speech intelligent ( students ) apparently 8000 people applied program , 3000 people able finish whole selection process 250 people interviewed top 100 made program. aidan 's words full passion compassionate , inspiring encourages , gave birth new hope life knew labelled people 'failure ' knew opportunity beginning great journey ahead. promised things different time , work hard play less , would make friends pray give thanks heavenly father. week later ( students ) split group five people work capetown water crisis using skill learnt past week i.e sql , python power bi. group name bean bags , group four males one female , embark project , use divide conquer approach help assign work member , group members wonderful people work , jelled much fun together . bean bags often worked together , using one computer helped tasks assigned member. worked together two months present findings regarding capetown water crisis solutions suggestions sprint came end. split south african stock market project , working different people adjust new team went name stockoverflow , bit nervous previous team already made friends working together forged friendship amongst adjust. stockoverflow team three males two females , sprint month much done. learning different models predict stock prices fascinating challenging me. used divide conquer approach assigning tasks member consolidating member done google drive , 26th april presented model predictions stock price one week break came back another sprint. realized short space time learned many many skills apply solve real world problems. wonderful experience grateful .  time academy positive. 've unpleasant interactions person far n't believe 've cultivated many deep relationships aside perhaps one. two groups 've assigned socially pleasant. first group n't ideally organised second group better regard. n't particularly assertive presence first group unlike second positive dynamic present both. prefer make decisions group try best pull weight burden .  social perspective , experiences academy refreshing impact personal development. prefer things myself. reflected interest gaming , reading fan-fiction writing. however , willing interact others necessary. enjoy paintball friends far sitting lounge rather making casual small talk. applies workplace well essentially things together. even talking , inevitably get topics related coding such. generally people ( outside academy known years ) seem identify introvert give misconception poor communication skills n't always case. many issues communicating team mates others class regarding various topics ranging work-related hobbies ( especially sport , gaming anime ) . prefer finish roleplaying video game lounge talk also like talking science nerdy things. words , need socialise , problems so. intuition observation valuable traits workplace data scientist team-based project. working teams allowed utilise both. found often analysis others n't done apply intuition. managed thing. different academics would essentially everything myself. regard , team-based nature course done well. often think good one working others stimulate us potentially become good trait previously thought n't naturally suited to. case , working teams sort force us find ways overcome weakness make strength instead. said , team dynamics sometimes involved lack coordinated planning among team members. good keep things open , applied plan rather plan. decide certain approach solving problem involves coding , dashboard , n't mean ca n't improvise. agree improvisation ultimate way things. make plan rely open-minded thinking plan n't appear working , improvise. generally experience academy , emotion seems rule roost logic seen potential barrier team work cooperation. mean students end becoming dependent affect teamwork negatively long term. overall course excelled bringing personality traits relevance workplace , providing opportunities overcome weaknesses utilise strengths instead .  ‘ greatest opportunity part 100 chosen individuals wonderful programme. explore data science academy ( edsa ) environment makes feel welcome perfect terms collaboration networking different individuals interesting views personalities. ’ hard distinguish edsa work environment. type environment prepare real job. edsa provides one opportunity learn work diverse group people terms career background , culture religion. working groups different individuals project exciting. throughout time , ’ learned lot working teams. first ’ learned team work achieve terms results learning new things. secondly , come decision making , everyone opinion coming final decision another thing. learned ’ voicing opinion , convincing fellow team members indeed opinion fruitful. comes team strategies embark particular project , ’ one size fits situations. team come strategy going solve assigned problem. difficult , especially serve team coordinator serve , time complete different team whole set different personalities characters. instance learned strategy based skills , capabilities mostly team ’ attitude towards project hand. knowing strengths weaknesses team members good start. far learned lot. ’ still intrigued eager learn lot more. feel like becoming real data scientist day passes thanks edsa giving wonderful opportunity .  choosing spend year explore data science academy could easily best choice ever made. choice renewed feeling purpose educational/occupational direction. learnt past 3 months thought would entire year grateful presented opportunity. fellow students edsa staff added excellent experience encountered thus far. interacting brilliant minds results one , inevitably , attempting better experienced first hand. excited path edsa setting look forward future holds prospective data scientist : )  hardest moments life learning new things , matter simple easy might be. difficulty met new people academy. truth talkative nature , ’ always found difficult start conversations students anyone academy. however , amazing experience discover learn different students ’ cultural backgrounds diversities , interest data science life whole. academy , realized people learn discover interaction others. new environments nervous , yet exciting ones. explore data science academy best example scenarios. academy provided great exposure working environment challenges ought face work teams. able work team prerequisite skill needed data scientist. learning curve allowed self disciplined , self-motivated introspection little effort group work affect entire team ’ progress thus , results poor performance entire team work. people different cultural , educational programming backgrounds , learning difference right , right right became key determining factor understanding work teams. months academy , feel close becoming data scientist before. hunger efforts put understand data science seem rewarding now. great feeling among first group given opportunity learn data science. although pressure much times , hope believe everything designed meant prepare us real world working environments .  mixed emotions went came cape town.i felt ecstatic opportunity afforded yet side intimidated new environment. walked building first day heart filled much anticipation could wait shake everybody 's hand introduce myself. meeting talented young old bright sparks . never worked team came academy , know working team often many times worked alone everything myself. changed , teamed bright minds actually got work . really surprised much effective efficient working team. really enjoyed working team. believe travelling meeting new people potential widen ones horizons. learnt lot still learning lot different people academy , academic related lesson also life lesson carry ever go. wonderful fruitful time previous team , though ups downs .i learnt n't leave issues group grow rather need tackle emerge .  experience edsa great far. massive learning curve academically also personally. took myers-briggs test twice : , last night earlier today got slightly different results. first time came letter combination infp second time isfj. though slightly different , feel accurate overall representation various attributes exhibit. seen diplomat-mediator well ( second time taking test ) defender sentinel. naturally reserved nature , unfriendly , prefer working alone comfortable enough sit alone group people. however , approached , come across friendly. able read various personality types groups fairly quickly , allows quickly adapt different situations needed group times. n't usually take charge , know end goal something achieve , prefer clear cut plan achieve , one challenging parts working group , made need step comfort zone recently make decisions voice myself. times experienced stress due fact felt frustrated able comprehend certain concepts quick enough significant work project , deadlines much issue. overall , feel thoroughly enjoyed learning group dynamics far edsa .  bit loner times id say experience really taught engage people talk especially student kind goal. based academic level think got experience programming fact familiar sql python shows grown academic level. knowing wake everyday see new faces lab thought able manage knowing loner told working teams thought end much talker people thought going express opinions , participate happened best experience even started releasing need talk order opinion heard. last team really understood much teams challenges valued opinions decision making part even pimplier , first team agreed everybody gon na take part everything look strength weaknesses. assign one another activities concerning project still forgetting help strengthen academy weaknesses basically created fridays helping other. comes decision coming acadamy one hard decisions take cape town far home choose completing honors degree academy. ended choosing academy honors degree felt like needed experience data science marketing world academy would best place start fact ought learn everything beginning great computing skills wanted stipend also contributed decision coming here. would conclude regret coming instead happy here.its 5 months already feel like year going bit faster want even programming skills think would got much experience programming languages skills honors.the experience got far best. helped growing academically also helped gain confidence individual .  like meeting new people similar interests , many new people , connecting people time goes assigned new group. n't spoken students merely strong introverts , recent group nominated group coordinator take lead every meeting , every interaction acknowledge personal level group members feeling day , something never really thought experienced , even grew every mondays share weekend , really appreciated put position challenge grow personal academically. like make decisions based merits decision efficient come attention efficient time take account people 's feelings , made decisions past group people feel included left , worth noting individuals contribute project way , barely showed academy , never written one single line code left member take care making dashboard , presentation ultimately present , two us took uncomfortable route diplomacy , pleaded every morning attend briefings supervisor us , went group training sessions made impact , next group , understood academy meant worked together well. stallions , magnificent , sudden paradigm changed , enjoyed one idea best things , originally typed minutes meetings another member suggested trello effective , learnt something new , excited , day , well every day went bed knowing something ’ know woke ’ data scientist ask for. one important lesson got working two different groups leave time guide team work flow everyone miserable end project , however everything planned trello ( ’ trello ) ‘ tees ’ crossed ‘ eyes ’ dotted , pleasant experience bring best everyone involved , team creativity grow levels one planned beginning. , irrespective put group work , sit maybe second session “ getting know ” map strategy roles assigned , significant insignificant .  edsa reflections 24 november 2017 , filled joy , excitement anxious time opened email edsa titled “ congratulations ! ’ accepted explore data science academy ! ” fast forward 22 january 2018 , ready meet new people ( possibly form new friendships ) , meet edsa team learn lies ahead 2018 , overwelming day was. today 6 may 2018 , lot happened past 3 months , ’ learned much ! sql , stats , python , power bi , presentation skills… [ still learning , never stops : ) ] . grateful selected one top 100 , ’ appreciative opportunity , thank edsa making possible me. lab data scientists making , greatly enjoy lab , environment condusive learning , group data science enthusiasts one room feel receipe success. training limited online courses edsa staff students learn lot , different backrounds , skills experience making lab interesting fun place grow academically socially. teamwork water crisis project : team liquidata must say initially concerned amount individual work deliver team well. realized importance effective team , working well team reduced work load stress also helpful individual tasks. roses regards team dynamics , working different individuals perceptions opinions challenging first , frustrating decide certain matters , helped lot grounded problem statement kept us focused needed done. worked well ’ result driven given task , completing task successfully required relevant info important , refering back problem statement got stuck great tool us. emotional moments team due personality clashes end worked well contributed success team , awesome team ! rsa stock market project : wolves woodstock accepted ’ work new people , really problem , hope wish strong programmer team , wish realised statistician programmer team , lovely ! great team , felt like outspoken person ( ) bit much , still worked well though delivered. prefer working team different ideas , creativity different skills ’ huge advantage eveyone team result driven , absolutelty appreciate that. ’ good experience teams far .  year huge one change , involving many aspects : leaving stable job , moving cities , moving new field , going back student , long distance taking chance brand new data science academy. quite excited meet new data science students despite usual shyness. people taking similar plunges shared interest field. enjoyed ( slowly ) meeting new people learning backgrounds , interesting varied stories are. working lab new experience. complete self learning tough journey , glad academy experience supervisors help guide us way becoming data scientists. bit unusual area ’ computer lab learning , also sort office , also people socialise. ’ sure nailed exactly be. feel work better home quiet comfortable ( apparently line personality profile ) . group work element year probably one biggest pain points. see intent setting us way , ’ think quite worked yet . group work challenging. throw meeting new people different backgrounds , huge amount new content learned fairly significant stakes ( internship opportunity ) difficult situation. think resulted frustrations running high poor quality work delivered , individual group would wanted. think worrying getting project done sometimes gotten way actually trying learn content. terms decision making groups far , think one positive definitely logic valued field students. state reasoning behind plan solidly ’ problem. think challenge group member interpret instructions priorities differently , sorting get get everyone page take valuable time. personal level noticed always looking clear , decisive decisions plans , deal well “ seeing goes ” . think something need look team setting , expect manager well. overall , still pretty excited year regrets decision join. think academy still bit rough around edges needs refinement , part iterative process right ?\""
      ]
     },
     "execution_count": 221,
     "metadata": {},
     "output_type": "execute_result"
    }
   ],
   "source": [
    "StXt"
   ]
  },
  {
   "cell_type": "code",
   "execution_count": 226,
   "metadata": {},
   "outputs": [
    {
     "data": {
      "text/plain": [
       "\"  first 4 months edsa filled many new experiences ; challenges , others joyful , resulted positive growth person. -- -meeting new people -- - enjoy meeting new people everyone met edsa pleasant. particularly enjoyed listening backgrounds strongest candidates within edsa , provided insight gained experience tools like python & sql. also cherish able build network data scientists tomorrow well established industry professionals.. -- -working together lab -- - working computer lab formal work environment comes pros & cons. 's useful 99 colleagues , supervisors & facilitators provide technical/personal support net necessary. obvious con would noise distraction - least say know trending music albums 2018 , win ! -- -working teams & team dynamics -- - 've worked team projects solo projects professional work environment. enjoy both. experience would say team works best 's team co-ordinator plan work divided conquered ( provided everybody takes full responsibility part ) members first group noobs sql & python , gather analyse phases really exposed technical deficiencies resulted lot frustration came time delivering tasks. experience took comfort zone important lesson patience us all. second group high level experience , strong team co-ordinator team members took full responsibility tasks. even though work complex comfortable team dynamic. -- -how decisions teams made consistent make decisions -- - team decisions groups made deliberation. decisions easier make person presented clear points opinion was. group dynamic strong decision making felt natural , similiar make decision own. -- -how rational emotional decision making process -- - somebody technical knowledge could provide interpretation best solution. problem required research would take place would rely rational logical thinking arrive solution. regarding emotions , used open communication channels facilitators supervisors discuss emotions opposed letting emotions making project decisions. -- -overall -- - previous role electrical designer smitten data analytics within electricity metering sector. edsa provided platform pursue passion broader scope data using market leading tools importantly upgrade skill-set thus opening new opportunities within workplace .  looking back one got academy right , confidently say grown intrapersonally interpersonally optimistic perception working also gradually shifted realistic end spectrum. came nothing positive outlook journey gotten opportunity embark , however , learned couple valuable lessons - one stand value understanding teammates expecting one understand you. put far put cap assertive nature gotten lot f pressure given opportunity even sharpen softer skills tends help quite lot even outside academy good vibe generator - one deflects negative energy positive energies whatever spheres happen find in. getting know colleagues exciting initially thought would best get know everyone due knowing underlying power networking much tend ripe rewards least expect it. however , due various factors including time constraints , one n't yet gotten know everyone. nonetheless , 've connected way pivoted range experiences 've exposed anything - 've found one connects colleagues duties get better understanding really drives bed morning tends relative ease synergies working people group. foundation good teamwork come play proven crucial implementing fulfilling common goal quicker. establishing people 's unique abilities also n't easiest tasks , one things far made role duty allocations bit messy groups. mind team makes decisions usually made voting process duties tend easily misallocated accord effectiveness leverage ( exploiting team member unique abilities motivate everyone play strengths avoid weaknesses proper balance ) . teamwork easy job exciting time takes one individual break firm structure especially individual wants make decisions- hinders progress flow ideas team turn leads dull average outcome. 've found decision-making techniques bit irrational due central tend especially find group nice people express feel whoever so. learned focus making sure ’ expected delivered timely miss beauty process focussing relatively small hurdles ’ vast amount captivating material engage in. getting know colleagues exciting initially thought would best get know everyone due knowing underlying power networking much tend ripe rewards least expect it. however , due various factors including time constraints , one n't yet gotten know everyone. nonetheless , 've connected way pivoted range experiences 've exposed anything - 've found one connects colleagues duties get better understanding really drives bed morning tends relative ease synergies working people group. foundation good teamwork come play proven crucial implementing fulfilling common goal quicker. establishing people 's unique abilities also n't easiest tasks , one things far made role duty allocations bit messy groups. mind team makes decisions usually made voting process duties tend easily misallocated accord effectiveness leverage ( exploiting team member unique abilities motivate everyone play strengths avoid weaknesses proper balance ) . teamwork easy job exciting time takes one individual break firm structure especially individual wants make decisions- hinders progress flow ideas team turn leads dull average outcome. 've found decision-making techniques bit irrational due central tend especially find group nice people express feel whoever so. 've also learned never bring emotions workplace people tend step sensitive things without noticing- example someone staring shoulder commenting work 're quite unpleasant kills moral detaching focusing 's required best coping mechanisms .  attending explore data science academy already proven , continues amazing experience. ’ quite astonishing realize much ’ learned mastered past couple months , chief among would ( subject essay ) , teamwork. meeting new people daunting task ( including ) . however academy different start. sheer excitement students especially explore team ( supervisors facilitators ) acted social catalyst , smoothing social awkwardness , knew getting along like house fire. working teams people completely different backgrounds personalities challenging throughout first project , said , also interesting see individual adapts accommodate team help build team dynamic. starting cape town water crisis project honestly idea expect , certainly ’ expect team dynamic play huge role success deliverables. team overcome different levels knowledge , skills , self motivation. couple late nights flared tempers managed get work done , realised overlooked crucial part teamwork. one need self motivation , also create environment team motivate comfortable enough ask help ’ feeling overwhelmed struggling get grips difficult concept. team definitely lacking aspect , take chin regards deliverables , walked away learning priceless lesson moving next sprint. assigned new teams rsa stock market sprint , refreshing hear ’ team struggled certain aspects team dynamics. get go approached structured interactive way things. decided stand meetings every morning report previous day ’ goals well setting new goals day ahead. already made huge difference motivation team. another part success dividing work ’ get overwhelmed individuals rather sharing workload one-on-ones relevant team members gain deeper understanding section work. approach even advantages thought. structure communication team members lead lower stress levels ( even though still ever present ) , resulting cooler tempers clear headed decisions less emotionally-driven first project. goes show “ soft ” skills important technical skills working teams. ’ wait learn brilliant diverse people academy. '' individual commitment group effort -- makes team work , company work , society work , civilization work. '' -- vince lombardi  wonderful place , place waking morning easy task great desire learning something new everyday. meeting new people great thing learn work team also socialize since person well crowd. actually first time working lab like reason experience labs quite instrumentals labs testing experiments computers , n't computer labs first time coding lab reason coming edsa first choice . skills data scientist one drove apply wan na learn coding. learned lot lab also working team. one main problem faced working team group rather , groups perfect might wish change disaster.sometimes set time slots group meet discuss progress deliverable surprised one member pitch thought lot work , disappointing would mostly prefer working alone future. working team sometimes emotional draining decision divide conquer could work together well. hoping great team smart people need told since every sprint `` lists '' .  essay discussing personal experience regards academy like meeting new people especially introverted person am. speak different teams , different different felt , learned different characters. comparing decision making done teams versus personal decision making. getting plane cape town without place stay friends city big risk , certain plan academy kept praying want scam plot get specific building get kidnapped. fairly surprised get meet people walks life , also kind questioning legit , mean hard question , sounded way good true good things learned ’ happen people like us , guess time shine receive blessings. ’ think academy , blessing. said , experience academy ups downs like always ends up.i learned lot , fallen love data science , things small mindedness used consider geek ’ s. learned push , always try learn , practice computers always evolving. since met people different personalities academy , personality clashes occurred 1 biggest lessons , able work different people different personalities. working teams ’ easy thought would first , everyone idea assumed supposed done different opinions could dismissed everyone 's opinion valuable working team , opinions somehow seemed clash. working teams taught patient , quality possess whatsoever. second time changed teams though seemed though everyone gotten idea working teams ’ like , basically dipping toes working teams thing first sprint , second sprint bit confident meant worked better second teams , improving go. teams , split work equally amongst , making sure everyone gets chance tackle important lessons like coding dashboard. group coordinator state views , he/she would speak supervisor decision would made way , supervisor would guide us right direction hearing thought right way.its almost concept use guess making decisions , weigh options , see one best one worst outcome obviously go best outcome. conclusion working teams skill gaining developing everyday , ’ mastered , heck difficult master many personalities , getting .  experience academy far stressful yet fun. 'm one enjoys working groups , 'd working times. starting first sprint reminded prefer working alone. working group certain people carry weight , even frustrating. however , blame speak let concerns heard. end us saw way tackle task hand work towards finishing assignments given. last group complete opposite. three weeks complete sprint therefore knew work collective. tasks split one accountable part project. ended working well together got along outside work well. work previous group ? know , look forward working different people different dynamics .  experience academy enjoyable far. learning lot interesting valuable skills meeting many intelligent interesting people. meeting working new people lot fun rewarding experience. working lab challenging. open plan allows many diverse unusual conversions easily started joined also prevent work done people interrupt prevent others entering staying state flow necessary learning. especially destructive slower learners like myself. working teams also challenging insightful. sometimes tricky setting understanding team dynamics new teams especially people ’ know well , practice working teams always appreciated team dynamics always easy decipher understand. decisions made group ( least feeling ) without one person charge giving orders. could also part still learning try make effort person group feels opinion asked heard decisions made group decisions everyone opportunity raise differing opinions votes support. consistent way enjoy making decisions think allows everyone feel involved dedicated outcome everyone feeling others group think feel decisions made. say decision making rational emotional know accurately determine that. maybe mix , though slightly leaning towards rational .  intimidating meeting many new people , especially wildly different personalities backgrounds. sharing work space sometimes challenging everyone shares views communal space treated terms cleanliness keeping noise levels down. interacted lot people , small number individuals like background temperament. team dynamics far challenging part course. particularly struggle team-members lack self-motivation work ethic. found often instead insisting team member pulling weight would rather task myself. tend feel someone lacks motivation something unlikely perform task best abilities. also seem little confidence others completing task way would like done. generally , decision making teams easy mostly due apathy uncertainty surrounding decision behalf team members. found frustrating since often lead one-sided discussion resulted unspoken dissatisfaction resultant product. decisions also often ignored later , dont mind changing decisions believe communicated completing project still paramount. feel often good sense required complete project communicate steps team members , however rarely self-assurance properly delegate tasks hold people accountable meet deadlines complete task .  past months one challenging thrilling experience life. coming , expected engage people knew introvert , experience academy would force engaging people. something totally outside comfort zone. ready ; much prepared , ready challenged understood growth reached uncomfortable spaces. experience taught could imagined. learnt fearless embrace greatness within me. come across shy , willingness push things enabled speak room full people made realize get nervous things actual fact get nervous things capable also fail. way scared inabilities potential. understand still lot learn fully comfortable know feel still lot knowledge gained. coming bit theoretical statistical background , interesting see techniques learnt university applied real world scenarios. coming space , space full well equipped individuals , felt bit intimidated idea career going lacked confidence really good at. experience far definitely given better understanding skill set career take , importantly come learn alone. able meet lots people also similar situation , simply shown worries worth worrying things fall place. environment quite relaxed , yet taught behave professional workplace. support peers also tremendous. observing everyday events supervisors taught teamwork , people come together get things done . although sometimes remind use inside voice , feel adapting environment relatively well. going forward , expect learn develop skills .  data science academy amazing path far , one room people ambitious love learning got excited work also supervisors facilitators determined love job motivates even keeps thrilled like one day. thankful part academy , much learn everyday proven need specific field certain level education data scientist , way academy structured students fields various level education think great idea , would see someone never studied computer science statistics knowing concept better degrees , brief say need order survive academy focused know expected everyday. fortunate enough placed teams people determined never struggled get group mate deliver expected , hence said people academy focused know for. think selection team good job placing us academy. appreciate also fact much supervisors facilitators busy , always accessible help us work passion , see getting better better day become data scientist certain end year level corporate expects be. academy coaching sessions assists come across obstacles program , work related personal problems , someone talk share predicaments going , find helpful workload much might loose track things , especially something distracting going personal life , deviate attention work , think service useful personally used load shoulders shared problems someone trust judge share problems anyone. randomly placed teams believe help us come across different personalities people learn work around , although people hoped , believe prepares us fit enough deal people meet corporate world. also learn assist patient people might struggle certain concept also learn others .  attending academy first time like first year , however difference everyone age. idea meeting people really cool however issue forced work people things tend bit shaky everyone standards. make matters interesting grades directly dependent interaction team. varsity must admit best experiences working group tend find similar roles characters. however bit optimistic given diverse ages academy assumption folk work experience hopefully mature. furthermore , come realize establishing solid authentic team dynamics 's also lot stressful actually may seem without trying fake sake team trying accommodating. real issue trust decisions tends made around dominant personalities perspective may particularly best interest team whole. although always agree approach would agree fundamentally understanding skill set equally distributed also end day delivery project. overall happy rational decision making process. divide trust conquer works best teams something come learn. within teams lucky may find someone work ethic dedicated case would likely help could find someone understands work complements style. think initially everyone problem admitting n't get something deliverables due. journey emotional especially towards end tend give less less input become concerned delivery .  good day , really n't know start essay besides good day. anyway 's way lets start business. moments academy mostly up. let start day one meeting students south africa great , meeting people different personalities coming different background. people different races , culture tribes ( enjoy stuck cape town since day born. ) . getting first team , part crazy , fun team. guys n't look one another open , strength. first weeks everyone working well getting close end became frustrated team members started lose focus ( assume got tired sprint long ) . following team great came work bonding n't all. two members liked working home ( productive ) two quit time. came decision making , meter bouncing ideas around choosing one move stayed one teams. second team split two teams two teams thing 's believe new way things great. submitting individual team one learnt skill taught sprint. thanks .  good fun experience though 's often case pressure. lab allowed enough time practice get used coding , improved efficiency coding working computer. coming academy n't used idea working team , along year got better , knowing someone count , rely go need help. also got know personal level makes easy understand , strength weaknesses allows us form strong team. sometimes disagreements think right , effective solving , lucky enough co-operative team members since beginning year. though n't got know many colleagues ones got know would say pleasure meeting  academy amazing , love petry dish talent ! handful genius characters here.. backgrounds unique stories , explore data science academy best place develop data analysis skills. love time ! far , 've experienced whole lot pressure change something better. spend time studying , better feel , comfortable become closer get quality employee entrepreneur. everyday come office , feel home , learn something new.. something directly use business application. look around entire building get inspired start business 've learned here. speak among business academy helping us realize ideas clearly. without information back ideas , 's difficult starting. availability information outstanding. really appreciate nest. last two teams great work with. achieved bunch , , thanks resources available. first sprint tough though. team , realized strengths taught other. n't problem sql python used technologies before. understanding statistics applications data given difficult. worst , water crisis data n't collected well. n't worst experience data taught things career perfect. perfect skills data cleaning. realize limited number solutions data analysis. perfect outcomes data science , could breeze work future. believe hyper prepared things.. game theory data science would prove beneficial. emotionally , 'm great. academy brings best worst skills provides controlled environment mend holes analytical judgement. relief , emotionally physically becomes process bettering daily , bit bit without forcing stress .  imagine excited finally meet people like minded. maybe could rephrased meeting people like me. however , instead , meet small sample different types people different types personalities. yet find stuck world different types people different , different interest ambitions , translates make decisions every day. decisions affect , especially working teams. hand , decisions make affect team processes. according personality test , personality defined five letters entp-t , according classification debater. true debater , convinced , play along suck test discuss personality affected general experience academy. lab allowed us access well collaborate , although working effectively lab challenge , many distractions. found easier get know people type strengths , knowledge background passions general. type knowledge allows efficient knowing ask help different things. prefer asking facilitator. always done past prefer working challenge peer , along process learn would otherwise. comes working teams , always , first one speak give opinion came variety ideas , ’ extroverted side me. therefore , end leading , team. role prefer police people , therefore either allowed people lead would make sure project requirements completed end. last sprint dedicate responsibilities according people ’ backgrounds strengths interests. one person leading deliverable project end would ensure requirements submission met. employed similar strategies past , working tangibly people bring table. framed decision making teams worked in. someone shows work work have. approach made easier focus objective deliver projects. decision making rational time little emotive times , irrational judgements employed make assumption people attitudes toward project work. creates barrier people pulling weight past immediately , integrate teams later. however team dynamics forced finisher .  past 5 months explore academy challenging. make great adjustments order here. positive negative experiences. one positive experiences much learned. met lot people highly intelligent interests. worked 2 different teams. prefer work alone working team makes sense due sheer volume work. first team experience incredibly frustrating. team members highly introverted technically strong made discussions assigning tasks difficult. even tasks assigned accountability meet deadlines. prefer chip away steadily work opposed rushing close deadline finish. working second team much better. met regularly , communicated lot. tasks assigned everyone accountable. team members helpful towards .  experiences academy far life-changing say least. meeting smart , passionate , hardworking ambitious people different backgrounds happen many similar interests mine interesting journey. introvert prefers working alone pace within space , quickly find way adapt polish social skills order socialize 99 strangers going learning data science with. understood word go need socialize form meaningful relationships fellow interns could see forming strong network may helpful many years come career , long internship. academy ’ emphasis importance team work concept took warm to. teams exposing different individuals varying academic , social , work geographical background different personalities : introverts , extroverts , intuitive , artistic even really funny characters. teammates phenomenal experienced fields previous exposure to. learned lot them. equally ’ also encountered independent disagreeeable teammates required adjust levels patience , tolerance understanding may necessarily share similar beliefs me. need patient tolerant people ’ points view approaches solving completing team tasks. teams , due differing views , opinions approaches use democracy ( voting ) order reach decisions within groups. although easy one resort taking emotionally-driven decisions due one ’ firm beliefs ways things high level emotional intelligence critical favourable team dynamics. academy based cape town , city ’ visited holidays before. moving cape town challenges required solid ‘ family ’ away family fortunately found fellow interns resourceful many ways even outside ‘ labs ’ . example group share information accomodation , transport around city , social events extramural activities. chance test team-building skills virtues regular group sessions nuri believe helpful giving idea relate people less formal settings. credit due supervisors , facilitators oprerations officer ; helpful making internship experience manageable definitely one memorable years come. commitment programme makes easier people personalities settle nicely within diverse small community .  experience academy far interesting 4 months although apprehensive meeting work new people , still enjoyed work looking forward comes next. group work team dynamics particular challenge although ’ really socialised colleagues since arrived cape town , friendships formed mostly students live house me. team dynamics challenge fundamentals sprint ’ fair division responsibility well accountability team. group members would slack part hard hold anyone accountable concerned nice. decision-making group fundamentals sprint mixture rational emotional , things right things badly one wanted take responsibility , much passing buck. team also beset laziness unwillingness really get learn needed deliver project. rsa stock market sprint , group somewhat better people hard-workers divided responsibilities early based perceived strengths individual. really serious problem group communication different areas functional responsibility , clear group members prepared presentation fully understand analysis analysis team performed. decision-making group rational. working labs , nerve-wracking experience significant proportion people simply go socialise distracting us , prefer working environment absolute silence ( hence prefer working midnight ) simply think problem allow creative possible solving problem. people assist thought-processes terms thinking problem solutions irritating distraction. around many people long eventually lose focus problem focus people , would much better silence mandated enforced labs. also need individual work instead group-work. suggests ways could contribute group signs learnt lessons emerged previous group , still lot trepidation comes next. hope meet group members committed project , otherwise , everything end tears .  honesty enjoying time regret choices made. really educational love structure , environment one force work push much facilitator really helpful bounce ideas see far able explore imagination. meeting new people 's always nice stories people far go life , combine different cultural group things got learn people 's culture stories tell. work together 's really tricky fun times tricky , matter many times think always tricky talk wont enough words left. making decisions 's simple everyone agreeing goals deadline arrived people stories , 'm unable relate excuses , honestly wish everyone could adhere words , really would like decisions made like explore lot 'm working something due time constrain sometimes 's best expected enough time explore more. team members sensitive way sensitive leave part there. love academy wish time learn bit , enough resources even conduct maybe research , instance know write good machine learning algorithms n't understand work might even able improve .  time academy positive. 've unpleasant interactions person far n't believe 've cultivated many deep relationships aside perhaps one. two groups 've assigned socially pleasant. first group n't ideally organised second group better regard. n't particularly assertive presence first group unlike second positive dynamic present both. prefer make decisions group try best pull weight burden .  starting academy wonderful experience. cape town beautiful city location academy could better. meeting different characters really experience.in first weeks meeting new people daily basis sometimes intimidating. teamwork never really strongest skill always something would like improve upon , heard academy strong teamwork emphasis happy.the academy working lab strong social element , even though work learning somewhat technical. first sprint , quickly discovered diverse group was. vastly differing amounts experience fresh high-school graduate someone working decade. also differing skill sets. working groups challenging rewarding time. cape town sprint primary downfall lack planning what. resulted us almost late deadlines. communication within group could lot better. tend keep flexible approach completing tasks , flexibility ended costing establish proper deadlines .  social perspective , experiences academy refreshing impact personal development. prefer things myself. reflected interest gaming , reading fan-fiction writing. however , willing interact others necessary. enjoy paintball friends far sitting lounge rather making casual small talk. applies workplace well essentially things together. even talking , inevitably get topics related coding such. generally people ( outside academy known years ) seem identify introvert give misconception poor communication skills n't always case. many issues communicating team mates others class regarding various topics ranging work-related hobbies ( especially sport , gaming anime ) . prefer finish roleplaying video game lounge talk also like talking science nerdy things. words , need socialise , problems so. intuition observation valuable traits workplace data scientist team-based project. working teams allowed utilise both. found often analysis others n't done apply intuition. managed thing. different academics would essentially everything myself. regard , team-based nature course done well. often think good one working others stimulate us potentially become good trait previously thought n't naturally suited to. case , working teams sort force us find ways overcome weakness make strength instead. said , team dynamics sometimes involved lack coordinated planning among team members. good keep things open , applied plan rather plan. decide certain approach solving problem involves coding , dashboard , n't mean ca n't improvise. agree improvisation ultimate way things. make plan rely open-minded thinking plan n't appear working , improvise. generally experience academy , emotion seems rule roost logic seen potential barrier team work cooperation. mean students end becoming dependent affect teamwork negatively long term. overall course excelled bringing personality traits relevance workplace , providing opportunities overcome weaknesses utilise strengths instead .  academy challenging experience. expected prior coding knowledge help minimal help , greatest challenge statistics. slowing getting point n't actually try understand concept thoroughly rather get basic theory focus application. overall , insightful journey , learning interact different personalities group dynamics. really excited leaning nlp regression incorporate app development monetize it. genuinely regret applying academy although days doubt hurdles remembering greatness opportunity always great motivator .  four months since decided embark journey. packed bag , moved new city took first step living best moments life. love meeting new souls. always fascinating finding someone else ’ journey began , similar different footsteps left are. amongst 99 brilliant minds incredible , getting know refreshing. people stand , everyone unique. always good working , taking reins. ability work effectively team acquired skill , understand different personalities , people deal problems communicate. delegating seemed help terms getting work done teams , person taking piece , sure finish elephants. decision-making process structured , benefited whole team. guidelines rubric supervisors helped keep us right track. decision-making mostly based impulse , following process ideal getting results. great team members pay attention detail since mostly focus bigger picture. made sure work appealing. quite experience , constant learning. growing skill set , including soft skills. beginning , lot learn .  ‘ greatest opportunity part 100 chosen individuals wonderful programme. explore data science academy ( edsa ) environment makes feel welcome perfect terms collaboration networking different individuals interesting views personalities. ’ hard distinguish edsa work environment. type environment prepare real job. edsa provides one opportunity learn work diverse group people terms career background , culture religion. working groups different individuals project exciting. throughout time , ’ learned lot working teams. first ’ learned team work achieve terms results learning new things. secondly , come decision making , everyone opinion coming final decision another thing. learned ’ voicing opinion , convincing fellow team members indeed opinion fruitful. comes team strategies embark particular project , ’ one size fits situations. team come strategy going solve assigned problem. difficult , especially serve team coordinator serve , time complete different team whole set different personalities characters. instance learned strategy based skills , capabilities mostly team ’ attitude towards project hand. knowing strengths weaknesses team members good start. far learned lot. ’ still intrigued eager learn lot more. feel like becoming real data scientist day passes thanks edsa giving wonderful opportunity .  explore data science academy 19 weeks ( counted ) ; let ’ simplify 3 months shall ? exciting working group challenging problems , feel like world possibilities opened us. exciting overwhelming met many new people. right away seem made name myself. proud , even excited people feel someone come help - practical emotional. helping others role comfortable since typically excelled academic environment , ’ admit disappointment people ’ ask help more. like thought expert ( even like feel like expert , find happens less grow older ( experienced ? wiser ? one old greeks said something wisdom knowing ’ know ) . aspect larger group find overwhelming trying remember everyone , especially since many people seem know am. enjoy learning people ’ backgrounds amazed great selection people attending college. experience working intensely type team entirely new. worked teams school , university work , never amount diversity team. never sitting next team members everyday ; majority one ’ efforts focussed team work. immediate challenge first team working people skills ways operating different own. realised career worked people , background training. made less adaptable less tolerant different approaches problem. trying learn relax give people ’ method approaching problems chance. felt comfortable group leader first sprint , uncomfortable giving reigns second sprint onwards. second project usurped actual leader number occasions seldom pulled back. formed real bond first team , despite ( ) struggles. second team relationship seems formal , although things went much smoothly team arguably effective. found frustrating deal reserved people. hard read difficult reserve judgement ’ produce tangible outputs. still trying figure best deal people , draw shell patience hear trying say. also need consciously tell offer may valuable ( remain unconvinced evidence right table ) . experience also underlined much rely external encouragement praise , played interactions students staff. enjoy teaching students , specifically one one small groups , alot immediate feedback. first weeks felt really supported facilitators , later weeks felt like abandoned newer , exciting projects. similarly felt much secure first mentor ’ hands-on , available , approach second facilitator ’ reserved , hands-off approach .  young age always sheltered , reserved terrified getting comfort zone. knew year would challenge ’ challenged break shell. first day got real knew one person hundred. push open interact crowd ( struggle considering ’ shy standing front people makes extremely nervous ) . lucky people academy friendly understanding. working teams never problem , issue able fully center attention speak thoughts. taught importance communicate ideas without shy. one biggest challenge working team dealing teammates ’ fully committed tasks assigned them. personally prefer get things done certain way bit challenge team timelines ’ met team members ’ putting much effort everyone else. lab exposes us different personalities one needs learn work together effectively many personalities many conflicting personalities could recipe disaster. could say lucky teams assigned ’ difficult. understood importance contribution communication. misunderstanding ’ address becomes conflict , way able prevent it. teams decision-making process pretty much same. generally , challenge put team , communicate strengths weaknesses , able distribute tasks together based strengths weaknesses. decisions need made , every member given opportunity give opinion decide together team taking consideration every member 's contribution. overall , experience far great. learning new things everyday. workload get challenging time time managed. slowly coming shell , talking , interacting opening .  experience academy really mixed bag far. initially `` '' whatever decision making process needed order get ahead , new group , 've participate others made feel `` follower '' leader times. 's really nice working people myriad personalities. n't really think 've come across situation tempered emotionally although think quite emotional person. think far decision making way prefer ; logical straightforward also room change improve personal knowledge  find experiences academy interesting fulfilling. really like working smart people explore gives abundance. personality clashes character development hurdles point need growth adjustment. one real challenges find balance zoning focus work teaming discuss ideas others help others. choose start would rather acted like focused introvert would give time learn without harming learning curve. honestly contributed negatively group members know , well , deliver more. working together lab thing made real progress growth us individuals. crucial team decisions easier make. working lab also downsides feel still take full advantage privilege. missed couple key submissions already , messed two tests failed badly. made aware team dynamics past negatively affected catch-up work cost team process. honestly think hard also says high expectations myself. decision-making process usually one based voting. people seen getting things knowledgeable automatically obtain voting power. past experience work usually drive person chooses group role willing play. future , would prefer , rules engagement given thorough attention prior commencement group work. way , best obtained everyone. personally believe need place comfortable enough work done tools available. accomplished. achieve contribute .  experience academy thus far potent insightful year , changed life become person really enjoys importance cooperating others. brought together amazing minds space really helped acquire soft hard skills short space time , indeed helped elevate way learning new technical subjects efficiently effectively. also , management team large especially supervisors instrumental always improvising make sure led way help us walk away well informed junior data scientists end year , hence work tirelessly making sure break obstacle attractive easily comprehended possible us order put hard work. addition , nuri formidable way helping us cope psychological illnesses caused intensity program , always go extra mile making sure one feels solitary. supporting structure throughout program importance , help us understand essence behind excruciating vulnerability management enable see work not. last words , want close saying means life , 'm grateful opportunity , best thing ever happened life besides varsity , 'm pretty sure set life greater things achievements .  time academy far challenging , yet extremely rewarding self-fulfilling - especially regards working people different backgrounds domains expertise. although meeting different people interesting , concerned bring different people together towards achieving common goal. two teams worked , often one take lead , drawing ambition past experience relation data science related fields. challenging , since used - comfortable - working alone. hold personal contributions team-based projects highest standards , therefore difficult team members show dedication team-based projects do. working teams challenged personality positive negative ways. like control , therefore difficult allow people take lead different aspects projects , especially objectively feel experience completing particular objective. however , learned impossible control aspects project therefore welcomed aided contributions team members shown willingness aptitude contribute. contrast , difficult form motivate team members show apathy towards achieving common goal. although somewhat frustrating , ensured never derailed team following initial plan objectives. felt comfortable role coordinator , relished opportunity deliver high-quality deliverables high pressure situations. drive work ethic good , always productive worker. over-analysed spent excessive amounts time subjects interesting challenging personal level , instead focusing time pressing matters. generally tend spend time challenging interesting concepts , tend postpone often neglect routine administrative tasks. creates frantic dash line time runs , creates unnecessary anxiety. conscious shortcoming , actively try remind prioritise complete pressing matters regardless personal interest. know often regarded serious fellow team mates , since always focused driven comes task hand. little time chit-chat tend engage conversations related intriguing philosophical subjects. feel comfortable responsive. however , learned casual conversation regarding sports hobbies helps learn team members , forges professional , understanding relationships team members. overall , work experience academy enlightening one , far perfect. lots learn , eager improve aspect career benefit team mates .  positive experience academy far. enjoyed meeting people interest data science also made unusual choice learning institution. fascinating getting know people class. people incredibly wide range personalities backgrounds. generally enjoyed working lab though get rowdy lunch people 's work motivation decreases motivation socialise increases. found first team members rather like-able , felt team dynamic failed dismally properly tackling project. success beginning ultimately disappointed team ’ performance. lacked cohesiveness n't project manage effectively. people focused exclusively individual learning rather group work. second group considerably better. clear strategy allocated tasks effectively. regular meetings , took minutes , wrote tasks sub deadlines. member motivated pulled weight. also communicated frequently balanced individual group tasks much better previous group. decision making initial group rational however rarely executed decisions intended. lot procrastination members arrived late class left early. one group member spent time away group chatting friends. claimed working group tasks , ended contributing absolutely nothing group tasks. contrast , individual second group went beyond call duty. regular meetings ensured tasks divided properly. progress closely monitored , problem occurred , rallied together solve adapt strategy. one member group already quite experienced particular topic project tremendous advantage us. thought carefully team workflow set appropriate software working folders. analysed project marking rubric created gantt chart schedule tasks , understand dependencies. also manage group member availability member group required periods absence project. also scheduled tasks around class tests aware time allocated individual efforts. initial group unhealthy diffusion responsibility member assumed someone else would pick slack. lead group members becoming despondent refusing carry group members. also faced issue one group member ’ feel sufficient programming skills make decent contribution group effort. despite shortcomings group got reasonable marks. credit go two five group members. sure second group get good marks. credit also given equally group members one member particularly strong. however think efforts equal previous group everyone felt satisfied group effort end .  bit loner times id say experience really taught engage people talk especially student kind goal. based academic level think got experience programming fact familiar sql python shows grown academic level. knowing wake everyday see new faces lab thought able manage knowing loner told working teams thought end much talker people thought going express opinions , participate happened best experience even started releasing need talk order opinion heard. last team really understood much teams challenges valued opinions decision making part even pimplier , first team agreed everybody gon na take part everything look strength weaknesses. assign one another activities concerning project still forgetting help strengthen academy weaknesses basically created fridays helping other. comes decision coming acadamy one hard decisions take cape town far home choose completing honors degree academy. ended choosing academy honors degree felt like needed experience data science marketing world academy would best place start fact ought learn everything beginning great computing skills wanted stipend also contributed decision coming here. would conclude regret coming instead happy here.its 5 months already feel like year going bit faster want even programming skills think would got much experience programming languages skills honors.the experience got far best. helped growing academically also helped gain confidence individual .  like meeting new people similar interests , many new people , connecting people time goes assigned new group. n't spoken students merely strong introverts , recent group nominated group coordinator take lead every meeting , every interaction acknowledge personal level group members feeling day , something never really thought experienced , even grew every mondays share weekend , really appreciated put position challenge grow personal academically. like make decisions based merits decision efficient come attention efficient time take account people 's feelings , made decisions past group people feel included left , worth noting individuals contribute project way , barely showed academy , never written one single line code left member take care making dashboard , presentation ultimately present , two us took uncomfortable route diplomacy , pleaded every morning attend briefings supervisor us , went group training sessions made impact , next group , understood academy meant worked together well. stallions , magnificent , sudden paradigm changed , enjoyed one idea best things , originally typed minutes meetings another member suggested trello effective , learnt something new , excited , day , well every day went bed knowing something ’ know woke ’ data scientist ask for. one important lesson got working two different groups leave time guide team work flow everyone miserable end project , however everything planned trello ( ’ trello ) ‘ tees ’ crossed ‘ eyes ’ dotted , pleasant experience bring best everyone involved , team creativity grow levels one planned beginning. , irrespective put group work , sit maybe second session “ getting know ” map strategy roles assigned , significant insignificant .  edsa reflections 24 november 2017 , filled joy , excitement anxious time opened email edsa titled “ congratulations ! ’ accepted explore data science academy ! ” fast forward 22 january 2018 , ready meet new people ( possibly form new friendships ) , meet edsa team learn lies ahead 2018 , overwelming day was. today 6 may 2018 , lot happened past 3 months , ’ learned much ! sql , stats , python , power bi , presentation skills… [ still learning , never stops : ) ] . grateful selected one top 100 , ’ appreciative opportunity , thank edsa making possible me. lab data scientists making , greatly enjoy lab , environment condusive learning , group data science enthusiasts one room feel receipe success. training limited online courses edsa staff students learn lot , different backrounds , skills experience making lab interesting fun place grow academically socially. teamwork water crisis project : team liquidata must say initially concerned amount individual work deliver team well. realized importance effective team , working well team reduced work load stress also helpful individual tasks. roses regards team dynamics , working different individuals perceptions opinions challenging first , frustrating decide certain matters , helped lot grounded problem statement kept us focused needed done. worked well ’ result driven given task , completing task successfully required relevant info important , refering back problem statement got stuck great tool us. emotional moments team due personality clashes end worked well contributed success team , awesome team ! rsa stock market project : wolves woodstock accepted ’ work new people , really problem , hope wish strong programmer team , wish realised statistician programmer team , lovely ! great team , felt like outspoken person ( ) bit much , still worked well though delivered. prefer working team different ideas , creativity different skills ’ huge advantage eveyone team result driven , absolutelty appreciate that. ’ good experience teams far .  first day first looked familiar faces. started looking people would like associate self with. meeting new people fine long n't expect keep conversation going. found nice , guys hang with. love working together labs , could share idea 's , findings ways certain things. enjoy working teams. believe 2 minds better one. also another line validity checking. one also learns lot new things working groups. team dynamics like , everyone knows need achieve bigger picture. long term though ones ideas change clearer picture , completed task. ( problems change unforeseen problems come up. ) decisions made done still needs happen. times felt team members know exactly needed next ( floated around ) . decision making based possible without overworking everyone .\""
      ]
     },
     "execution_count": 226,
     "metadata": {},
     "output_type": "execute_result"
    }
   ],
   "source": [
    "TtXt"
   ]
  },
  {
   "cell_type": "code",
   "execution_count": 215,
   "metadata": {},
   "outputs": [
    {
     "data": {
      "text/plain": [
       "\"  joined academy crossroads sorts life. academy offered opportunity pivot career engineering data science unfairly dismissed struggling find employment result. meeting 100+ ( faculty students ) new people would part life whole year something get used , even though worked multinational companies. ability deal people different backgrounds , beliefs , etc. tested group work. needless say lead tension one 's life team mates pulling weight. team dynamics always learning process/curve , thankfully bad experience till now. needless say , people try cheat system , act dishonestly sometimes plain lazy. many opinionated thus rendered incapable making great contribution. way things always consider everyone 's well-being , opinions contributions. somehow persons think ok cynical unhelpful. end day , supposed learn become data scientists. work , improve daily. .  far experience positive definitely see value course. experience working different people valuable me. worked well attitude everyone team deliver take responsibility. difficult step back trust team work , however cases team members exceeded expectations. felt bit frustrated team members applied taken substandard lazy approach problems. like get stuck something get immediate results improve there. think approach worked well however also learnt allot team members structured task based approach. allot time spent tangents add value projects however tangents either paid results learnings took them. decision making approach generate ideas create structured work flow around ideas distribute work among individuals take interested work flow. conflicting ideas typically took democratic approach combined healthy debate. find build relationships people 'm teams with. get know best. strongest connections team members also people academy learn from. took team bit data collecting tangent last sprint necessarily productive use time could avoided understood problem better. one case probably assertive team , however way like make decisions get stuck workflow stream adapt go n't supervisor direction point. find environment stimulative enjoy going around teams see working on. good relationship people happy share working great. also found environment distracting times , would like help people get satisfaction , however 'm also that. working different people mixing regularly something im excited everyone different learnings experience theres something learn everyone .  fortunate opportunity join academy year. sure career choice , academy provided great chance change career paths. help choosing new path allow eventually reach larger goals life. moving cape town joining academy challenging , already knew two people academy joining. however made bit difficult making new friends. typically reserved , easily make new friends , especially already good friends , case see reason make new friends. working teams academy great challenge me. normally prefer work pace working team forced cooperate people adjust skill levels. sometimes meant taking work allocated me. addition , found difficult working individuals invested projects aiming learning much experience intend to. within teams , leadership quite lacking. typically like forcing onto people , circumstances , forced take lead projects. taking lead tried best lead behind , making sure consensus within team deciding. generally due lack experience one teams , meant think plan , execution thereof , followed team implementing without challenging ideas laid out. approach worked well , would liked greater input team , unsustainable left would render team incapable functioning properly. team , people much competent four members , decisions much easier take. good idea , still elected leader , role much organic time , much balanced consensual way making decisions. however , completion tasks effectively still perfect left. teams struggled making decisions , never experienced conflict generally emotional making decisions .  overall experience academy far great somewhat challenging. firstly team leader elected team ; tasks disturbed among members. disagreement team meetings. achieved aim , members satisfied. team achieved aim could done time. allocation work workloads decided team leader discussing team. arguments workload. team leader assumed everyone level. questions answered answered satisfy members. individual members needed extra research questions answered properly. team able work together , reliable tried level best punctual meetings. allocated different tasks person researched thoroughly co-ordinated findings together team asked support needed. personally helped individual confident , however bit strain keep mates vast experience programming statistics sometimes felt incompetent tasks given , helped gain knowledge pushed learn harder. role played team members team player , several suggestions made everyone team adopted. team selective adopting new ideas. team worked well , agreements reached almost issues little new information gained members. believe team work ideal method quick information gathering , learning oneself time consuming tiresome. believe contributed effectively team reliable although bit hesitant first stages adjust different characters communicate freely afraid judged believe group work essential would mind working team aim team achieved .  got academy , felt like n't belong here. felt place. person n't like talk people own. people approached , got know them. getting know fellow classmates , made realise feeling similar emotions 'm feeling. 've met lots like minded people. personally like work alone , working group always difficult me. academy made easier me. forcing work teamwork skills. often , 's group member takes charge , keeping team focused shared end goal .  start academy quite tricking due meeting new people , unknown environment away home family proved tricky. first fundemnental sprint extrememely challenging memebers group failed help work assignment hence resulting lot friction stress. poor coomunication bad attendance critical times. resulting wasted time send message finding nessecary details perosn thus wasting time. problems poor team dymanics dealt memebers realise importanace good team dynamic order complete set task. next sprint alot better group organised everyone commited assigned task intially lacking prior sprint. group communicated effectiely term problems incountered. first sprint reveal emotional weakness team memebers unable keep instead moving foward broke away decided give instead still trying help team current assign task. second sprint clear cut division two teams helped left driven knew expected .  journey exciting. stress constructive sense forced work. everyday excited come academy interact vast personalities class offer. given nature work , days really tough days really good ( especially code running ) . academy taught , testing limits understanding. whole life 've always team player. although n't like charge , somehow found leadership positions based assertiveness became norm. shocking finding opposite position first sprint. zero communication whatsoever , made feel uncomfortable could n't share thoughts feelings , however found way work well collective. took forever wrap head around content work reason made feel futile. due lack communication , people felt right thing , would later put everything together. opinion , think structure , leader would keep us track. way decisions made , shared responsibilities based people 's strengths weaknesses. equally made decisions led productivity , sometimes would disagreements. times , would emotionally draining , every low , growth. throughout roller coaster journey , 's nothing growth , understanding learning. understanding workplace , understanding colleagues understanding .  started academy workload easily manageable students able keep learning curve , whereas struggled either asked peers caught , n't got stuck behind pack. workload difficulty increased , able keep better programming foundation others course. although might helped lot , appeared blessing curse. found losing lot time could spent work , helping students ( bad thing ) , questions asked topic currently working found difficult get back line doing. decision teams need made , seemed myth. team needed carry lot workload rest team members order get scores wanted , trying teach team thing two long way. similar situation second sprint , severe , 2 members team got flying start , 2 spectating participating one eventually found feet ended bang , last member , felt , never contributed final `` prediction '' , speculations. quite frustrating like working teams , however members carries weight. might sound selfish , n't want affecting results much goal year 1 30 students going bcx. feel working hard enough spending enough time working , still happy ultimately hand present group. finally happy course content. course already taught lot data science thought knew ca n't wait come. awesome experience happy chose .  coming academy best thing ever happened grateful opportunity. learned academy going encourage teamwork excited meet new people different spheres life exchange ideas network it. working teams thus far ok. things like team commitment work work ethic thereof. comes decision making n't enjoy part felt sense dictatorship member would defy group 's decision still want impose best team start delegating work teammates based vision. felt defied purpose brainstorming planning objectives. role played team always conscientize group imperativeness working within scope prioritizing required us form basis going structure project would help decision making. supervisor meetings reporting based `` '' , `` '' . sign individualism collective project perpetrated unnecessary competition. enjoyed networking variety people academy also participate win hackathon hosted city capetown one best networks team collaborations went well me. like random conversations technology trying link 'd connect inspire other. brief summary work prefer plan try much possible stick plan always room changes. consolidation key helps deciding conflicting ideas .  experiences explore data science academy experience meeting lots new people great one , months already learned lot , continue daily level. terms meeting new people much gain , especially terms offered different perspectives , challenged way thinking. also taken comfort zone turn taught lot handle different personalities. experience working together lab teams much appreciated close real world experience , 've already similar environment throughout university always found enjoyable interact people. level productivity performance exponentially increased , mainly deadlines needed meet wanting disappoint teammates , generally working others helps achieving individual. say interpersonal skills increased , example speaking listening others. come realize collaborating others helped identify strengths weaknesses , basically self-aware. experience decisions made teams was/am consistent like make decisions. lot people considerate want attain goal , appreciated , far people worked take time listen person say try take consideration relevant concise , decisions made depending everyone felt. experience rational emotional decision-making process been. decisions made rational group took time take people ’ emotions consideration possible. ’ obvious always agree completely certain things , occured , time taken explain person things certain way beneficial way disagreeing member thought. accepting possibility incorrect important role , especially comes working others. conclusion , experience positive anything academy .  experience far great though first bit anxious excited whole program , working teams challenging first still becoming less less challenging , far groups far completely different 's interesting terms knowing works n't , also helps experiencing different thinking processes ...  experiences edsa experience academy intense , interesting fun. even though met small subset people academy , great gotten know time. also particularly interesting , seeing different everyone ’ background perspective is. learning come want life chose apart academy. working lab great experience , reminds worked open plan office space feel like ’ great comfortable environment work in. also proven difficult times , slow computers noisy environment keeping focused sometimes tricky , views mountain really great ’ complain much. regards team dynamics , two groups part different terms worked , however overlap dynamics. one dynamic found two groups extroverted individuals groups took leadership role early team took cues two groups pushed leadership role. part groups introverted individuals extroverted ones. ’ major conflicts clashes dominance. first group differences personalities caused friction conflict. despite , got long worked together cohesively meet goals. natural personalities would create conflict never lost sight there. regards decision making two groups. first group lot uncertainty terms approach problems created environment aimlessness uncertainty times. second group came consensus based strengths team members would allocate roles accordingly. decisions first group made based high emotions think caused new environment learning new skills created stress , coupled trying meet deliverables made tensions high. whereas second group came decisions based logical approach. would say overall decision making rational tried deal problem statements thoughtful planned manner would allow us cope coordinate responsibilities effectively .  experience explore data science academy great far. goals explore year develop & master skills data science well improve leadership skills. felt empowered content ’ taught. four months , believe already learnt skills would allow enter & succeed job market. next 7 months plan spend refining data science skills using 1 hour evenings revising content learnt class. regards second goal ( improve leadership skills ) , ’ fortune team great coordinator & excellent team dynamics. also great team coordinator team. ’ taken many lessons experiences read book. given practical lessons improve leadership skills. ’ two teams far , worked first 1. coordinator nudged us always making progress towards bigger goal. 2. teammates voluntarily picked segment project would responsible for. 3. loose deadlines agreed , deadlines also allowances members equip skills required fulfil parts project. 4. team met twice week discuss progress. 5. time member grew comfortable asking help others well given feedback. team dynamic encouraged member give part project all. inevitably , team members technically advanced others ended taking advanced work rest , however time felt like overburden. given positive experience eager also try coordinator next sprint came around. new teams assigned & volunteered coordinate. aspects believe could done better. 1. ’ commonly accepted bigger goal. 2. ’ involve team identifying small goals were. worked work plan overnight & presented team. team loved plan , individual responsibilities work assigned. 3. led situation members team clear responsibilities were. 4. result power leadership , members team ended bulk work. able pull together & present satisfactory project , however believe could led better & helped team deliver far better project. member team would also proud contributed fully project. learnt great deal experience & would like give coordinating another try , like skill believe leadership learnt practice .  explore data science academy , road never thought would take lifetime. love passion cars , accepted data science internship one last thing never saw coming. love travelling exploring new avenues `` let 's '' tip. first day coming explore data science academy ( edsa ) beyond expectations , visually appealing facilities provided us. first could believe , cape town , comfort zone , pushing something involve anything studied. came expectations , however , told something need give order leave experience back future. speech supervisors gave us 22nd january reassured make mistake coming here. first week given work , install softwares would using throughout year , thought would pre-installed arrived. first , introvert side steering wheel interact lot people besides housemate. started interacting people water crisis sprint started. team people different background ; bioinformatics sciences , computer science , economic statistics mix , different parts south africa ( mostly gauteng ) . one things stood type people would start conversations loud side come order make everybody feel comfortable. first week gather sprint took team start making progress , thursday already figured system worked everyone order use something show supervisor. put weaknesses strengths table , started communicating better team. results shown supervisor told us think would deliver delivered , however , delivered end fundamental , faith would best one best. love good music , adventure socializing led connecting people group. time fundamentals spent helping people , building friendships would carry edsa year even greater , learning languages like python sql , channeling mind data scientist mode. weekends colleagues would tour cape town going beach , hike mountains could see edsa lab , visiting malls theme parks around cape town. python , one complex languages learn. well , thought since programming background. two teammates experience working languages , changing one language another , fairly doable. advantage since two people could consult whenever ran problem python. presentation fundamental one laid back fundamentals face since preplanned wanted add slides clear storyline. fact split fundamentals tore us apart , however , vowed exit whatsapp group created. review week , weekend , people never talked friends edsa lab suggested go theme park near canal walk mall take minds water crisis sprint. character part outting shy , yet interesting backgrounds. still friends them. stock market sprint came flew by. really feeling team since lot judgemental people felt like knew better. lacked communication , managed pull find sprint one piece. events bcx hosted highlights first months edsa , amount inpirational people engaged events. felt like meant every time spoke lucky waiting us greater wildest dreams. week takes cup. never expected go home least july. honestly grateful spending year edsa lab , could chose anything else .  experience edsa far combination challenging , fascinating , unpredictable. coming academy , excited would get meet new people learn new skills ; anticipated might somewhat difficult engaging new people ( since introverted ) coming grips new technical ideas ( creative technophile ) , since loved good challenge , still excited immerse experience. surprise , challenges faced none anticipated generally able interact cordially new people understand technicalities program. greatest challenge far working lab. environment many people ( different personalities , habits , learning techniques preferences ) forced natural inclination isolate working. easily distracted , think carefully navigate space simulate environment conducive learning. also found team consider optimally ration work , challenging , especially beginning n't yet good understanding 's strengths weaknesses. said , gotten know fairly well , able make decisions believed would amplify strengths diminish weaknesses could produce results best possible quality. sense , much decision-making teams rational rather emotional. would apply logic reason wanted achieve thought might able , found always room empathetic thoughtful ( thereby engaging emotions rather reason ) , sake team member , alter original plan. somewhat consistent personally make decisions : think times base decisions think yield best results terms trying achieve , even happens inconvenient taxing process ; times , especially decision made great consequence , make decisions based emotions believe 'rational ' 'logical ' decision likely hurt someone 's feelings cast bad light. , learned awful lot : preferences , strengths weaknesses , character ... found learning curve steep emotions rather turbulent throughout process , enjoyed every part challenge could mean future -- prospect holds together worst days exhilarates best days .  experience edsa interesting one thus far. pushed get shell interact people. since academy realised smarter think lot valuable knowledge insight share. biggest fear coming academy social aspect interact different people , since able overcome fear. first placed groups literally sweating , heart rate high felt sick stomach idea group strangers. second time split new groups ’ nervous. become social enjoy meeting working new people now. working groups challenge me. frustrating everyone different everyone different approach learning process project management. ’ learned lot working others. took backseat things even knew better way things. spoke saw helped team steer team better direction. become assertive. thought passive person ’ assertive save life , think assertive ’ find daunting. biggest frustration working teams dealing people think know everything ’ willing open learning something new fellow teammates. person like previous group. person would dictate team ’ want collaborate team , dominating personality rest us shy. realised none us ’ speak ’ fail sprint forced breakout shyness. think still fairly shy comes work fight shyness. decisions previous group initially made one person. prefer problems discussed everyone team different possible solutions explored come collaborative solution. found current team. still issues , people letting pride emotions get way work , people distracted ’ committed project. working labs challenge. lot distractions noise focus easily , prefer work home , get much done home. people come academy socialise anything distracting .  experience academy exceptional. meeting new people amazing , specifically working them. much challenging first inception relate , time things gets better begin know get use one another. odds events one two group member want participate ( eg. missing meetings ) thing way oppose agreed group , really problem participating also productive , especially meet group expectations group works , members end work. means group take collaborative decision planning expect everyone deliver agreed planned. lab one best way work , especially comes group work , find collaborative useful. 's unfortunate group members choose work home leave early come late. found behavior hinder progress , especially tasks divided sub groups among group members. critical aspect group always communication. members usually communicate inability complete task late work due. members get emotional approach , end day always encourage one another see right side approach task project hand. working many different people taught rely others , means trust member work , even better me. fun leaning since day one .  enjoy meeting new people different walks life constant , everyday social interaction. slightly reserved comes approaching people much older me. also fear inadequate unqualified many people already worked professional environments qualification , undergraduate otherwise. large emphasis group work big learning curve always preferred work alone everything way want , although improved since time here. tend take charge unless one else better talking people helping find role. versatile n't mind taking least desired role despite preferences. one group decisive. general guideline try stick although hardly case. prefer versatile approach work. rather consistent method making decisions. little less organised group though. tend procrastinate make major decisions complete important tasks last minute. tend sway easily depending emotions. know let emotions run ahead ( since something known ) put foot , take step back examine things rational perspective. hard easy put emotions beside .  life academy. wonderful experience , joyous full many possibilities. 22nd january 2018 took tax kraainfontein heading woodstock , place never , told far capetown cbd. exact location going woodstock exchange building 's explore data science academy located. help asking people taxi help gps able find building got around 10:30 , yes late got presentation room aidan ( supervisor ) giving overview academy expected us ( student ) . room full 100 students different provinces , races backgrounds. listened long bearded white guy speaking eloquent profound right. one thing struck intention emphasis speech intelligent ( students ) apparently 8000 people applied program , 3000 people able finish whole selection process 250 people interviewed top 100 made program. aidan 's words full passion compassionate , inspiring encourages , gave birth new hope life knew labelled people 'failure ' knew opportunity beginning great journey ahead. promised things different time , work hard play less , would make friends pray give thanks heavenly father. week later ( students ) split group five people work capetown water crisis using skill learnt past week i.e sql , python power bi. group name bean bags , group four males one female , embark project , use divide conquer approach help assign work member , group members wonderful people work , jelled much fun together . bean bags often worked together , using one computer helped tasks assigned member. worked together two months present findings regarding capetown water crisis solutions suggestions sprint came end. split south african stock market project , working different people adjust new team went name stockoverflow , bit nervous previous team already made friends working together forged friendship amongst adjust. stockoverflow team three males two females , sprint month much done. learning different models predict stock prices fascinating challenging me. used divide conquer approach assigning tasks member consolidating member done google drive , 26th april presented model predictions stock price one week break came back another sprint. realized short space time learned many many skills apply solve real world problems. wonderful experience grateful .  big part joining academy year meeting working lots new people. unexpectedly positive experience. despite everyone different backgrounds , sense camaraderie interns friendly. even though everyone tested graded environment non-competitive people willing help other. made enjoyable work lab. however , noise bustle lab sometimes overwhelming draining find productive sometimes spend hour two day lab working home quiet. challenging aspect year far teamwork. first project ( cape town water crisis ) times conflict team due team member contributing much therefore shifting workload team members. led resentment team members , expected. team projects work rarely equally divided team managed complete project despite difficulties. reflecting experience grateful done big share work gave opportunity learn lot would otherwise. second project ( jse stock market sprint ) much shorter time span therefore team approached project different. team divide work time everyone involved deliverables. hard meant trusting people work without directly involved dependant complete it. process decision making teams democratic. team discusses problems possible approaches usually obvious decision everyone agrees on. decision making far tended rational team members emotional. emotional part projects stress faced final deadlines neared. , experience academy far positive learnt lot. hope improve way approach team work upcoming sprints .  choosing spend year explore data science academy could easily best choice ever made. choice renewed feeling purpose educational/occupational direction. learnt past 3 months thought would entire year grateful presented opportunity. fellow students edsa staff added excellent experience encountered thus far. interacting brilliant minds results one , inevitably , attempting better experienced first hand. excited path edsa setting look forward future holds prospective data scientist : )  hardest moments life learning new things , matter simple easy might be. difficulty met new people academy. truth talkative nature , ’ always found difficult start conversations students anyone academy. however , amazing experience discover learn different students ’ cultural backgrounds diversities , interest data science life whole. academy , realized people learn discover interaction others. new environments nervous , yet exciting ones. explore data science academy best example scenarios. academy provided great exposure working environment challenges ought face work teams. able work team prerequisite skill needed data scientist. learning curve allowed self disciplined , self-motivated introspection little effort group work affect entire team ’ progress thus , results poor performance entire team work. people different cultural , educational programming backgrounds , learning difference right , right right became key determining factor understanding work teams. months academy , feel close becoming data scientist before. hunger efforts put understand data science seem rewarding now. great feeling among first group given opportunity learn data science. although pressure much times , hope believe everything designed meant prepare us real world working environments .  mixed emotions went came cape town.i felt ecstatic opportunity afforded yet side intimidated new environment. walked building first day heart filled much anticipation could wait shake everybody 's hand introduce myself. meeting talented young old bright sparks . never worked team came academy , know working team often many times worked alone everything myself. changed , teamed bright minds actually got work . really surprised much effective efficient working team. really enjoyed working team. believe travelling meeting new people potential widen ones horizons. learnt lot still learning lot different people academy , academic related lesson also life lesson carry ever go. wonderful fruitful time previous team , though ups downs .i learnt n't leave issues group grow rather need tackle emerge .  22nd january 2018 , time 7:00. seemed like normal day time. hit , difference location. 'm western cape , cape town precise. moved away home embark journey become data scientist explore data science academy ( edsa ) .today 8th may 2018 lot happened since ... first week got meet students different family background different level education. met explore team , included supervisors , facilitators nuri. told would working groups fives. nervous got used everything own. actually terrified. first group called optimize prime ( still cracks ) . made nervous everyone post matric qualification. beginning thought underdog , realised competition. mean must 've reason teamed guys , learn contribute wherever can. next group , named wolves woodstock ( named movie wolves wallstreet ) , confident engaging. developed previous group. even headed one sub projects. experience amazing great. even sister n't believe me. first group given opportunity work cape town water crisis , investigated demand supply factors affected cape town water crisis. project got use sql powerbi first time. saw another use python n't know capability , analysing data. second group got explore rsa stock market data. used data predict target return individual companies. interesting project accuracy predictions , limitations models. group assigned supervisors. got chance mentored two different supervisors. wish could create table comparison , two different , effective. times stats , python others gets much. group sessions nuri , refresh .  experience edsa great far. massive learning curve academically also personally. took myers-briggs test twice : , last night earlier today got slightly different results. first time came letter combination infp second time isfj. though slightly different , feel accurate overall representation various attributes exhibit. seen diplomat-mediator well ( second time taking test ) defender sentinel. naturally reserved nature , unfriendly , prefer working alone comfortable enough sit alone group people. however , approached , come across friendly. able read various personality types groups fairly quickly , allows quickly adapt different situations needed group times. n't usually take charge , know end goal something achieve , prefer clear cut plan achieve , one challenging parts working group , made need step comfort zone recently make decisions voice myself. times experienced stress due fact felt frustrated able comprehend certain concepts quick enough significant work project , deadlines much issue. overall , feel thoroughly enjoyed learning group dynamics far edsa .  nan  nan  enjoyed time edsa far. love meeting new people first time life talk people face-to-face programming topics around data science. previously strangers internet. great discussing algorithms coding challenges geeking people understand contribute , rather watching people 's eyes gloss describe trying achieve ( laymans terms ) . love prescribed uniform everyone comfortable naturally ease , opposed fashion parade. countless times struck conversation work , weekend even mountain. sometimes team members get distracted abit long guests talk abit loud , n't big thing. biggest challenge balancing studying implementation theory everyone page. team suffers individuals pulling weight put strain rest. luckily found colleagues kick around ideas discuss solutions current problems. decision making process voting best way forward. typically consensus reached roles , typically 2 3 members end bulk work. conflict resentment arise far real flare ups encountered , hard individuals argue decision made present put work. tend keep peace expect everyone act respectable adults. hate micromanagement love freedom given solve problem statement. glad able view teams ' presentations see went solving problem. continue learn lot data science well working time time constraint seeing people manage. even workload others offer time assist need help  year huge one change , involving many aspects : leaving stable job , moving cities , moving new field , going back student , long distance taking chance brand new data science academy. quite excited meet new data science students despite usual shyness. people taking similar plunges shared interest field. enjoyed ( slowly ) meeting new people learning backgrounds , interesting varied stories are. working lab new experience. complete self learning tough journey , glad academy experience supervisors help guide us way becoming data scientists. bit unusual area ’ computer lab learning , also sort office , also people socialise. ’ sure nailed exactly be. feel work better home quiet comfortable ( apparently line personality profile ) . group work element year probably one biggest pain points. see intent setting us way , ’ think quite worked yet . group work challenging. throw meeting new people different backgrounds , huge amount new content learned fairly significant stakes ( internship opportunity ) difficult situation. think resulted frustrations running high poor quality work delivered , individual group would wanted. think worrying getting project done sometimes gotten way actually trying learn content. terms decision making groups far , think one positive definitely logic valued field students. state reasoning behind plan solidly ’ problem. think challenge group member interpret instructions priorities differently , sorting get get everyone page take valuable time. personal level noticed always looking clear , decisive decisions plans , deal well “ seeing goes ” . think something need look team setting , expect manager well. overall , still pretty excited year regrets decision join. think academy still bit rough around edges needs refinement , part iterative process right ?  experience edsa one sparked lot introspection. socially , made affirm fact extroverted person cherishes human connection , communication cares 's well-being. regards team-work , made realize quite assertive prefer logical structure comes completing tasks fulfilling set roles. made also realize end taking charge situation group , even n't initially bargained , mainly seems like n't much direction group time seems going waste. decision- making process rational one mostly times based emotion people would choose certain roles based believing good certain thing interest end n't end achieving/delivering much end burning out. 've also realized things n't go according plan comes activities part role , stress feel defeated easily perfectionist side creeps end completing needs done time. future teams wish branch attempt master every different skill best ability instead focusing much individual role , lot potential know capable .\""
      ]
     },
     "execution_count": 215,
     "metadata": {},
     "output_type": "execute_result"
    }
   ],
   "source": [
    "FtXt"
   ]
  },
  {
   "cell_type": "code",
   "execution_count": 214,
   "metadata": {},
   "outputs": [
    {
     "data": {
      "text/plain": [
       "\"  overall experience academy far great somewhat challenging. firstly team leader elected team ; tasks disturbed among members. disagreement team meetings. achieved aim , members satisfied. team achieved aim could done time. allocation work workloads decided team leader discussing team. arguments workload. team leader assumed everyone level. questions answered answered satisfy members. individual members needed extra research questions answered properly. team able work together , reliable tried level best punctual meetings. allocated different tasks person researched thoroughly co-ordinated findings together team asked support needed. personally helped individual confident , however bit strain keep mates vast experience programming statistics sometimes felt incompetent tasks given , helped gain knowledge pushed learn harder. role played team members team player , several suggestions made everyone team adopted. team selective adopting new ideas. team worked well , agreements reached almost issues little new information gained members. believe team work ideal method quick information gathering , learning oneself time consuming tiresome. believe contributed effectively team reliable although bit hesitant first stages adjust different characters communicate freely afraid judged believe group work essential would mind working team aim team achieved .  got academy , felt like n't belong here. felt place. person n't like talk people own. people approached , got know them. getting know fellow classmates , made realise feeling similar emotions 'm feeling. 've met lots like minded people. personally like work alone , working group always difficult me. academy made easier me. forcing work teamwork skills. often , 's group member takes charge , keeping team focused shared end goal .  wonderful place , place waking morning easy task great desire learning something new everyday. meeting new people great thing learn work team also socialize since person well crowd. actually first time working lab like reason experience labs quite instrumentals labs testing experiments computers , n't computer labs first time coding lab reason coming edsa first choice . skills data scientist one drove apply wan na learn coding. learned lot lab also working team. one main problem faced working team group rather , groups perfect might wish change disaster.sometimes set time slots group meet discuss progress deliverable surprised one member pitch thought lot work , disappointing would mostly prefer working alone future. working team sometimes emotional draining decision divide conquer could work together well. hoping great team smart people need told since every sprint `` lists '' .  start academy quite tricking due meeting new people , unknown environment away home family proved tricky. first fundemnental sprint extrememely challenging memebers group failed help work assignment hence resulting lot friction stress. poor coomunication bad attendance critical times. resulting wasted time send message finding nessecary details perosn thus wasting time. problems poor team dymanics dealt memebers realise importanace good team dynamic order complete set task. next sprint alot better group organised everyone commited assigned task intially lacking prior sprint. group communicated effectiely term problems incountered. first sprint reveal emotional weakness team memebers unable keep instead moving foward broke away decided give instead still trying help team current assign task. second sprint clear cut division two teams helped left driven knew expected .  experience academy enjoyable far. learning lot interesting valuable skills meeting many intelligent interesting people. meeting working new people lot fun rewarding experience. working lab challenging. open plan allows many diverse unusual conversions easily started joined also prevent work done people interrupt prevent others entering staying state flow necessary learning. especially destructive slower learners like myself. working teams also challenging insightful. sometimes tricky setting understanding team dynamics new teams especially people ’ know well , practice working teams always appreciated team dynamics always easy decipher understand. decisions made group ( least feeling ) without one person charge giving orders. could also part still learning try make effort person group feels opinion asked heard decisions made group decisions everyone opportunity raise differing opinions votes support. consistent way enjoy making decisions think allows everyone feel involved dedicated outcome everyone feeling others group think feel decisions made. say decision making rational emotional know accurately determine that. maybe mix , though slightly leaning towards rational .  journey exciting. stress constructive sense forced work. everyday excited come academy interact vast personalities class offer. given nature work , days really tough days really good ( especially code running ) . academy taught , testing limits understanding. whole life 've always team player. although n't like charge , somehow found leadership positions based assertiveness became norm. shocking finding opposite position first sprint. zero communication whatsoever , made feel uncomfortable could n't share thoughts feelings , however found way work well collective. took forever wrap head around content work reason made feel futile. due lack communication , people felt right thing , would later put everything together. opinion , think structure , leader would keep us track. way decisions made , shared responsibilities based people 's strengths weaknesses. equally made decisions led productivity , sometimes would disagreements. times , would emotionally draining , every low , growth. throughout roller coaster journey , 's nothing growth , understanding learning. understanding workplace , understanding colleagues understanding .  started academy workload easily manageable students able keep learning curve , whereas struggled either asked peers caught , n't got stuck behind pack. workload difficulty increased , able keep better programming foundation others course. although might helped lot , appeared blessing curse. found losing lot time could spent work , helping students ( bad thing ) , questions asked topic currently working found difficult get back line doing. decision teams need made , seemed myth. team needed carry lot workload rest team members order get scores wanted , trying teach team thing two long way. similar situation second sprint , severe , 2 members team got flying start , 2 spectating participating one eventually found feet ended bang , last member , felt , never contributed final `` prediction '' , speculations. quite frustrating like working teams , however members carries weight. might sound selfish , n't want affecting results much goal year 1 30 students going bcx. feel working hard enough spending enough time working , still happy ultimately hand present group. finally happy course content. course already taught lot data science thought knew ca n't wait come. awesome experience happy chose .  intimidating meeting many new people , especially wildly different personalities backgrounds. sharing work space sometimes challenging everyone shares views communal space treated terms cleanliness keeping noise levels down. interacted lot people , small number individuals like background temperament. team dynamics far challenging part course. particularly struggle team-members lack self-motivation work ethic. found often instead insisting team member pulling weight would rather task myself. tend feel someone lacks motivation something unlikely perform task best abilities. also seem little confidence others completing task way would like done. generally , decision making teams easy mostly due apathy uncertainty surrounding decision behalf team members. found frustrating since often lead one-sided discussion resulted unspoken dissatisfaction resultant product. decisions also often ignored later , dont mind changing decisions believe communicated completing project still paramount. feel often good sense required complete project communicate steps team members , however rarely self-assurance properly delegate tasks hold people accountable meet deadlines complete task .  experience far great though first bit anxious excited whole program , working teams challenging first still becoming less less challenging , far groups far completely different 's interesting terms knowing works n't , also helps experiencing different thinking processes ...  experiences edsa experience academy intense , interesting fun. even though met small subset people academy , great gotten know time. also particularly interesting , seeing different everyone ’ background perspective is. learning come want life chose apart academy. working lab great experience , reminds worked open plan office space feel like ’ great comfortable environment work in. also proven difficult times , slow computers noisy environment keeping focused sometimes tricky , views mountain really great ’ complain much. regards team dynamics , two groups part different terms worked , however overlap dynamics. one dynamic found two groups extroverted individuals groups took leadership role early team took cues two groups pushed leadership role. part groups introverted individuals extroverted ones. ’ major conflicts clashes dominance. first group differences personalities caused friction conflict. despite , got long worked together cohesively meet goals. natural personalities would create conflict never lost sight there. regards decision making two groups. first group lot uncertainty terms approach problems created environment aimlessness uncertainty times. second group came consensus based strengths team members would allocate roles accordingly. decisions first group made based high emotions think caused new environment learning new skills created stress , coupled trying meet deliverables made tensions high. whereas second group came decisions based logical approach. would say overall decision making rational tried deal problem statements thoughtful planned manner would allow us cope coordinate responsibilities effectively .  data science academy amazing path far , one room people ambitious love learning got excited work also supervisors facilitators determined love job motivates even keeps thrilled like one day. thankful part academy , much learn everyday proven need specific field certain level education data scientist , way academy structured students fields various level education think great idea , would see someone never studied computer science statistics knowing concept better degrees , brief say need order survive academy focused know expected everyday. fortunate enough placed teams people determined never struggled get group mate deliver expected , hence said people academy focused know for. think selection team good job placing us academy. appreciate also fact much supervisors facilitators busy , always accessible help us work passion , see getting better better day become data scientist certain end year level corporate expects be. academy coaching sessions assists come across obstacles program , work related personal problems , someone talk share predicaments going , find helpful workload much might loose track things , especially something distracting going personal life , deviate attention work , think service useful personally used load shoulders shared problems someone trust judge share problems anyone. randomly placed teams believe help us come across different personalities people learn work around , although people hoped , believe prepares us fit enough deal people meet corporate world. also learn assist patient people might struggle certain concept also learn others .  good day , really n't know start essay besides good day. anyway 's way lets start business. moments academy mostly up. let start day one meeting students south africa great , meeting people different personalities coming different background. people different races , culture tribes ( enjoy stuck cape town since day born. ) . getting first team , part crazy , fun team. guys n't look one another open , strength. first weeks everyone working well getting close end became frustrated team members started lose focus ( assume got tired sprint long ) . following team great came work bonding n't all. two members liked working home ( productive ) two quit time. came decision making , meter bouncing ideas around choosing one move stayed one teams. second team split two teams two teams thing 's believe new way things great. submitting individual team one learnt skill taught sprint. thanks .  imagine excited finally meet people like minded. maybe could rephrased meeting people like me. however , instead , meet small sample different types people different types personalities. yet find stuck world different types people different , different interest ambitions , translates make decisions every day. decisions affect , especially working teams. hand , decisions make affect team processes. according personality test , personality defined five letters entp-t , according classification debater. true debater , convinced , play along suck test discuss personality affected general experience academy. lab allowed us access well collaborate , although working effectively lab challenge , many distractions. found easier get know people type strengths , knowledge background passions general. type knowledge allows efficient knowing ask help different things. prefer asking facilitator. always done past prefer working challenge peer , along process learn would otherwise. comes working teams , always , first one speak give opinion came variety ideas , ’ extroverted side me. therefore , end leading , team. role prefer police people , therefore either allowed people lead would make sure project requirements completed end. last sprint dedicate responsibilities according people ’ backgrounds strengths interests. one person leading deliverable project end would ensure requirements submission met. employed similar strategies past , working tangibly people bring table. framed decision making teams worked in. someone shows work work have. approach made easier focus objective deliver projects. decision making rational time little emotive times , irrational judgements employed make assumption people attitudes toward project work. creates barrier people pulling weight past immediately , integrate teams later. however team dynamics forced finisher .  experience academy far interesting 4 months although apprehensive meeting work new people , still enjoyed work looking forward comes next. group work team dynamics particular challenge although ’ really socialised colleagues since arrived cape town , friendships formed mostly students live house me. team dynamics challenge fundamentals sprint ’ fair division responsibility well accountability team. group members would slack part hard hold anyone accountable concerned nice. decision-making group fundamentals sprint mixture rational emotional , things right things badly one wanted take responsibility , much passing buck. team also beset laziness unwillingness really get learn needed deliver project. rsa stock market sprint , group somewhat better people hard-workers divided responsibilities early based perceived strengths individual. really serious problem group communication different areas functional responsibility , clear group members prepared presentation fully understand analysis analysis team performed. decision-making group rational. working labs , nerve-wracking experience significant proportion people simply go socialise distracting us , prefer working environment absolute silence ( hence prefer working midnight ) simply think problem allow creative possible solving problem. people assist thought-processes terms thinking problem solutions irritating distraction. around many people long eventually lose focus problem focus people , would much better silence mandated enforced labs. also need individual work instead group-work. suggests ways could contribute group signs learnt lessons emerged previous group , still lot trepidation comes next. hope meet group members committed project , otherwise , everything end tears .  enjoy meeting new people different walks life constant , everyday social interaction. slightly reserved comes approaching people much older me. also fear inadequate unqualified many people already worked professional environments qualification , undergraduate otherwise. large emphasis group work big learning curve always preferred work alone everything way want , although improved since time here. tend take charge unless one else better talking people helping find role. versatile n't mind taking least desired role despite preferences. one group decisive. general guideline try stick although hardly case. prefer versatile approach work. rather consistent method making decisions. little less organised group though. tend procrastinate make major decisions complete important tasks last minute. tend sway easily depending emotions. know let emotions run ahead ( since something known ) put foot , take step back examine things rational perspective. hard easy put emotions beside .  honesty enjoying time regret choices made. really educational love structure , environment one force work push much facilitator really helpful bounce ideas see far able explore imagination. meeting new people 's always nice stories people far go life , combine different cultural group things got learn people 's culture stories tell. work together 's really tricky fun times tricky , matter many times think always tricky talk wont enough words left. making decisions 's simple everyone agreeing goals deadline arrived people stories , 'm unable relate excuses , honestly wish everyone could adhere words , really would like decisions made like explore lot 'm working something due time constrain sometimes 's best expected enough time explore more. team members sensitive way sensitive leave part there. love academy wish time learn bit , enough resources even conduct maybe research , instance know write good machine learning algorithms n't understand work might even able improve .  life academy. wonderful experience , joyous full many possibilities. 22nd january 2018 took tax kraainfontein heading woodstock , place never , told far capetown cbd. exact location going woodstock exchange building 's explore data science academy located. help asking people taxi help gps able find building got around 10:30 , yes late got presentation room aidan ( supervisor ) giving overview academy expected us ( student ) . room full 100 students different provinces , races backgrounds. listened long bearded white guy speaking eloquent profound right. one thing struck intention emphasis speech intelligent ( students ) apparently 8000 people applied program , 3000 people able finish whole selection process 250 people interviewed top 100 made program. aidan 's words full passion compassionate , inspiring encourages , gave birth new hope life knew labelled people 'failure ' knew opportunity beginning great journey ahead. promised things different time , work hard play less , would make friends pray give thanks heavenly father. week later ( students ) split group five people work capetown water crisis using skill learnt past week i.e sql , python power bi. group name bean bags , group four males one female , embark project , use divide conquer approach help assign work member , group members wonderful people work , jelled much fun together . bean bags often worked together , using one computer helped tasks assigned member. worked together two months present findings regarding capetown water crisis solutions suggestions sprint came end. split south african stock market project , working different people adjust new team went name stockoverflow , bit nervous previous team already made friends working together forged friendship amongst adjust. stockoverflow team three males two females , sprint month much done. learning different models predict stock prices fascinating challenging me. used divide conquer approach assigning tasks member consolidating member done google drive , 26th april presented model predictions stock price one week break came back another sprint. realized short space time learned many many skills apply solve real world problems. wonderful experience grateful .  time academy positive. 've unpleasant interactions person far n't believe 've cultivated many deep relationships aside perhaps one. two groups 've assigned socially pleasant. first group n't ideally organised second group better regard. n't particularly assertive presence first group unlike second positive dynamic present both. prefer make decisions group try best pull weight burden .  starting academy wonderful experience. cape town beautiful city location academy could better. meeting different characters really experience.in first weeks meeting new people daily basis sometimes intimidating. teamwork never really strongest skill always something would like improve upon , heard academy strong teamwork emphasis happy.the academy working lab strong social element , even though work learning somewhat technical. first sprint , quickly discovered diverse group was. vastly differing amounts experience fresh high-school graduate someone working decade. also differing skill sets. working groups challenging rewarding time. cape town sprint primary downfall lack planning what. resulted us almost late deadlines. communication within group could lot better. tend keep flexible approach completing tasks , flexibility ended costing establish proper deadlines .  four months since decided embark journey. packed bag , moved new city took first step living best moments life. love meeting new souls. always fascinating finding someone else ’ journey began , similar different footsteps left are. amongst 99 brilliant minds incredible , getting know refreshing. people stand , everyone unique. always good working , taking reins. ability work effectively team acquired skill , understand different personalities , people deal problems communicate. delegating seemed help terms getting work done teams , person taking piece , sure finish elephants. decision-making process structured , benefited whole team. guidelines rubric supervisors helped keep us right track. decision-making mostly based impulse , following process ideal getting results. great team members pay attention detail since mostly focus bigger picture. made sure work appealing. quite experience , constant learning. growing skill set , including soft skills. beginning , lot learn .  choosing spend year explore data science academy could easily best choice ever made. choice renewed feeling purpose educational/occupational direction. learnt past 3 months thought would entire year grateful presented opportunity. fellow students edsa staff added excellent experience encountered thus far. interacting brilliant minds results one , inevitably , attempting better experienced first hand. excited path edsa setting look forward future holds prospective data scientist : )  experience academy really mixed bag far. initially `` '' whatever decision making process needed order get ahead , new group , 've participate others made feel `` follower '' leader times. 's really nice working people myriad personalities. n't really think 've come across situation tempered emotionally although think quite emotional person. think far decision making way prefer ; logical straightforward also room change improve personal knowledge  find experiences academy interesting fulfilling. really like working smart people explore gives abundance. personality clashes character development hurdles point need growth adjustment. one real challenges find balance zoning focus work teaming discuss ideas others help others. choose start would rather acted like focused introvert would give time learn without harming learning curve. honestly contributed negatively group members know , well , deliver more. working together lab thing made real progress growth us individuals. crucial team decisions easier make. working lab also downsides feel still take full advantage privilege. missed couple key submissions already , messed two tests failed badly. made aware team dynamics past negatively affected catch-up work cost team process. honestly think hard also says high expectations myself. decision-making process usually one based voting. people seen getting things knowledgeable automatically obtain voting power. past experience work usually drive person chooses group role willing play. future , would prefer , rules engagement given thorough attention prior commencement group work. way , best obtained everyone. personally believe need place comfortable enough work done tools available. accomplished. achieve contribute .  mixed emotions went came cape town.i felt ecstatic opportunity afforded yet side intimidated new environment. walked building first day heart filled much anticipation could wait shake everybody 's hand introduce myself. meeting talented young old bright sparks . never worked team came academy , know working team often many times worked alone everything myself. changed , teamed bright minds actually got work . really surprised much effective efficient working team. really enjoyed working team. believe travelling meeting new people potential widen ones horizons. learnt lot still learning lot different people academy , academic related lesson also life lesson carry ever go. wonderful fruitful time previous team , though ups downs .i learnt n't leave issues group grow rather need tackle emerge .  positive experience academy far. enjoyed meeting people interest data science also made unusual choice learning institution. fascinating getting know people class. people incredibly wide range personalities backgrounds. generally enjoyed working lab though get rowdy lunch people 's work motivation decreases motivation socialise increases. found first team members rather like-able , felt team dynamic failed dismally properly tackling project. success beginning ultimately disappointed team ’ performance. lacked cohesiveness n't project manage effectively. people focused exclusively individual learning rather group work. second group considerably better. clear strategy allocated tasks effectively. regular meetings , took minutes , wrote tasks sub deadlines. member motivated pulled weight. also communicated frequently balanced individual group tasks much better previous group. decision making initial group rational however rarely executed decisions intended. lot procrastination members arrived late class left early. one group member spent time away group chatting friends. claimed working group tasks , ended contributing absolutely nothing group tasks. contrast , individual second group went beyond call duty. regular meetings ensured tasks divided properly. progress closely monitored , problem occurred , rallied together solve adapt strategy. one member group already quite experienced particular topic project tremendous advantage us. thought carefully team workflow set appropriate software working folders. analysed project marking rubric created gantt chart schedule tasks , understand dependencies. also manage group member availability member group required periods absence project. also scheduled tasks around class tests aware time allocated individual efforts. initial group unhealthy diffusion responsibility member assumed someone else would pick slack. lead group members becoming despondent refusing carry group members. also faced issue one group member ’ feel sufficient programming skills make decent contribution group effort. despite shortcomings group got reasonable marks. credit go two five group members. sure second group get good marks. credit also given equally group members one member particularly strong. however think efforts equal previous group everyone felt satisfied group effort end .  bit loner times id say experience really taught engage people talk especially student kind goal. based academic level think got experience programming fact familiar sql python shows grown academic level. knowing wake everyday see new faces lab thought able manage knowing loner told working teams thought end much talker people thought going express opinions , participate happened best experience even started releasing need talk order opinion heard. last team really understood much teams challenges valued opinions decision making part even pimplier , first team agreed everybody gon na take part everything look strength weaknesses. assign one another activities concerning project still forgetting help strengthen academy weaknesses basically created fridays helping other. comes decision coming acadamy one hard decisions take cape town far home choose completing honors degree academy. ended choosing academy honors degree felt like needed experience data science marketing world academy would best place start fact ought learn everything beginning great computing skills wanted stipend also contributed decision coming here. would conclude regret coming instead happy here.its 5 months already feel like year going bit faster want even programming skills think would got much experience programming languages skills honors.the experience got far best. helped growing academically also helped gain confidence individual .  first day first looked familiar faces. started looking people would like associate self with. meeting new people fine long n't expect keep conversation going. found nice , guys hang with. love working together labs , could share idea 's , findings ways certain things. enjoy working teams. believe 2 minds better one. also another line validity checking. one also learns lot new things working groups. team dynamics like , everyone knows need achieve bigger picture. long term though ones ideas change clearer picture , completed task. ( problems change unforeseen problems come up. ) decisions made done still needs happen. times felt team members know exactly needed next ( floated around ) . decision making based possible without overworking everyone .  enjoyed time edsa far. love meeting new people first time life talk people face-to-face programming topics around data science. previously strangers internet. great discussing algorithms coding challenges geeking people understand contribute , rather watching people 's eyes gloss describe trying achieve ( laymans terms ) . love prescribed uniform everyone comfortable naturally ease , opposed fashion parade. countless times struck conversation work , weekend even mountain. sometimes team members get distracted abit long guests talk abit loud , n't big thing. biggest challenge balancing studying implementation theory everyone page. team suffers individuals pulling weight put strain rest. luckily found colleagues kick around ideas discuss solutions current problems. decision making process voting best way forward. typically consensus reached roles , typically 2 3 members end bulk work. conflict resentment arise far real flare ups encountered , hard individuals argue decision made present put work. tend keep peace expect everyone act respectable adults. hate micromanagement love freedom given solve problem statement. glad able view teams ' presentations see went solving problem. continue learn lot data science well working time time constraint seeing people manage. even workload others offer time assist need help  experience edsa one sparked lot introspection. socially , made affirm fact extroverted person cherishes human connection , communication cares 's well-being. regards team-work , made realize quite assertive prefer logical structure comes completing tasks fulfilling set roles. made also realize end taking charge situation group , even n't initially bargained , mainly seems like n't much direction group time seems going waste. decision- making process rational one mostly times based emotion people would choose certain roles based believing good certain thing interest end n't end achieving/delivering much end burning out. 've also realized things n't go according plan comes activities part role , stress feel defeated easily perfectionist side creeps end completing needs done time. future teams wish branch attempt master every different skill best ability instead focusing much individual role , lot potential know capable .\""
      ]
     },
     "execution_count": 214,
     "metadata": {},
     "output_type": "execute_result"
    }
   ],
   "source": [
    "PtXt"
   ]
  },
  {
   "cell_type": "code",
   "execution_count": 223,
   "metadata": {},
   "outputs": [],
   "source": [
    "def all_the_words(words):\n",
    "    global TtXt\n",
    "    txt=\" \"\n",
    "    for word in words:\n",
    "        a = \"\".join(word)\n",
    "        txt += ' '+a\n",
    "    TtXt += txt\n",
    "    return txt"
   ]
  },
  {
   "cell_type": "code",
   "execution_count": 224,
   "metadata": {},
   "outputs": [],
   "source": [
    "Etxt = T.apply(all_the_words)"
   ]
  },
  {
   "cell_type": "code",
   "execution_count": 225,
   "metadata": {},
   "outputs": [
    {
     "name": "stdout",
     "output_type": "stream",
     "text": [
      "  first 4 months edsa filled many new experiences ; challenges , others joyful , resulted positive growth person. -- -meeting new people -- - enjoy meeting new people everyone met edsa pleasant. particularly enjoyed listening backgrounds strongest candidates within edsa , provided insight gained experience tools like python & sql. also cherish able build network data scientists tomorrow well established industry professionals.. -- -working together lab -- - working computer lab formal work environment comes pros & cons. 's useful 99 colleagues , supervisors & facilitators provide technical/personal support net necessary. obvious con would noise distraction - least say know trending music albums 2018 , win ! -- -working teams & team dynamics -- - 've worked team projects solo projects professional work environment. enjoy both. experience would say team works best 's team co-ordinator plan work divided conquered ( provided everybody takes full responsibility part ) members first group noobs sql & python , gather analyse phases really exposed technical deficiencies resulted lot frustration came time delivering tasks. experience took comfort zone important lesson patience us all. second group high level experience , strong team co-ordinator team members took full responsibility tasks. even though work complex comfortable team dynamic. -- -how decisions teams made consistent make decisions -- - team decisions groups made deliberation. decisions easier make person presented clear points opinion was. group dynamic strong decision making felt natural , similiar make decision own. -- -how rational emotional decision making process -- - somebody technical knowledge could provide interpretation best solution. problem required research would take place would rely rational logical thinking arrive solution. regarding emotions , used open communication channels facilitators supervisors discuss emotions opposed letting emotions making project decisions. -- -overall -- - previous role electrical designer smitten data analytics within electricity metering sector. edsa provided platform pursue passion broader scope data using market leading tools importantly upgrade skill-set thus opening new opportunities within workplace .  looking back one got academy right , confidently say grown intrapersonally interpersonally optimistic perception working also gradually shifted realistic end spectrum. came nothing positive outlook journey gotten opportunity embark , however , learned couple valuable lessons - one stand value understanding teammates expecting one understand you. put far put cap assertive nature gotten lot f pressure given opportunity even sharpen softer skills tends help quite lot even outside academy good vibe generator - one deflects negative energy positive energies whatever spheres happen find in. getting know colleagues exciting initially thought would best get know everyone due knowing underlying power networking much tend ripe rewards least expect it. however , due various factors including time constraints , one n't yet gotten know everyone. nonetheless , 've connected way pivoted range experiences 've exposed anything - 've found one connects colleagues duties get better understanding really drives bed morning tends relative ease synergies working people group. foundation good teamwork come play proven crucial implementing fulfilling common goal quicker. establishing people 's unique abilities also n't easiest tasks , one things far made role duty allocations bit messy groups. mind team makes decisions usually made voting process duties tend easily misallocated accord effectiveness leverage ( exploiting team member unique abilities motivate everyone play strengths avoid weaknesses proper balance ) . teamwork easy job exciting time takes one individual break firm structure especially individual wants make decisions- hinders progress flow ideas team turn leads dull average outcome. 've found decision-making techniques bit irrational due central tend especially find group nice people express feel whoever so. learned focus making sure ’ expected delivered timely miss beauty process focussing relatively small hurdles ’ vast amount captivating material engage in. getting know colleagues exciting initially thought would best get know everyone due knowing underlying power networking much tend ripe rewards least expect it. however , due various factors including time constraints , one n't yet gotten know everyone. nonetheless , 've connected way pivoted range experiences 've exposed anything - 've found one connects colleagues duties get better understanding really drives bed morning tends relative ease synergies working people group. foundation good teamwork come play proven crucial implementing fulfilling common goal quicker. establishing people 's unique abilities also n't easiest tasks , one things far made role duty allocations bit messy groups. mind team makes decisions usually made voting process duties tend easily misallocated accord effectiveness leverage ( exploiting team member unique abilities motivate everyone play strengths avoid weaknesses proper balance ) . teamwork easy job exciting time takes one individual break firm structure especially individual wants make decisions- hinders progress flow ideas team turn leads dull average outcome. 've found decision-making techniques bit irrational due central tend especially find group nice people express feel whoever so. 've also learned never bring emotions workplace people tend step sensitive things without noticing- example someone staring shoulder commenting work 're quite unpleasant kills moral detaching focusing 's required best coping mechanisms .  attending explore data science academy already proven , continues amazing experience. ’ quite astonishing realize much ’ learned mastered past couple months , chief among would ( subject essay ) , teamwork. meeting new people daunting task ( including ) . however academy different start. sheer excitement students especially explore team ( supervisors facilitators ) acted social catalyst , smoothing social awkwardness , knew getting along like house fire. working teams people completely different backgrounds personalities challenging throughout first project , said , also interesting see individual adapts accommodate team help build team dynamic. starting cape town water crisis project honestly idea expect , certainly ’ expect team dynamic play huge role success deliverables. team overcome different levels knowledge , skills , self motivation. couple late nights flared tempers managed get work done , realised overlooked crucial part teamwork. one need self motivation , also create environment team motivate comfortable enough ask help ’ feeling overwhelmed struggling get grips difficult concept. team definitely lacking aspect , take chin regards deliverables , walked away learning priceless lesson moving next sprint. assigned new teams rsa stock market sprint , refreshing hear ’ team struggled certain aspects team dynamics. get go approached structured interactive way things. decided stand meetings every morning report previous day ’ goals well setting new goals day ahead. already made huge difference motivation team. another part success dividing work ’ get overwhelmed individuals rather sharing workload one-on-ones relevant team members gain deeper understanding section work. approach even advantages thought. structure communication team members lead lower stress levels ( even though still ever present ) , resulting cooler tempers clear headed decisions less emotionally-driven first project. goes show “ soft ” skills important technical skills working teams. ’ wait learn brilliant diverse people academy. '' individual commitment group effort -- makes team work , company work , society work , civilization work. '' -- vince lombardi  wonderful place , place waking morning easy task great desire learning something new everyday. meeting new people great thing learn work team also socialize since person well crowd. actually first time working lab like reason experience labs quite instrumentals labs testing experiments computers , n't computer labs first time coding lab reason coming edsa first choice . skills data scientist one drove apply wan na learn coding. learned lot lab also working team. one main problem faced working team group rather , groups perfect might wish change disaster.sometimes set time slots group meet discuss progress deliverable surprised one member pitch thought lot work , disappointing would mostly prefer working alone future. working team sometimes emotional draining decision divide conquer could work together well. hoping great team smart people need told since every sprint `` lists '' .  essay discussing personal experience regards academy like meeting new people especially introverted person am. speak different teams , different different felt , learned different characters. comparing decision making done teams versus personal decision making. getting plane cape town without place stay friends city big risk , certain plan academy kept praying want scam plot get specific building get kidnapped. fairly surprised get meet people walks life , also kind questioning legit , mean hard question , sounded way good true good things learned ’ happen people like us , guess time shine receive blessings. ’ think academy , blessing. said , experience academy ups downs like always ends up.i learned lot , fallen love data science , things small mindedness used consider geek ’ s. learned push , always try learn , practice computers always evolving. since met people different personalities academy , personality clashes occurred 1 biggest lessons , able work different people different personalities. working teams ’ easy thought would first , everyone idea assumed supposed done different opinions could dismissed everyone 's opinion valuable working team , opinions somehow seemed clash. working teams taught patient , quality possess whatsoever. second time changed teams though seemed though everyone gotten idea working teams ’ like , basically dipping toes working teams thing first sprint , second sprint bit confident meant worked better second teams , improving go. teams , split work equally amongst , making sure everyone gets chance tackle important lessons like coding dashboard. group coordinator state views , he/she would speak supervisor decision would made way , supervisor would guide us right direction hearing thought right way.its almost concept use guess making decisions , weigh options , see one best one worst outcome obviously go best outcome. conclusion working teams skill gaining developing everyday , ’ mastered , heck difficult master many personalities , getting .  experience academy far stressful yet fun. 'm one enjoys working groups , 'd working times. starting first sprint reminded prefer working alone. working group certain people carry weight , even frustrating. however , blame speak let concerns heard. end us saw way tackle task hand work towards finishing assignments given. last group complete opposite. three weeks complete sprint therefore knew work collective. tasks split one accountable part project. ended working well together got along outside work well. work previous group ? know , look forward working different people different dynamics .  experience academy enjoyable far. learning lot interesting valuable skills meeting many intelligent interesting people. meeting working new people lot fun rewarding experience. working lab challenging. open plan allows many diverse unusual conversions easily started joined also prevent work done people interrupt prevent others entering staying state flow necessary learning. especially destructive slower learners like myself. working teams also challenging insightful. sometimes tricky setting understanding team dynamics new teams especially people ’ know well , practice working teams always appreciated team dynamics always easy decipher understand. decisions made group ( least feeling ) without one person charge giving orders. could also part still learning try make effort person group feels opinion asked heard decisions made group decisions everyone opportunity raise differing opinions votes support. consistent way enjoy making decisions think allows everyone feel involved dedicated outcome everyone feeling others group think feel decisions made. say decision making rational emotional know accurately determine that. maybe mix , though slightly leaning towards rational .  intimidating meeting many new people , especially wildly different personalities backgrounds. sharing work space sometimes challenging everyone shares views communal space treated terms cleanliness keeping noise levels down. interacted lot people , small number individuals like background temperament. team dynamics far challenging part course. particularly struggle team-members lack self-motivation work ethic. found often instead insisting team member pulling weight would rather task myself. tend feel someone lacks motivation something unlikely perform task best abilities. also seem little confidence others completing task way would like done. generally , decision making teams easy mostly due apathy uncertainty surrounding decision behalf team members. found frustrating since often lead one-sided discussion resulted unspoken dissatisfaction resultant product. decisions also often ignored later , dont mind changing decisions believe communicated completing project still paramount. feel often good sense required complete project communicate steps team members , however rarely self-assurance properly delegate tasks hold people accountable meet deadlines complete task .  past months one challenging thrilling experience life. coming , expected engage people knew introvert , experience academy would force engaging people. something totally outside comfort zone. ready ; much prepared , ready challenged understood growth reached uncomfortable spaces. experience taught could imagined. learnt fearless embrace greatness within me. come across shy , willingness push things enabled speak room full people made realize get nervous things actual fact get nervous things capable also fail. way scared inabilities potential. understand still lot learn fully comfortable know feel still lot knowledge gained. coming bit theoretical statistical background , interesting see techniques learnt university applied real world scenarios. coming space , space full well equipped individuals , felt bit intimidated idea career going lacked confidence really good at. experience far definitely given better understanding skill set career take , importantly come learn alone. able meet lots people also similar situation , simply shown worries worth worrying things fall place. environment quite relaxed , yet taught behave professional workplace. support peers also tremendous. observing everyday events supervisors taught teamwork , people come together get things done . although sometimes remind use inside voice , feel adapting environment relatively well. going forward , expect learn develop skills .  data science academy amazing path far , one room people ambitious love learning got excited work also supervisors facilitators determined love job motivates even keeps thrilled like one day. thankful part academy , much learn everyday proven need specific field certain level education data scientist , way academy structured students fields various level education think great idea , would see someone never studied computer science statistics knowing concept better degrees , brief say need order survive academy focused know expected everyday. fortunate enough placed teams people determined never struggled get group mate deliver expected , hence said people academy focused know for. think selection team good job placing us academy. appreciate also fact much supervisors facilitators busy , always accessible help us work passion , see getting better better day become data scientist certain end year level corporate expects be. academy coaching sessions assists come across obstacles program , work related personal problems , someone talk share predicaments going , find helpful workload much might loose track things , especially something distracting going personal life , deviate attention work , think service useful personally used load shoulders shared problems someone trust judge share problems anyone. randomly placed teams believe help us come across different personalities people learn work around , although people hoped , believe prepares us fit enough deal people meet corporate world. also learn assist patient people might struggle certain concept also learn others .  attending academy first time like first year , however difference everyone age. idea meeting people really cool however issue forced work people things tend bit shaky everyone standards. make matters interesting grades directly dependent interaction team. varsity must admit best experiences working group tend find similar roles characters. however bit optimistic given diverse ages academy assumption folk work experience hopefully mature. furthermore , come realize establishing solid authentic team dynamics 's also lot stressful actually may seem without trying fake sake team trying accommodating. real issue trust decisions tends made around dominant personalities perspective may particularly best interest team whole. although always agree approach would agree fundamentally understanding skill set equally distributed also end day delivery project. overall happy rational decision making process. divide trust conquer works best teams something come learn. within teams lucky may find someone work ethic dedicated case would likely help could find someone understands work complements style. think initially everyone problem admitting n't get something deliverables due. journey emotional especially towards end tend give less less input become concerned delivery .  good day , really n't know start essay besides good day. anyway 's way lets start business. moments academy mostly up. let start day one meeting students south africa great , meeting people different personalities coming different background. people different races , culture tribes ( enjoy stuck cape town since day born. ) . getting first team , part crazy , fun team. guys n't look one another open , strength. first weeks everyone working well getting close end became frustrated team members started lose focus ( assume got tired sprint long ) . following team great came work bonding n't all. two members liked working home ( productive ) two quit time. came decision making , meter bouncing ideas around choosing one move stayed one teams. second team split two teams two teams thing 's believe new way things great. submitting individual team one learnt skill taught sprint. thanks .  good fun experience though 's often case pressure. lab allowed enough time practice get used coding , improved efficiency coding working computer. coming academy n't used idea working team , along year got better , knowing someone count , rely go need help. also got know personal level makes easy understand , strength weaknesses allows us form strong team. sometimes disagreements think right , effective solving , lucky enough co-operative team members since beginning year. though n't got know many colleagues ones got know would say pleasure meeting  academy amazing , love petry dish talent ! handful genius characters here.. backgrounds unique stories , explore data science academy best place develop data analysis skills. love time ! far , 've experienced whole lot pressure change something better. spend time studying , better feel , comfortable become closer get quality employee entrepreneur. everyday come office , feel home , learn something new.. something directly use business application. look around entire building get inspired start business 've learned here. speak among business academy helping us realize ideas clearly. without information back ideas , 's difficult starting. availability information outstanding. really appreciate nest. last two teams great work with. achieved bunch , , thanks resources available. first sprint tough though. team , realized strengths taught other. n't problem sql python used technologies before. understanding statistics applications data given difficult. worst , water crisis data n't collected well. n't worst experience data taught things career perfect. perfect skills data cleaning. realize limited number solutions data analysis. perfect outcomes data science , could breeze work future. believe hyper prepared things.. game theory data science would prove beneficial. emotionally , 'm great. academy brings best worst skills provides controlled environment mend holes analytical judgement. relief , emotionally physically becomes process bettering daily , bit bit without forcing stress .  imagine excited finally meet people like minded. maybe could rephrased meeting people like me. however , instead , meet small sample different types people different types personalities. yet find stuck world different types people different , different interest ambitions , translates make decisions every day. decisions affect , especially working teams. hand , decisions make affect team processes. according personality test , personality defined five letters entp-t , according classification debater. true debater , convinced , play along suck test discuss personality affected general experience academy. lab allowed us access well collaborate , although working effectively lab challenge , many distractions. found easier get know people type strengths , knowledge background passions general. type knowledge allows efficient knowing ask help different things. prefer asking facilitator. always done past prefer working challenge peer , along process learn would otherwise. comes working teams , always , first one speak give opinion came variety ideas , ’ extroverted side me. therefore , end leading , team. role prefer police people , therefore either allowed people lead would make sure project requirements completed end. last sprint dedicate responsibilities according people ’ backgrounds strengths interests. one person leading deliverable project end would ensure requirements submission met. employed similar strategies past , working tangibly people bring table. framed decision making teams worked in. someone shows work work have. approach made easier focus objective deliver projects. decision making rational time little emotive times , irrational judgements employed make assumption people attitudes toward project work. creates barrier people pulling weight past immediately , integrate teams later. however team dynamics forced finisher .  past 5 months explore academy challenging. make great adjustments order here. positive negative experiences. one positive experiences much learned. met lot people highly intelligent interests. worked 2 different teams. prefer work alone working team makes sense due sheer volume work. first team experience incredibly frustrating. team members highly introverted technically strong made discussions assigning tasks difficult. even tasks assigned accountability meet deadlines. prefer chip away steadily work opposed rushing close deadline finish. working second team much better. met regularly , communicated lot. tasks assigned everyone accountable. team members helpful towards .  experiences academy far life-changing say least. meeting smart , passionate , hardworking ambitious people different backgrounds happen many similar interests mine interesting journey. introvert prefers working alone pace within space , quickly find way adapt polish social skills order socialize 99 strangers going learning data science with. understood word go need socialize form meaningful relationships fellow interns could see forming strong network may helpful many years come career , long internship. academy ’ emphasis importance team work concept took warm to. teams exposing different individuals varying academic , social , work geographical background different personalities : introverts , extroverts , intuitive , artistic even really funny characters. teammates phenomenal experienced fields previous exposure to. learned lot them. equally ’ also encountered independent disagreeeable teammates required adjust levels patience , tolerance understanding may necessarily share similar beliefs me. need patient tolerant people ’ points view approaches solving completing team tasks. teams , due differing views , opinions approaches use democracy ( voting ) order reach decisions within groups. although easy one resort taking emotionally-driven decisions due one ’ firm beliefs ways things high level emotional intelligence critical favourable team dynamics. academy based cape town , city ’ visited holidays before. moving cape town challenges required solid ‘ family ’ away family fortunately found fellow interns resourceful many ways even outside ‘ labs ’ . example group share information accomodation , transport around city , social events extramural activities. chance test team-building skills virtues regular group sessions nuri believe helpful giving idea relate people less formal settings. credit due supervisors , facilitators oprerations officer ; helpful making internship experience manageable definitely one memorable years come. commitment programme makes easier people personalities settle nicely within diverse small community .  experience academy far interesting 4 months although apprehensive meeting work new people , still enjoyed work looking forward comes next. group work team dynamics particular challenge although ’ really socialised colleagues since arrived cape town , friendships formed mostly students live house me. team dynamics challenge fundamentals sprint ’ fair division responsibility well accountability team. group members would slack part hard hold anyone accountable concerned nice. decision-making group fundamentals sprint mixture rational emotional , things right things badly one wanted take responsibility , much passing buck. team also beset laziness unwillingness really get learn needed deliver project. rsa stock market sprint , group somewhat better people hard-workers divided responsibilities early based perceived strengths individual. really serious problem group communication different areas functional responsibility , clear group members prepared presentation fully understand analysis analysis team performed. decision-making group rational. working labs , nerve-wracking experience significant proportion people simply go socialise distracting us , prefer working environment absolute silence ( hence prefer working midnight ) simply think problem allow creative possible solving problem. people assist thought-processes terms thinking problem solutions irritating distraction. around many people long eventually lose focus problem focus people , would much better silence mandated enforced labs. also need individual work instead group-work. suggests ways could contribute group signs learnt lessons emerged previous group , still lot trepidation comes next. hope meet group members committed project , otherwise , everything end tears .  honesty enjoying time regret choices made. really educational love structure , environment one force work push much facilitator really helpful bounce ideas see far able explore imagination. meeting new people 's always nice stories people far go life , combine different cultural group things got learn people 's culture stories tell. work together 's really tricky fun times tricky , matter many times think always tricky talk wont enough words left. making decisions 's simple everyone agreeing goals deadline arrived people stories , 'm unable relate excuses , honestly wish everyone could adhere words , really would like decisions made like explore lot 'm working something due time constrain sometimes 's best expected enough time explore more. team members sensitive way sensitive leave part there. love academy wish time learn bit , enough resources even conduct maybe research , instance know write good machine learning algorithms n't understand work might even able improve .  time academy positive. 've unpleasant interactions person far n't believe 've cultivated many deep relationships aside perhaps one. two groups 've assigned socially pleasant. first group n't ideally organised second group better regard. n't particularly assertive presence first group unlike second positive dynamic present both. prefer make decisions group try best pull weight burden .  starting academy wonderful experience. cape town beautiful city location academy could better. meeting different characters really experience.in first weeks meeting new people daily basis sometimes intimidating. teamwork never really strongest skill always something would like improve upon , heard academy strong teamwork emphasis happy.the academy working lab strong social element , even though work learning somewhat technical. first sprint , quickly discovered diverse group was. vastly differing amounts experience fresh high-school graduate someone working decade. also differing skill sets. working groups challenging rewarding time. cape town sprint primary downfall lack planning what. resulted us almost late deadlines. communication within group could lot better. tend keep flexible approach completing tasks , flexibility ended costing establish proper deadlines .  social perspective , experiences academy refreshing impact personal development. prefer things myself. reflected interest gaming , reading fan-fiction writing. however , willing interact others necessary. enjoy paintball friends far sitting lounge rather making casual small talk. applies workplace well essentially things together. even talking , inevitably get topics related coding such. generally people ( outside academy known years ) seem identify introvert give misconception poor communication skills n't always case. many issues communicating team mates others class regarding various topics ranging work-related hobbies ( especially sport , gaming anime ) . prefer finish roleplaying video game lounge talk also like talking science nerdy things. words , need socialise , problems so. intuition observation valuable traits workplace data scientist team-based project. working teams allowed utilise both. found often analysis others n't done apply intuition. managed thing. different academics would essentially everything myself. regard , team-based nature course done well. often think good one working others stimulate us potentially become good trait previously thought n't naturally suited to. case , working teams sort force us find ways overcome weakness make strength instead. said , team dynamics sometimes involved lack coordinated planning among team members. good keep things open , applied plan rather plan. decide certain approach solving problem involves coding , dashboard , n't mean ca n't improvise. agree improvisation ultimate way things. make plan rely open-minded thinking plan n't appear working , improvise. generally experience academy , emotion seems rule roost logic seen potential barrier team work cooperation. mean students end becoming dependent affect teamwork negatively long term. overall course excelled bringing personality traits relevance workplace , providing opportunities overcome weaknesses utilise strengths instead .  academy challenging experience. expected prior coding knowledge help minimal help , greatest challenge statistics. slowing getting point n't actually try understand concept thoroughly rather get basic theory focus application. overall , insightful journey , learning interact different personalities group dynamics. really excited leaning nlp regression incorporate app development monetize it. genuinely regret applying academy although days doubt hurdles remembering greatness opportunity always great motivator .  four months since decided embark journey. packed bag , moved new city took first step living best moments life. love meeting new souls. always fascinating finding someone else ’ journey began , similar different footsteps left are. amongst 99 brilliant minds incredible , getting know refreshing. people stand , everyone unique. always good working , taking reins. ability work effectively team acquired skill , understand different personalities , people deal problems communicate. delegating seemed help terms getting work done teams , person taking piece , sure finish elephants. decision-making process structured , benefited whole team. guidelines rubric supervisors helped keep us right track. decision-making mostly based impulse , following process ideal getting results. great team members pay attention detail since mostly focus bigger picture. made sure work appealing. quite experience , constant learning. growing skill set , including soft skills. beginning , lot learn .  ‘ greatest opportunity part 100 chosen individuals wonderful programme. explore data science academy ( edsa ) environment makes feel welcome perfect terms collaboration networking different individuals interesting views personalities. ’ hard distinguish edsa work environment. type environment prepare real job. edsa provides one opportunity learn work diverse group people terms career background , culture religion. working groups different individuals project exciting. throughout time , ’ learned lot working teams. first ’ learned team work achieve terms results learning new things. secondly , come decision making , everyone opinion coming final decision another thing. learned ’ voicing opinion , convincing fellow team members indeed opinion fruitful. comes team strategies embark particular project , ’ one size fits situations. team come strategy going solve assigned problem. difficult , especially serve team coordinator serve , time complete different team whole set different personalities characters. instance learned strategy based skills , capabilities mostly team ’ attitude towards project hand. knowing strengths weaknesses team members good start. far learned lot. ’ still intrigued eager learn lot more. feel like becoming real data scientist day passes thanks edsa giving wonderful opportunity .  explore data science academy 19 weeks ( counted ) ; let ’ simplify 3 months shall ? exciting working group challenging problems , feel like world possibilities opened us. exciting overwhelming met many new people. right away seem made name myself. proud , even excited people feel someone come help - practical emotional. helping others role comfortable since typically excelled academic environment , ’ admit disappointment people ’ ask help more. like thought expert ( even like feel like expert , find happens less grow older ( experienced ? wiser ? one old greeks said something wisdom knowing ’ know ) . aspect larger group find overwhelming trying remember everyone , especially since many people seem know am. enjoy learning people ’ backgrounds amazed great selection people attending college. experience working intensely type team entirely new. worked teams school , university work , never amount diversity team. never sitting next team members everyday ; majority one ’ efforts focussed team work. immediate challenge first team working people skills ways operating different own. realised career worked people , background training. made less adaptable less tolerant different approaches problem. trying learn relax give people ’ method approaching problems chance. felt comfortable group leader first sprint , uncomfortable giving reigns second sprint onwards. second project usurped actual leader number occasions seldom pulled back. formed real bond first team , despite ( ) struggles. second team relationship seems formal , although things went much smoothly team arguably effective. found frustrating deal reserved people. hard read difficult reserve judgement ’ produce tangible outputs. still trying figure best deal people , draw shell patience hear trying say. also need consciously tell offer may valuable ( remain unconvinced evidence right table ) . experience also underlined much rely external encouragement praise , played interactions students staff. enjoy teaching students , specifically one one small groups , alot immediate feedback. first weeks felt really supported facilitators , later weeks felt like abandoned newer , exciting projects. similarly felt much secure first mentor ’ hands-on , available , approach second facilitator ’ reserved , hands-off approach .  young age always sheltered , reserved terrified getting comfort zone. knew year would challenge ’ challenged break shell. first day got real knew one person hundred. push open interact crowd ( struggle considering ’ shy standing front people makes extremely nervous ) . lucky people academy friendly understanding. working teams never problem , issue able fully center attention speak thoughts. taught importance communicate ideas without shy. one biggest challenge working team dealing teammates ’ fully committed tasks assigned them. personally prefer get things done certain way bit challenge team timelines ’ met team members ’ putting much effort everyone else. lab exposes us different personalities one needs learn work together effectively many personalities many conflicting personalities could recipe disaster. could say lucky teams assigned ’ difficult. understood importance contribution communication. misunderstanding ’ address becomes conflict , way able prevent it. teams decision-making process pretty much same. generally , challenge put team , communicate strengths weaknesses , able distribute tasks together based strengths weaknesses. decisions need made , every member given opportunity give opinion decide together team taking consideration every member 's contribution. overall , experience far great. learning new things everyday. workload get challenging time time managed. slowly coming shell , talking , interacting opening .  experience academy really mixed bag far. initially `` '' whatever decision making process needed order get ahead , new group , 've participate others made feel `` follower '' leader times. 's really nice working people myriad personalities. n't really think 've come across situation tempered emotionally although think quite emotional person. think far decision making way prefer ; logical straightforward also room change improve personal knowledge  find experiences academy interesting fulfilling. really like working smart people explore gives abundance. personality clashes character development hurdles point need growth adjustment. one real challenges find balance zoning focus work teaming discuss ideas others help others. choose start would rather acted like focused introvert would give time learn without harming learning curve. honestly contributed negatively group members know , well , deliver more. working together lab thing made real progress growth us individuals. crucial team decisions easier make. working lab also downsides feel still take full advantage privilege. missed couple key submissions already , messed two tests failed badly. made aware team dynamics past negatively affected catch-up work cost team process. honestly think hard also says high expectations myself. decision-making process usually one based voting. people seen getting things knowledgeable automatically obtain voting power. past experience work usually drive person chooses group role willing play. future , would prefer , rules engagement given thorough attention prior commencement group work. way , best obtained everyone. personally believe need place comfortable enough work done tools available. accomplished. achieve contribute .  experience academy thus far potent insightful year , changed life become person really enjoys importance cooperating others. brought together amazing minds space really helped acquire soft hard skills short space time , indeed helped elevate way learning new technical subjects efficiently effectively. also , management team large especially supervisors instrumental always improvising make sure led way help us walk away well informed junior data scientists end year , hence work tirelessly making sure break obstacle attractive easily comprehended possible us order put hard work. addition , nuri formidable way helping us cope psychological illnesses caused intensity program , always go extra mile making sure one feels solitary. supporting structure throughout program importance , help us understand essence behind excruciating vulnerability management enable see work not. last words , want close saying means life , 'm grateful opportunity , best thing ever happened life besides varsity , 'm pretty sure set life greater things achievements .  time academy far challenging , yet extremely rewarding self-fulfilling - especially regards working people different backgrounds domains expertise. although meeting different people interesting , concerned bring different people together towards achieving common goal. two teams worked , often one take lead , drawing ambition past experience relation data science related fields. challenging , since used - comfortable - working alone. hold personal contributions team-based projects highest standards , therefore difficult team members show dedication team-based projects do. working teams challenged personality positive negative ways. like control , therefore difficult allow people take lead different aspects projects , especially objectively feel experience completing particular objective. however , learned impossible control aspects project therefore welcomed aided contributions team members shown willingness aptitude contribute. contrast , difficult form motivate team members show apathy towards achieving common goal. although somewhat frustrating , ensured never derailed team following initial plan objectives. felt comfortable role coordinator , relished opportunity deliver high-quality deliverables high pressure situations. drive work ethic good , always productive worker. over-analysed spent excessive amounts time subjects interesting challenging personal level , instead focusing time pressing matters. generally tend spend time challenging interesting concepts , tend postpone often neglect routine administrative tasks. creates frantic dash line time runs , creates unnecessary anxiety. conscious shortcoming , actively try remind prioritise complete pressing matters regardless personal interest. know often regarded serious fellow team mates , since always focused driven comes task hand. little time chit-chat tend engage conversations related intriguing philosophical subjects. feel comfortable responsive. however , learned casual conversation regarding sports hobbies helps learn team members , forges professional , understanding relationships team members. overall , work experience academy enlightening one , far perfect. lots learn , eager improve aspect career benefit team mates .  positive experience academy far. enjoyed meeting people interest data science also made unusual choice learning institution. fascinating getting know people class. people incredibly wide range personalities backgrounds. generally enjoyed working lab though get rowdy lunch people 's work motivation decreases motivation socialise increases. found first team members rather like-able , felt team dynamic failed dismally properly tackling project. success beginning ultimately disappointed team ’ performance. lacked cohesiveness n't project manage effectively. people focused exclusively individual learning rather group work. second group considerably better. clear strategy allocated tasks effectively. regular meetings , took minutes , wrote tasks sub deadlines. member motivated pulled weight. also communicated frequently balanced individual group tasks much better previous group. decision making initial group rational however rarely executed decisions intended. lot procrastination members arrived late class left early. one group member spent time away group chatting friends. claimed working group tasks , ended contributing absolutely nothing group tasks. contrast , individual second group went beyond call duty. regular meetings ensured tasks divided properly. progress closely monitored , problem occurred , rallied together solve adapt strategy. one member group already quite experienced particular topic project tremendous advantage us. thought carefully team workflow set appropriate software working folders. analysed project marking rubric created gantt chart schedule tasks , understand dependencies. also manage group member availability member group required periods absence project. also scheduled tasks around class tests aware time allocated individual efforts. initial group unhealthy diffusion responsibility member assumed someone else would pick slack. lead group members becoming despondent refusing carry group members. also faced issue one group member ’ feel sufficient programming skills make decent contribution group effort. despite shortcomings group got reasonable marks. credit go two five group members. sure second group get good marks. credit also given equally group members one member particularly strong. however think efforts equal previous group everyone felt satisfied group effort end .  bit loner times id say experience really taught engage people talk especially student kind goal. based academic level think got experience programming fact familiar sql python shows grown academic level. knowing wake everyday see new faces lab thought able manage knowing loner told working teams thought end much talker people thought going express opinions , participate happened best experience even started releasing need talk order opinion heard. last team really understood much teams challenges valued opinions decision making part even pimplier , first team agreed everybody gon na take part everything look strength weaknesses. assign one another activities concerning project still forgetting help strengthen academy weaknesses basically created fridays helping other. comes decision coming acadamy one hard decisions take cape town far home choose completing honors degree academy. ended choosing academy honors degree felt like needed experience data science marketing world academy would best place start fact ought learn everything beginning great computing skills wanted stipend also contributed decision coming here. would conclude regret coming instead happy here.its 5 months already feel like year going bit faster want even programming skills think would got much experience programming languages skills honors.the experience got far best. helped growing academically also helped gain confidence individual .  like meeting new people similar interests , many new people , connecting people time goes assigned new group. n't spoken students merely strong introverts , recent group nominated group coordinator take lead every meeting , every interaction acknowledge personal level group members feeling day , something never really thought experienced , even grew every mondays share weekend , really appreciated put position challenge grow personal academically. like make decisions based merits decision efficient come attention efficient time take account people 's feelings , made decisions past group people feel included left , worth noting individuals contribute project way , barely showed academy , never written one single line code left member take care making dashboard , presentation ultimately present , two us took uncomfortable route diplomacy , pleaded every morning attend briefings supervisor us , went group training sessions made impact , next group , understood academy meant worked together well. stallions , magnificent , sudden paradigm changed , enjoyed one idea best things , originally typed minutes meetings another member suggested trello effective , learnt something new , excited , day , well every day went bed knowing something ’ know woke ’ data scientist ask for. one important lesson got working two different groups leave time guide team work flow everyone miserable end project , however everything planned trello ( ’ trello ) ‘ tees ’ crossed ‘ eyes ’ dotted , pleasant experience bring best everyone involved , team creativity grow levels one planned beginning. , irrespective put group work , sit maybe second session “ getting know ” map strategy roles assigned , significant insignificant .  edsa reflections 24 november 2017 , filled joy , excitement anxious time opened email edsa titled “ congratulations ! ’ accepted explore data science academy ! ” fast forward 22 january 2018 , ready meet new people ( possibly form new friendships ) , meet edsa team learn lies ahead 2018 , overwelming day was. today 6 may 2018 , lot happened past 3 months , ’ learned much ! sql , stats , python , power bi , presentation skills… [ still learning , never stops : ) ] . grateful selected one top 100 , ’ appreciative opportunity , thank edsa making possible me. lab data scientists making , greatly enjoy lab , environment condusive learning , group data science enthusiasts one room feel receipe success. training limited online courses edsa staff students learn lot , different backrounds , skills experience making lab interesting fun place grow academically socially. teamwork water crisis project : team liquidata must say initially concerned amount individual work deliver team well. realized importance effective team , working well team reduced work load stress also helpful individual tasks. roses regards team dynamics , working different individuals perceptions opinions challenging first , frustrating decide certain matters , helped lot grounded problem statement kept us focused needed done. worked well ’ result driven given task , completing task successfully required relevant info important , refering back problem statement got stuck great tool us. emotional moments team due personality clashes end worked well contributed success team , awesome team ! rsa stock market project : wolves woodstock accepted ’ work new people , really problem , hope wish strong programmer team , wish realised statistician programmer team , lovely ! great team , felt like outspoken person ( ) bit much , still worked well though delivered. prefer working team different ideas , creativity different skills ’ huge advantage eveyone team result driven , absolutelty appreciate that. ’ good experience teams far .  first day first looked familiar faces. started looking people would like associate self with. meeting new people fine long n't expect keep conversation going. found nice , guys hang with. love working together labs , could share idea 's , findings ways certain things. enjoy working teams. believe 2 minds better one. also another line validity checking. one also learns lot new things working groups. team dynamics like , everyone knows need achieve bigger picture. long term though ones ideas change clearer picture , completed task. ( problems change unforeseen problems come up. ) decisions made done still needs happen. times felt team members know exactly needed next ( floated around ) . decision making based possible without overworking everyone .\n"
     ]
    }
   ],
   "source": [
    "print(TtXt)"
   ]
  },
  {
   "cell_type": "code",
   "execution_count": 161,
   "metadata": {},
   "outputs": [
    {
     "name": "stdout",
     "output_type": "stream",
     "text": [
      "  experience edsa one sparked lot introspection. socially , made affirm fact extroverted person cherishes human connection , communication cares 's well-being. regards team-work , made realize quite assertive prefer logical structure comes completing tasks fulfilling set roles. made also realize end taking charge situation group , even n't initially bargained , mainly seems like n't much direction group time seems going waste. decision- making process rational one mostly times based emotion people would choose certain roles based believing good certain thing interest end n't end achieving/delivering much end burning out. 've also realized things n't go according plan comes activities part role , stress feel defeated easily perfectionist side creeps end completing needs done time. future teams wish branch attempt master every different skill best ability instead focusing much individual role , lot potential know capable .\n"
     ]
    }
   ],
   "source": [
    "print(Etxt)"
   ]
  },
  {
   "cell_type": "code",
   "execution_count": 57,
   "metadata": {},
   "outputs": [
    {
     "ename": "KeyError",
     "evalue": "'E'",
     "output_type": "error",
     "traceback": [
      "\u001b[0;31m---------------------------------------------------------------------------\u001b[0m",
      "\u001b[0;31mKeyError\u001b[0m                                  Traceback (most recent call last)",
      "\u001b[0;32m~/anaconda3/lib/python3.6/site-packages/pandas/core/indexes/base.py\u001b[0m in \u001b[0;36mget_loc\u001b[0;34m(self, key, method, tolerance)\u001b[0m\n\u001b[1;32m   2441\u001b[0m             \u001b[0;32mtry\u001b[0m\u001b[0;34m:\u001b[0m\u001b[0;34m\u001b[0m\u001b[0m\n\u001b[0;32m-> 2442\u001b[0;31m                 \u001b[0;32mreturn\u001b[0m \u001b[0mself\u001b[0m\u001b[0;34m.\u001b[0m\u001b[0m_engine\u001b[0m\u001b[0;34m.\u001b[0m\u001b[0mget_loc\u001b[0m\u001b[0;34m(\u001b[0m\u001b[0mkey\u001b[0m\u001b[0;34m)\u001b[0m\u001b[0;34m\u001b[0m\u001b[0m\n\u001b[0m\u001b[1;32m   2443\u001b[0m             \u001b[0;32mexcept\u001b[0m \u001b[0mKeyError\u001b[0m\u001b[0;34m:\u001b[0m\u001b[0;34m\u001b[0m\u001b[0m\n",
      "\u001b[0;32mpandas/_libs/index.pyx\u001b[0m in \u001b[0;36mpandas._libs.index.IndexEngine.get_loc\u001b[0;34m()\u001b[0m\n",
      "\u001b[0;32mpandas/_libs/index.pyx\u001b[0m in \u001b[0;36mpandas._libs.index.IndexEngine.get_loc\u001b[0;34m()\u001b[0m\n",
      "\u001b[0;32mpandas/_libs/hashtable_class_helper.pxi\u001b[0m in \u001b[0;36mpandas._libs.hashtable.PyObjectHashTable.get_item\u001b[0;34m()\u001b[0m\n",
      "\u001b[0;32mpandas/_libs/hashtable_class_helper.pxi\u001b[0m in \u001b[0;36mpandas._libs.hashtable.PyObjectHashTable.get_item\u001b[0;34m()\u001b[0m\n",
      "\u001b[0;31mKeyError\u001b[0m: 'E'",
      "\nDuring handling of the above exception, another exception occurred:\n",
      "\u001b[0;31mKeyError\u001b[0m                                  Traceback (most recent call last)",
      "\u001b[0;32m<ipython-input-57-7a7439dfaf27>\u001b[0m in \u001b[0;36m<module>\u001b[0;34m()\u001b[0m\n\u001b[1;32m      4\u001b[0m \u001b[0mtype_sub\u001b[0m \u001b[0;34m=\u001b[0m \u001b[0;34m'E I N S T F J P'\u001b[0m\u001b[0;34m.\u001b[0m\u001b[0msplit\u001b[0m\u001b[0;34m(\u001b[0m\u001b[0;34m)\u001b[0m\u001b[0;34m\u001b[0m\u001b[0m\n\u001b[1;32m      5\u001b[0m \u001b[0;32mfor\u001b[0m \u001b[0mpp\u001b[0m \u001b[0;32min\u001b[0m \u001b[0mtype_sub\u001b[0m\u001b[0;34m:\u001b[0m\u001b[0;34m\u001b[0m\u001b[0m\n\u001b[0;32m----> 6\u001b[0;31m     \u001b[0mdf\u001b[0m \u001b[0;34m=\u001b[0m \u001b[0mall_mbti\u001b[0m\u001b[0;34m[\u001b[0m\u001b[0mpp\u001b[0m\u001b[0;34m]\u001b[0m\u001b[0;34m\u001b[0m\u001b[0m\n\u001b[0m\u001b[1;32m      7\u001b[0m     \u001b[0mpersonality\u001b[0m\u001b[0;34m[\u001b[0m\u001b[0mpp\u001b[0m\u001b[0;34m]\u001b[0m \u001b[0;34m=\u001b[0m \u001b[0;34m{\u001b[0m\u001b[0;34m}\u001b[0m\u001b[0;34m\u001b[0m\u001b[0m\n\u001b[1;32m      8\u001b[0m     \u001b[0;32mfor\u001b[0m \u001b[0mrow\u001b[0m \u001b[0;32min\u001b[0m \u001b[0mdf\u001b[0m\u001b[0;34m.\u001b[0m\u001b[0mget_group\u001b[0m\u001b[0;34m(\u001b[0m\u001b[0mpp\u001b[0m\u001b[0;34m)\u001b[0m\u001b[0;34m[\u001b[0m\u001b[0;34m'tokens'\u001b[0m\u001b[0;34m]\u001b[0m\u001b[0;34m:\u001b[0m\u001b[0;34m\u001b[0m\u001b[0m\n",
      "\u001b[0;32m~/anaconda3/lib/python3.6/site-packages/pandas/core/frame.py\u001b[0m in \u001b[0;36m__getitem__\u001b[0;34m(self, key)\u001b[0m\n\u001b[1;32m   1962\u001b[0m             \u001b[0;32mreturn\u001b[0m \u001b[0mself\u001b[0m\u001b[0;34m.\u001b[0m\u001b[0m_getitem_multilevel\u001b[0m\u001b[0;34m(\u001b[0m\u001b[0mkey\u001b[0m\u001b[0;34m)\u001b[0m\u001b[0;34m\u001b[0m\u001b[0m\n\u001b[1;32m   1963\u001b[0m         \u001b[0;32melse\u001b[0m\u001b[0;34m:\u001b[0m\u001b[0;34m\u001b[0m\u001b[0m\n\u001b[0;32m-> 1964\u001b[0;31m             \u001b[0;32mreturn\u001b[0m \u001b[0mself\u001b[0m\u001b[0;34m.\u001b[0m\u001b[0m_getitem_column\u001b[0m\u001b[0;34m(\u001b[0m\u001b[0mkey\u001b[0m\u001b[0;34m)\u001b[0m\u001b[0;34m\u001b[0m\u001b[0m\n\u001b[0m\u001b[1;32m   1965\u001b[0m \u001b[0;34m\u001b[0m\u001b[0m\n\u001b[1;32m   1966\u001b[0m     \u001b[0;32mdef\u001b[0m \u001b[0m_getitem_column\u001b[0m\u001b[0;34m(\u001b[0m\u001b[0mself\u001b[0m\u001b[0;34m,\u001b[0m \u001b[0mkey\u001b[0m\u001b[0;34m)\u001b[0m\u001b[0;34m:\u001b[0m\u001b[0;34m\u001b[0m\u001b[0m\n",
      "\u001b[0;32m~/anaconda3/lib/python3.6/site-packages/pandas/core/frame.py\u001b[0m in \u001b[0;36m_getitem_column\u001b[0;34m(self, key)\u001b[0m\n\u001b[1;32m   1969\u001b[0m         \u001b[0;31m# get column\u001b[0m\u001b[0;34m\u001b[0m\u001b[0;34m\u001b[0m\u001b[0m\n\u001b[1;32m   1970\u001b[0m         \u001b[0;32mif\u001b[0m \u001b[0mself\u001b[0m\u001b[0;34m.\u001b[0m\u001b[0mcolumns\u001b[0m\u001b[0;34m.\u001b[0m\u001b[0mis_unique\u001b[0m\u001b[0;34m:\u001b[0m\u001b[0;34m\u001b[0m\u001b[0m\n\u001b[0;32m-> 1971\u001b[0;31m             \u001b[0;32mreturn\u001b[0m \u001b[0mself\u001b[0m\u001b[0;34m.\u001b[0m\u001b[0m_get_item_cache\u001b[0m\u001b[0;34m(\u001b[0m\u001b[0mkey\u001b[0m\u001b[0;34m)\u001b[0m\u001b[0;34m\u001b[0m\u001b[0m\n\u001b[0m\u001b[1;32m   1972\u001b[0m \u001b[0;34m\u001b[0m\u001b[0m\n\u001b[1;32m   1973\u001b[0m         \u001b[0;31m# duplicate columns & possible reduce dimensionality\u001b[0m\u001b[0;34m\u001b[0m\u001b[0;34m\u001b[0m\u001b[0m\n",
      "\u001b[0;32m~/anaconda3/lib/python3.6/site-packages/pandas/core/generic.py\u001b[0m in \u001b[0;36m_get_item_cache\u001b[0;34m(self, item)\u001b[0m\n\u001b[1;32m   1643\u001b[0m         \u001b[0mres\u001b[0m \u001b[0;34m=\u001b[0m \u001b[0mcache\u001b[0m\u001b[0;34m.\u001b[0m\u001b[0mget\u001b[0m\u001b[0;34m(\u001b[0m\u001b[0mitem\u001b[0m\u001b[0;34m)\u001b[0m\u001b[0;34m\u001b[0m\u001b[0m\n\u001b[1;32m   1644\u001b[0m         \u001b[0;32mif\u001b[0m \u001b[0mres\u001b[0m \u001b[0;32mis\u001b[0m \u001b[0;32mNone\u001b[0m\u001b[0;34m:\u001b[0m\u001b[0;34m\u001b[0m\u001b[0m\n\u001b[0;32m-> 1645\u001b[0;31m             \u001b[0mvalues\u001b[0m \u001b[0;34m=\u001b[0m \u001b[0mself\u001b[0m\u001b[0;34m.\u001b[0m\u001b[0m_data\u001b[0m\u001b[0;34m.\u001b[0m\u001b[0mget\u001b[0m\u001b[0;34m(\u001b[0m\u001b[0mitem\u001b[0m\u001b[0;34m)\u001b[0m\u001b[0;34m\u001b[0m\u001b[0m\n\u001b[0m\u001b[1;32m   1646\u001b[0m             \u001b[0mres\u001b[0m \u001b[0;34m=\u001b[0m \u001b[0mself\u001b[0m\u001b[0;34m.\u001b[0m\u001b[0m_box_item_values\u001b[0m\u001b[0;34m(\u001b[0m\u001b[0mitem\u001b[0m\u001b[0;34m,\u001b[0m \u001b[0mvalues\u001b[0m\u001b[0;34m)\u001b[0m\u001b[0;34m\u001b[0m\u001b[0m\n\u001b[1;32m   1647\u001b[0m             \u001b[0mcache\u001b[0m\u001b[0;34m[\u001b[0m\u001b[0mitem\u001b[0m\u001b[0;34m]\u001b[0m \u001b[0;34m=\u001b[0m \u001b[0mres\u001b[0m\u001b[0;34m\u001b[0m\u001b[0m\n",
      "\u001b[0;32m~/anaconda3/lib/python3.6/site-packages/pandas/core/internals.py\u001b[0m in \u001b[0;36mget\u001b[0;34m(self, item, fastpath)\u001b[0m\n\u001b[1;32m   3588\u001b[0m \u001b[0;34m\u001b[0m\u001b[0m\n\u001b[1;32m   3589\u001b[0m             \u001b[0;32mif\u001b[0m \u001b[0;32mnot\u001b[0m \u001b[0misnull\u001b[0m\u001b[0;34m(\u001b[0m\u001b[0mitem\u001b[0m\u001b[0;34m)\u001b[0m\u001b[0;34m:\u001b[0m\u001b[0;34m\u001b[0m\u001b[0m\n\u001b[0;32m-> 3590\u001b[0;31m                 \u001b[0mloc\u001b[0m \u001b[0;34m=\u001b[0m \u001b[0mself\u001b[0m\u001b[0;34m.\u001b[0m\u001b[0mitems\u001b[0m\u001b[0;34m.\u001b[0m\u001b[0mget_loc\u001b[0m\u001b[0;34m(\u001b[0m\u001b[0mitem\u001b[0m\u001b[0;34m)\u001b[0m\u001b[0;34m\u001b[0m\u001b[0m\n\u001b[0m\u001b[1;32m   3591\u001b[0m             \u001b[0;32melse\u001b[0m\u001b[0;34m:\u001b[0m\u001b[0;34m\u001b[0m\u001b[0m\n\u001b[1;32m   3592\u001b[0m                 \u001b[0mindexer\u001b[0m \u001b[0;34m=\u001b[0m \u001b[0mnp\u001b[0m\u001b[0;34m.\u001b[0m\u001b[0marange\u001b[0m\u001b[0;34m(\u001b[0m\u001b[0mlen\u001b[0m\u001b[0;34m(\u001b[0m\u001b[0mself\u001b[0m\u001b[0;34m.\u001b[0m\u001b[0mitems\u001b[0m\u001b[0;34m)\u001b[0m\u001b[0;34m)\u001b[0m\u001b[0;34m[\u001b[0m\u001b[0misnull\u001b[0m\u001b[0;34m(\u001b[0m\u001b[0mself\u001b[0m\u001b[0;34m.\u001b[0m\u001b[0mitems\u001b[0m\u001b[0;34m)\u001b[0m\u001b[0;34m]\u001b[0m\u001b[0;34m\u001b[0m\u001b[0m\n",
      "\u001b[0;32m~/anaconda3/lib/python3.6/site-packages/pandas/core/indexes/base.py\u001b[0m in \u001b[0;36mget_loc\u001b[0;34m(self, key, method, tolerance)\u001b[0m\n\u001b[1;32m   2442\u001b[0m                 \u001b[0;32mreturn\u001b[0m \u001b[0mself\u001b[0m\u001b[0;34m.\u001b[0m\u001b[0m_engine\u001b[0m\u001b[0;34m.\u001b[0m\u001b[0mget_loc\u001b[0m\u001b[0;34m(\u001b[0m\u001b[0mkey\u001b[0m\u001b[0;34m)\u001b[0m\u001b[0;34m\u001b[0m\u001b[0m\n\u001b[1;32m   2443\u001b[0m             \u001b[0;32mexcept\u001b[0m \u001b[0mKeyError\u001b[0m\u001b[0;34m:\u001b[0m\u001b[0;34m\u001b[0m\u001b[0m\n\u001b[0;32m-> 2444\u001b[0;31m                 \u001b[0;32mreturn\u001b[0m \u001b[0mself\u001b[0m\u001b[0;34m.\u001b[0m\u001b[0m_engine\u001b[0m\u001b[0;34m.\u001b[0m\u001b[0mget_loc\u001b[0m\u001b[0;34m(\u001b[0m\u001b[0mself\u001b[0m\u001b[0;34m.\u001b[0m\u001b[0m_maybe_cast_indexer\u001b[0m\u001b[0;34m(\u001b[0m\u001b[0mkey\u001b[0m\u001b[0;34m)\u001b[0m\u001b[0;34m)\u001b[0m\u001b[0;34m\u001b[0m\u001b[0m\n\u001b[0m\u001b[1;32m   2445\u001b[0m \u001b[0;34m\u001b[0m\u001b[0m\n\u001b[1;32m   2446\u001b[0m         \u001b[0mindexer\u001b[0m \u001b[0;34m=\u001b[0m \u001b[0mself\u001b[0m\u001b[0;34m.\u001b[0m\u001b[0mget_indexer\u001b[0m\u001b[0;34m(\u001b[0m\u001b[0;34m[\u001b[0m\u001b[0mkey\u001b[0m\u001b[0;34m]\u001b[0m\u001b[0;34m,\u001b[0m \u001b[0mmethod\u001b[0m\u001b[0;34m=\u001b[0m\u001b[0mmethod\u001b[0m\u001b[0;34m,\u001b[0m \u001b[0mtolerance\u001b[0m\u001b[0;34m=\u001b[0m\u001b[0mtolerance\u001b[0m\u001b[0;34m)\u001b[0m\u001b[0;34m\u001b[0m\u001b[0m\n",
      "\u001b[0;32mpandas/_libs/index.pyx\u001b[0m in \u001b[0;36mpandas._libs.index.IndexEngine.get_loc\u001b[0;34m()\u001b[0m\n",
      "\u001b[0;32mpandas/_libs/index.pyx\u001b[0m in \u001b[0;36mpandas._libs.index.IndexEngine.get_loc\u001b[0;34m()\u001b[0m\n",
      "\u001b[0;32mpandas/_libs/hashtable_class_helper.pxi\u001b[0m in \u001b[0;36mpandas._libs.hashtable.PyObjectHashTable.get_item\u001b[0;34m()\u001b[0m\n",
      "\u001b[0;32mpandas/_libs/hashtable_class_helper.pxi\u001b[0m in \u001b[0;36mpandas._libs.hashtable.PyObjectHashTable.get_item\u001b[0;34m()\u001b[0m\n",
      "\u001b[0;31mKeyError\u001b[0m: 'E'"
     ]
    }
   ],
   "source": [
    "# here we create a set of dictionaries\n",
    "# one for each of the MBTI types\n",
    "personality = {}\n",
    "type_sub = 'E I N S T F J P'.split()\n",
    "for pp in type_sub:\n",
    "    df = all_mbti[pp]\n",
    "    personality[pp] = {}\n",
    "    for row in df.get_group(pp)['tokens']:\n",
    "        personality[pp] = bag_of_words_count(row, personality[pp])       "
   ]
  },
  {
   "cell_type": "code",
   "execution_count": 39,
   "metadata": {},
   "outputs": [
    {
     "data": {
      "text/plain": [
       "dict_keys(['ISTJ', 'ISFJ', 'INFJ', 'INTJ', 'ISTP', 'ISFP', 'INFP', 'INTP', 'ESTP', 'ESFP', 'ENFP', 'ENTP', 'ESTJ', 'ESFJ', 'ENFJ', 'ENTJ'])"
      ]
     },
     "execution_count": 39,
     "metadata": {},
     "output_type": "execute_result"
    }
   ],
   "source": [
    "personality.keys()"
   ]
  },
  {
   "cell_type": "code",
   "execution_count": null,
   "metadata": {},
   "outputs": [],
   "source": [
    "personality['ISTJ']"
   ]
  },
  {
   "cell_type": "code",
   "execution_count": 42,
   "metadata": {},
   "outputs": [],
   "source": [
    "ISTJwords = sorted(personality['ISTJ'],key=personality['ISTJ'].get)"
   ]
  },
  {
   "cell_type": "code",
   "execution_count": 43,
   "metadata": {},
   "outputs": [
    {
     "data": {
      "text/plain": [
       "['4',\n",
       " 'months',\n",
       " 'filled',\n",
       " ';',\n",
       " 'challenges',\n",
       " 'joyful',\n",
       " 'positive',\n",
       " 'growth',\n",
       " 'person.',\n",
       " '-meeting',\n",
       " 'met',\n",
       " 'pleasant.',\n",
       " 'listening',\n",
       " 'backgrounds',\n",
       " 'strongest',\n",
       " 'candidates',\n",
       " 'insight',\n",
       " 'gained',\n",
       " 'sql.',\n",
       " 'cherish',\n",
       " 'able',\n",
       " 'build',\n",
       " 'network',\n",
       " 'scientists',\n",
       " 'tomorrow',\n",
       " 'established',\n",
       " 'industry',\n",
       " 'professionals..',\n",
       " 'computer',\n",
       " 'formal',\n",
       " 'environment',\n",
       " 'comes',\n",
       " 'pros',\n",
       " 'cons.',\n",
       " 'useful',\n",
       " '99',\n",
       " 'colleagues',\n",
       " 'technical/personal',\n",
       " 'support',\n",
       " 'net',\n",
       " 'obvious',\n",
       " 'con',\n",
       " 'noise',\n",
       " 'distraction',\n",
       " 'least',\n",
       " 'trending',\n",
       " 'music',\n",
       " 'albums',\n",
       " '2018',\n",
       " 'win',\n",
       " '!',\n",
       " \"'ve\",\n",
       " 'solo',\n",
       " 'professional',\n",
       " 'environment.',\n",
       " 'divided',\n",
       " 'conquered',\n",
       " 'everybody',\n",
       " 'takes',\n",
       " 'part',\n",
       " 'noobs',\n",
       " 'sql',\n",
       " 'gather',\n",
       " 'analyse',\n",
       " 'phases',\n",
       " 'exposed',\n",
       " 'deficiencies',\n",
       " 'frustration',\n",
       " 'came',\n",
       " 'delivering',\n",
       " 'comfort',\n",
       " 'zone',\n",
       " 'patience',\n",
       " 'all.',\n",
       " 'high',\n",
       " 'though',\n",
       " 'complex',\n",
       " 'comfortable',\n",
       " 'dynamic.',\n",
       " 'consistent',\n",
       " 'deliberation.',\n",
       " 'easier',\n",
       " 'person',\n",
       " 'presented',\n",
       " 'clear',\n",
       " 'points',\n",
       " 'opinion',\n",
       " 'was.',\n",
       " 'dynamic',\n",
       " 'felt',\n",
       " 'natural',\n",
       " 'similiar',\n",
       " 'own.',\n",
       " 'process',\n",
       " 'somebody',\n",
       " 'knowledge',\n",
       " 'interpretation',\n",
       " 'required',\n",
       " 'research',\n",
       " 'place',\n",
       " 'logical',\n",
       " 'arrive',\n",
       " 'used',\n",
       " 'channels',\n",
       " 'discuss',\n",
       " 'opposed',\n",
       " 'letting',\n",
       " 'decisions.',\n",
       " '-overall',\n",
       " 'previous',\n",
       " 'role',\n",
       " 'electrical',\n",
       " 'designer',\n",
       " 'smitten',\n",
       " 'analytics',\n",
       " 'electricity',\n",
       " 'metering',\n",
       " 'sector.',\n",
       " 'platform',\n",
       " 'pursue',\n",
       " 'passion',\n",
       " 'broader',\n",
       " 'scope',\n",
       " 'using',\n",
       " 'market',\n",
       " 'leading',\n",
       " 'importantly',\n",
       " 'upgrade',\n",
       " 'skill-set',\n",
       " 'thus',\n",
       " 'opening',\n",
       " 'attending',\n",
       " 'year',\n",
       " 'difference',\n",
       " 'age.',\n",
       " 'cool',\n",
       " 'forced',\n",
       " 'shaky',\n",
       " 'standards.',\n",
       " 'matters',\n",
       " 'interesting',\n",
       " 'grades',\n",
       " 'directly',\n",
       " 'team.',\n",
       " 'varsity',\n",
       " 'must',\n",
       " 'admit',\n",
       " 'characters.',\n",
       " 'optimistic',\n",
       " 'given',\n",
       " 'diverse',\n",
       " 'ages',\n",
       " 'assumption',\n",
       " 'folk',\n",
       " 'hopefully',\n",
       " 'mature.',\n",
       " 'furthermore',\n",
       " 'realize',\n",
       " 'establishing',\n",
       " 'solid',\n",
       " 'authentic',\n",
       " 'stressful',\n",
       " 'actually',\n",
       " 'without',\n",
       " 'fake',\n",
       " 'sake',\n",
       " 'accommodating.',\n",
       " 'real',\n",
       " 'tends',\n",
       " 'around',\n",
       " 'dominant',\n",
       " 'personalities',\n",
       " 'whole.',\n",
       " 'although',\n",
       " 'fundamentally',\n",
       " 'understanding',\n",
       " 'skill',\n",
       " 'set',\n",
       " 'equally',\n",
       " 'distributed',\n",
       " 'happy',\n",
       " 'process.',\n",
       " 'divide',\n",
       " 'conquer',\n",
       " 'learn.',\n",
       " 'lucky',\n",
       " 'ethic',\n",
       " 'dedicated',\n",
       " 'likely',\n",
       " 'help',\n",
       " 'understands',\n",
       " 'complements',\n",
       " 'style.',\n",
       " 'initially',\n",
       " 'admitting',\n",
       " 'deliverables',\n",
       " 'due.',\n",
       " 'journey',\n",
       " 'towards',\n",
       " 'input',\n",
       " 'concerned',\n",
       " 'social',\n",
       " 'refreshing',\n",
       " 'development.',\n",
       " 'reflected',\n",
       " 'reading',\n",
       " 'fan-fiction',\n",
       " 'writing.',\n",
       " 'willing',\n",
       " 'interact',\n",
       " 'paintball',\n",
       " 'friends',\n",
       " 'far',\n",
       " 'sitting',\n",
       " 'casual',\n",
       " 'small',\n",
       " 'talk.',\n",
       " 'applies',\n",
       " 'together.',\n",
       " 'inevitably',\n",
       " 'related',\n",
       " 'such.',\n",
       " 'outside',\n",
       " 'known',\n",
       " 'years',\n",
       " 'identify',\n",
       " 'introvert',\n",
       " 'misconception',\n",
       " 'poor',\n",
       " 'skills',\n",
       " 'case.',\n",
       " 'issues',\n",
       " 'communicating',\n",
       " 'mates',\n",
       " 'class',\n",
       " 'various',\n",
       " 'ranging',\n",
       " 'work-related',\n",
       " 'hobbies',\n",
       " 'sport',\n",
       " 'anime',\n",
       " 'finish',\n",
       " 'roleplaying',\n",
       " 'video',\n",
       " 'game',\n",
       " 'talk',\n",
       " 'science',\n",
       " 'nerdy',\n",
       " 'words',\n",
       " 'need',\n",
       " 'socialise',\n",
       " 'problems',\n",
       " 'so.',\n",
       " 'intuition',\n",
       " 'observation',\n",
       " 'valuable',\n",
       " 'allowed',\n",
       " 'found',\n",
       " 'analysis',\n",
       " 'apply',\n",
       " 'intuition.',\n",
       " 'managed',\n",
       " 'thing.',\n",
       " 'academics',\n",
       " 'regard',\n",
       " 'nature',\n",
       " 'stimulate',\n",
       " 'potentially',\n",
       " 'trait',\n",
       " 'previously',\n",
       " 'naturally',\n",
       " 'suited',\n",
       " 'to.',\n",
       " 'sort',\n",
       " 'force',\n",
       " 'ways',\n",
       " 'weakness',\n",
       " 'strength',\n",
       " 'instead.',\n",
       " 'said',\n",
       " 'sometimes',\n",
       " 'lack',\n",
       " 'coordinated',\n",
       " 'planning',\n",
       " 'among',\n",
       " 'members.',\n",
       " 'keep',\n",
       " 'applied',\n",
       " 'plan.',\n",
       " 'decide',\n",
       " 'certain',\n",
       " 'solving',\n",
       " 'involves',\n",
       " 'ca',\n",
       " 'improvisation',\n",
       " 'ultimate',\n",
       " 'open-minded',\n",
       " 'appear',\n",
       " 'emotion',\n",
       " 'seems',\n",
       " 'rule',\n",
       " 'roost',\n",
       " 'logic',\n",
       " 'seen',\n",
       " 'potential',\n",
       " 'barrier',\n",
       " 'cooperation.',\n",
       " 'becoming',\n",
       " 'affect',\n",
       " 'teamwork',\n",
       " 'negatively',\n",
       " 'long',\n",
       " 'term.',\n",
       " 'excelled',\n",
       " 'bringing',\n",
       " 'personality',\n",
       " 'relevance',\n",
       " 'providing',\n",
       " 'weaknesses',\n",
       " 'strengths',\n",
       " 'instead',\n",
       " 'interests',\n",
       " 'connecting',\n",
       " 'goes',\n",
       " 'group.',\n",
       " 'spoken',\n",
       " 'merely',\n",
       " 'introverts',\n",
       " 'recent',\n",
       " 'nominated',\n",
       " 'coordinator',\n",
       " 'lead',\n",
       " 'acknowledge',\n",
       " 'feeling',\n",
       " 'experienced',\n",
       " 'grew',\n",
       " 'mondays',\n",
       " 'share',\n",
       " 'weekend',\n",
       " 'appreciated',\n",
       " 'position',\n",
       " 'challenge',\n",
       " 'academically.',\n",
       " 'based',\n",
       " 'merits',\n",
       " 'attention',\n",
       " 'account',\n",
       " 'feelings',\n",
       " 'past',\n",
       " 'feel',\n",
       " 'included',\n",
       " 'worth',\n",
       " 'noting',\n",
       " 'individuals',\n",
       " 'contribute',\n",
       " 'barely',\n",
       " 'showed',\n",
       " 'written',\n",
       " 'single',\n",
       " 'line',\n",
       " 'code',\n",
       " 'care',\n",
       " 'presentation',\n",
       " 'ultimately',\n",
       " 'present',\n",
       " 'uncomfortable',\n",
       " 'route',\n",
       " 'diplomacy',\n",
       " 'pleaded',\n",
       " 'morning',\n",
       " 'attend',\n",
       " 'briefings',\n",
       " 'supervisor',\n",
       " 'training',\n",
       " 'sessions',\n",
       " 'next',\n",
       " 'understood',\n",
       " 'meant',\n",
       " 'stallions',\n",
       " 'magnificent',\n",
       " 'sudden',\n",
       " 'paradigm',\n",
       " 'changed',\n",
       " 'originally',\n",
       " 'typed',\n",
       " 'minutes',\n",
       " 'meetings',\n",
       " 'another',\n",
       " 'suggested',\n",
       " 'effective',\n",
       " 'learnt',\n",
       " 'excited',\n",
       " 'bed',\n",
       " 'knowing',\n",
       " 'woke',\n",
       " 'ask',\n",
       " 'for.',\n",
       " 'got',\n",
       " 'leave',\n",
       " 'guide',\n",
       " 'flow',\n",
       " 'miserable',\n",
       " 'tees',\n",
       " 'crossed',\n",
       " 'eyes',\n",
       " 'dotted',\n",
       " 'pleasant',\n",
       " 'bring',\n",
       " 'creativity',\n",
       " 'levels',\n",
       " 'beginning.',\n",
       " 'irrespective',\n",
       " 'sit',\n",
       " 'maybe',\n",
       " 'session',\n",
       " '“',\n",
       " 'getting',\n",
       " '”',\n",
       " 'map',\n",
       " 'strategy',\n",
       " 'significant',\n",
       " 'insignificant',\n",
       " 'resulted',\n",
       " 'particularly',\n",
       " 'enjoyed',\n",
       " 'tools',\n",
       " 'python',\n",
       " '-working',\n",
       " 'together',\n",
       " 'lab',\n",
       " 'supervisors',\n",
       " 'facilitators',\n",
       " 'provide',\n",
       " 'necessary.',\n",
       " 'say',\n",
       " 'worked',\n",
       " 'projects',\n",
       " 'both.',\n",
       " 'works',\n",
       " 'co-ordinator',\n",
       " 'full',\n",
       " 'responsibility',\n",
       " 'technical',\n",
       " 'lot',\n",
       " 'tasks.',\n",
       " 'important',\n",
       " 'lesson',\n",
       " 'second',\n",
       " 'level',\n",
       " '-how',\n",
       " 'groups',\n",
       " 'emotional',\n",
       " 'could',\n",
       " 'solution.',\n",
       " 'rely',\n",
       " 'thinking',\n",
       " 'regarding',\n",
       " 'open',\n",
       " 'communication',\n",
       " 'opportunities',\n",
       " 'idea',\n",
       " 'issue',\n",
       " 'bit',\n",
       " 'dependent',\n",
       " 'interaction',\n",
       " 'similar',\n",
       " 'roles',\n",
       " 'seem',\n",
       " 'trying',\n",
       " 'trust',\n",
       " 'perspective',\n",
       " 'interest',\n",
       " 'always',\n",
       " 'approach',\n",
       " 'delivery',\n",
       " 'project.',\n",
       " 'overall',\n",
       " 'someone',\n",
       " 'case',\n",
       " 'think',\n",
       " 'get',\n",
       " 'especially',\n",
       " 'give',\n",
       " 'less',\n",
       " 'become',\n",
       " 'impact',\n",
       " 'prefer',\n",
       " 'myself.',\n",
       " 'gaming',\n",
       " 'lounge',\n",
       " 'rather',\n",
       " 'essentially',\n",
       " 'talking',\n",
       " 'topics',\n",
       " 'coding',\n",
       " 'generally',\n",
       " 'things.',\n",
       " 'traits',\n",
       " 'scientist',\n",
       " 'team-based',\n",
       " 'utilise',\n",
       " 'often',\n",
       " 'done',\n",
       " 'different',\n",
       " 'everything',\n",
       " 'course',\n",
       " 'well.',\n",
       " 'thought',\n",
       " 'overcome',\n",
       " 'involved',\n",
       " 'dashboard',\n",
       " 'mean',\n",
       " 'improvise.',\n",
       " 'way',\n",
       " 'students',\n",
       " 'assigned',\n",
       " 'never',\n",
       " 'put',\n",
       " 'grow',\n",
       " 'efficient',\n",
       " 'left',\n",
       " 'member',\n",
       " 'two',\n",
       " 'went',\n",
       " 'planned',\n",
       " '‘',\n",
       " 'many',\n",
       " 'experiences',\n",
       " 'enjoy',\n",
       " 'provided',\n",
       " 'well',\n",
       " 'know',\n",
       " 'dynamics',\n",
       " 'members',\n",
       " 'took',\n",
       " 'strong',\n",
       " 'even',\n",
       " 'rational',\n",
       " 'problem',\n",
       " 'emotions',\n",
       " 'project',\n",
       " 'tend',\n",
       " 'come',\n",
       " 'may',\n",
       " 'agree',\n",
       " 'personal',\n",
       " 'good',\n",
       " 'trello',\n",
       " 'first',\n",
       " 'edsa',\n",
       " 'meeting',\n",
       " 'within',\n",
       " 'also',\n",
       " \"'s\",\n",
       " 'plan',\n",
       " '(',\n",
       " ')',\n",
       " 'really',\n",
       " 'take',\n",
       " 'workplace',\n",
       " 'find',\n",
       " 'end',\n",
       " 'day',\n",
       " 'others',\n",
       " 'like',\n",
       " '&',\n",
       " 'data',\n",
       " 'time',\n",
       " 'us',\n",
       " 'made',\n",
       " 'decision',\n",
       " '.',\n",
       " 'however',\n",
       " 'things',\n",
       " 'something',\n",
       " 'one',\n",
       " 'every',\n",
       " '’',\n",
       " 'everyone',\n",
       " 'teams',\n",
       " 'making',\n",
       " '-',\n",
       " 'experience',\n",
       " 'working',\n",
       " 'would',\n",
       " 'best',\n",
       " 'decisions',\n",
       " 'make',\n",
       " 'academy',\n",
       " 'new',\n",
       " \"n't\",\n",
       " 'people',\n",
       " 'work',\n",
       " 'group',\n",
       " '--',\n",
       " 'team',\n",
       " ',']"
      ]
     },
     "execution_count": 43,
     "metadata": {},
     "output_type": "execute_result"
    }
   ],
   "source": [
    "ISTJwords"
   ]
  },
  {
   "cell_type": "code",
   "execution_count": 42,
   "metadata": {},
   "outputs": [],
   "source": [
    "# next we create a list of all of the unique words...\n",
    "all_words = set()\n",
    "for pp in type_labels:\n",
    "    for word in personality[pp]:\n",
    "        all_words.add(word)"
   ]
  },
  {
   "cell_type": "code",
   "execution_count": 43,
   "metadata": {},
   "outputs": [],
   "source": [
    "# so that we can create a dictionary of bag of words for the whole dataset\n",
    "personality['all'] = {}\n",
    "for pp in type_labels:    \n",
    "    for word in all_words:\n",
    "        if word in personality[pp].keys():\n",
    "            if word in personality['all']:\n",
    "                personality['all'][word] += personality[pp][word]\n",
    "            else:\n",
    "                personality['all'][word] = personality[pp][word]"
   ]
  },
  {
   "cell_type": "markdown",
   "metadata": {},
   "source": [
    "There are a lot of words that only appear once! Let's remove them."
   ]
  },
  {
   "cell_type": "code",
   "execution_count": 45,
   "metadata": {},
   "outputs": [
    {
     "data": {
      "text/plain": [
       "8206375"
      ]
     },
     "execution_count": 45,
     "metadata": {},
     "output_type": "execute_result"
    }
   ],
   "source": [
    "# how many words in total?\n",
    "sum([v for v in personality['all'].values()])"
   ]
  },
  {
   "cell_type": "code",
   "execution_count": 46,
   "metadata": {},
   "outputs": [
    {
     "data": {
      "text/plain": [
       "80839"
      ]
     },
     "execution_count": 46,
     "metadata": {},
     "output_type": "execute_result"
    }
   ],
   "source": [
    "# how many words appear only once?\n",
    "len([v for v in personality['all'].values() if v == 1])"
   ]
  },
  {
   "cell_type": "code",
   "execution_count": 47,
   "metadata": {},
   "outputs": [
    {
     "name": "stdout",
     "output_type": "stream",
     "text": [
      "4269\n",
      "7581200\n"
     ]
    }
   ],
   "source": [
    "# how many words appear more than 100 times?\n",
    "# how many words of the total does that account for?\n",
    "print (len([v for v in personality['all'].values() if v >= 100]))\n",
    "print (sum([v for v in personality['all'].values() if v >= 100]))"
   ]
  },
  {
   "cell_type": "code",
   "execution_count": 48,
   "metadata": {},
   "outputs": [
    {
     "data": {
      "text/plain": [
       "0.9238183729113038"
      ]
     },
     "execution_count": 48,
     "metadata": {},
     "output_type": "execute_result"
    }
   ],
   "source": [
    "7581200/8206375"
   ]
  },
  {
   "cell_type": "markdown",
   "metadata": {},
   "source": [
    "Using words that appear more than 100 times seems much more useful!  And this accounts for 92% of all the words!"
   ]
  },
  {
   "cell_type": "code",
   "execution_count": 49,
   "metadata": {},
   "outputs": [],
   "source": [
    "max_count = 100\n",
    "word_index = [k for k, v in personality['all'].items() if v > max_count]"
   ]
  },
  {
   "cell_type": "code",
   "execution_count": 50,
   "metadata": {},
   "outputs": [],
   "source": [
    "# now let's create one big data frame with the word counts by personality profile\n",
    "hm = []\n",
    "for p, p_bow in personality.items():\n",
    "    df_bow = pd.DataFrame([(k, v) for k, v in p_bow.items() if k in word_index], columns=['Word', p])\n",
    "    df_bow.set_index('Word', inplace=True)\n",
    "    hm.append(df_bow)\n",
    "\n",
    "# create one big data frame\n",
    "df_bow = pd.concat(hm, axis=1)\n",
    "df_bow.fillna(0, inplace=True)"
   ]
  },
  {
   "cell_type": "code",
   "execution_count": 51,
   "metadata": {},
   "outputs": [
    {
     "data": {
      "text/html": [
       "<div>\n",
       "<style>\n",
       "    .dataframe thead tr:only-child th {\n",
       "        text-align: right;\n",
       "    }\n",
       "\n",
       "    .dataframe thead th {\n",
       "        text-align: left;\n",
       "    }\n",
       "\n",
       "    .dataframe tbody tr th {\n",
       "        vertical-align: top;\n",
       "    }\n",
       "</style>\n",
       "<table border=\"1\" class=\"dataframe\">\n",
       "  <thead>\n",
       "    <tr style=\"text-align: right;\">\n",
       "      <th></th>\n",
       "      <th>ISTJ</th>\n",
       "      <th>ISFJ</th>\n",
       "      <th>INFJ</th>\n",
       "      <th>INTJ</th>\n",
       "      <th>ISTP</th>\n",
       "      <th>ISFP</th>\n",
       "      <th>INFP</th>\n",
       "      <th>INTP</th>\n",
       "      <th>ESTP</th>\n",
       "      <th>ESFP</th>\n",
       "      <th>ENFP</th>\n",
       "      <th>ENTP</th>\n",
       "      <th>ESTJ</th>\n",
       "      <th>ESFJ</th>\n",
       "      <th>ENFJ</th>\n",
       "      <th>ENTJ</th>\n",
       "      <th>all</th>\n",
       "    </tr>\n",
       "  </thead>\n",
       "  <tbody>\n",
       "    <tr>\n",
       "      <th>i</th>\n",
       "      <td>8172.0</td>\n",
       "      <td>8044.0</td>\n",
       "      <td>67871</td>\n",
       "      <td>43864</td>\n",
       "      <td>13883.0</td>\n",
       "      <td>11148.0</td>\n",
       "      <td>87712</td>\n",
       "      <td>52115</td>\n",
       "      <td>3704.0</td>\n",
       "      <td>1696.0</td>\n",
       "      <td>31198.0</td>\n",
       "      <td>27403</td>\n",
       "      <td>1856.0</td>\n",
       "      <td>2168.0</td>\n",
       "      <td>8687.0</td>\n",
       "      <td>8881.0</td>\n",
       "      <td>378402</td>\n",
       "    </tr>\n",
       "    <tr>\n",
       "      <th>the</th>\n",
       "      <td>5143.0</td>\n",
       "      <td>4111.0</td>\n",
       "      <td>39663</td>\n",
       "      <td>30500</td>\n",
       "      <td>8893.0</td>\n",
       "      <td>6131.0</td>\n",
       "      <td>48008</td>\n",
       "      <td>35868</td>\n",
       "      <td>2191.0</td>\n",
       "      <td>937.0</td>\n",
       "      <td>16454.0</td>\n",
       "      <td>18994</td>\n",
       "      <td>1000.0</td>\n",
       "      <td>1200.0</td>\n",
       "      <td>5019.0</td>\n",
       "      <td>6135.0</td>\n",
       "      <td>230247</td>\n",
       "    </tr>\n",
       "    <tr>\n",
       "      <th>to</th>\n",
       "      <td>5106.0</td>\n",
       "      <td>4607.0</td>\n",
       "      <td>40231</td>\n",
       "      <td>28753</td>\n",
       "      <td>8725.0</td>\n",
       "      <td>6264.0</td>\n",
       "      <td>48996</td>\n",
       "      <td>33005</td>\n",
       "      <td>2254.0</td>\n",
       "      <td>972.0</td>\n",
       "      <td>16945.0</td>\n",
       "      <td>17852</td>\n",
       "      <td>1078.0</td>\n",
       "      <td>1223.0</td>\n",
       "      <td>5471.0</td>\n",
       "      <td>5889.0</td>\n",
       "      <td>227371</td>\n",
       "    </tr>\n",
       "    <tr>\n",
       "      <th>a</th>\n",
       "      <td>4033.0</td>\n",
       "      <td>3333.0</td>\n",
       "      <td>31932</td>\n",
       "      <td>22780</td>\n",
       "      <td>7124.0</td>\n",
       "      <td>4825.0</td>\n",
       "      <td>40376</td>\n",
       "      <td>26693</td>\n",
       "      <td>1868.0</td>\n",
       "      <td>796.0</td>\n",
       "      <td>13847.0</td>\n",
       "      <td>14728</td>\n",
       "      <td>841.0</td>\n",
       "      <td>986.0</td>\n",
       "      <td>3966.0</td>\n",
       "      <td>4748.0</td>\n",
       "      <td>182876</td>\n",
       "    </tr>\n",
       "    <tr>\n",
       "      <th>and</th>\n",
       "      <td>3827.0</td>\n",
       "      <td>3571.0</td>\n",
       "      <td>31628</td>\n",
       "      <td>21568</td>\n",
       "      <td>6540.0</td>\n",
       "      <td>5153.0</td>\n",
       "      <td>40710</td>\n",
       "      <td>24881</td>\n",
       "      <td>1905.0</td>\n",
       "      <td>834.0</td>\n",
       "      <td>15002.0</td>\n",
       "      <td>14236</td>\n",
       "      <td>943.0</td>\n",
       "      <td>988.0</td>\n",
       "      <td>4343.0</td>\n",
       "      <td>4564.0</td>\n",
       "      <td>180693</td>\n",
       "    </tr>\n",
       "    <tr>\n",
       "      <th>of</th>\n",
       "      <td>2976.0</td>\n",
       "      <td>2475.0</td>\n",
       "      <td>24312</td>\n",
       "      <td>17857</td>\n",
       "      <td>4962.0</td>\n",
       "      <td>3580.0</td>\n",
       "      <td>29576</td>\n",
       "      <td>21372</td>\n",
       "      <td>1300.0</td>\n",
       "      <td>557.0</td>\n",
       "      <td>10217.0</td>\n",
       "      <td>11335</td>\n",
       "      <td>650.0</td>\n",
       "      <td>779.0</td>\n",
       "      <td>3114.0</td>\n",
       "      <td>3499.0</td>\n",
       "      <td>138561</td>\n",
       "    </tr>\n",
       "    <tr>\n",
       "      <th>you</th>\n",
       "      <td>2734.0</td>\n",
       "      <td>2186.0</td>\n",
       "      <td>22221</td>\n",
       "      <td>16010</td>\n",
       "      <td>4696.0</td>\n",
       "      <td>3332.0</td>\n",
       "      <td>24971</td>\n",
       "      <td>17197</td>\n",
       "      <td>1396.0</td>\n",
       "      <td>651.0</td>\n",
       "      <td>10329.0</td>\n",
       "      <td>10882</td>\n",
       "      <td>653.0</td>\n",
       "      <td>639.0</td>\n",
       "      <td>3050.0</td>\n",
       "      <td>3815.0</td>\n",
       "      <td>124762</td>\n",
       "    </tr>\n",
       "    <tr>\n",
       "      <th>that</th>\n",
       "      <td>2207.0</td>\n",
       "      <td>2033.0</td>\n",
       "      <td>19445</td>\n",
       "      <td>14436</td>\n",
       "      <td>4055.0</td>\n",
       "      <td>2931.0</td>\n",
       "      <td>23445</td>\n",
       "      <td>16396</td>\n",
       "      <td>1063.0</td>\n",
       "      <td>550.0</td>\n",
       "      <td>8591.0</td>\n",
       "      <td>8949</td>\n",
       "      <td>521.0</td>\n",
       "      <td>615.0</td>\n",
       "      <td>2614.0</td>\n",
       "      <td>2907.0</td>\n",
       "      <td>110758</td>\n",
       "    </tr>\n",
       "    <tr>\n",
       "      <th>it</th>\n",
       "      <td>2290.0</td>\n",
       "      <td>2046.0</td>\n",
       "      <td>18376</td>\n",
       "      <td>13179</td>\n",
       "      <td>4244.0</td>\n",
       "      <td>2909.0</td>\n",
       "      <td>22537</td>\n",
       "      <td>15708</td>\n",
       "      <td>1065.0</td>\n",
       "      <td>434.0</td>\n",
       "      <td>8028.0</td>\n",
       "      <td>8265</td>\n",
       "      <td>469.0</td>\n",
       "      <td>490.0</td>\n",
       "      <td>2280.0</td>\n",
       "      <td>2604.0</td>\n",
       "      <td>104924</td>\n",
       "    </tr>\n",
       "    <tr>\n",
       "      <th>is</th>\n",
       "      <td>2186.0</td>\n",
       "      <td>1879.0</td>\n",
       "      <td>18237</td>\n",
       "      <td>14293</td>\n",
       "      <td>3704.0</td>\n",
       "      <td>2726.0</td>\n",
       "      <td>21068</td>\n",
       "      <td>15889</td>\n",
       "      <td>1121.0</td>\n",
       "      <td>482.0</td>\n",
       "      <td>7769.0</td>\n",
       "      <td>8904</td>\n",
       "      <td>554.0</td>\n",
       "      <td>565.0</td>\n",
       "      <td>2404.0</td>\n",
       "      <td>3000.0</td>\n",
       "      <td>104781</td>\n",
       "    </tr>\n",
       "  </tbody>\n",
       "</table>\n",
       "</div>"
      ],
      "text/plain": [
       "        ISTJ    ISFJ   INFJ   INTJ     ISTP     ISFP   INFP   INTP    ESTP  \\\n",
       "i     8172.0  8044.0  67871  43864  13883.0  11148.0  87712  52115  3704.0   \n",
       "the   5143.0  4111.0  39663  30500   8893.0   6131.0  48008  35868  2191.0   \n",
       "to    5106.0  4607.0  40231  28753   8725.0   6264.0  48996  33005  2254.0   \n",
       "a     4033.0  3333.0  31932  22780   7124.0   4825.0  40376  26693  1868.0   \n",
       "and   3827.0  3571.0  31628  21568   6540.0   5153.0  40710  24881  1905.0   \n",
       "of    2976.0  2475.0  24312  17857   4962.0   3580.0  29576  21372  1300.0   \n",
       "you   2734.0  2186.0  22221  16010   4696.0   3332.0  24971  17197  1396.0   \n",
       "that  2207.0  2033.0  19445  14436   4055.0   2931.0  23445  16396  1063.0   \n",
       "it    2290.0  2046.0  18376  13179   4244.0   2909.0  22537  15708  1065.0   \n",
       "is    2186.0  1879.0  18237  14293   3704.0   2726.0  21068  15889  1121.0   \n",
       "\n",
       "        ESFP     ENFP   ENTP    ESTJ    ESFJ    ENFJ    ENTJ     all  \n",
       "i     1696.0  31198.0  27403  1856.0  2168.0  8687.0  8881.0  378402  \n",
       "the    937.0  16454.0  18994  1000.0  1200.0  5019.0  6135.0  230247  \n",
       "to     972.0  16945.0  17852  1078.0  1223.0  5471.0  5889.0  227371  \n",
       "a      796.0  13847.0  14728   841.0   986.0  3966.0  4748.0  182876  \n",
       "and    834.0  15002.0  14236   943.0   988.0  4343.0  4564.0  180693  \n",
       "of     557.0  10217.0  11335   650.0   779.0  3114.0  3499.0  138561  \n",
       "you    651.0  10329.0  10882   653.0   639.0  3050.0  3815.0  124762  \n",
       "that   550.0   8591.0   8949   521.0   615.0  2614.0  2907.0  110758  \n",
       "it     434.0   8028.0   8265   469.0   490.0  2280.0  2604.0  104924  \n",
       "is     482.0   7769.0   8904   554.0   565.0  2404.0  3000.0  104781  "
      ]
     },
     "execution_count": 51,
     "metadata": {},
     "output_type": "execute_result"
    }
   ],
   "source": [
    "# what are the top 10 words that appear most often?\n",
    "df_bow.sort_values(by='all', ascending=False).head(10)"
   ]
  },
  {
   "cell_type": "markdown",
   "metadata": {},
   "source": [
    "Thats not very helpful at all, is it! Its very difficult to extract insight from this data.  Lets see if we can use the $chi^2$ test to see whether Introverts favour the word **`I`**"
   ]
  },
  {
   "cell_type": "code",
   "execution_count": 52,
   "metadata": {},
   "outputs": [],
   "source": [
    "intro_types = [p for p in type_labels if p[0] == 'I']"
   ]
  },
  {
   "cell_type": "code",
   "execution_count": 53,
   "metadata": {},
   "outputs": [
    {
     "data": {
      "text/plain": [
       "['ISTJ', 'ISFJ', 'INFJ', 'INTJ', 'ISTP', 'ISFP', 'INFP', 'INTP']"
      ]
     },
     "execution_count": 53,
     "metadata": {},
     "output_type": "execute_result"
    }
   ],
   "source": [
    "intro_types"
   ]
  },
  {
   "cell_type": "code",
   "execution_count": 54,
   "metadata": {},
   "outputs": [],
   "source": [
    "df_bow['I'] = df_bow[intro_types].sum(axis=1)"
   ]
  },
  {
   "cell_type": "code",
   "execution_count": null,
   "metadata": {},
   "outputs": [],
   "source": []
  },
  {
   "cell_type": "code",
   "execution_count": 55,
   "metadata": {},
   "outputs": [],
   "source": [
    "# convert to percentages\n",
    "for col in ['I', 'all']:\n",
    "    df_bow[col+'_perc'] = df_bow[col] / df_bow[col].sum()"
   ]
  },
  {
   "cell_type": "markdown",
   "metadata": {},
   "source": [
    "Do you remember the chi2 test from the CINDY framework?  This looks at observed versus expected results and lets us know where the greatest differences from expected are.  The bigger the statistic, the greater the difference from expectation.  The formula is \n",
    "\n",
    "$$𝑐ℎ𝑖^2 = \\sum{\\frac{(𝑂𝑏𝑠𝑒𝑟𝑣𝑒𝑑 −𝑒𝑥𝑝𝑒𝑐𝑡𝑒𝑑)^2}{𝑒𝑥𝑝𝑒𝑐𝑡𝑒𝑑}}$$"
   ]
  },
  {
   "cell_type": "code",
   "execution_count": 56,
   "metadata": {},
   "outputs": [],
   "source": [
    "df_bow['chi2'] = np.power((df_bow['I_perc'] - df_bow['all_perc']), 2) / df_bow['all_perc']"
   ]
  },
  {
   "cell_type": "code",
   "execution_count": 57,
   "metadata": {},
   "outputs": [
    {
     "data": {
      "text/html": [
       "<div>\n",
       "<style>\n",
       "    .dataframe thead tr:only-child th {\n",
       "        text-align: right;\n",
       "    }\n",
       "\n",
       "    .dataframe thead th {\n",
       "        text-align: left;\n",
       "    }\n",
       "\n",
       "    .dataframe tbody tr th {\n",
       "        vertical-align: top;\n",
       "    }\n",
       "</style>\n",
       "<table border=\"1\" class=\"dataframe\">\n",
       "  <thead>\n",
       "    <tr style=\"text-align: right;\">\n",
       "      <th></th>\n",
       "      <th>I_perc</th>\n",
       "      <th>all_perc</th>\n",
       "      <th>chi2</th>\n",
       "    </tr>\n",
       "  </thead>\n",
       "  <tbody>\n",
       "    <tr>\n",
       "      <th>urlweb</th>\n",
       "      <td>0.002971</td>\n",
       "      <td>0.002756</td>\n",
       "      <td>0.000017</td>\n",
       "    </tr>\n",
       "    <tr>\n",
       "      <th>infp</th>\n",
       "      <td>0.001318</td>\n",
       "      <td>0.001179</td>\n",
       "      <td>0.000016</td>\n",
       "    </tr>\n",
       "    <tr>\n",
       "      <th>infj</th>\n",
       "      <td>0.001173</td>\n",
       "      <td>0.001075</td>\n",
       "      <td>0.000009</td>\n",
       "    </tr>\n",
       "    <tr>\n",
       "      <th>infps</th>\n",
       "      <td>0.000491</td>\n",
       "      <td>0.000435</td>\n",
       "      <td>0.000007</td>\n",
       "    </tr>\n",
       "    <tr>\n",
       "      <th>infjs</th>\n",
       "      <td>0.000415</td>\n",
       "      <td>0.000366</td>\n",
       "      <td>0.000007</td>\n",
       "    </tr>\n",
       "    <tr>\n",
       "      <th>intp</th>\n",
       "      <td>0.000988</td>\n",
       "      <td>0.000918</td>\n",
       "      <td>0.000005</td>\n",
       "    </tr>\n",
       "    <tr>\n",
       "      <th>my</th>\n",
       "      <td>0.012716</td>\n",
       "      <td>0.012501</td>\n",
       "      <td>0.000004</td>\n",
       "    </tr>\n",
       "    <tr>\n",
       "      <th>i</th>\n",
       "      <td>0.050350</td>\n",
       "      <td>0.049933</td>\n",
       "      <td>0.000003</td>\n",
       "    </tr>\n",
       "    <tr>\n",
       "      <th>intps</th>\n",
       "      <td>0.000366</td>\n",
       "      <td>0.000332</td>\n",
       "      <td>0.000003</td>\n",
       "    </tr>\n",
       "    <tr>\n",
       "      <th>in</th>\n",
       "      <td>0.013036</td>\n",
       "      <td>0.012836</td>\n",
       "      <td>0.000003</td>\n",
       "    </tr>\n",
       "  </tbody>\n",
       "</table>\n",
       "</div>"
      ],
      "text/plain": [
       "          I_perc  all_perc      chi2\n",
       "urlweb  0.002971  0.002756  0.000017\n",
       "infp    0.001318  0.001179  0.000016\n",
       "infj    0.001173  0.001075  0.000009\n",
       "infps   0.000491  0.000435  0.000007\n",
       "infjs   0.000415  0.000366  0.000007\n",
       "intp    0.000988  0.000918  0.000005\n",
       "my      0.012716  0.012501  0.000004\n",
       "i       0.050350  0.049933  0.000003\n",
       "intps   0.000366  0.000332  0.000003\n",
       "in      0.013036  0.012836  0.000003"
      ]
     },
     "execution_count": 57,
     "metadata": {},
     "output_type": "execute_result"
    }
   ],
   "source": [
    "df_bow[['I_perc', 'all_perc', 'chi2']][df_bow['I_perc'] > df_bow['all_perc']].sort_values(by='chi2', ascending=False).head(10)"
   ]
  },
  {
   "cell_type": "markdown",
   "metadata": {},
   "source": [
    "And there it is! What can we conclude from this:\n",
    "* I is the 8th most introverted word, by expectation\n",
    "* Introverts tend to post more urls than extroverted people too! \n",
    "* The introverted types are more likely to be written by Introverts, maybe because people post about their own types?"
   ]
  },
  {
   "cell_type": "code",
   "execution_count": 58,
   "metadata": {},
   "outputs": [
    {
     "data": {
      "text/html": [
       "<div>\n",
       "<style>\n",
       "    .dataframe thead tr:only-child th {\n",
       "        text-align: right;\n",
       "    }\n",
       "\n",
       "    .dataframe thead th {\n",
       "        text-align: left;\n",
       "    }\n",
       "\n",
       "    .dataframe tbody tr th {\n",
       "        vertical-align: top;\n",
       "    }\n",
       "</style>\n",
       "<table border=\"1\" class=\"dataframe\">\n",
       "  <thead>\n",
       "    <tr style=\"text-align: right;\">\n",
       "      <th></th>\n",
       "      <th>I_perc</th>\n",
       "      <th>all_perc</th>\n",
       "      <th>chi2</th>\n",
       "    </tr>\n",
       "  </thead>\n",
       "  <tbody>\n",
       "    <tr>\n",
       "      <th>enfp</th>\n",
       "      <td>0.000479</td>\n",
       "      <td>0.000767</td>\n",
       "      <td>0.000108</td>\n",
       "    </tr>\n",
       "    <tr>\n",
       "      <th>entp</th>\n",
       "      <td>0.000397</td>\n",
       "      <td>0.000666</td>\n",
       "      <td>0.000108</td>\n",
       "    </tr>\n",
       "    <tr>\n",
       "      <th>entps</th>\n",
       "      <td>0.000119</td>\n",
       "      <td>0.000238</td>\n",
       "      <td>0.000060</td>\n",
       "    </tr>\n",
       "    <tr>\n",
       "      <th>enfps</th>\n",
       "      <td>0.000137</td>\n",
       "      <td>0.000241</td>\n",
       "      <td>0.000045</td>\n",
       "    </tr>\n",
       "    <tr>\n",
       "      <th>entj</th>\n",
       "      <td>0.000259</td>\n",
       "      <td>0.000380</td>\n",
       "      <td>0.000038</td>\n",
       "    </tr>\n",
       "    <tr>\n",
       "      <th>enfj</th>\n",
       "      <td>0.000288</td>\n",
       "      <td>0.000375</td>\n",
       "      <td>0.000020</td>\n",
       "    </tr>\n",
       "    <tr>\n",
       "      <th>estp</th>\n",
       "      <td>0.000231</td>\n",
       "      <td>0.000304</td>\n",
       "      <td>0.000017</td>\n",
       "    </tr>\n",
       "    <tr>\n",
       "      <th>entjs</th>\n",
       "      <td>0.000067</td>\n",
       "      <td>0.000111</td>\n",
       "      <td>0.000017</td>\n",
       "    </tr>\n",
       "    <tr>\n",
       "      <th>d</th>\n",
       "      <td>0.000378</td>\n",
       "      <td>0.000452</td>\n",
       "      <td>0.000012</td>\n",
       "    </tr>\n",
       "    <tr>\n",
       "      <th>enfjs</th>\n",
       "      <td>0.000076</td>\n",
       "      <td>0.000112</td>\n",
       "      <td>0.000012</td>\n",
       "    </tr>\n",
       "    <tr>\n",
       "      <th>ne</th>\n",
       "      <td>0.000268</td>\n",
       "      <td>0.000329</td>\n",
       "      <td>0.000011</td>\n",
       "    </tr>\n",
       "    <tr>\n",
       "      <th>you</th>\n",
       "      <td>0.016052</td>\n",
       "      <td>0.016463</td>\n",
       "      <td>0.000010</td>\n",
       "    </tr>\n",
       "    <tr>\n",
       "      <th>7w6</th>\n",
       "      <td>0.000020</td>\n",
       "      <td>0.000041</td>\n",
       "      <td>0.000010</td>\n",
       "    </tr>\n",
       "    <tr>\n",
       "      <th>7w8</th>\n",
       "      <td>0.000012</td>\n",
       "      <td>0.000028</td>\n",
       "      <td>0.000009</td>\n",
       "    </tr>\n",
       "    <tr>\n",
       "      <th>he</th>\n",
       "      <td>0.002517</td>\n",
       "      <td>0.002670</td>\n",
       "      <td>0.000009</td>\n",
       "    </tr>\n",
       "    <tr>\n",
       "      <th>lol</th>\n",
       "      <td>0.000775</td>\n",
       "      <td>0.000855</td>\n",
       "      <td>0.000007</td>\n",
       "    </tr>\n",
       "    <tr>\n",
       "      <th>estps</th>\n",
       "      <td>0.000043</td>\n",
       "      <td>0.000065</td>\n",
       "      <td>0.000007</td>\n",
       "    </tr>\n",
       "    <tr>\n",
       "      <th>esfj</th>\n",
       "      <td>0.000249</td>\n",
       "      <td>0.000294</td>\n",
       "      <td>0.000007</td>\n",
       "    </tr>\n",
       "    <tr>\n",
       "      <th>an</th>\n",
       "      <td>0.005860</td>\n",
       "      <td>0.006061</td>\n",
       "      <td>0.000007</td>\n",
       "    </tr>\n",
       "    <tr>\n",
       "      <th>esfp</th>\n",
       "      <td>0.000231</td>\n",
       "      <td>0.000271</td>\n",
       "      <td>0.000006</td>\n",
       "    </tr>\n",
       "  </tbody>\n",
       "</table>\n",
       "</div>"
      ],
      "text/plain": [
       "         I_perc  all_perc      chi2\n",
       "enfp   0.000479  0.000767  0.000108\n",
       "entp   0.000397  0.000666  0.000108\n",
       "entps  0.000119  0.000238  0.000060\n",
       "enfps  0.000137  0.000241  0.000045\n",
       "entj   0.000259  0.000380  0.000038\n",
       "enfj   0.000288  0.000375  0.000020\n",
       "estp   0.000231  0.000304  0.000017\n",
       "entjs  0.000067  0.000111  0.000017\n",
       "d      0.000378  0.000452  0.000012\n",
       "enfjs  0.000076  0.000112  0.000012\n",
       "ne     0.000268  0.000329  0.000011\n",
       "you    0.016052  0.016463  0.000010\n",
       "7w6    0.000020  0.000041  0.000010\n",
       "7w8    0.000012  0.000028  0.000009\n",
       "he     0.002517  0.002670  0.000009\n",
       "lol    0.000775  0.000855  0.000007\n",
       "estps  0.000043  0.000065  0.000007\n",
       "esfj   0.000249  0.000294  0.000007\n",
       "an     0.005860  0.006061  0.000007\n",
       "esfp   0.000231  0.000271  0.000006"
      ]
     },
     "execution_count": 58,
     "metadata": {},
     "output_type": "execute_result"
    }
   ],
   "source": [
    "df_bow[['I_perc', 'all_perc', 'chi2']][df_bow['I_perc'] < df_bow['all_perc']].sort_values(by='chi2', ascending=False).head(20)"
   ]
  },
  {
   "cell_type": "markdown",
   "metadata": {},
   "source": [
    "# Now that we have done all of that, lets cheat!"
   ]
  },
  {
   "cell_type": "markdown",
   "metadata": {},
   "source": [
    "Praise be to Python...\n",
    "\n",
    "sklearn has a built in text feature extraction module called [CountVectorizer](http://scikit-learn.org/stable/modules/generated/sklearn.feature_extraction.text.CountVectorizer.html) that will literally do all that work in one line of code!\n",
    "\n",
    "\n",
    "This function converts a collection of text documents to a matrix of token counts.\n",
    "\n",
    "This implementation produces a sparse representation of the counts using scipy.sparse.csr_matrix.\n",
    "\n",
    "If you do not provide an a-priori dictionary and you do not use an analyzer that does some kind of feature selection then the number of features will be equal to the vocabulary size found by analyzing the data."
   ]
  },
  {
   "cell_type": "code",
   "execution_count": 59,
   "metadata": {},
   "outputs": [],
   "source": [
    "from sklearn.feature_extraction.text import CountVectorizer"
   ]
  },
  {
   "cell_type": "code",
   "execution_count": 60,
   "metadata": {},
   "outputs": [],
   "source": [
    "vect = CountVectorizer()"
   ]
  },
  {
   "cell_type": "code",
   "execution_count": 61,
   "metadata": {},
   "outputs": [
    {
     "data": {
      "text/plain": [
       "CountVectorizer(analyzer='word', binary=False, decode_error='strict',\n",
       "        dtype=<class 'numpy.int64'>, encoding='utf-8', input='content',\n",
       "        lowercase=True, max_df=1.0, max_features=None, min_df=1,\n",
       "        ngram_range=(1, 1), preprocessor=None, stop_words=None,\n",
       "        strip_accents=None, token_pattern='(?u)\\\\b\\\\w\\\\w+\\\\b',\n",
       "        tokenizer=None, vocabulary=None)"
      ]
     },
     "execution_count": 61,
     "metadata": {},
     "output_type": "execute_result"
    }
   ],
   "source": [
    "vect.fit(all_mbti['post'])"
   ]
  },
  {
   "cell_type": "markdown",
   "metadata": {},
   "source": [
    "## Tuning the vectorizer (discussion)\n",
    "\n",
    "Thus far, we have been using the default parameters of [CountVectorizer](http://scikit-learn.org/stable/modules/generated/sklearn.feature_extraction.text.CountVectorizer.html):"
   ]
  },
  {
   "cell_type": "code",
   "execution_count": 62,
   "metadata": {},
   "outputs": [
    {
     "data": {
      "text/plain": [
       "CountVectorizer(analyzer='word', binary=False, decode_error='strict',\n",
       "        dtype=<class 'numpy.int64'>, encoding='utf-8', input='content',\n",
       "        lowercase=True, max_df=1.0, max_features=None, min_df=1,\n",
       "        ngram_range=(1, 1), preprocessor=None, stop_words=None,\n",
       "        strip_accents=None, token_pattern='(?u)\\\\b\\\\w\\\\w+\\\\b',\n",
       "        tokenizer=None, vocabulary=None)"
      ]
     },
     "execution_count": 62,
     "metadata": {},
     "output_type": "execute_result"
    }
   ],
   "source": [
    "### show default parameters for CountVectorizer\n",
    "vect"
   ]
  },
  {
   "cell_type": "markdown",
   "metadata": {},
   "source": [
    "However, the vectorizer is worth tuning, just like a model is worth tuning! Here are a few parameters that you might want to tune:"
   ]
  },
  {
   "cell_type": "markdown",
   "metadata": {},
   "source": [
    "- **stop_words:** string {'english'}, list, or None (default)\n",
    "    - If 'english', a built-in stop word list for English is used.\n",
    "    - If a list, that list is assumed to contain stop words, all of which will be removed from the resulting tokens.\n",
    "    - If None, no stop words will be used."
   ]
  },
  {
   "cell_type": "code",
   "execution_count": 63,
   "metadata": {},
   "outputs": [],
   "source": [
    "# remove English stop words\n",
    "vect = CountVectorizer(stop_words='english')"
   ]
  },
  {
   "cell_type": "markdown",
   "metadata": {},
   "source": [
    "- **ngram_range:** tuple (min_n, max_n), default=(1, 1)\n",
    "    - The lower and upper boundary of the range of n-values for different n-grams to be extracted.\n",
    "    - All values of n such that min_n <= n <= max_n will be used."
   ]
  },
  {
   "cell_type": "code",
   "execution_count": 64,
   "metadata": {},
   "outputs": [],
   "source": [
    "# include 1-grams and 2-grams\n",
    "vect = CountVectorizer(ngram_range=(1, 2))"
   ]
  },
  {
   "cell_type": "markdown",
   "metadata": {},
   "source": [
    "- **max_df:** float in range [0.0, 1.0] or int, default=1.0\n",
    "    - When building the vocabulary, ignore terms that have a document frequency strictly higher than the given threshold (corpus-specific stop words).\n",
    "    - If float, the parameter represents a proportion of documents.\n",
    "    - If integer, the parameter represents an absolute count."
   ]
  },
  {
   "cell_type": "code",
   "execution_count": 65,
   "metadata": {},
   "outputs": [],
   "source": [
    "# ignore terms that appear in more than 50% of the documents\n",
    "vect = CountVectorizer(max_df=0.5)"
   ]
  },
  {
   "cell_type": "markdown",
   "metadata": {},
   "source": [
    "- **min_df:** float in range [0.0, 1.0] or int, default=1\n",
    "    - When building the vocabulary, ignore terms that have a document frequency strictly lower than the given threshold. (This value is also called \"cut-off\" in the literature.)\n",
    "    - If float, the parameter represents a proportion of documents.\n",
    "    - If integer, the parameter represents an absolute count."
   ]
  },
  {
   "cell_type": "code",
   "execution_count": 66,
   "metadata": {},
   "outputs": [],
   "source": [
    "# only keep terms that appear in at least 2 documents\n",
    "vect = CountVectorizer(min_df=2)"
   ]
  },
  {
   "cell_type": "markdown",
   "metadata": {},
   "source": [
    "**Guidelines for tuning CountVectorizer:**\n",
    "\n",
    "- Use your knowledge of the **problem** and the **text**, and your understanding of the **tuning parameters**, to help you decide what parameters to tune and how to tune them.\n",
    "- **Experiment**, and let the data tell you the best approach!"
   ]
  },
  {
   "cell_type": "code",
   "execution_count": 67,
   "metadata": {},
   "outputs": [],
   "source": [
    "betterVect = CountVectorizer(stop_words='english', \n",
    "                             min_df=2, \n",
    "                             max_df=0.5, \n",
    "                             ngram_range=(1, 1))"
   ]
  },
  {
   "cell_type": "code",
   "execution_count": 68,
   "metadata": {},
   "outputs": [
    {
     "data": {
      "text/plain": [
       "CountVectorizer(analyzer='word', binary=False, decode_error='strict',\n",
       "        dtype=<class 'numpy.int64'>, encoding='utf-8', input='content',\n",
       "        lowercase=True, max_df=0.5, max_features=None, min_df=2,\n",
       "        ngram_range=(1, 1), preprocessor=None, stop_words='english',\n",
       "        strip_accents=None, token_pattern='(?u)\\\\b\\\\w\\\\w+\\\\b',\n",
       "        tokenizer=None, vocabulary=None)"
      ]
     },
     "execution_count": 68,
     "metadata": {},
     "output_type": "execute_result"
    }
   ],
   "source": [
    "betterVect.fit(all_mbti['post'])"
   ]
  },
  {
   "cell_type": "code",
   "execution_count": 69,
   "metadata": {},
   "outputs": [
    {
     "data": {
      "text/plain": [
       "50426"
      ]
     },
     "execution_count": 69,
     "metadata": {},
     "output_type": "execute_result"
    }
   ],
   "source": [
    "len(betterVect.get_feature_names())"
   ]
  },
  {
   "cell_type": "markdown",
   "metadata": {},
   "source": [
    "## [ngrams](http://www.nltk.org/api/nltk.html?highlight=n%20grams#nltk.util.ngrams)"
   ]
  },
  {
   "cell_type": "markdown",
   "metadata": {},
   "source": [
    "While individual words do carry meaning, it is often the case that combinations of words change meanings of sentences entirely.  For example, what difference does removing the `not` from this sentence make?\n",
    "\n",
    "Natural Language processing is **not** easy!"
   ]
  },
  {
   "cell_type": "markdown",
   "metadata": {},
   "source": [
    "ngrams are a method to extract combinations of words into features for model buildiing.  The `n` in ngrams specifies the number of tokens to include.  For example, a 2-gram returns all the consecutive pairs of words in a sentence"
   ]
  },
  {
   "cell_type": "code",
   "execution_count": 70,
   "metadata": {},
   "outputs": [],
   "source": [
    "from nltk.util import ngrams"
   ]
  },
  {
   "cell_type": "code",
   "execution_count": 71,
   "metadata": {},
   "outputs": [],
   "source": [
    "def word_grams(words, min_n=1, max_n=4):\n",
    "    s = []\n",
    "    for n in range(min_n, max_n):\n",
    "        for ngram in ngrams(words, n):\n",
    "            s.append(' '.join(str(i) for i in ngram))\n",
    "    return s"
   ]
  },
  {
   "cell_type": "code",
   "execution_count": 72,
   "metadata": {},
   "outputs": [
    {
     "name": "stdout",
     "output_type": "stream",
     "text": [
      "['one', 'two', 'three', 'four', 'one two', 'two three', 'three four', 'one two three', 'two three four']\n"
     ]
    }
   ],
   "source": [
    "print (word_grams('one two three four'.split(' ')))"
   ]
  },
  {
   "cell_type": "code",
   "execution_count": 73,
   "metadata": {},
   "outputs": [
    {
     "data": {
      "text/plain": [
       "[('i', 'hate'),\n",
       " ('hate', 'april'),\n",
       " ('april', 'fools'),\n",
       " ('fools', 'day'),\n",
       " ('day', 'angry'),\n",
       " ('angry', 'theres'),\n",
       " ('theres', 'a'),\n",
       " ('a', 'site'),\n",
       " ('site', 'im'),\n",
       " ('im', 'regularly'),\n",
       " ('regularly', 'on'),\n",
       " ('on', 'and'),\n",
       " ('and', 'the'),\n",
       " ('the', 'admins'),\n",
       " ('admins', 'are'),\n",
       " ('are', 'screwing'),\n",
       " ('screwing', 'everything'),\n",
       " ('everything', 'up'),\n",
       " ('up', 'today'),\n",
       " ('today', 'for'),\n",
       " ('for', 'a'),\n",
       " ('a', 'laugh'),\n",
       " ('laugh', 'but'),\n",
       " ('but', 'i'),\n",
       " ('i', 'dont'),\n",
       " ('dont', 'find'),\n",
       " ('find', 'it'),\n",
       " ('it', 'funny'),\n",
       " ('funny', 'im'),\n",
       " ('im', 'actually'),\n",
       " ('actually', 'quite'),\n",
       " ('quite', 'freaked'),\n",
       " ('freaked', 'out'),\n",
       " ('out', 'about'),\n",
       " ('about', 'it')]"
      ]
     },
     "execution_count": 73,
     "metadata": {},
     "output_type": "execute_result"
    }
   ],
   "source": [
    "[x for x in ngrams(all_mbti.iloc[268702]['tokens'], 2)]"
   ]
  },
  {
   "cell_type": "code",
   "execution_count": 74,
   "metadata": {},
   "outputs": [
    {
     "data": {
      "text/plain": [
       "[('i', 'hate', 'april'),\n",
       " ('hate', 'april', 'fools'),\n",
       " ('april', 'fools', 'day'),\n",
       " ('fools', 'day', 'angry'),\n",
       " ('day', 'angry', 'theres'),\n",
       " ('angry', 'theres', 'a'),\n",
       " ('theres', 'a', 'site'),\n",
       " ('a', 'site', 'im'),\n",
       " ('site', 'im', 'regularly'),\n",
       " ('im', 'regularly', 'on'),\n",
       " ('regularly', 'on', 'and'),\n",
       " ('on', 'and', 'the'),\n",
       " ('and', 'the', 'admins'),\n",
       " ('the', 'admins', 'are'),\n",
       " ('admins', 'are', 'screwing'),\n",
       " ('are', 'screwing', 'everything'),\n",
       " ('screwing', 'everything', 'up'),\n",
       " ('everything', 'up', 'today'),\n",
       " ('up', 'today', 'for'),\n",
       " ('today', 'for', 'a'),\n",
       " ('for', 'a', 'laugh'),\n",
       " ('a', 'laugh', 'but'),\n",
       " ('laugh', 'but', 'i'),\n",
       " ('but', 'i', 'dont'),\n",
       " ('i', 'dont', 'find'),\n",
       " ('dont', 'find', 'it'),\n",
       " ('find', 'it', 'funny'),\n",
       " ('it', 'funny', 'im'),\n",
       " ('funny', 'im', 'actually'),\n",
       " ('im', 'actually', 'quite'),\n",
       " ('actually', 'quite', 'freaked'),\n",
       " ('quite', 'freaked', 'out'),\n",
       " ('freaked', 'out', 'about'),\n",
       " ('out', 'about', 'it')]"
      ]
     },
     "execution_count": 74,
     "metadata": {},
     "output_type": "execute_result"
    }
   ],
   "source": [
    "[x for x in ngrams(all_mbti.iloc[268702]['tokens'], 3)]"
   ]
  }
 ],
 "metadata": {
  "kernelspec": {
   "display_name": "Python 3",
   "language": "python",
   "name": "python3"
  },
  "language_info": {
   "codemirror_mode": {
    "name": "ipython",
    "version": 3
   },
   "file_extension": ".py",
   "mimetype": "text/x-python",
   "name": "python",
   "nbconvert_exporter": "python",
   "pygments_lexer": "ipython3",
   "version": "3.6.2"
  }
 },
 "nbformat": 4,
 "nbformat_minor": 2
}
