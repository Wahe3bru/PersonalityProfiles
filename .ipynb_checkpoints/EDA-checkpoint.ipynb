{
 "cells": [
  {
   "cell_type": "markdown",
   "metadata": {},
   "source": [
    "# Personality Profiles"
   ]
  },
  {
   "cell_type": "markdown",
   "metadata": {},
   "source": [
    "[ short description]"
   ]
  },
  {
   "cell_type": "markdown",
   "metadata": {},
   "source": [
    "#### Table of Contents"
   ]
  },
  {
   "cell_type": "markdown",
   "metadata": {},
   "source": [
    "[EDA](#EDA)\n",
    "\n",
    "[Feature Creation](#feature_creation)"
   ]
  },
  {
   "cell_type": "markdown",
   "metadata": {},
   "source": []
  },
  {
   "cell_type": "code",
   "execution_count": 1,
   "metadata": {},
   "outputs": [],
   "source": [
    "import pandas as pd"
   ]
  },
  {
   "cell_type": "code",
   "execution_count": 2,
   "metadata": {},
   "outputs": [],
   "source": [
    "data = pd.read_csv(\"data/train.csv\")"
   ]
  },
  {
   "cell_type": "markdown",
   "metadata": {},
   "source": [
    "<a id=\"EDA\"> </a>"
   ]
  },
  {
   "cell_type": "markdown",
   "metadata": {},
   "source": [
    "---\n",
    "## EDA"
   ]
  },
  {
   "cell_type": "code",
   "execution_count": 3,
   "metadata": {},
   "outputs": [
    {
     "data": {
      "text/html": [
       "<div>\n",
       "<style scoped>\n",
       "    .dataframe tbody tr th:only-of-type {\n",
       "        vertical-align: middle;\n",
       "    }\n",
       "\n",
       "    .dataframe tbody tr th {\n",
       "        vertical-align: top;\n",
       "    }\n",
       "\n",
       "    .dataframe thead th {\n",
       "        text-align: right;\n",
       "    }\n",
       "</style>\n",
       "<table border=\"1\" class=\"dataframe\">\n",
       "  <thead>\n",
       "    <tr style=\"text-align: right;\">\n",
       "      <th></th>\n",
       "      <th>type</th>\n",
       "      <th>posts</th>\n",
       "    </tr>\n",
       "  </thead>\n",
       "  <tbody>\n",
       "    <tr>\n",
       "      <th>0</th>\n",
       "      <td>INFJ</td>\n",
       "      <td>'http://www.youtube.com/watch?v=qsXHcwe3krw|||...</td>\n",
       "    </tr>\n",
       "    <tr>\n",
       "      <th>1</th>\n",
       "      <td>ENTP</td>\n",
       "      <td>'I'm finding the lack of me in these posts ver...</td>\n",
       "    </tr>\n",
       "    <tr>\n",
       "      <th>2</th>\n",
       "      <td>INTP</td>\n",
       "      <td>'Good one  _____   https://www.youtube.com/wat...</td>\n",
       "    </tr>\n",
       "    <tr>\n",
       "      <th>3</th>\n",
       "      <td>INTJ</td>\n",
       "      <td>'Dear INTP,   I enjoyed our conversation the o...</td>\n",
       "    </tr>\n",
       "    <tr>\n",
       "      <th>4</th>\n",
       "      <td>ENTJ</td>\n",
       "      <td>'You're fired.|||That's another silly misconce...</td>\n",
       "    </tr>\n",
       "  </tbody>\n",
       "</table>\n",
       "</div>"
      ],
      "text/plain": [
       "   type                                              posts\n",
       "0  INFJ  'http://www.youtube.com/watch?v=qsXHcwe3krw|||...\n",
       "1  ENTP  'I'm finding the lack of me in these posts ver...\n",
       "2  INTP  'Good one  _____   https://www.youtube.com/wat...\n",
       "3  INTJ  'Dear INTP,   I enjoyed our conversation the o...\n",
       "4  ENTJ  'You're fired.|||That's another silly misconce..."
      ]
     },
     "execution_count": 3,
     "metadata": {},
     "output_type": "execute_result"
    }
   ],
   "source": [
    "data.head()"
   ]
  },
  {
   "cell_type": "code",
   "execution_count": 17,
   "metadata": {},
   "outputs": [
    {
     "data": {
      "text/plain": [
       "\"Painting the world with the colors of my soul. Interpret it as you like - helping others by volunteering, teaching, giving everything you have.  Personal growth - learning as much about the universe...|||6 months ago I met this ENTP guy at my university. We are in the same group, so we basically have to be together everyday, and most likely have to study together for the next 6 years. So cutting off...|||1984 all the way|||I don't like people in groups because it's harder to enslave them.|||ESxJ or ISxJ, because I've noticed that ISxJs don't have much trouble with small talk either.  I'd say ISTJ.|||secret :)|||I really like the movie, and Alice is my alter ego in internet, since people find my real name a bit weird.|||Sense of smell easily, because my sense of smell has always been kind of weak. I think it's better that way, because I don't feel and suffer from disgusting smells people seem to feel everyday. I...|||I don't think there's a certain type who would tend to do this. I think it depends on other factors and influences throughout the person's life.|||Honey badgers|||ENFP - creative and challenging conversations. Fun to have both small talk and philosophical rambling.  ENTJ/ENFJ - adventurous friend who allows me to see things from different perspective. ENTP -...|||Please, change my username to A Clockwork Alice|||dodartt|||I'd say you're an ENFP, possibly an ESFP too.|||Completely agree with everything OP said. I am cautious around new people and usually hold my true-self inside. Because of that people assume that I am a very calm, shy, possibly even slow and...|||Less planning, more random writing. Let the words flow out of you. Try to write in start and add the characters later. Basically do the opposite of what you've done before and see what happens.|||My native language is Latvian. English is my second language, but I have become fluent enough in that. (At least I hope so). I know a little bit of Russian and German, but I have no further interest...|||Basically I ask myself questions which affect me. Those ordinary existential ones - what is the meaning of my life, what am I, where am I going, what could happen and what couldn't, what changes...|||Blind|||I like learning languages, but I'm too lazy to do it. For now, I'm fluent in English and Latvian, but forcing myself to learn Russian. I really want to learn at least one of Scandinavian languages...|||I was definitely an ENFP. Until society broke me.|||Everyday would be sunny, grass would always be green, all people would be smiling for no reason, everyone would go to church on Sundays etc. All of the earth would be just a big suburb full of sensor...|||1) Once 3) 24 h 4) I like to talk like Yoda. Also Doctor Who quotes. (Let's go poke it with a stick!) 6) I wanted to be a scientist or a writer. Hasn't changed much ever since. 7) Sometimes and I...|||In some way communication is probably one of the things that lead to intelligence. Like, for example, someone asks you a philosophical question. This triggers your mind and urges you to think about...|||Yes, this happens to me all the time. But then again, by telling the truth, you get real friends and get rid of those who can't accept you. I think it's the best way of living there is.|||I'm thinking ENTP.|||Not all of them, I bet there are Sensors who have achieved the same thing with hard work.|||Jumping out from the third floor window and breaking a few bones. I was 10 years old and spent 4 h in pain until my parents came home.  That's about it.  Now that I think about it, definitely UTI|||I see dead people|||I don't have a system. I just write down important stuff in a chaotic way, so I'm the only person who can make sense out of it later. Also idk what I'd do without photographic memory, but I'm not...|||Love both the books and the series.|||OMG SO FREAKING AWESOME. Thank you!|||The Shawshank redemption.|||I've had a similar problem, only I'm the INTP. For example: A person might have hurt me in the past, and I have forgiven him, but I can't stop living in the past, so I bring back the event...|||Can I have one too? :kitteh: If possible, dark green shield, metallic color - grey.|||Something tells me Gatsby is introverted. All those parties he made and never took part in.|||Happens to me very often. When I get into a new class or just meet new people, in start they don't like me (and they show it), so I just ignore them, but after few months they usually warm up to me...|||No there aren't. There are days when I do everything as scheduled, but then I get bored of it and turn back to my normal self.|||Not knowing the answers to everything - yet.|||If I don't know a person very well I'm too busy with the social interaction and I'm not comfortable with expressing my humor, because the person probably wouldn't understand it. Like once I made a...|||Yes, but mostly with people I've known for years. I think it has definitely something to do with Ne. Sometimes I annoy people because I can already tell what they're going to say by their face...|||Procrastinating, trolling people and acting like it wasn't me, reading/watching something. Thinking up weird case scenarios, like when driving by bus I imagine how it would crash and people would...|||People have labeled me as ''socially retarded'', ''introverted freak'' - I'm not very communicative, so I'm comfortable with the labels unless people start to link ''introvert'' with ''ignorant'' -...|||I'm thinking ISFP or ISTP.|||Welcome to the forum! :kitteh:|||Biggest cliché of them all probably is the never-ending fight between good and evil - good always wins.     A socially awkward/miserable guy turns into biggest hero of them all and in the end...|||Welcome, fellow ENFP! :kitteh:|||My guess would be ISTJ/ISFJ, somehow I don't see anything from INTJ.|||My Ni-Te is almost as strong as Ti-Ne, so I've had similar problems. Also close people think I'm extroverted, while others think I'm introverted. I sense a lot of Ni, so you might be INTJ/INFJ, but...|||Both, but lately more adapting, because I like a good challenge.\""
      ]
     },
     "execution_count": 17,
     "metadata": {},
     "output_type": "execute_result"
    }
   ],
   "source": [
    "data['posts'].loc[42]"
   ]
  },
  {
   "cell_type": "code",
   "execution_count": 5,
   "metadata": {},
   "outputs": [
    {
     "data": {
      "text/html": [
       "<div>\n",
       "<style scoped>\n",
       "    .dataframe tbody tr th:only-of-type {\n",
       "        vertical-align: middle;\n",
       "    }\n",
       "\n",
       "    .dataframe tbody tr th {\n",
       "        vertical-align: top;\n",
       "    }\n",
       "\n",
       "    .dataframe thead th {\n",
       "        text-align: right;\n",
       "    }\n",
       "</style>\n",
       "<table border=\"1\" class=\"dataframe\">\n",
       "  <thead>\n",
       "    <tr style=\"text-align: right;\">\n",
       "      <th></th>\n",
       "      <th>type</th>\n",
       "      <th>posts</th>\n",
       "    </tr>\n",
       "  </thead>\n",
       "  <tbody>\n",
       "    <tr>\n",
       "      <th>count</th>\n",
       "      <td>6506</td>\n",
       "      <td>6506</td>\n",
       "    </tr>\n",
       "    <tr>\n",
       "      <th>unique</th>\n",
       "      <td>16</td>\n",
       "      <td>6506</td>\n",
       "    </tr>\n",
       "    <tr>\n",
       "      <th>top</th>\n",
       "      <td>INFP</td>\n",
       "      <td>'Say some insightful stuff to someone who has ...</td>\n",
       "    </tr>\n",
       "    <tr>\n",
       "      <th>freq</th>\n",
       "      <td>1386</td>\n",
       "      <td>1</td>\n",
       "    </tr>\n",
       "  </tbody>\n",
       "</table>\n",
       "</div>"
      ],
      "text/plain": [
       "        type                                              posts\n",
       "count   6506                                               6506\n",
       "unique    16                                               6506\n",
       "top     INFP  'Say some insightful stuff to someone who has ...\n",
       "freq    1386                                                  1"
      ]
     },
     "execution_count": 5,
     "metadata": {},
     "output_type": "execute_result"
    }
   ],
   "source": [
    "data.describe()"
   ]
  },
  {
   "cell_type": "code",
   "execution_count": 6,
   "metadata": {},
   "outputs": [
    {
     "data": {
      "text/html": [
       "<div>\n",
       "<style scoped>\n",
       "    .dataframe tbody tr th:only-of-type {\n",
       "        vertical-align: middle;\n",
       "    }\n",
       "\n",
       "    .dataframe tbody tr th {\n",
       "        vertical-align: top;\n",
       "    }\n",
       "\n",
       "    .dataframe thead th {\n",
       "        text-align: right;\n",
       "    }\n",
       "</style>\n",
       "<table border=\"1\" class=\"dataframe\">\n",
       "  <thead>\n",
       "    <tr style=\"text-align: right;\">\n",
       "      <th></th>\n",
       "      <th>posts</th>\n",
       "    </tr>\n",
       "    <tr>\n",
       "      <th>type</th>\n",
       "      <th></th>\n",
       "    </tr>\n",
       "  </thead>\n",
       "  <tbody>\n",
       "    <tr>\n",
       "      <th>ENFJ</th>\n",
       "      <td>143</td>\n",
       "    </tr>\n",
       "    <tr>\n",
       "      <th>ENFP</th>\n",
       "      <td>496</td>\n",
       "    </tr>\n",
       "    <tr>\n",
       "      <th>ENTJ</th>\n",
       "      <td>167</td>\n",
       "    </tr>\n",
       "    <tr>\n",
       "      <th>ENTP</th>\n",
       "      <td>530</td>\n",
       "    </tr>\n",
       "    <tr>\n",
       "      <th>ESFJ</th>\n",
       "      <td>35</td>\n",
       "    </tr>\n",
       "    <tr>\n",
       "      <th>ESFP</th>\n",
       "      <td>36</td>\n",
       "    </tr>\n",
       "    <tr>\n",
       "      <th>ESTJ</th>\n",
       "      <td>30</td>\n",
       "    </tr>\n",
       "    <tr>\n",
       "      <th>ESTP</th>\n",
       "      <td>71</td>\n",
       "    </tr>\n",
       "    <tr>\n",
       "      <th>INFJ</th>\n",
       "      <td>1100</td>\n",
       "    </tr>\n",
       "    <tr>\n",
       "      <th>INFP</th>\n",
       "      <td>1386</td>\n",
       "    </tr>\n",
       "    <tr>\n",
       "      <th>INTJ</th>\n",
       "      <td>830</td>\n",
       "    </tr>\n",
       "    <tr>\n",
       "      <th>INTP</th>\n",
       "      <td>960</td>\n",
       "    </tr>\n",
       "    <tr>\n",
       "      <th>ISFJ</th>\n",
       "      <td>124</td>\n",
       "    </tr>\n",
       "    <tr>\n",
       "      <th>ISFP</th>\n",
       "      <td>198</td>\n",
       "    </tr>\n",
       "    <tr>\n",
       "      <th>ISTJ</th>\n",
       "      <td>145</td>\n",
       "    </tr>\n",
       "    <tr>\n",
       "      <th>ISTP</th>\n",
       "      <td>255</td>\n",
       "    </tr>\n",
       "  </tbody>\n",
       "</table>\n",
       "</div>"
      ],
      "text/plain": [
       "      posts\n",
       "type       \n",
       "ENFJ    143\n",
       "ENFP    496\n",
       "ENTJ    167\n",
       "ENTP    530\n",
       "ESFJ     35\n",
       "ESFP     36\n",
       "ESTJ     30\n",
       "ESTP     71\n",
       "INFJ   1100\n",
       "INFP   1386\n",
       "INTJ    830\n",
       "INTP    960\n",
       "ISFJ    124\n",
       "ISFP    198\n",
       "ISTJ    145\n",
       "ISTP    255"
      ]
     },
     "execution_count": 6,
     "metadata": {},
     "output_type": "execute_result"
    }
   ],
   "source": [
    "data.groupby('type').count()"
   ]
  },
  {
   "cell_type": "code",
   "execution_count": 12,
   "metadata": {},
   "outputs": [],
   "source": [
    "# imbalance types"
   ]
  },
  {
   "cell_type": "markdown",
   "metadata": {},
   "source": [
    "<a id=\"feature_creation\"> </a>"
   ]
  },
  {
   "cell_type": "markdown",
   "metadata": {},
   "source": [
    "---\n",
    "## create features\n",
    "\n",
    "\n",
    " feature | regex\n",
    " ---|---\n",
    " `?`   | `r\"(\\?)\"`\n",
    " `!`   | `r\"(!)\"`\n",
    " `...` | `r\"(\\.\\.\\.)\"`\n",
    " youtube | ?part of social media\n",
    " www | `r\"(www)\"`\n",
    " jpg/jpeg/gif | <code>r\"(jpe?g&#124;gif)\"</code>\n",
    " emoji `;), :tongue:, :smile: #hastags?` | `r\":[a-z]*:\"`\n",
    " word count   | (\\w+) / 50 (length per post sample)\n",
    " word_length > 5   | `r\"(\\w{5,})\"`\n",
    " social_media (instagram, snapchat, etc)  | [social_medai]\n",
    " ALL_CAPS  | `r\"(\\b[A-Z]{2,}\\b)\"`\n"
   ]
  },
  {
   "cell_type": "code",
   "execution_count": null,
   "metadata": {},
   "outputs": [],
   "source": [
    "# trial functions\n",
    "# data_trial1, data_trial2, data_trial3 \n"
   ]
  },
  {
   "cell_type": "code",
   "execution_count": 94,
   "metadata": {},
   "outputs": [],
   "source": [
    "data_trial2 = data['posts'].loc[1]"
   ]
  },
  {
   "cell_type": "code",
   "execution_count": 18,
   "metadata": {},
   "outputs": [],
   "source": [
    "data_trial3 = data['posts'].loc[369]"
   ]
  },
  {
   "cell_type": "code",
   "execution_count": 19,
   "metadata": {},
   "outputs": [],
   "source": [
    "data_trial1 = data['posts'].loc[42]"
   ]
  },
  {
   "cell_type": "code",
   "execution_count": 20,
   "metadata": {},
   "outputs": [],
   "source": [
    "import re"
   ]
  },
  {
   "cell_type": "code",
   "execution_count": 21,
   "metadata": {},
   "outputs": [],
   "source": [
    "# count question marks\n",
    "def qm_count(string):\n",
    "    q_mark = re.compile(r'(\\?)')\n",
    "    return len(re.findall(q_mark, string))\n",
    "    "
   ]
  },
  {
   "cell_type": "code",
   "execution_count": 27,
   "metadata": {},
   "outputs": [
    {
     "data": {
      "text/plain": [
       "16"
      ]
     },
     "execution_count": 27,
     "metadata": {},
     "output_type": "execute_result"
    }
   ],
   "source": [
    "qm_count(data_trial3)"
   ]
  },
  {
   "cell_type": "code",
   "execution_count": 142,
   "metadata": {},
   "outputs": [],
   "source": [
    "def exclaim_count(string):\n",
    "    ex_mark = re.compile(r'(\\!)')\n",
    "    return len(re.findall(ex_mark, string))"
   ]
  },
  {
   "cell_type": "code",
   "execution_count": 143,
   "metadata": {},
   "outputs": [
    {
     "data": {
      "text/plain": [
       "6"
      ]
     },
     "execution_count": 143,
     "metadata": {},
     "output_type": "execute_result"
    }
   ],
   "source": [
    "exclam_count(data_trial3)"
   ]
  },
  {
   "cell_type": "code",
   "execution_count": 40,
   "metadata": {},
   "outputs": [],
   "source": [
    "def elipse_count(string):\n",
    "    elipse = re.compile(r\"(\\.\\.\\.)\")\n",
    "    return len(re.findall(elipse, string))"
   ]
  },
  {
   "cell_type": "code",
   "execution_count": 41,
   "metadata": {},
   "outputs": [
    {
     "data": {
      "text/plain": [
       "20"
      ]
     },
     "execution_count": 41,
     "metadata": {},
     "output_type": "execute_result"
    }
   ],
   "source": [
    "elipse_count(data_trial1)"
   ]
  },
  {
   "cell_type": "code",
   "execution_count": 111,
   "metadata": {},
   "outputs": [],
   "source": [
    "def emoji_count(string):\n",
    "    emojis = re.compile(r\"(:[a-z]*:)|([:;][()pdo03])\",re.I)\n",
    "    return len(re.findall(emojis,string))"
   ]
  },
  {
   "cell_type": "code",
   "execution_count": 112,
   "metadata": {},
   "outputs": [
    {
     "data": {
      "text/plain": [
       "4"
      ]
     },
     "execution_count": 112,
     "metadata": {},
     "output_type": "execute_result"
    }
   ],
   "source": [
    "emoji_count(data_trial3)"
   ]
  },
  {
   "cell_type": "code",
   "execution_count": 52,
   "metadata": {},
   "outputs": [],
   "source": [
    "def word_count(string):\n",
    "    words = re.compile(r\"(\\w+)\")\n",
    "    count = len(re.findall(words, string))\n",
    "    return count/50"
   ]
  },
  {
   "cell_type": "code",
   "execution_count": 55,
   "metadata": {},
   "outputs": [
    {
     "data": {
      "text/plain": [
       "31.0"
      ]
     },
     "execution_count": 55,
     "metadata": {},
     "output_type": "execute_result"
    }
   ],
   "source": [
    "word_count(data_trial3)"
   ]
  },
  {
   "cell_type": "code",
   "execution_count": 60,
   "metadata": {},
   "outputs": [],
   "source": [
    "def word_len(string):\n",
    "    len5 = re.compile(r\"\\w{5,}\")\n",
    "    return len(re.findall(len5,string))/50"
   ]
  },
  {
   "cell_type": "code",
   "execution_count": 63,
   "metadata": {},
   "outputs": [
    {
     "data": {
      "text/plain": [
       "9.84"
      ]
     },
     "execution_count": 63,
     "metadata": {},
     "output_type": "execute_result"
    }
   ],
   "source": [
    "word_len(data_trial3)"
   ]
  },
  {
   "cell_type": "code",
   "execution_count": 86,
   "metadata": {},
   "outputs": [],
   "source": [
    "def all_caps(string):\n",
    "    mbti_type = set(data.type) # set of all mbti types\n",
    "    capsloc = re.compile(r\"\\b[A-Z]{2,}\\b\")\n",
    "    caps_words = [x for x in re.findall(capsloc,string) if x not in mbti_type]\n",
    "    return len(caps_words)"
   ]
  },
  {
   "cell_type": "code",
   "execution_count": 87,
   "metadata": {},
   "outputs": [
    {
     "data": {
      "text/plain": [
       "6"
      ]
     },
     "execution_count": 87,
     "metadata": {},
     "output_type": "execute_result"
    }
   ],
   "source": [
    "all_caps(data_trial1)"
   ]
  },
  {
   "cell_type": "code",
   "execution_count": 92,
   "metadata": {},
   "outputs": [],
   "source": [
    "def count_pix(string):\n",
    "    pix = re.compile(r\"\\b(jpe?g|gif|png|img)\\b\",re.I)\n",
    "    return len(re.findall(pix, string))"
   ]
  },
  {
   "cell_type": "code",
   "execution_count": 96,
   "metadata": {},
   "outputs": [
    {
     "data": {
      "text/plain": [
       "8"
      ]
     },
     "execution_count": 96,
     "metadata": {},
     "output_type": "execute_result"
    }
   ],
   "source": [
    "count_pix(data_trial2)"
   ]
  },
  {
   "cell_type": "code",
   "execution_count": 106,
   "metadata": {},
   "outputs": [],
   "source": [
    "#def soc_media_count(string):\n",
    "soc_media = \"Twitter LinkedIn Google+ YouTube Pinterest Instagram Tumblr Flickr Reddit Snapchat WhatsApp Quora Vine Periscope\\\n",
    "                BizSugar StumbleUpon Delicious Digg Facebook\".lower().split()"
   ]
  },
  {
   "cell_type": "markdown",
   "metadata": {},
   "source": [
    "---\n",
    "## Testing"
   ]
  },
  {
   "cell_type": "code",
   "execution_count": 186,
   "metadata": {},
   "outputs": [],
   "source": [
    "test_data = data.loc[:6000]"
   ]
  },
  {
   "cell_type": "code",
   "execution_count": 187,
   "metadata": {},
   "outputs": [
    {
     "data": {
      "text/html": [
       "<div>\n",
       "<style scoped>\n",
       "    .dataframe tbody tr th:only-of-type {\n",
       "        vertical-align: middle;\n",
       "    }\n",
       "\n",
       "    .dataframe tbody tr th {\n",
       "        vertical-align: top;\n",
       "    }\n",
       "\n",
       "    .dataframe thead th {\n",
       "        text-align: right;\n",
       "    }\n",
       "</style>\n",
       "<table border=\"1\" class=\"dataframe\">\n",
       "  <thead>\n",
       "    <tr style=\"text-align: right;\">\n",
       "      <th></th>\n",
       "      <th>type</th>\n",
       "      <th>posts</th>\n",
       "    </tr>\n",
       "  </thead>\n",
       "  <tbody>\n",
       "    <tr>\n",
       "      <th>0</th>\n",
       "      <td>INFJ</td>\n",
       "      <td>'http://www.youtube.com/watch?v=qsXHcwe3krw|||...</td>\n",
       "    </tr>\n",
       "    <tr>\n",
       "      <th>1</th>\n",
       "      <td>ENTP</td>\n",
       "      <td>'I'm finding the lack of me in these posts ver...</td>\n",
       "    </tr>\n",
       "    <tr>\n",
       "      <th>2</th>\n",
       "      <td>INTP</td>\n",
       "      <td>'Good one  _____   https://www.youtube.com/wat...</td>\n",
       "    </tr>\n",
       "    <tr>\n",
       "      <th>3</th>\n",
       "      <td>INTJ</td>\n",
       "      <td>'Dear INTP,   I enjoyed our conversation the o...</td>\n",
       "    </tr>\n",
       "    <tr>\n",
       "      <th>4</th>\n",
       "      <td>ENTJ</td>\n",
       "      <td>'You're fired.|||That's another silly misconce...</td>\n",
       "    </tr>\n",
       "  </tbody>\n",
       "</table>\n",
       "</div>"
      ],
      "text/plain": [
       "   type                                              posts\n",
       "0  INFJ  'http://www.youtube.com/watch?v=qsXHcwe3krw|||...\n",
       "1  ENTP  'I'm finding the lack of me in these posts ver...\n",
       "2  INTP  'Good one  _____   https://www.youtube.com/wat...\n",
       "3  INTJ  'Dear INTP,   I enjoyed our conversation the o...\n",
       "4  ENTJ  'You're fired.|||That's another silly misconce..."
      ]
     },
     "execution_count": 187,
     "metadata": {},
     "output_type": "execute_result"
    }
   ],
   "source": [
    "test_data.head()"
   ]
  },
  {
   "cell_type": "code",
   "execution_count": 188,
   "metadata": {},
   "outputs": [],
   "source": [
    "def create_features(df):\n",
    "    df['questions'] = df['posts'].apply(qm_count)\n",
    "    df['exclaimed'] = df['posts'].apply(exclaim_count)\n",
    "    df['elipses'] = df['posts'].apply(elipse_count)\n",
    "    df['emojis'] = df['posts'].apply(emoji_count)\n",
    "    df['word_count'] = df['posts'].apply(word_count)\n",
    "    df['big_words'] = df['posts'].apply(word_len)\n",
    "    df['images'] = df['posts'].apply(count_pix)    \n",
    "    df['words_all_caps'] = df['posts'].apply(all_caps) "
   ]
  },
  {
   "cell_type": "code",
   "execution_count": 189,
   "metadata": {},
   "outputs": [
    {
     "name": "stdout",
     "output_type": "stream",
     "text": [
      "Wall time: 0 ns\n"
     ]
    }
   ],
   "source": [
    "import warnings\n",
    "with warnings.catch_warnings():\n",
    "    warnings.simplefilter(\"ignore\")\n",
    "    create_features(test_data)"
   ]
  },
  {
   "cell_type": "code",
   "execution_count": 190,
   "metadata": {},
   "outputs": [
    {
     "data": {
      "text/html": [
       "<div>\n",
       "<style scoped>\n",
       "    .dataframe tbody tr th:only-of-type {\n",
       "        vertical-align: middle;\n",
       "    }\n",
       "\n",
       "    .dataframe tbody tr th {\n",
       "        vertical-align: top;\n",
       "    }\n",
       "\n",
       "    .dataframe thead th {\n",
       "        text-align: right;\n",
       "    }\n",
       "</style>\n",
       "<table border=\"1\" class=\"dataframe\">\n",
       "  <thead>\n",
       "    <tr style=\"text-align: right;\">\n",
       "      <th></th>\n",
       "      <th>type</th>\n",
       "      <th>posts</th>\n",
       "      <th>questions</th>\n",
       "      <th>exclaimed</th>\n",
       "      <th>elipses</th>\n",
       "      <th>emojis</th>\n",
       "      <th>word_count</th>\n",
       "      <th>big_words</th>\n",
       "      <th>images</th>\n",
       "      <th>words_all_caps</th>\n",
       "    </tr>\n",
       "  </thead>\n",
       "  <tbody>\n",
       "    <tr>\n",
       "      <th>0</th>\n",
       "      <td>INFJ</td>\n",
       "      <td>'http://www.youtube.com/watch?v=qsXHcwe3krw|||...</td>\n",
       "      <td>18</td>\n",
       "      <td>3</td>\n",
       "      <td>15</td>\n",
       "      <td>3</td>\n",
       "      <td>16.06</td>\n",
       "      <td>6.30</td>\n",
       "      <td>7</td>\n",
       "      <td>1</td>\n",
       "    </tr>\n",
       "    <tr>\n",
       "      <th>1</th>\n",
       "      <td>ENTP</td>\n",
       "      <td>'I'm finding the lack of me in these posts ver...</td>\n",
       "      <td>5</td>\n",
       "      <td>0</td>\n",
       "      <td>19</td>\n",
       "      <td>18</td>\n",
       "      <td>26.82</td>\n",
       "      <td>8.22</td>\n",
       "      <td>8</td>\n",
       "      <td>8</td>\n",
       "    </tr>\n",
       "    <tr>\n",
       "      <th>2</th>\n",
       "      <td>INTP</td>\n",
       "      <td>'Good one  _____   https://www.youtube.com/wat...</td>\n",
       "      <td>12</td>\n",
       "      <td>4</td>\n",
       "      <td>13</td>\n",
       "      <td>10</td>\n",
       "      <td>18.66</td>\n",
       "      <td>7.34</td>\n",
       "      <td>0</td>\n",
       "      <td>3</td>\n",
       "    </tr>\n",
       "    <tr>\n",
       "      <th>3</th>\n",
       "      <td>INTJ</td>\n",
       "      <td>'Dear INTP,   I enjoyed our conversation the o...</td>\n",
       "      <td>11</td>\n",
       "      <td>3</td>\n",
       "      <td>26</td>\n",
       "      <td>0</td>\n",
       "      <td>23.52</td>\n",
       "      <td>7.44</td>\n",
       "      <td>0</td>\n",
       "      <td>12</td>\n",
       "    </tr>\n",
       "    <tr>\n",
       "      <th>4</th>\n",
       "      <td>ENTJ</td>\n",
       "      <td>'You're fired.|||That's another silly misconce...</td>\n",
       "      <td>10</td>\n",
       "      <td>1</td>\n",
       "      <td>21</td>\n",
       "      <td>3</td>\n",
       "      <td>21.88</td>\n",
       "      <td>7.78</td>\n",
       "      <td>2</td>\n",
       "      <td>13</td>\n",
       "    </tr>\n",
       "    <tr>\n",
       "      <th>5</th>\n",
       "      <td>INTJ</td>\n",
       "      <td>'18/37 @.@|||Science  is not perfect. No scien...</td>\n",
       "      <td>10</td>\n",
       "      <td>0</td>\n",
       "      <td>39</td>\n",
       "      <td>0</td>\n",
       "      <td>31.70</td>\n",
       "      <td>10.18</td>\n",
       "      <td>0</td>\n",
       "      <td>3</td>\n",
       "    </tr>\n",
       "    <tr>\n",
       "      <th>6</th>\n",
       "      <td>INFJ</td>\n",
       "      <td>'No, I can't draw on my own nails (haha). Thos...</td>\n",
       "      <td>13</td>\n",
       "      <td>3</td>\n",
       "      <td>37</td>\n",
       "      <td>9</td>\n",
       "      <td>29.02</td>\n",
       "      <td>9.96</td>\n",
       "      <td>0</td>\n",
       "      <td>15</td>\n",
       "    </tr>\n",
       "    <tr>\n",
       "      <th>7</th>\n",
       "      <td>INTJ</td>\n",
       "      <td>'I tend to build up a collection of things on ...</td>\n",
       "      <td>35</td>\n",
       "      <td>0</td>\n",
       "      <td>28</td>\n",
       "      <td>3</td>\n",
       "      <td>25.62</td>\n",
       "      <td>8.68</td>\n",
       "      <td>0</td>\n",
       "      <td>2</td>\n",
       "    </tr>\n",
       "    <tr>\n",
       "      <th>8</th>\n",
       "      <td>INFJ</td>\n",
       "      <td>I'm not sure, that's a good question. The dist...</td>\n",
       "      <td>22</td>\n",
       "      <td>1</td>\n",
       "      <td>17</td>\n",
       "      <td>5</td>\n",
       "      <td>19.32</td>\n",
       "      <td>7.08</td>\n",
       "      <td>1</td>\n",
       "      <td>6</td>\n",
       "    </tr>\n",
       "    <tr>\n",
       "      <th>9</th>\n",
       "      <td>INTP</td>\n",
       "      <td>'https://www.youtube.com/watch?v=w8-egj0y8Qs||...</td>\n",
       "      <td>13</td>\n",
       "      <td>3</td>\n",
       "      <td>24</td>\n",
       "      <td>2</td>\n",
       "      <td>27.36</td>\n",
       "      <td>9.76</td>\n",
       "      <td>0</td>\n",
       "      <td>10</td>\n",
       "    </tr>\n",
       "  </tbody>\n",
       "</table>\n",
       "</div>"
      ],
      "text/plain": [
       "   type                                              posts  questions  \\\n",
       "0  INFJ  'http://www.youtube.com/watch?v=qsXHcwe3krw|||...         18   \n",
       "1  ENTP  'I'm finding the lack of me in these posts ver...          5   \n",
       "2  INTP  'Good one  _____   https://www.youtube.com/wat...         12   \n",
       "3  INTJ  'Dear INTP,   I enjoyed our conversation the o...         11   \n",
       "4  ENTJ  'You're fired.|||That's another silly misconce...         10   \n",
       "5  INTJ  '18/37 @.@|||Science  is not perfect. No scien...         10   \n",
       "6  INFJ  'No, I can't draw on my own nails (haha). Thos...         13   \n",
       "7  INTJ  'I tend to build up a collection of things on ...         35   \n",
       "8  INFJ  I'm not sure, that's a good question. The dist...         22   \n",
       "9  INTP  'https://www.youtube.com/watch?v=w8-egj0y8Qs||...         13   \n",
       "\n",
       "   exclaimed  elipses  emojis  word_count  big_words  images  words_all_caps  \n",
       "0          3       15       3       16.06       6.30       7               1  \n",
       "1          0       19      18       26.82       8.22       8               8  \n",
       "2          4       13      10       18.66       7.34       0               3  \n",
       "3          3       26       0       23.52       7.44       0              12  \n",
       "4          1       21       3       21.88       7.78       2              13  \n",
       "5          0       39       0       31.70      10.18       0               3  \n",
       "6          3       37       9       29.02       9.96       0              15  \n",
       "7          0       28       3       25.62       8.68       0               2  \n",
       "8          1       17       5       19.32       7.08       1               6  \n",
       "9          3       24       2       27.36       9.76       0              10  "
      ]
     },
     "execution_count": 190,
     "metadata": {},
     "output_type": "execute_result"
    }
   ],
   "source": [
    "test_data.head(10)"
   ]
  },
  {
   "cell_type": "code",
   "execution_count": 191,
   "metadata": {},
   "outputs": [
    {
     "data": {
      "text/html": [
       "<div>\n",
       "<style scoped>\n",
       "    .dataframe tbody tr th:only-of-type {\n",
       "        vertical-align: middle;\n",
       "    }\n",
       "\n",
       "    .dataframe tbody tr th {\n",
       "        vertical-align: top;\n",
       "    }\n",
       "\n",
       "    .dataframe thead th {\n",
       "        text-align: right;\n",
       "    }\n",
       "</style>\n",
       "<table border=\"1\" class=\"dataframe\">\n",
       "  <thead>\n",
       "    <tr style=\"text-align: right;\">\n",
       "      <th></th>\n",
       "      <th>questions</th>\n",
       "      <th>exclaimed</th>\n",
       "      <th>elipses</th>\n",
       "      <th>emojis</th>\n",
       "      <th>word_count</th>\n",
       "      <th>big_words</th>\n",
       "      <th>images</th>\n",
       "      <th>words_all_caps</th>\n",
       "    </tr>\n",
       "    <tr>\n",
       "      <th>type</th>\n",
       "      <th></th>\n",
       "      <th></th>\n",
       "      <th></th>\n",
       "      <th></th>\n",
       "      <th></th>\n",
       "      <th></th>\n",
       "      <th></th>\n",
       "      <th></th>\n",
       "    </tr>\n",
       "  </thead>\n",
       "  <tbody>\n",
       "    <tr>\n",
       "      <th>ENFJ</th>\n",
       "      <td>10.213235</td>\n",
       "      <td>13.558824</td>\n",
       "      <td>36.566176</td>\n",
       "      <td>7.330882</td>\n",
       "      <td>27.471765</td>\n",
       "      <td>8.744853</td>\n",
       "      <td>0.904412</td>\n",
       "      <td>9.279412</td>\n",
       "    </tr>\n",
       "    <tr>\n",
       "      <th>ENFP</th>\n",
       "      <td>11.262582</td>\n",
       "      <td>16.356674</td>\n",
       "      <td>36.148796</td>\n",
       "      <td>8.463895</td>\n",
       "      <td>27.418906</td>\n",
       "      <td>8.616324</td>\n",
       "      <td>0.888403</td>\n",
       "      <td>10.914661</td>\n",
       "    </tr>\n",
       "    <tr>\n",
       "      <th>ENTJ</th>\n",
       "      <td>12.218543</td>\n",
       "      <td>9.198675</td>\n",
       "      <td>32.920530</td>\n",
       "      <td>4.006623</td>\n",
       "      <td>26.852185</td>\n",
       "      <td>8.749272</td>\n",
       "      <td>1.046358</td>\n",
       "      <td>9.086093</td>\n",
       "    </tr>\n",
       "    <tr>\n",
       "      <th>ENTP</th>\n",
       "      <td>10.807302</td>\n",
       "      <td>7.115619</td>\n",
       "      <td>31.079108</td>\n",
       "      <td>4.766734</td>\n",
       "      <td>26.304909</td>\n",
       "      <td>8.604544</td>\n",
       "      <td>1.109533</td>\n",
       "      <td>8.866126</td>\n",
       "    </tr>\n",
       "    <tr>\n",
       "      <th>ESFJ</th>\n",
       "      <td>9.500000</td>\n",
       "      <td>12.433333</td>\n",
       "      <td>32.033333</td>\n",
       "      <td>5.233333</td>\n",
       "      <td>28.384667</td>\n",
       "      <td>8.892000</td>\n",
       "      <td>0.900000</td>\n",
       "      <td>7.733333</td>\n",
       "    </tr>\n",
       "    <tr>\n",
       "      <th>ESFP</th>\n",
       "      <td>12.606061</td>\n",
       "      <td>11.666667</td>\n",
       "      <td>27.303030</td>\n",
       "      <td>6.181818</td>\n",
       "      <td>23.118182</td>\n",
       "      <td>7.229697</td>\n",
       "      <td>0.848485</td>\n",
       "      <td>8.393939</td>\n",
       "    </tr>\n",
       "    <tr>\n",
       "      <th>ESTJ</th>\n",
       "      <td>10.344828</td>\n",
       "      <td>7.620690</td>\n",
       "      <td>31.482759</td>\n",
       "      <td>3.965517</td>\n",
       "      <td>27.152414</td>\n",
       "      <td>8.695862</td>\n",
       "      <td>0.482759</td>\n",
       "      <td>7.275862</td>\n",
       "    </tr>\n",
       "    <tr>\n",
       "      <th>ESTP</th>\n",
       "      <td>12.602941</td>\n",
       "      <td>8.426471</td>\n",
       "      <td>27.779412</td>\n",
       "      <td>4.250000</td>\n",
       "      <td>25.557647</td>\n",
       "      <td>8.066765</td>\n",
       "      <td>1.235294</td>\n",
       "      <td>9.485294</td>\n",
       "    </tr>\n",
       "    <tr>\n",
       "      <th>INFJ</th>\n",
       "      <td>10.463250</td>\n",
       "      <td>9.113153</td>\n",
       "      <td>35.893617</td>\n",
       "      <td>5.940039</td>\n",
       "      <td>27.806557</td>\n",
       "      <td>9.036867</td>\n",
       "      <td>0.927466</td>\n",
       "      <td>7.589942</td>\n",
       "    </tr>\n",
       "    <tr>\n",
       "      <th>INFP</th>\n",
       "      <td>10.104769</td>\n",
       "      <td>9.310399</td>\n",
       "      <td>33.534793</td>\n",
       "      <td>5.916341</td>\n",
       "      <td>27.213745</td>\n",
       "      <td>8.881392</td>\n",
       "      <td>1.077404</td>\n",
       "      <td>7.200938</td>\n",
       "    </tr>\n",
       "    <tr>\n",
       "      <th>INTJ</th>\n",
       "      <td>10.858278</td>\n",
       "      <td>5.271523</td>\n",
       "      <td>31.569536</td>\n",
       "      <td>3.901987</td>\n",
       "      <td>26.192689</td>\n",
       "      <td>8.816026</td>\n",
       "      <td>1.237086</td>\n",
       "      <td>7.376159</td>\n",
       "    </tr>\n",
       "    <tr>\n",
       "      <th>INTP</th>\n",
       "      <td>11.184181</td>\n",
       "      <td>5.094915</td>\n",
       "      <td>31.503955</td>\n",
       "      <td>3.296045</td>\n",
       "      <td>26.319548</td>\n",
       "      <td>8.849266</td>\n",
       "      <td>1.146893</td>\n",
       "      <td>7.334463</td>\n",
       "    </tr>\n",
       "    <tr>\n",
       "      <th>ISFJ</th>\n",
       "      <td>9.803571</td>\n",
       "      <td>9.839286</td>\n",
       "      <td>32.616071</td>\n",
       "      <td>6.705357</td>\n",
       "      <td>27.229286</td>\n",
       "      <td>8.637679</td>\n",
       "      <td>1.169643</td>\n",
       "      <td>7.169643</td>\n",
       "    </tr>\n",
       "    <tr>\n",
       "      <th>ISFP</th>\n",
       "      <td>11.595506</td>\n",
       "      <td>10.949438</td>\n",
       "      <td>29.410112</td>\n",
       "      <td>7.140449</td>\n",
       "      <td>25.254045</td>\n",
       "      <td>8.179326</td>\n",
       "      <td>1.241573</td>\n",
       "      <td>6.876404</td>\n",
       "    </tr>\n",
       "    <tr>\n",
       "      <th>ISTJ</th>\n",
       "      <td>10.338346</td>\n",
       "      <td>7.398496</td>\n",
       "      <td>32.285714</td>\n",
       "      <td>4.969925</td>\n",
       "      <td>27.025414</td>\n",
       "      <td>8.704211</td>\n",
       "      <td>0.992481</td>\n",
       "      <td>8.751880</td>\n",
       "    </tr>\n",
       "    <tr>\n",
       "      <th>ISTP</th>\n",
       "      <td>11.328947</td>\n",
       "      <td>4.916667</td>\n",
       "      <td>29.868421</td>\n",
       "      <td>3.631579</td>\n",
       "      <td>26.127632</td>\n",
       "      <td>8.532368</td>\n",
       "      <td>1.078947</td>\n",
       "      <td>6.780702</td>\n",
       "    </tr>\n",
       "  </tbody>\n",
       "</table>\n",
       "</div>"
      ],
      "text/plain": [
       "      questions  exclaimed    elipses    emojis  word_count  big_words  \\\n",
       "type                                                                     \n",
       "ENFJ  10.213235  13.558824  36.566176  7.330882   27.471765   8.744853   \n",
       "ENFP  11.262582  16.356674  36.148796  8.463895   27.418906   8.616324   \n",
       "ENTJ  12.218543   9.198675  32.920530  4.006623   26.852185   8.749272   \n",
       "ENTP  10.807302   7.115619  31.079108  4.766734   26.304909   8.604544   \n",
       "ESFJ   9.500000  12.433333  32.033333  5.233333   28.384667   8.892000   \n",
       "ESFP  12.606061  11.666667  27.303030  6.181818   23.118182   7.229697   \n",
       "ESTJ  10.344828   7.620690  31.482759  3.965517   27.152414   8.695862   \n",
       "ESTP  12.602941   8.426471  27.779412  4.250000   25.557647   8.066765   \n",
       "INFJ  10.463250   9.113153  35.893617  5.940039   27.806557   9.036867   \n",
       "INFP  10.104769   9.310399  33.534793  5.916341   27.213745   8.881392   \n",
       "INTJ  10.858278   5.271523  31.569536  3.901987   26.192689   8.816026   \n",
       "INTP  11.184181   5.094915  31.503955  3.296045   26.319548   8.849266   \n",
       "ISFJ   9.803571   9.839286  32.616071  6.705357   27.229286   8.637679   \n",
       "ISFP  11.595506  10.949438  29.410112  7.140449   25.254045   8.179326   \n",
       "ISTJ  10.338346   7.398496  32.285714  4.969925   27.025414   8.704211   \n",
       "ISTP  11.328947   4.916667  29.868421  3.631579   26.127632   8.532368   \n",
       "\n",
       "        images  words_all_caps  \n",
       "type                            \n",
       "ENFJ  0.904412        9.279412  \n",
       "ENFP  0.888403       10.914661  \n",
       "ENTJ  1.046358        9.086093  \n",
       "ENTP  1.109533        8.866126  \n",
       "ESFJ  0.900000        7.733333  \n",
       "ESFP  0.848485        8.393939  \n",
       "ESTJ  0.482759        7.275862  \n",
       "ESTP  1.235294        9.485294  \n",
       "INFJ  0.927466        7.589942  \n",
       "INFP  1.077404        7.200938  \n",
       "INTJ  1.237086        7.376159  \n",
       "INTP  1.146893        7.334463  \n",
       "ISFJ  1.169643        7.169643  \n",
       "ISFP  1.241573        6.876404  \n",
       "ISTJ  0.992481        8.751880  \n",
       "ISTP  1.078947        6.780702  "
      ]
     },
     "execution_count": 191,
     "metadata": {},
     "output_type": "execute_result"
    }
   ],
   "source": [
    "test_data.groupby('type').mean()"
   ]
  },
  {
   "cell_type": "code",
   "execution_count": null,
   "metadata": {},
   "outputs": [],
   "source": []
  }
 ],
 "metadata": {
  "kernelspec": {
   "display_name": "Python 3",
   "language": "python",
   "name": "python3"
  },
  "language_info": {
   "codemirror_mode": {
    "name": "ipython",
    "version": 3
   },
   "file_extension": ".py",
   "mimetype": "text/x-python",
   "name": "python",
   "nbconvert_exporter": "python",
   "pygments_lexer": "ipython3",
   "version": "3.6.4"
  }
 },
 "nbformat": 4,
 "nbformat_minor": 2
}
