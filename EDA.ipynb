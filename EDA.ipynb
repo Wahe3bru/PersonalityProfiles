{
 "cells": [
  {
   "cell_type": "markdown",
   "metadata": {},
   "source": [
    "# Personality Profiles"
   ]
  },
  {
   "cell_type": "markdown",
   "metadata": {},
   "source": [
    "[ short description]"
   ]
  },
  {
   "cell_type": "markdown",
   "metadata": {},
   "source": [
    "---\n",
    "#### Table of Contents"
   ]
  },
  {
   "cell_type": "markdown",
   "metadata": {},
   "source": [
    "[EDA](#EDA)\n",
    "\n",
    "[Feature Creation](#FEAT)\n",
    "\n",
    "[NLP](#NLP)"
   ]
  },
  {
   "cell_type": "markdown",
   "metadata": {},
   "source": [
    "---"
   ]
  },
  {
   "cell_type": "code",
   "execution_count": 2,
   "metadata": {},
   "outputs": [],
   "source": [
    "import pandas as pd\n",
    "import matplotlib.pyplot as plt"
   ]
  },
  {
   "cell_type": "code",
   "execution_count": 3,
   "metadata": {},
   "outputs": [],
   "source": [
    "data = pd.read_csv(\"data/train.csv\")"
   ]
  },
  {
   "cell_type": "markdown",
   "metadata": {},
   "source": [
    "<a id=\"EDA\"> </a>"
   ]
  },
  {
   "cell_type": "markdown",
   "metadata": {},
   "source": [
    "---\n",
    "## EDA"
   ]
  },
  {
   "cell_type": "code",
   "execution_count": 3,
   "metadata": {},
   "outputs": [
    {
     "data": {
      "text/html": [
       "<div>\n",
       "<style>\n",
       "    .dataframe thead tr:only-child th {\n",
       "        text-align: right;\n",
       "    }\n",
       "\n",
       "    .dataframe thead th {\n",
       "        text-align: left;\n",
       "    }\n",
       "\n",
       "    .dataframe tbody tr th {\n",
       "        vertical-align: top;\n",
       "    }\n",
       "</style>\n",
       "<table border=\"1\" class=\"dataframe\">\n",
       "  <thead>\n",
       "    <tr style=\"text-align: right;\">\n",
       "      <th></th>\n",
       "      <th>type</th>\n",
       "      <th>posts</th>\n",
       "    </tr>\n",
       "  </thead>\n",
       "  <tbody>\n",
       "    <tr>\n",
       "      <th>0</th>\n",
       "      <td>INFJ</td>\n",
       "      <td>'http://www.youtube.com/watch?v=qsXHcwe3krw|||...</td>\n",
       "    </tr>\n",
       "    <tr>\n",
       "      <th>1</th>\n",
       "      <td>ENTP</td>\n",
       "      <td>'I'm finding the lack of me in these posts ver...</td>\n",
       "    </tr>\n",
       "    <tr>\n",
       "      <th>2</th>\n",
       "      <td>INTP</td>\n",
       "      <td>'Good one  _____   https://www.youtube.com/wat...</td>\n",
       "    </tr>\n",
       "    <tr>\n",
       "      <th>3</th>\n",
       "      <td>INTJ</td>\n",
       "      <td>'Dear INTP,   I enjoyed our conversation the o...</td>\n",
       "    </tr>\n",
       "    <tr>\n",
       "      <th>4</th>\n",
       "      <td>ENTJ</td>\n",
       "      <td>'You're fired.|||That's another silly misconce...</td>\n",
       "    </tr>\n",
       "  </tbody>\n",
       "</table>\n",
       "</div>"
      ],
      "text/plain": [
       "   type                                              posts\n",
       "0  INFJ  'http://www.youtube.com/watch?v=qsXHcwe3krw|||...\n",
       "1  ENTP  'I'm finding the lack of me in these posts ver...\n",
       "2  INTP  'Good one  _____   https://www.youtube.com/wat...\n",
       "3  INTJ  'Dear INTP,   I enjoyed our conversation the o...\n",
       "4  ENTJ  'You're fired.|||That's another silly misconce..."
      ]
     },
     "execution_count": 3,
     "metadata": {},
     "output_type": "execute_result"
    }
   ],
   "source": [
    "data.head()"
   ]
  },
  {
   "cell_type": "code",
   "execution_count": 4,
   "metadata": {},
   "outputs": [
    {
     "data": {
      "text/plain": [
       "\"Painting the world with the colors of my soul. Interpret it as you like - helping others by volunteering, teaching, giving everything you have.  Personal growth - learning as much about the universe...|||6 months ago I met this ENTP guy at my university. We are in the same group, so we basically have to be together everyday, and most likely have to study together for the next 6 years. So cutting off...|||1984 all the way|||I don't like people in groups because it's harder to enslave them.|||ESxJ or ISxJ, because I've noticed that ISxJs don't have much trouble with small talk either.  I'd say ISTJ.|||secret :)|||I really like the movie, and Alice is my alter ego in internet, since people find my real name a bit weird.|||Sense of smell easily, because my sense of smell has always been kind of weak. I think it's better that way, because I don't feel and suffer from disgusting smells people seem to feel everyday. I...|||I don't think there's a certain type who would tend to do this. I think it depends on other factors and influences throughout the person's life.|||Honey badgers|||ENFP - creative and challenging conversations. Fun to have both small talk and philosophical rambling.  ENTJ/ENFJ - adventurous friend who allows me to see things from different perspective. ENTP -...|||Please, change my username to A Clockwork Alice|||dodartt|||I'd say you're an ENFP, possibly an ESFP too.|||Completely agree with everything OP said. I am cautious around new people and usually hold my true-self inside. Because of that people assume that I am a very calm, shy, possibly even slow and...|||Less planning, more random writing. Let the words flow out of you. Try to write in start and add the characters later. Basically do the opposite of what you've done before and see what happens.|||My native language is Latvian. English is my second language, but I have become fluent enough in that. (At least I hope so). I know a little bit of Russian and German, but I have no further interest...|||Basically I ask myself questions which affect me. Those ordinary existential ones - what is the meaning of my life, what am I, where am I going, what could happen and what couldn't, what changes...|||Blind|||I like learning languages, but I'm too lazy to do it. For now, I'm fluent in English and Latvian, but forcing myself to learn Russian. I really want to learn at least one of Scandinavian languages...|||I was definitely an ENFP. Until society broke me.|||Everyday would be sunny, grass would always be green, all people would be smiling for no reason, everyone would go to church on Sundays etc. All of the earth would be just a big suburb full of sensor...|||1) Once 3) 24 h 4) I like to talk like Yoda. Also Doctor Who quotes. (Let's go poke it with a stick!) 6) I wanted to be a scientist or a writer. Hasn't changed much ever since. 7) Sometimes and I...|||In some way communication is probably one of the things that lead to intelligence. Like, for example, someone asks you a philosophical question. This triggers your mind and urges you to think about...|||Yes, this happens to me all the time. But then again, by telling the truth, you get real friends and get rid of those who can't accept you. I think it's the best way of living there is.|||I'm thinking ENTP.|||Not all of them, I bet there are Sensors who have achieved the same thing with hard work.|||Jumping out from the third floor window and breaking a few bones. I was 10 years old and spent 4 h in pain until my parents came home.  That's about it.  Now that I think about it, definitely UTI|||I see dead people|||I don't have a system. I just write down important stuff in a chaotic way, so I'm the only person who can make sense out of it later. Also idk what I'd do without photographic memory, but I'm not...|||Love both the books and the series.|||OMG SO FREAKING AWESOME. Thank you!|||The Shawshank redemption.|||I've had a similar problem, only I'm the INTP. For example: A person might have hurt me in the past, and I have forgiven him, but I can't stop living in the past, so I bring back the event...|||Can I have one too? :kitteh: If possible, dark green shield, metallic color - grey.|||Something tells me Gatsby is introverted. All those parties he made and never took part in.|||Happens to me very often. When I get into a new class or just meet new people, in start they don't like me (and they show it), so I just ignore them, but after few months they usually warm up to me...|||No there aren't. There are days when I do everything as scheduled, but then I get bored of it and turn back to my normal self.|||Not knowing the answers to everything - yet.|||If I don't know a person very well I'm too busy with the social interaction and I'm not comfortable with expressing my humor, because the person probably wouldn't understand it. Like once I made a...|||Yes, but mostly with people I've known for years. I think it has definitely something to do with Ne. Sometimes I annoy people because I can already tell what they're going to say by their face...|||Procrastinating, trolling people and acting like it wasn't me, reading/watching something. Thinking up weird case scenarios, like when driving by bus I imagine how it would crash and people would...|||People have labeled me as ''socially retarded'', ''introverted freak'' - I'm not very communicative, so I'm comfortable with the labels unless people start to link ''introvert'' with ''ignorant'' -...|||I'm thinking ISFP or ISTP.|||Welcome to the forum! :kitteh:|||Biggest cliché of them all probably is the never-ending fight between good and evil - good always wins.     A socially awkward/miserable guy turns into biggest hero of them all and in the end...|||Welcome, fellow ENFP! :kitteh:|||My guess would be ISTJ/ISFJ, somehow I don't see anything from INTJ.|||My Ni-Te is almost as strong as Ti-Ne, so I've had similar problems. Also close people think I'm extroverted, while others think I'm introverted. I sense a lot of Ni, so you might be INTJ/INFJ, but...|||Both, but lately more adapting, because I like a good challenge.\""
      ]
     },
     "execution_count": 4,
     "metadata": {},
     "output_type": "execute_result"
    }
   ],
   "source": [
    "data['posts'].loc[42]"
   ]
  },
  {
   "cell_type": "code",
   "execution_count": 6,
   "metadata": {},
   "outputs": [
    {
     "name": "stdout",
     "output_type": "stream",
     "text": [
      "<class 'pandas.core.frame.DataFrame'>\n",
      "RangeIndex: 6506 entries, 0 to 6505\n",
      "Data columns (total 2 columns):\n",
      "type     6506 non-null object\n",
      "posts    6506 non-null object\n",
      "dtypes: object(2)\n",
      "memory usage: 101.7+ KB\n"
     ]
    }
   ],
   "source": [
    "data.info()"
   ]
  },
  {
   "cell_type": "code",
   "execution_count": 56,
   "metadata": {},
   "outputs": [
    {
     "data": {
      "image/png": "[encoded data removed]",
      "text/plain": [
       "<matplotlib.figure.Figure at 0x1a10755cc0>"
      ]
     },
     "metadata": {},
     "output_type": "display_data"
    }
   ],
   "source": [
    "data['type'].value_counts().plot(kind='bar')\n",
    "plt.show()"
   ]
  },
  {
   "cell_type": "code",
   "execution_count": 55,
   "metadata": {},
   "outputs": [
    {
     "data": {
      "text/plain": [
       "INFP    1386\n",
       "INFJ    1100\n",
       "INTP     960\n",
       "INTJ     830\n",
       "ENTP     530\n",
       "ENFP     496\n",
       "ISTP     255\n",
       "ISFP     198\n",
       "ENTJ     167\n",
       "ISTJ     145\n",
       "ENFJ     143\n",
       "ISFJ     124\n",
       "ESTP      71\n",
       "ESFP      36\n",
       "ESFJ      35\n",
       "ESTJ      30\n",
       "Name: type, dtype: int64"
      ]
     },
     "execution_count": 55,
     "metadata": {},
     "output_type": "execute_result"
    }
   ],
   "source": [
    "data['type'].value_counts()"
   ]
  },
  {
   "cell_type": "code",
   "execution_count": 8,
   "metadata": {},
   "outputs": [],
   "source": [
    "# imbalance types"
   ]
  },
  {
   "cell_type": "markdown",
   "metadata": {},
   "source": [
    "<a id=\"FEAT\"> </a>"
   ]
  },
  {
   "cell_type": "markdown",
   "metadata": {},
   "source": [
    "---\n",
    "## create features\n",
    "\n",
    "\n",
    " feature | regex\n",
    " ---|---\n",
    " `?`   | `r\"(\\?)\"`\n",
    " `!`   | `r\"(!)\"`\n",
    " `...` | `r\"(\\.\\.\\.)\"`\n",
    " youtube | ?part of social media\n",
    " www | `r\"(www)\"`\n",
    " jpg/jpeg/gif | <code>r\"(jpe?g&#124;gif)\"</code>\n",
    " emoji `;), :tongue:, :smile: #hastags?` | `r\":[a-z]*:\"`\n",
    " word count   | (\\w+) / 50 (length per post sample)\n",
    " word_length > 5   | `r\"(\\w{5,})\"`\n",
    " social_media (instagram, snapchat, etc)  | [social_medai]\n",
    " ALL_CAPS  | `r\"(\\b[A-Z]{2,}\\b)\"`\n"
   ]
  },
  {
   "cell_type": "code",
   "execution_count": 9,
   "metadata": {},
   "outputs": [],
   "source": [
    "# trial functions\n",
    "# data_trial1, data_trial2, data_trial3 \n"
   ]
  },
  {
   "cell_type": "code",
   "execution_count": 4,
   "metadata": {},
   "outputs": [],
   "source": [
    "data_trial2 = data['posts'].loc[1]"
   ]
  },
  {
   "cell_type": "code",
   "execution_count": 5,
   "metadata": {},
   "outputs": [],
   "source": [
    "data_trial3 = data['posts'].loc[369]"
   ]
  },
  {
   "cell_type": "code",
   "execution_count": 6,
   "metadata": {},
   "outputs": [],
   "source": [
    "data_trial1 = data['posts'].loc[42]"
   ]
  },
  {
   "cell_type": "code",
   "execution_count": 7,
   "metadata": {},
   "outputs": [],
   "source": [
    "import re"
   ]
  },
  {
   "cell_type": "code",
   "execution_count": 8,
   "metadata": {},
   "outputs": [],
   "source": [
    "# count question marks\n",
    "def qm_count(string):\n",
    "    q_mark = re.compile(r'(\\?)')\n",
    "    return len(re.findall(q_mark, string))\n",
    "    "
   ]
  },
  {
   "cell_type": "code",
   "execution_count": 9,
   "metadata": {},
   "outputs": [
    {
     "data": {
      "text/plain": [
       "16"
      ]
     },
     "execution_count": 9,
     "metadata": {},
     "output_type": "execute_result"
    }
   ],
   "source": [
    "qm_count(data_trial3)"
   ]
  },
  {
   "cell_type": "code",
   "execution_count": 10,
   "metadata": {},
   "outputs": [],
   "source": [
    "def exclaim_count(string):\n",
    "    ex_mark = re.compile(r'(\\!)')\n",
    "    return len(re.findall(ex_mark, string))"
   ]
  },
  {
   "cell_type": "code",
   "execution_count": 11,
   "metadata": {},
   "outputs": [
    {
     "data": {
      "text/plain": [
       "6"
      ]
     },
     "execution_count": 11,
     "metadata": {},
     "output_type": "execute_result"
    }
   ],
   "source": [
    "exclaim_count(data_trial3)"
   ]
  },
  {
   "cell_type": "code",
   "execution_count": 12,
   "metadata": {},
   "outputs": [],
   "source": [
    "def elipse_count(string):\n",
    "    elipse = re.compile(r\"(\\.\\.\\.)\")\n",
    "    return len(re.findall(elipse, string))"
   ]
  },
  {
   "cell_type": "code",
   "execution_count": 13,
   "metadata": {},
   "outputs": [
    {
     "data": {
      "text/plain": [
       "20"
      ]
     },
     "execution_count": 13,
     "metadata": {},
     "output_type": "execute_result"
    }
   ],
   "source": [
    "elipse_count(data_trial1)"
   ]
  },
  {
   "cell_type": "code",
   "execution_count": 14,
   "metadata": {},
   "outputs": [],
   "source": [
    "def emoji_count(string):\n",
    "    emojis = re.compile(r\"(:[a-z]*:)|([:;][()pdo03])\",re.I)\n",
    "    return len(re.findall(emojis,string))"
   ]
  },
  {
   "cell_type": "code",
   "execution_count": 15,
   "metadata": {},
   "outputs": [
    {
     "data": {
      "text/plain": [
       "4"
      ]
     },
     "execution_count": 15,
     "metadata": {},
     "output_type": "execute_result"
    }
   ],
   "source": [
    "emoji_count(data_trial3)"
   ]
  },
  {
   "cell_type": "code",
   "execution_count": 16,
   "metadata": {},
   "outputs": [],
   "source": [
    "def word_count(string):\n",
    "    words = re.compile(r\"(\\w+)\")\n",
    "    count = len(re.findall(words, string))\n",
    "    return count/50"
   ]
  },
  {
   "cell_type": "code",
   "execution_count": 17,
   "metadata": {},
   "outputs": [
    {
     "data": {
      "text/plain": [
       "31.0"
      ]
     },
     "execution_count": 17,
     "metadata": {},
     "output_type": "execute_result"
    }
   ],
   "source": [
    "word_count(data_trial3)"
   ]
  },
  {
   "cell_type": "code",
   "execution_count": 18,
   "metadata": {},
   "outputs": [],
   "source": [
    "def word_len(string):\n",
    "    len5 = re.compile(r\"\\w{5,}\")\n",
    "    return len(re.findall(len5,string))/50"
   ]
  },
  {
   "cell_type": "code",
   "execution_count": 19,
   "metadata": {},
   "outputs": [
    {
     "data": {
      "text/plain": [
       "9.84"
      ]
     },
     "execution_count": 19,
     "metadata": {},
     "output_type": "execute_result"
    }
   ],
   "source": [
    "word_len(data_trial3)"
   ]
  },
  {
   "cell_type": "code",
   "execution_count": 20,
   "metadata": {},
   "outputs": [],
   "source": [
    "def all_caps(string):\n",
    "    mbti_type = set(data.type) # set of all mbti types\n",
    "    capsloc = re.compile(r\"\\b[A-Z]{2,}\\b\")\n",
    "    caps_words = [x for x in re.findall(capsloc,string) if x not in mbti_type]\n",
    "    return len(caps_words)"
   ]
  },
  {
   "cell_type": "code",
   "execution_count": 21,
   "metadata": {},
   "outputs": [
    {
     "data": {
      "text/plain": [
       "6"
      ]
     },
     "execution_count": 21,
     "metadata": {},
     "output_type": "execute_result"
    }
   ],
   "source": [
    "all_caps(data_trial1)"
   ]
  },
  {
   "cell_type": "code",
   "execution_count": 22,
   "metadata": {},
   "outputs": [],
   "source": [
    "def count_pix(string):\n",
    "    pix = re.compile(r\"\\b(jpe?g|gif|png|img)\\b\",re.I)\n",
    "    return len(re.findall(pix, string))"
   ]
  },
  {
   "cell_type": "code",
   "execution_count": 23,
   "metadata": {},
   "outputs": [
    {
     "data": {
      "text/plain": [
       "8"
      ]
     },
     "execution_count": 23,
     "metadata": {},
     "output_type": "execute_result"
    }
   ],
   "source": [
    "count_pix(data_trial2)"
   ]
  },
  {
   "cell_type": "code",
   "execution_count": 24,
   "metadata": {},
   "outputs": [],
   "source": [
    "def create_features(df):\n",
    "    df['questions'] = df['posts'].apply(qm_count)\n",
    "    df['exclaimed'] = df['posts'].apply(exclaim_count)\n",
    "    df['elipses'] = df['posts'].apply(elipse_count)\n",
    "    df['emojis'] = df['posts'].apply(emoji_count)\n",
    "    df['word_count'] = df['posts'].apply(word_count)\n",
    "    df['big_words'] = df['posts'].apply(word_len)\n",
    "    df['images'] = df['posts'].apply(count_pix)    \n",
    "    df['words_all_caps'] = df['posts'].apply(all_caps) "
   ]
  },
  {
   "cell_type": "code",
   "execution_count": 30,
   "metadata": {},
   "outputs": [],
   "source": [
    "#def soc_media_count(string):\n",
    "soc_media = \"Twitter LinkedIn Google+ YouTube Pinterest Instagram Tumblr Flickr Reddit Snapchat WhatsApp Quora Vine Periscope\\\n",
    "                BizSugar StumbleUpon Delicious Digg Facebook\".lower().split()"
   ]
  },
  {
   "cell_type": "markdown",
   "metadata": {},
   "source": [
    "---\n",
    "## Testing Feature Creation"
   ]
  },
  {
   "cell_type": "code",
   "execution_count": 25,
   "metadata": {},
   "outputs": [],
   "source": [
    "test_data = data.loc[:1000]"
   ]
  },
  {
   "cell_type": "code",
   "execution_count": 26,
   "metadata": {},
   "outputs": [
    {
     "data": {
      "text/html": [
       "<div>\n",
       "<style scoped>\n",
       "    .dataframe tbody tr th:only-of-type {\n",
       "        vertical-align: middle;\n",
       "    }\n",
       "\n",
       "    .dataframe tbody tr th {\n",
       "        vertical-align: top;\n",
       "    }\n",
       "\n",
       "    .dataframe thead th {\n",
       "        text-align: right;\n",
       "    }\n",
       "</style>\n",
       "<table border=\"1\" class=\"dataframe\">\n",
       "  <thead>\n",
       "    <tr style=\"text-align: right;\">\n",
       "      <th></th>\n",
       "      <th>type</th>\n",
       "      <th>posts</th>\n",
       "    </tr>\n",
       "  </thead>\n",
       "  <tbody>\n",
       "    <tr>\n",
       "      <th>0</th>\n",
       "      <td>INFJ</td>\n",
       "      <td>'http://www.youtube.com/watch?v=qsXHcwe3krw|||...</td>\n",
       "    </tr>\n",
       "    <tr>\n",
       "      <th>1</th>\n",
       "      <td>ENTP</td>\n",
       "      <td>'I'm finding the lack of me in these posts ver...</td>\n",
       "    </tr>\n",
       "    <tr>\n",
       "      <th>2</th>\n",
       "      <td>INTP</td>\n",
       "      <td>'Good one  _____   https://www.youtube.com/wat...</td>\n",
       "    </tr>\n",
       "    <tr>\n",
       "      <th>3</th>\n",
       "      <td>INTJ</td>\n",
       "      <td>'Dear INTP,   I enjoyed our conversation the o...</td>\n",
       "    </tr>\n",
       "    <tr>\n",
       "      <th>4</th>\n",
       "      <td>ENTJ</td>\n",
       "      <td>'You're fired.|||That's another silly misconce...</td>\n",
       "    </tr>\n",
       "  </tbody>\n",
       "</table>\n",
       "</div>"
      ],
      "text/plain": [
       "   type                                              posts\n",
       "0  INFJ  'http://www.youtube.com/watch?v=qsXHcwe3krw|||...\n",
       "1  ENTP  'I'm finding the lack of me in these posts ver...\n",
       "2  INTP  'Good one  _____   https://www.youtube.com/wat...\n",
       "3  INTJ  'Dear INTP,   I enjoyed our conversation the o...\n",
       "4  ENTJ  'You're fired.|||That's another silly misconce..."
      ]
     },
     "execution_count": 26,
     "metadata": {},
     "output_type": "execute_result"
    }
   ],
   "source": [
    "test_data.head()"
   ]
  },
  {
   "cell_type": "code",
   "execution_count": 29,
   "metadata": {},
   "outputs": [],
   "source": [
    "import warnings\n",
    "with warnings.catch_warnings():\n",
    "    warnings.simplefilter(\"ignore\") # ignore warning messages cluttering up view\n",
    "    create_features(test_data)"
   ]
  },
  {
   "cell_type": "code",
   "execution_count": 35,
   "metadata": {},
   "outputs": [
    {
     "data": {
      "text/html": [
       "<div>\n",
       "<style>\n",
       "    .dataframe thead tr:only-child th {\n",
       "        text-align: right;\n",
       "    }\n",
       "\n",
       "    .dataframe thead th {\n",
       "        text-align: left;\n",
       "    }\n",
       "\n",
       "    .dataframe tbody tr th {\n",
       "        vertical-align: top;\n",
       "    }\n",
       "</style>\n",
       "<table border=\"1\" class=\"dataframe\">\n",
       "  <thead>\n",
       "    <tr style=\"text-align: right;\">\n",
       "      <th></th>\n",
       "      <th>type</th>\n",
       "      <th>posts</th>\n",
       "      <th>questions</th>\n",
       "      <th>exclaimed</th>\n",
       "      <th>elipses</th>\n",
       "      <th>emojis</th>\n",
       "      <th>word_count</th>\n",
       "      <th>big_words</th>\n",
       "      <th>images</th>\n",
       "      <th>words_all_caps</th>\n",
       "    </tr>\n",
       "  </thead>\n",
       "  <tbody>\n",
       "    <tr>\n",
       "      <th>0</th>\n",
       "      <td>INFJ</td>\n",
       "      <td>'http://www.youtube.com/watch?v=qsXHcwe3krw|||...</td>\n",
       "      <td>18</td>\n",
       "      <td>3</td>\n",
       "      <td>15</td>\n",
       "      <td>3</td>\n",
       "      <td>16.06</td>\n",
       "      <td>6.30</td>\n",
       "      <td>7</td>\n",
       "      <td>1</td>\n",
       "    </tr>\n",
       "    <tr>\n",
       "      <th>1</th>\n",
       "      <td>ENTP</td>\n",
       "      <td>'I'm finding the lack of me in these posts ver...</td>\n",
       "      <td>5</td>\n",
       "      <td>0</td>\n",
       "      <td>19</td>\n",
       "      <td>18</td>\n",
       "      <td>26.82</td>\n",
       "      <td>8.22</td>\n",
       "      <td>8</td>\n",
       "      <td>8</td>\n",
       "    </tr>\n",
       "    <tr>\n",
       "      <th>2</th>\n",
       "      <td>INTP</td>\n",
       "      <td>'Good one  _____   https://www.youtube.com/wat...</td>\n",
       "      <td>12</td>\n",
       "      <td>4</td>\n",
       "      <td>13</td>\n",
       "      <td>10</td>\n",
       "      <td>18.66</td>\n",
       "      <td>7.34</td>\n",
       "      <td>0</td>\n",
       "      <td>3</td>\n",
       "    </tr>\n",
       "    <tr>\n",
       "      <th>3</th>\n",
       "      <td>INTJ</td>\n",
       "      <td>'Dear INTP,   I enjoyed our conversation the o...</td>\n",
       "      <td>11</td>\n",
       "      <td>3</td>\n",
       "      <td>26</td>\n",
       "      <td>0</td>\n",
       "      <td>23.52</td>\n",
       "      <td>7.44</td>\n",
       "      <td>0</td>\n",
       "      <td>12</td>\n",
       "    </tr>\n",
       "    <tr>\n",
       "      <th>4</th>\n",
       "      <td>ENTJ</td>\n",
       "      <td>'You're fired.|||That's another silly misconce...</td>\n",
       "      <td>10</td>\n",
       "      <td>1</td>\n",
       "      <td>21</td>\n",
       "      <td>3</td>\n",
       "      <td>21.88</td>\n",
       "      <td>7.78</td>\n",
       "      <td>2</td>\n",
       "      <td>13</td>\n",
       "    </tr>\n",
       "    <tr>\n",
       "      <th>5</th>\n",
       "      <td>INTJ</td>\n",
       "      <td>'18/37 @.@|||Science  is not perfect. No scien...</td>\n",
       "      <td>10</td>\n",
       "      <td>0</td>\n",
       "      <td>39</td>\n",
       "      <td>0</td>\n",
       "      <td>31.70</td>\n",
       "      <td>10.18</td>\n",
       "      <td>0</td>\n",
       "      <td>3</td>\n",
       "    </tr>\n",
       "    <tr>\n",
       "      <th>6</th>\n",
       "      <td>INFJ</td>\n",
       "      <td>'No, I can't draw on my own nails (haha). Thos...</td>\n",
       "      <td>13</td>\n",
       "      <td>3</td>\n",
       "      <td>37</td>\n",
       "      <td>9</td>\n",
       "      <td>29.02</td>\n",
       "      <td>9.96</td>\n",
       "      <td>0</td>\n",
       "      <td>15</td>\n",
       "    </tr>\n",
       "    <tr>\n",
       "      <th>7</th>\n",
       "      <td>INTJ</td>\n",
       "      <td>'I tend to build up a collection of things on ...</td>\n",
       "      <td>35</td>\n",
       "      <td>0</td>\n",
       "      <td>28</td>\n",
       "      <td>3</td>\n",
       "      <td>25.62</td>\n",
       "      <td>8.68</td>\n",
       "      <td>0</td>\n",
       "      <td>2</td>\n",
       "    </tr>\n",
       "    <tr>\n",
       "      <th>8</th>\n",
       "      <td>INFJ</td>\n",
       "      <td>I'm not sure, that's a good question. The dist...</td>\n",
       "      <td>22</td>\n",
       "      <td>1</td>\n",
       "      <td>17</td>\n",
       "      <td>5</td>\n",
       "      <td>19.32</td>\n",
       "      <td>7.08</td>\n",
       "      <td>1</td>\n",
       "      <td>6</td>\n",
       "    </tr>\n",
       "    <tr>\n",
       "      <th>9</th>\n",
       "      <td>INTP</td>\n",
       "      <td>'https://www.youtube.com/watch?v=w8-egj0y8Qs||...</td>\n",
       "      <td>13</td>\n",
       "      <td>3</td>\n",
       "      <td>24</td>\n",
       "      <td>2</td>\n",
       "      <td>27.36</td>\n",
       "      <td>9.76</td>\n",
       "      <td>0</td>\n",
       "      <td>10</td>\n",
       "    </tr>\n",
       "  </tbody>\n",
       "</table>\n",
       "</div>"
      ],
      "text/plain": [
       "   type                                              posts  questions  \\\n",
       "0  INFJ  'http://www.youtube.com/watch?v=qsXHcwe3krw|||...         18   \n",
       "1  ENTP  'I'm finding the lack of me in these posts ver...          5   \n",
       "2  INTP  'Good one  _____   https://www.youtube.com/wat...         12   \n",
       "3  INTJ  'Dear INTP,   I enjoyed our conversation the o...         11   \n",
       "4  ENTJ  'You're fired.|||That's another silly misconce...         10   \n",
       "5  INTJ  '18/37 @.@|||Science  is not perfect. No scien...         10   \n",
       "6  INFJ  'No, I can't draw on my own nails (haha). Thos...         13   \n",
       "7  INTJ  'I tend to build up a collection of things on ...         35   \n",
       "8  INFJ  I'm not sure, that's a good question. The dist...         22   \n",
       "9  INTP  'https://www.youtube.com/watch?v=w8-egj0y8Qs||...         13   \n",
       "\n",
       "   exclaimed  elipses  emojis  word_count  big_words  images  words_all_caps  \n",
       "0          3       15       3       16.06       6.30       7               1  \n",
       "1          0       19      18       26.82       8.22       8               8  \n",
       "2          4       13      10       18.66       7.34       0               3  \n",
       "3          3       26       0       23.52       7.44       0              12  \n",
       "4          1       21       3       21.88       7.78       2              13  \n",
       "5          0       39       0       31.70      10.18       0               3  \n",
       "6          3       37       9       29.02       9.96       0              15  \n",
       "7          0       28       3       25.62       8.68       0               2  \n",
       "8          1       17       5       19.32       7.08       1               6  \n",
       "9          3       24       2       27.36       9.76       0              10  "
      ]
     },
     "execution_count": 35,
     "metadata": {},
     "output_type": "execute_result"
    }
   ],
   "source": [
    "test_data.head(10)"
   ]
  },
  {
   "cell_type": "code",
   "execution_count": 36,
   "metadata": {},
   "outputs": [
    {
     "data": {
      "text/html": [
       "<div>\n",
       "<style>\n",
       "    .dataframe thead tr:only-child th {\n",
       "        text-align: right;\n",
       "    }\n",
       "\n",
       "    .dataframe thead th {\n",
       "        text-align: left;\n",
       "    }\n",
       "\n",
       "    .dataframe tbody tr th {\n",
       "        vertical-align: top;\n",
       "    }\n",
       "</style>\n",
       "<table border=\"1\" class=\"dataframe\">\n",
       "  <thead>\n",
       "    <tr style=\"text-align: right;\">\n",
       "      <th></th>\n",
       "      <th>questions</th>\n",
       "      <th>exclaimed</th>\n",
       "      <th>elipses</th>\n",
       "      <th>emojis</th>\n",
       "      <th>word_count</th>\n",
       "      <th>big_words</th>\n",
       "      <th>images</th>\n",
       "      <th>words_all_caps</th>\n",
       "    </tr>\n",
       "    <tr>\n",
       "      <th>type</th>\n",
       "      <th></th>\n",
       "      <th></th>\n",
       "      <th></th>\n",
       "      <th></th>\n",
       "      <th></th>\n",
       "      <th></th>\n",
       "      <th></th>\n",
       "      <th></th>\n",
       "    </tr>\n",
       "  </thead>\n",
       "  <tbody>\n",
       "    <tr>\n",
       "      <th>ENFJ</th>\n",
       "      <td>9.958333</td>\n",
       "      <td>13.333333</td>\n",
       "      <td>33.708333</td>\n",
       "      <td>7.916667</td>\n",
       "      <td>26.835833</td>\n",
       "      <td>8.654167</td>\n",
       "      <td>0.708333</td>\n",
       "      <td>11.041667</td>\n",
       "    </tr>\n",
       "    <tr>\n",
       "      <th>ENFP</th>\n",
       "      <td>13.056338</td>\n",
       "      <td>11.901408</td>\n",
       "      <td>33.042254</td>\n",
       "      <td>6.535211</td>\n",
       "      <td>26.861690</td>\n",
       "      <td>8.481972</td>\n",
       "      <td>1.112676</td>\n",
       "      <td>8.774648</td>\n",
       "    </tr>\n",
       "    <tr>\n",
       "      <th>ENTJ</th>\n",
       "      <td>10.482759</td>\n",
       "      <td>8.827586</td>\n",
       "      <td>33.586207</td>\n",
       "      <td>3.827586</td>\n",
       "      <td>27.180690</td>\n",
       "      <td>8.964138</td>\n",
       "      <td>1.172414</td>\n",
       "      <td>8.482759</td>\n",
       "    </tr>\n",
       "    <tr>\n",
       "      <th>ENTP</th>\n",
       "      <td>10.972222</td>\n",
       "      <td>6.652778</td>\n",
       "      <td>30.486111</td>\n",
       "      <td>4.305556</td>\n",
       "      <td>25.934444</td>\n",
       "      <td>8.393611</td>\n",
       "      <td>1.208333</td>\n",
       "      <td>8.527778</td>\n",
       "    </tr>\n",
       "    <tr>\n",
       "      <th>ESFJ</th>\n",
       "      <td>12.750000</td>\n",
       "      <td>9.250000</td>\n",
       "      <td>21.250000</td>\n",
       "      <td>3.750000</td>\n",
       "      <td>26.100000</td>\n",
       "      <td>6.860000</td>\n",
       "      <td>1.250000</td>\n",
       "      <td>6.750000</td>\n",
       "    </tr>\n",
       "    <tr>\n",
       "      <th>ESFP</th>\n",
       "      <td>10.571429</td>\n",
       "      <td>17.428571</td>\n",
       "      <td>22.000000</td>\n",
       "      <td>4.714286</td>\n",
       "      <td>20.222857</td>\n",
       "      <td>6.474286</td>\n",
       "      <td>1.000000</td>\n",
       "      <td>10.142857</td>\n",
       "    </tr>\n",
       "    <tr>\n",
       "      <th>ESTJ</th>\n",
       "      <td>8.666667</td>\n",
       "      <td>11.333333</td>\n",
       "      <td>21.666667</td>\n",
       "      <td>2.666667</td>\n",
       "      <td>21.633333</td>\n",
       "      <td>6.573333</td>\n",
       "      <td>0.000000</td>\n",
       "      <td>8.333333</td>\n",
       "    </tr>\n",
       "    <tr>\n",
       "      <th>ESTP</th>\n",
       "      <td>15.181818</td>\n",
       "      <td>8.545455</td>\n",
       "      <td>24.363636</td>\n",
       "      <td>2.636364</td>\n",
       "      <td>24.489091</td>\n",
       "      <td>7.456364</td>\n",
       "      <td>0.545455</td>\n",
       "      <td>12.181818</td>\n",
       "    </tr>\n",
       "    <tr>\n",
       "      <th>INFJ</th>\n",
       "      <td>11.571429</td>\n",
       "      <td>9.223602</td>\n",
       "      <td>35.099379</td>\n",
       "      <td>6.236025</td>\n",
       "      <td>27.492671</td>\n",
       "      <td>8.977019</td>\n",
       "      <td>0.720497</td>\n",
       "      <td>7.478261</td>\n",
       "    </tr>\n",
       "    <tr>\n",
       "      <th>INFP</th>\n",
       "      <td>10.658228</td>\n",
       "      <td>8.696203</td>\n",
       "      <td>33.143460</td>\n",
       "      <td>5.594937</td>\n",
       "      <td>26.913755</td>\n",
       "      <td>8.715105</td>\n",
       "      <td>0.898734</td>\n",
       "      <td>6.924051</td>\n",
       "    </tr>\n",
       "    <tr>\n",
       "      <th>INTJ</th>\n",
       "      <td>10.946154</td>\n",
       "      <td>5.084615</td>\n",
       "      <td>30.015385</td>\n",
       "      <td>4.484615</td>\n",
       "      <td>26.378000</td>\n",
       "      <td>8.878769</td>\n",
       "      <td>1.661538</td>\n",
       "      <td>7.423077</td>\n",
       "    </tr>\n",
       "    <tr>\n",
       "      <th>INTP</th>\n",
       "      <td>10.496732</td>\n",
       "      <td>4.581699</td>\n",
       "      <td>32.797386</td>\n",
       "      <td>2.803922</td>\n",
       "      <td>27.685229</td>\n",
       "      <td>9.287712</td>\n",
       "      <td>1.241830</td>\n",
       "      <td>7.019608</td>\n",
       "    </tr>\n",
       "    <tr>\n",
       "      <th>ISFJ</th>\n",
       "      <td>9.437500</td>\n",
       "      <td>17.562500</td>\n",
       "      <td>40.000000</td>\n",
       "      <td>6.375000</td>\n",
       "      <td>28.756250</td>\n",
       "      <td>8.992500</td>\n",
       "      <td>1.312500</td>\n",
       "      <td>6.687500</td>\n",
       "    </tr>\n",
       "    <tr>\n",
       "      <th>ISFP</th>\n",
       "      <td>10.962963</td>\n",
       "      <td>11.888889</td>\n",
       "      <td>34.592593</td>\n",
       "      <td>7.518519</td>\n",
       "      <td>26.903704</td>\n",
       "      <td>8.788889</td>\n",
       "      <td>0.370370</td>\n",
       "      <td>6.407407</td>\n",
       "    </tr>\n",
       "    <tr>\n",
       "      <th>ISTJ</th>\n",
       "      <td>10.500000</td>\n",
       "      <td>12.000000</td>\n",
       "      <td>34.833333</td>\n",
       "      <td>3.250000</td>\n",
       "      <td>27.861667</td>\n",
       "      <td>9.038333</td>\n",
       "      <td>2.500000</td>\n",
       "      <td>6.000000</td>\n",
       "    </tr>\n",
       "    <tr>\n",
       "      <th>ISTP</th>\n",
       "      <td>12.613636</td>\n",
       "      <td>5.090909</td>\n",
       "      <td>26.227273</td>\n",
       "      <td>3.363636</td>\n",
       "      <td>24.720909</td>\n",
       "      <td>8.150000</td>\n",
       "      <td>1.227273</td>\n",
       "      <td>7.113636</td>\n",
       "    </tr>\n",
       "  </tbody>\n",
       "</table>\n",
       "</div>"
      ],
      "text/plain": [
       "      questions  exclaimed    elipses    emojis  word_count  big_words  \\\n",
       "type                                                                     \n",
       "ENFJ   9.958333  13.333333  33.708333  7.916667   26.835833   8.654167   \n",
       "ENFP  13.056338  11.901408  33.042254  6.535211   26.861690   8.481972   \n",
       "ENTJ  10.482759   8.827586  33.586207  3.827586   27.180690   8.964138   \n",
       "ENTP  10.972222   6.652778  30.486111  4.305556   25.934444   8.393611   \n",
       "ESFJ  12.750000   9.250000  21.250000  3.750000   26.100000   6.860000   \n",
       "ESFP  10.571429  17.428571  22.000000  4.714286   20.222857   6.474286   \n",
       "ESTJ   8.666667  11.333333  21.666667  2.666667   21.633333   6.573333   \n",
       "ESTP  15.181818   8.545455  24.363636  2.636364   24.489091   7.456364   \n",
       "INFJ  11.571429   9.223602  35.099379  6.236025   27.492671   8.977019   \n",
       "INFP  10.658228   8.696203  33.143460  5.594937   26.913755   8.715105   \n",
       "INTJ  10.946154   5.084615  30.015385  4.484615   26.378000   8.878769   \n",
       "INTP  10.496732   4.581699  32.797386  2.803922   27.685229   9.287712   \n",
       "ISFJ   9.437500  17.562500  40.000000  6.375000   28.756250   8.992500   \n",
       "ISFP  10.962963  11.888889  34.592593  7.518519   26.903704   8.788889   \n",
       "ISTJ  10.500000  12.000000  34.833333  3.250000   27.861667   9.038333   \n",
       "ISTP  12.613636   5.090909  26.227273  3.363636   24.720909   8.150000   \n",
       "\n",
       "        images  words_all_caps  \n",
       "type                            \n",
       "ENFJ  0.708333       11.041667  \n",
       "ENFP  1.112676        8.774648  \n",
       "ENTJ  1.172414        8.482759  \n",
       "ENTP  1.208333        8.527778  \n",
       "ESFJ  1.250000        6.750000  \n",
       "ESFP  1.000000       10.142857  \n",
       "ESTJ  0.000000        8.333333  \n",
       "ESTP  0.545455       12.181818  \n",
       "INFJ  0.720497        7.478261  \n",
       "INFP  0.898734        6.924051  \n",
       "INTJ  1.661538        7.423077  \n",
       "INTP  1.241830        7.019608  \n",
       "ISFJ  1.312500        6.687500  \n",
       "ISFP  0.370370        6.407407  \n",
       "ISTJ  2.500000        6.000000  \n",
       "ISTP  1.227273        7.113636  "
      ]
     },
     "execution_count": 36,
     "metadata": {},
     "output_type": "execute_result"
    }
   ],
   "source": [
    "test_data.groupby('type').mean()"
   ]
  },
  {
   "cell_type": "markdown",
   "metadata": {},
   "source": [
    "note:\n",
    "\n",
    "add social media count after tokenisation"
   ]
  },
  {
   "cell_type": "code",
   "execution_count": 37,
   "metadata": {},
   "outputs": [
    {
     "data": {
      "text/html": [
       "<div>\n",
       "<style>\n",
       "    .dataframe thead tr:only-child th {\n",
       "        text-align: right;\n",
       "    }\n",
       "\n",
       "    .dataframe thead th {\n",
       "        text-align: left;\n",
       "    }\n",
       "\n",
       "    .dataframe tbody tr th {\n",
       "        vertical-align: top;\n",
       "    }\n",
       "</style>\n",
       "<table border=\"1\" class=\"dataframe\">\n",
       "  <thead>\n",
       "    <tr style=\"text-align: right;\">\n",
       "      <th></th>\n",
       "      <th>questions</th>\n",
       "      <th>exclaimed</th>\n",
       "      <th>elipses</th>\n",
       "      <th>emojis</th>\n",
       "      <th>word_count</th>\n",
       "      <th>big_words</th>\n",
       "      <th>images</th>\n",
       "      <th>words_all_caps</th>\n",
       "    </tr>\n",
       "  </thead>\n",
       "  <tbody>\n",
       "    <tr>\n",
       "      <th>count</th>\n",
       "      <td>1001.000000</td>\n",
       "      <td>1001.000000</td>\n",
       "      <td>1001.000000</td>\n",
       "      <td>1001.000000</td>\n",
       "      <td>1001.000000</td>\n",
       "      <td>1001.000000</td>\n",
       "      <td>1001.000000</td>\n",
       "      <td>1001.000000</td>\n",
       "    </tr>\n",
       "    <tr>\n",
       "      <th>mean</th>\n",
       "      <td>11.112887</td>\n",
       "      <td>8.056943</td>\n",
       "      <td>32.435564</td>\n",
       "      <td>4.989011</td>\n",
       "      <td>26.838581</td>\n",
       "      <td>8.774226</td>\n",
       "      <td>1.083916</td>\n",
       "      <td>7.546454</td>\n",
       "    </tr>\n",
       "    <tr>\n",
       "      <th>std</th>\n",
       "      <td>8.313498</td>\n",
       "      <td>10.000088</td>\n",
       "      <td>14.204439</td>\n",
       "      <td>6.122000</td>\n",
       "      <td>6.121899</td>\n",
       "      <td>1.996737</td>\n",
       "      <td>2.531986</td>\n",
       "      <td>6.847050</td>\n",
       "    </tr>\n",
       "    <tr>\n",
       "      <th>min</th>\n",
       "      <td>0.000000</td>\n",
       "      <td>0.000000</td>\n",
       "      <td>0.000000</td>\n",
       "      <td>0.000000</td>\n",
       "      <td>0.780000</td>\n",
       "      <td>0.200000</td>\n",
       "      <td>0.000000</td>\n",
       "      <td>0.000000</td>\n",
       "    </tr>\n",
       "    <tr>\n",
       "      <th>25%</th>\n",
       "      <td>6.000000</td>\n",
       "      <td>2.000000</td>\n",
       "      <td>23.000000</td>\n",
       "      <td>1.000000</td>\n",
       "      <td>23.500000</td>\n",
       "      <td>7.620000</td>\n",
       "      <td>0.000000</td>\n",
       "      <td>3.000000</td>\n",
       "    </tr>\n",
       "    <tr>\n",
       "      <th>50%</th>\n",
       "      <td>10.000000</td>\n",
       "      <td>5.000000</td>\n",
       "      <td>32.000000</td>\n",
       "      <td>3.000000</td>\n",
       "      <td>27.760000</td>\n",
       "      <td>9.000000</td>\n",
       "      <td>0.000000</td>\n",
       "      <td>6.000000</td>\n",
       "    </tr>\n",
       "    <tr>\n",
       "      <th>75%</th>\n",
       "      <td>15.000000</td>\n",
       "      <td>11.000000</td>\n",
       "      <td>41.000000</td>\n",
       "      <td>7.000000</td>\n",
       "      <td>31.260000</td>\n",
       "      <td>10.200000</td>\n",
       "      <td>1.000000</td>\n",
       "      <td>10.000000</td>\n",
       "    </tr>\n",
       "    <tr>\n",
       "      <th>max</th>\n",
       "      <td>121.000000</td>\n",
       "      <td>97.000000</td>\n",
       "      <td>133.000000</td>\n",
       "      <td>37.000000</td>\n",
       "      <td>39.040000</td>\n",
       "      <td>13.060000</td>\n",
       "      <td>28.000000</td>\n",
       "      <td>53.000000</td>\n",
       "    </tr>\n",
       "  </tbody>\n",
       "</table>\n",
       "</div>"
      ],
      "text/plain": [
       "         questions    exclaimed      elipses       emojis   word_count  \\\n",
       "count  1001.000000  1001.000000  1001.000000  1001.000000  1001.000000   \n",
       "mean     11.112887     8.056943    32.435564     4.989011    26.838581   \n",
       "std       8.313498    10.000088    14.204439     6.122000     6.121899   \n",
       "min       0.000000     0.000000     0.000000     0.000000     0.780000   \n",
       "25%       6.000000     2.000000    23.000000     1.000000    23.500000   \n",
       "50%      10.000000     5.000000    32.000000     3.000000    27.760000   \n",
       "75%      15.000000    11.000000    41.000000     7.000000    31.260000   \n",
       "max     121.000000    97.000000   133.000000    37.000000    39.040000   \n",
       "\n",
       "         big_words       images  words_all_caps  \n",
       "count  1001.000000  1001.000000     1001.000000  \n",
       "mean      8.774226     1.083916        7.546454  \n",
       "std       1.996737     2.531986        6.847050  \n",
       "min       0.200000     0.000000        0.000000  \n",
       "25%       7.620000     0.000000        3.000000  \n",
       "50%       9.000000     0.000000        6.000000  \n",
       "75%      10.200000     1.000000       10.000000  \n",
       "max      13.060000    28.000000       53.000000  "
      ]
     },
     "execution_count": 37,
     "metadata": {},
     "output_type": "execute_result"
    }
   ],
   "source": [
    "test_data.describe()"
   ]
  },
  {
   "cell_type": "markdown",
   "metadata": {},
   "source": [
    "<a id=\"NLP\"> </a>"
   ]
  },
  {
   "cell_type": "markdown",
   "metadata": {},
   "source": [
    "---\n",
    "## NLP"
   ]
  },
  {
   "cell_type": "code",
   "execution_count": 38,
   "metadata": {},
   "outputs": [],
   "source": [
    "import nltk"
   ]
  },
  {
   "cell_type": "markdown",
   "metadata": {},
   "source": [
    "### StopWords"
   ]
  },
  {
   "cell_type": "code",
   "execution_count": 39,
   "metadata": {},
   "outputs": [],
   "source": [
    "from nltk.corpus import stopwords"
   ]
  },
  {
   "cell_type": "code",
   "execution_count": 40,
   "metadata": {},
   "outputs": [
    {
     "data": {
      "text/plain": [
       "179"
      ]
     },
     "execution_count": 40,
     "metadata": {},
     "output_type": "execute_result"
    }
   ],
   "source": [
    "nltk_stopwords = set(stopwords.words('english'))\n",
    "len(nltk_stopwords)"
   ]
  },
  {
   "cell_type": "code",
   "execution_count": 41,
   "metadata": {},
   "outputs": [],
   "source": [
    "my_stopwords = {'a', 'about', 'above', 'after', 'again', 'against', 'ain', 'all', 'am', 'an', 'and', 'any', 'are', 'aren',\n",
    "\"aren't\", 'as', 'at', 'be', 'because', 'been', 'before', 'being', 'below', 'between', 'both', 'but', 'by', 'can',\n",
    "'couldn', \"couldn't\", 'd', 'did', 'didn', \"didn't\", 'do', 'does', 'doesn', \"doesn't\", 'doing', 'don', \"don't\",\n",
    "'down', 'during', 'each', 'few', 'for', 'from', 'further', 'had', 'hadn', \"hadn't\", 'has', 'hasn', \"hasn't\",\n",
    "'have', 'haven', \"haven't\", 'having',  'how', 'if', 'in', 'into', 'is', 'isn', \"isn't\", 'it', \"it's\", 'its',\n",
    "'itself', 'just', 'll', 'm', 'ma', 'me', 'mightn', \"mightn't\", 'more', 'most', 'mustn', \"mustn't\", 'needn',\n",
    "\"needn't\", 'now', 'o', 'of', 'off', 'on', 'once', 'only', 'or', 'other', 'out', 'over', 'own', 're', 's', 'same', 'shan', \"shan't\", 'she', \"she's\", 'should', \"should've\",\n",
    "'shouldn', \"shouldn't\", 'so', 'some', 'such', 't', 'than', 'that', \"that'll\", 'the', 'then', 'there', 'these',\n",
    "'this', 'those', 'through', 'to', 'too', 'under', 'until', 'up', 've', 'very', 'was', 'wasn', \"wasn't\", 'we',\n",
    "'were', 'weren', \"weren't\", 'what', 'when', 'where', 'which', 'while', 'who', 'whom', 'why', 'will', 'with',\n",
    "'won', \"won't\", 'wouldn', \"wouldn't\", 'y'}"
   ]
  },
  {
   "cell_type": "code",
   "execution_count": 42,
   "metadata": {},
   "outputs": [
    {
     "name": "stdout",
     "output_type": "stream",
     "text": [
      "Stopwords in nltk: 179 \n",
      "My stopword set:   148 \n"
     ]
    }
   ],
   "source": [
    "print(\"Stopwords in nltk: {} \\nMy stopword set:   {} \".format(len(nltk_stopwords),len(my_stopwords)))"
   ]
  },
  {
   "cell_type": "code",
   "execution_count": 43,
   "metadata": {},
   "outputs": [],
   "source": [
    "stopwords_not_included = {'he', 'her', 'here', 'hers', 'herself', 'him', 'himself', 'his', 'i', 'my', 'myself', 'you', \"you'd\", \"you'll\", \"you're\", \"you've\", 'your', 'yours', 'yourself', 'yourselves',\n",
    "'they', 'them', 'themselves', 'their', 'theirs', 'our', 'ours',\n",
    "'ourselves', 'no', 'nor', 'not'} # undecided: 'no', 'nor', 'not'"
   ]
  },
  {
   "cell_type": "code",
   "execution_count": 44,
   "metadata": {},
   "outputs": [
    {
     "name": "stdout",
     "output_type": "stream",
     "text": [
      "31 stopwords taken out\n"
     ]
    }
   ],
   "source": [
    "print(f\"{len(stopwords_not_included)} stopwords taken out\")"
   ]
  },
  {
   "cell_type": "code",
   "execution_count": null,
   "metadata": {},
   "outputs": [],
   "source": []
  }
 ],
 "metadata": {
  "kernelspec": {
   "display_name": "Python 3",
   "language": "python",
   "name": "python3"
  },
  "language_info": {
   "codemirror_mode": {
    "name": "ipython",
    "version": 3
   },
   "file_extension": ".py",
   "mimetype": "text/x-python",
   "name": "python",
   "nbconvert_exporter": "python",
   "pygments_lexer": "ipython3",
   "version": "3.6.4"
  }
 },
 "nbformat": 4,
 "nbformat_minor": 2
}
