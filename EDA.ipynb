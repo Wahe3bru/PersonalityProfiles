{
 "cells": [
  {
   "cell_type": "code",
   "execution_count": 5,
   "metadata": {},
   "outputs": [],
   "source": [
    "import pandas as pd"
   ]
  },
  {
   "cell_type": "code",
   "execution_count": 8,
   "metadata": {},
   "outputs": [],
   "source": [
    "data = pd.read_csv(\"train.csv\")"
   ]
  },
  {
   "cell_type": "code",
   "execution_count": 9,
   "metadata": {},
   "outputs": [
    {
     "data": {
      "text/html": [
       "<div>\n",
       "<style scoped>\n",
       "    .dataframe tbody tr th:only-of-type {\n",
       "        vertical-align: middle;\n",
       "    }\n",
       "\n",
       "    .dataframe tbody tr th {\n",
       "        vertical-align: top;\n",
       "    }\n",
       "\n",
       "    .dataframe thead th {\n",
       "        text-align: right;\n",
       "    }\n",
       "</style>\n",
       "<table border=\"1\" class=\"dataframe\">\n",
       "  <thead>\n",
       "    <tr style=\"text-align: right;\">\n",
       "      <th></th>\n",
       "      <th>type</th>\n",
       "      <th>posts</th>\n",
       "    </tr>\n",
       "  </thead>\n",
       "  <tbody>\n",
       "    <tr>\n",
       "      <th>0</th>\n",
       "      <td>INFJ</td>\n",
       "      <td>'http://www.youtube.com/watch?v=qsXHcwe3krw|||...</td>\n",
       "    </tr>\n",
       "    <tr>\n",
       "      <th>1</th>\n",
       "      <td>ENTP</td>\n",
       "      <td>'I'm finding the lack of me in these posts ver...</td>\n",
       "    </tr>\n",
       "    <tr>\n",
       "      <th>2</th>\n",
       "      <td>INTP</td>\n",
       "      <td>'Good one  _____   https://www.youtube.com/wat...</td>\n",
       "    </tr>\n",
       "    <tr>\n",
       "      <th>3</th>\n",
       "      <td>INTJ</td>\n",
       "      <td>'Dear INTP,   I enjoyed our conversation the o...</td>\n",
       "    </tr>\n",
       "    <tr>\n",
       "      <th>4</th>\n",
       "      <td>ENTJ</td>\n",
       "      <td>'You're fired.|||That's another silly misconce...</td>\n",
       "    </tr>\n",
       "  </tbody>\n",
       "</table>\n",
       "</div>"
      ],
      "text/plain": [
       "   type                                              posts\n",
       "0  INFJ  'http://www.youtube.com/watch?v=qsXHcwe3krw|||...\n",
       "1  ENTP  'I'm finding the lack of me in these posts ver...\n",
       "2  INTP  'Good one  _____   https://www.youtube.com/wat...\n",
       "3  INTJ  'Dear INTP,   I enjoyed our conversation the o...\n",
       "4  ENTJ  'You're fired.|||That's another silly misconce..."
      ]
     },
     "execution_count": 9,
     "metadata": {},
     "output_type": "execute_result"
    }
   ],
   "source": [
    "data.head()"
   ]
  },
  {
   "cell_type": "code",
   "execution_count": 16,
   "metadata": {},
   "outputs": [
    {
     "data": {
      "text/plain": [
       "\"'https://www.youtube.com/watch?v=w8-egj0y8Qs|||I'm in this position where I have to actually let go of the person, due to a various reasons. Unfortunately I'm having trouble mustering enough strength to actually pull through it. Sometimes,...|||WHAT A YEAR, MAN. WHAT A YEAR.   I am just utterly bewildered with my 20s at this point.|||my laundry. as long as i've got clothes left to wear i'm fine.  and then the time comes that i DO run out, and i'm left to contend with The Mountain that is my laundry pile.  Sent from my Apollo...|||http://www.youtube.com/watch?v=Xyix3xdRd3Y|||going back to the office in a few hours. back to being dumbstruck and confused by your presence, back to being on the edge 90% of the time, back to feeling duplicitous, and hopelessly despicable,...|||i followed Scott Disick on instagram and so far i'm not regretting it lol. douchebags amuse me to no end.  Sent from my Apollo using Tapatalk|||you are SO quiet! you have beautiful hair. you're too damn logical, i like it. you make me feel like a lesbian at times|||i miss the beach so badly, that vacation was definitely not enough. i don't want to work yet i need a longer breather i wanna go baaaaaaaaccckkkk|||i've waited so agonizingly long for this moment and now that the chance is here my indecision and procrastination has decided to present their Amazing Super Powers in the worst way possible.   i...|||do i text her or not do i text her or not do i text her or not do i text her or not do i text her or not   do or do not. there is no think|||Natalie Dormer literally looks like a cat sometimes.|||i find scars fascinating to be honest. our bodies' own version of short stories. i have a nice collection myself, mostly from bike accidents when i was a kid.|||that would make quite an awesome scar though. i hope it doesnt hurt too much.|||galumphing on the net, drowning myself in music, relationship issues, overthinking in general + i feel fine/nothing|||http://www.youtube.com/watch?v=Y4cxaVEqZsE  apart from the hardcore yeehaw country songs, i absolutely love True Detective's soundtracks.|||i feel like i want to just eff it all up and break up with my SO just because i'm too distracted with this other person right now. i cannot stomach my own burgeoning dishonesty.|||lol. my SO always seems unnerved by that look. he's commented before that i look like i'm planning a murder in my head or envisioning the edges of the matrix, when i was really only calculating the...|||most social media words like trending, viral and selfie  whenever i hear those words i suddenly transform into this barmy-old luddite codger and bemoan how excruciatingly vacuous and fleeting...|||i cannot remember the last time i was this attracted to anyone and it absolutely terrifies me; how i lose concentration, how everything is heightened by the sense of your presence, how every possible...|||http://www.youtube.com/watch?v=j9rIHPvm5c0|||or sometimes, just dispense with the apologetic message altogether. i find that goodbye to be more effective, though i have no idea how many lives i've managed to ruin in that process :mellow:   ...|||http://www.youtube.com/watch?v=pM_Q-G_CZ74|||i can be so damn full of sh!t sometimes.|||this. oh my god. it just can't be helped. whenever i'm sitting in a relaxed position tapping a beat just happens automatically, and my patterns tend to reflect whatever mood the immediate surrounding...|||sometimes patience really is a curse.|||i've learned to control my disdain for such types, since my job involves me explaining things all day round to people with absolute-zero comprehension, requiring inhuman levels of patience. what...|||sometimes it just makes so much sense, it scares me.|||ohhh i'm with Emma on this one. she pushed the song so hard i actually ended up youtubing the entire thing, only to realize i like her lipsync version better :kitteh:|||life would be so damn easier if we all harbored ESTPs in our heads and would let them out whenever there's a social situation. i cannot count the number of times i froze out of a conversation i...|||i wish the whole MBTI system had some sort of vitamin-juice merchandise going on, like an inversed polyjuice potion wherein it'll be your attitude to change, not your facial countenance.     god...|||ikr! i hope they play with it more, i wouldn't even be against it if they turned it into a full fledged movie. although if ever they do, i hope they don't blow it all out of proportion.|||stepping on dry leaves and hearing the crunch cup of coffee while browsing the internet the latest episode of your favourite tv show finally uploaded in torrent the fresh feeling after taking a...|||oh god this show was so, so good. one of the best sci-fi shows to date. i love how the writers seem to backstab technology by emphasizing the repercussions of having said advancement. and i'm still...|||http://www.youtube.com/watch?v=6XXfqPRG4TQ|||Orphan Black, people. Orphan Black.  season 2 just started last night, and there are only 10 episodes from season1 to catch up on. i binged it last summer and it ruined my life.  the lead actress...|||considering going back to tumblr just to be up to date with all the Orphan Black posts.   how can i be so obsessed with a damn tv show???|||default feeling: i feel fine/nothing.  althought if you can equate contentment to being happy, then yes, i am happy sometimes. but it never really lasts.    lol INTPs are such a cheerful bunch|||you need to be very patient with INTPs, so just stay put. most likely she's still rationalizing her feelings for you, which is normal INTP thought-(feeling)-process, hence the confusing interactions....|||i prefer anything mystery or with a sci-fi undertone, dark films with plenty of things to mull about. i will watch anything by Nolan, Haneke, Almodovar or Fincher. as a rule i avoid action films and...|||http://www.youtube.com/watch?v=mqGhSR0z1fw  right now she's got to be one of the most judged artists in the pop scene, what with her gloomy look and fashion association and drug problems. i just...|||my 6 year old niece always says the most absurd things like she's some hipster on an acid trip:  i want flying bread it tastes like atmosphere *random japanese-sounding words to assimilate an...|||^ the series does require patience, but i suggest you try stick to it as much as you can because the pay-off is immense. or, watch the show to help you understand the plot better. the books can be...|||at this point if walking away from a person is the basis of excellent social interaction, then i'd be a damn socialite.|||from my point of view, for us INTPs love is like a faucet, it won't shut  off until you actually turn off the tap. so no matter the circumstance,  if he loves you still, then taking your time with...|||i had the same exact moment like this last year, when the faking it part just became a bit too much to stomach.   right now i'm in a well-paying job, have my own place, live independently and...|||when someone takes way too long to explain their damn point.|||what house are you? Targaryen  who's your favorite character? the Lannister men (Tywin, Tyrion and Jaime), Daenerys Stormborn, Arya Stark  best storyline? Dany of course. who can beat rearing...|||i suck at math but i'm great at English. words make more sense to me than numbers, unfortunately. thank god my brain compensated.|||definitely Walter White, your most relatable tv psychopath. i'm in awe and at the same time horried of his whole progression from boring old chemistry teacher to master manipulator devil incarnate. i...'\""
      ]
     },
     "execution_count": 16,
     "metadata": {},
     "output_type": "execute_result"
    }
   ],
   "source": [
    "data['posts'].loc[9]"
   ]
  },
  {
   "cell_type": "code",
   "execution_count": null,
   "metadata": {},
   "outputs": [],
   "source": []
  }
 ],
 "metadata": {
  "kernelspec": {
   "display_name": "Python 3",
   "language": "python",
   "name": "python3"
  },
  "language_info": {
   "codemirror_mode": {
    "name": "ipython",
    "version": 3
   },
   "file_extension": ".py",
   "mimetype": "text/x-python",
   "name": "python",
   "nbconvert_exporter": "python",
   "pygments_lexer": "ipython3",
   "version": "3.6.4"
  }
 },
 "nbformat": 4,
 "nbformat_minor": 2
}
