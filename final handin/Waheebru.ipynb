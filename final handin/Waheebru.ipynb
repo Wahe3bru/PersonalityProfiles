{
 "cells": [
  {
   "cell_type": "markdown",
   "metadata": {},
   "source": [
    "# Personality sprint individual project"
   ]
  },
  {
   "cell_type": "markdown",
   "metadata": {},
   "source": [
    "This project is about trying to predict the personality type of the individual writing posts, <br>\n",
    "based on the words being used by the individual.\n",
    "\n",
    "The personality is based on the MBTI personality profiles, more information can be found [here](http://www.myersbriggs.org/my-mbti-personality-type/mbti-basics/home.htm?bhcp=1)"
   ]
  },
  {
   "cell_type": "markdown",
   "metadata": {},
   "source": [
    "---\n",
    "### Table of Contents\n",
    "1. [Import libraries](#imports)\n",
    "1. [Import, inspect and clean training data](#inspect)\n",
    "1. [Natural Language Processing](#NLP)\n",
    "1. [Build classification models](#build)\n",
    "1. [Model validation and evaluation](#valid)\n",
    "1. [Predict test data labels from winning model](#predict)\n",
    "1. [List how you've gone above and beyond the minimum](#other)\n",
    "---"
   ]
  },
  {
   "cell_type": "markdown",
   "metadata": {},
   "source": [
    "<a id='imports'></a>"
   ]
  },
  {
   "cell_type": "markdown",
   "metadata": {},
   "source": [
    "## Import libraries"
   ]
  },
  {
   "cell_type": "code",
   "execution_count": 74,
   "metadata": {},
   "outputs": [],
   "source": [
    "import pandas            as pd\n",
    "import numpy             as np\n",
    "import matplotlib.pyplot as plt\n",
    "import seaborn           as sns\n",
    "%matplotlib inline\n",
    "\n",
    "#models\n",
    "from sklearn.svm                      import SVC\n",
    "from sklearn.naive_bayes              import GaussianNB\n",
    "from sklearn.tree                     import DecisionTreeClassifier\n",
    "from sklearn.ensemble                 import RandomForestClassifier, AdaBoostClassifier\n",
    "from sklearn.linear_model             import SGDClassifier\n",
    "from sklearn.linear_model             import LogisticRegression\n",
    "from sklearn.neighbors                import KNeighborsClassifier\n",
    "from sklearn.discriminant_analysis    import LinearDiscriminantAnalysis\n",
    "from sklearn.discriminant_analysis    import QuadraticDiscriminantAnalysis\n",
    "from sklearn.gaussian_process         import GaussianProcessClassifier\n",
    "from sklearn.gaussian_process.kernels import RBF\n",
    "from sklearn.neural_network           import MLPClassifier\n",
    "from sklearn.linear_model             import SGDClassifier\n",
    "from sklearn.naive_bayes              import MultinomialNB\n",
    "from sklearn.ensemble                 import GradientBoostingClassifier\n",
    "\n",
    "from sklearn.pipeline                 import Pipeline\n",
    "\n",
    "#NLP\n",
    "import re\n",
    "from nltk                            import word_tokenize          \n",
    "from nltk.stem                       import WordNetLemmatizer \n",
    "from sklearn.feature_extraction.text import TfidfVectorizer\n",
    "from sklearn.feature_extraction.text import CountVectorizer\n",
    "\n",
    "# validation\n",
    "from sklearn                 import metrics\n",
    "from sklearn.metrics         import classification_report, confusion_matrix\n",
    "from sklearn.model_selection import train_test_split\n",
    "from sklearn.model_selection import cross_val_score\n",
    "from sklearn.model_selection import GridSearchCV"
   ]
  },
  {
   "cell_type": "markdown",
   "metadata": {},
   "source": [
    "<a id='inspect'> </a>"
   ]
  },
  {
   "cell_type": "markdown",
   "metadata": {},
   "source": [
    "## Import, inspect and clean training data"
   ]
  },
  {
   "cell_type": "code",
   "execution_count": 35,
   "metadata": {},
   "outputs": [],
   "source": [
    "mbti = pd.read_csv('data/train.csv')"
   ]
  },
  {
   "cell_type": "code",
   "execution_count": 146,
   "metadata": {},
   "outputs": [
    {
     "name": "stdout",
     "output_type": "stream",
     "text": [
      "<class 'pandas.core.frame.DataFrame'>\n",
      "RangeIndex: 6506 entries, 0 to 6505\n",
      "Data columns (total 2 columns):\n",
      "type     6506 non-null object\n",
      "posts    6506 non-null object\n",
      "dtypes: object(2)\n",
      "memory usage: 101.7+ KB\n"
     ]
    }
   ],
   "source": [
    "mbti.info() #no null entries"
   ]
  },
  {
   "cell_type": "code",
   "execution_count": 147,
   "metadata": {},
   "outputs": [
    {
     "data": {
      "text/html": [
       "<div>\n",
       "<style>\n",
       "    .dataframe thead tr:only-child th {\n",
       "        text-align: right;\n",
       "    }\n",
       "\n",
       "    .dataframe thead th {\n",
       "        text-align: left;\n",
       "    }\n",
       "\n",
       "    .dataframe tbody tr th {\n",
       "        vertical-align: top;\n",
       "    }\n",
       "</style>\n",
       "<table border=\"1\" class=\"dataframe\">\n",
       "  <thead>\n",
       "    <tr style=\"text-align: right;\">\n",
       "      <th></th>\n",
       "      <th>type</th>\n",
       "      <th>posts</th>\n",
       "    </tr>\n",
       "  </thead>\n",
       "  <tbody>\n",
       "    <tr>\n",
       "      <th>count</th>\n",
       "      <td>6506</td>\n",
       "      <td>6506</td>\n",
       "    </tr>\n",
       "    <tr>\n",
       "      <th>unique</th>\n",
       "      <td>16</td>\n",
       "      <td>6506</td>\n",
       "    </tr>\n",
       "    <tr>\n",
       "      <th>top</th>\n",
       "      <td>INFP</td>\n",
       "      <td>'P.S. please sticky this thread. Its value is ...</td>\n",
       "    </tr>\n",
       "    <tr>\n",
       "      <th>freq</th>\n",
       "      <td>1386</td>\n",
       "      <td>1</td>\n",
       "    </tr>\n",
       "  </tbody>\n",
       "</table>\n",
       "</div>"
      ],
      "text/plain": [
       "        type                                              posts\n",
       "count   6506                                               6506\n",
       "unique    16                                               6506\n",
       "top     INFP  'P.S. please sticky this thread. Its value is ...\n",
       "freq    1386                                                  1"
      ]
     },
     "execution_count": 147,
     "metadata": {},
     "output_type": "execute_result"
    }
   ],
   "source": [
    "mbti.describe()"
   ]
  },
  {
   "cell_type": "code",
   "execution_count": 36,
   "metadata": {},
   "outputs": [
    {
     "data": {
      "image/png": "[encoded data removed]",
      "text/plain": [
       "<matplotlib.figure.Figure at 0x1e428170b8>"
      ]
     },
     "metadata": {},
     "output_type": "display_data"
    }
   ],
   "source": [
    "mbti['type'].value_counts().plot(kind = 'bar', title='Number of posts for each type')\n",
    "plt.show()"
   ]
  },
  {
   "cell_type": "code",
   "execution_count": 37,
   "metadata": {},
   "outputs": [],
   "source": [
    "# to increase the number of posts per type, split on the '|||' which designate a new post\n",
    "all_mbti = []\n",
    "for i, row in mbti.iterrows():\n",
    "    for post in row['posts'].split('|||'):\n",
    "        all_mbti.append([row['type'], post])\n",
    "all_mbti = pd.DataFrame(all_mbti, columns=['type', 'post'])"
   ]
  },
  {
   "cell_type": "code",
   "execution_count": 38,
   "metadata": {},
   "outputs": [
    {
     "name": "stdout",
     "output_type": "stream",
     "text": [
      "before:  (6506, 2) \n",
      "after: (316548, 2)\n"
     ]
    }
   ],
   "source": [
    "print(f\"before:  {mbti.shape} \\nafter: {all_mbti.shape}\")"
   ]
  },
  {
   "cell_type": "code",
   "execution_count": 39,
   "metadata": {},
   "outputs": [
    {
     "data": {
      "text/html": [
       "<div>\n",
       "<style>\n",
       "    .dataframe thead tr:only-child th {\n",
       "        text-align: right;\n",
       "    }\n",
       "\n",
       "    .dataframe thead th {\n",
       "        text-align: left;\n",
       "    }\n",
       "\n",
       "    .dataframe tbody tr th {\n",
       "        vertical-align: top;\n",
       "    }\n",
       "</style>\n",
       "<table border=\"1\" class=\"dataframe\">\n",
       "  <thead>\n",
       "    <tr style=\"text-align: right;\">\n",
       "      <th></th>\n",
       "      <th>before</th>\n",
       "      <th>after</th>\n",
       "    </tr>\n",
       "  </thead>\n",
       "  <tbody>\n",
       "    <tr>\n",
       "      <th>ENFJ</th>\n",
       "      <td>143</td>\n",
       "      <td>6947</td>\n",
       "    </tr>\n",
       "    <tr>\n",
       "      <th>ENFP</th>\n",
       "      <td>496</td>\n",
       "      <td>23925</td>\n",
       "    </tr>\n",
       "    <tr>\n",
       "      <th>ENTJ</th>\n",
       "      <td>167</td>\n",
       "      <td>8174</td>\n",
       "    </tr>\n",
       "    <tr>\n",
       "      <th>ENTP</th>\n",
       "      <td>530</td>\n",
       "      <td>26017</td>\n",
       "    </tr>\n",
       "    <tr>\n",
       "      <th>ESFJ</th>\n",
       "      <td>35</td>\n",
       "      <td>1668</td>\n",
       "    </tr>\n",
       "    <tr>\n",
       "      <th>ESFP</th>\n",
       "      <td>36</td>\n",
       "      <td>1663</td>\n",
       "    </tr>\n",
       "    <tr>\n",
       "      <th>ESTJ</th>\n",
       "      <td>30</td>\n",
       "      <td>1495</td>\n",
       "    </tr>\n",
       "    <tr>\n",
       "      <th>ESTP</th>\n",
       "      <td>71</td>\n",
       "      <td>3437</td>\n",
       "    </tr>\n",
       "    <tr>\n",
       "      <th>INFJ</th>\n",
       "      <td>1100</td>\n",
       "      <td>53807</td>\n",
       "    </tr>\n",
       "    <tr>\n",
       "      <th>INFP</th>\n",
       "      <td>1386</td>\n",
       "      <td>67846</td>\n",
       "    </tr>\n",
       "    <tr>\n",
       "      <th>INTJ</th>\n",
       "      <td>830</td>\n",
       "      <td>39776</td>\n",
       "    </tr>\n",
       "    <tr>\n",
       "      <th>INTP</th>\n",
       "      <td>960</td>\n",
       "      <td>46637</td>\n",
       "    </tr>\n",
       "    <tr>\n",
       "      <th>ISFJ</th>\n",
       "      <td>124</td>\n",
       "      <td>6051</td>\n",
       "    </tr>\n",
       "    <tr>\n",
       "      <th>ISFP</th>\n",
       "      <td>198</td>\n",
       "      <td>9521</td>\n",
       "    </tr>\n",
       "    <tr>\n",
       "      <th>ISTJ</th>\n",
       "      <td>145</td>\n",
       "      <td>7018</td>\n",
       "    </tr>\n",
       "    <tr>\n",
       "      <th>ISTP</th>\n",
       "      <td>255</td>\n",
       "      <td>12566</td>\n",
       "    </tr>\n",
       "  </tbody>\n",
       "</table>\n",
       "</div>"
      ],
      "text/plain": [
       "      before  after\n",
       "ENFJ     143   6947\n",
       "ENFP     496  23925\n",
       "ENTJ     167   8174\n",
       "ENTP     530  26017\n",
       "ESFJ      35   1668\n",
       "ESFP      36   1663\n",
       "ESTJ      30   1495\n",
       "ESTP      71   3437\n",
       "INFJ    1100  53807\n",
       "INFP    1386  67846\n",
       "INTJ     830  39776\n",
       "INTP     960  46637\n",
       "ISFJ     124   6051\n",
       "ISFP     198   9521\n",
       "ISTJ     145   7018\n",
       "ISTP     255  12566"
      ]
     },
     "execution_count": 39,
     "metadata": {},
     "output_type": "execute_result"
    }
   ],
   "source": [
    "mbti_type = pd.concat([mbti['type'].value_counts().to_frame(name='before'), all_mbti['type'].value_counts().to_frame(name='after')],axis=1)\n",
    "mbti_type"
   ]
  },
  {
   "cell_type": "code",
   "execution_count": 149,
   "metadata": {},
   "outputs": [
    {
     "data": {
      "image/png": "[encoded data removed]",
      "text/plain": [
       "<matplotlib.figure.Figure at 0x1e186767b8>"
      ]
     },
     "metadata": {},
     "output_type": "display_data"
    }
   ],
   "source": [
    "mbti_type.plot(kind='barh', title='Number of posts for each type, before and after split', figsize=(10,6))\n",
    "plt.show()"
   ]
  },
  {
   "cell_type": "code",
   "execution_count": 41,
   "metadata": {},
   "outputs": [],
   "source": [
    "def split_type(row):\n",
    "    \n",
    "    ''' Split MBTI type into individual features for Binary Classification\n",
    "        eg ENFP = [0 1 0 0]\n",
    "    '''\n",
    "    t = row['type']\n",
    "    I,N,T,J = 0,0,0,0\n",
    "    \n",
    "    I = 1 if t[0] =='I' else 0\n",
    "    N = 1 if t[1] == 'N' else 0\n",
    "    T = 1 if t[2] == 'T' else 0\n",
    "    J = 1 if t[3] == 'J' else 0\n",
    "    \n",
    "    return pd.Series( {'IE':I, 'NS':N , 'TF': T, 'JP': J }) "
   ]
  },
  {
   "cell_type": "code",
   "execution_count": 42,
   "metadata": {},
   "outputs": [],
   "source": [
    "all_mbti = all_mbti.join(all_mbti.apply(lambda row: split_type(row), axis=1))"
   ]
  },
  {
   "cell_type": "code",
   "execution_count": 43,
   "metadata": {},
   "outputs": [],
   "source": [
    "# rearrange columns\n",
    "all_mbti = all_mbti[['type', 'IE', 'NS', 'TF', 'JP', 'post']]"
   ]
  },
  {
   "cell_type": "code",
   "execution_count": 44,
   "metadata": {},
   "outputs": [
    {
     "data": {
      "text/html": [
       "<div>\n",
       "<style>\n",
       "    .dataframe thead tr:only-child th {\n",
       "        text-align: right;\n",
       "    }\n",
       "\n",
       "    .dataframe thead th {\n",
       "        text-align: left;\n",
       "    }\n",
       "\n",
       "    .dataframe tbody tr th {\n",
       "        vertical-align: top;\n",
       "    }\n",
       "</style>\n",
       "<table border=\"1\" class=\"dataframe\">\n",
       "  <thead>\n",
       "    <tr style=\"text-align: right;\">\n",
       "      <th></th>\n",
       "      <th>type</th>\n",
       "      <th>IE</th>\n",
       "      <th>NS</th>\n",
       "      <th>TF</th>\n",
       "      <th>JP</th>\n",
       "      <th>post</th>\n",
       "    </tr>\n",
       "  </thead>\n",
       "  <tbody>\n",
       "    <tr>\n",
       "      <th>0</th>\n",
       "      <td>INFJ</td>\n",
       "      <td>1</td>\n",
       "      <td>1</td>\n",
       "      <td>0</td>\n",
       "      <td>1</td>\n",
       "      <td>'http://www.youtube.com/watch?v=qsXHcwe3krw</td>\n",
       "    </tr>\n",
       "    <tr>\n",
       "      <th>1</th>\n",
       "      <td>INFJ</td>\n",
       "      <td>1</td>\n",
       "      <td>1</td>\n",
       "      <td>0</td>\n",
       "      <td>1</td>\n",
       "      <td>http://41.media.tumblr.com/tumblr_lfouy03PMA1q...</td>\n",
       "    </tr>\n",
       "    <tr>\n",
       "      <th>2</th>\n",
       "      <td>INFJ</td>\n",
       "      <td>1</td>\n",
       "      <td>1</td>\n",
       "      <td>0</td>\n",
       "      <td>1</td>\n",
       "      <td>enfp and intj moments  https://www.youtube.com...</td>\n",
       "    </tr>\n",
       "    <tr>\n",
       "      <th>3</th>\n",
       "      <td>INFJ</td>\n",
       "      <td>1</td>\n",
       "      <td>1</td>\n",
       "      <td>0</td>\n",
       "      <td>1</td>\n",
       "      <td>What has been the most life-changing experienc...</td>\n",
       "    </tr>\n",
       "    <tr>\n",
       "      <th>4</th>\n",
       "      <td>INFJ</td>\n",
       "      <td>1</td>\n",
       "      <td>1</td>\n",
       "      <td>0</td>\n",
       "      <td>1</td>\n",
       "      <td>http://www.youtube.com/watch?v=vXZeYwwRDw8   h...</td>\n",
       "    </tr>\n",
       "  </tbody>\n",
       "</table>\n",
       "</div>"
      ],
      "text/plain": [
       "   type  IE  NS  TF  JP                                               post\n",
       "0  INFJ   1   1   0   1        'http://www.youtube.com/watch?v=qsXHcwe3krw\n",
       "1  INFJ   1   1   0   1  http://41.media.tumblr.com/tumblr_lfouy03PMA1q...\n",
       "2  INFJ   1   1   0   1  enfp and intj moments  https://www.youtube.com...\n",
       "3  INFJ   1   1   0   1  What has been the most life-changing experienc...\n",
       "4  INFJ   1   1   0   1  http://www.youtube.com/watch?v=vXZeYwwRDw8   h..."
      ]
     },
     "execution_count": 44,
     "metadata": {},
     "output_type": "execute_result"
    }
   ],
   "source": [
    "#all_mbti.to_csv('data/all_mbti_split.csv')\n",
    "#all_mbti = pd.read_csv('data/all_mbti_split.csv').drop('Unnamed: 0',axis=1)\n",
    "all_mbti.head()"
   ]
  },
  {
   "cell_type": "code",
   "execution_count": 45,
   "metadata": {},
   "outputs": [
    {
     "name": "stdout",
     "output_type": "stream",
     "text": [
      "Introversion (I)     -     Extroversion (E):\t\n",
      " 243222 | 76.84%     -      23.16% |  73326\n",
      "\n",
      "Intuition (N)        -     Sensing (S):\t\t\n",
      " 273129 | 86.28%     -      13.72% |  43419\n",
      "\n",
      "Thinking (T)         -     Feeling (F):\t\t\n",
      " 145120 | 45.84%     -      54.16% |   171428\n",
      "\n",
      "Judging (J)          -     Perceiving (P):\t\t\n",
      " 124936 | 39.47%     -      60.53% |   191612\n"
     ]
    }
   ],
   "source": [
    "I = (all_mbti['IE'].value_counts()[1] / (all_mbti['IE'].value_counts()[1] + all_mbti['IE'].value_counts()[0])*100)\n",
    "E = (all_mbti['IE'].value_counts()[0] / (all_mbti['IE'].value_counts()[1] + all_mbti['IE'].value_counts()[0])*100)\n",
    "N = (all_mbti['NS'].value_counts()[1] / (all_mbti['NS'].value_counts()[1] + all_mbti['NS'].value_counts()[0])*100)\n",
    "S = (all_mbti['NS'].value_counts()[0] / (all_mbti['NS'].value_counts()[1] + all_mbti['NS'].value_counts()[0])*100)\n",
    "T = (all_mbti['TF'].value_counts()[1] / (all_mbti['TF'].value_counts()[1] + all_mbti['TF'].value_counts()[0])*100)\n",
    "F = (all_mbti['TF'].value_counts()[0] / (all_mbti['TF'].value_counts()[1] + all_mbti['TF'].value_counts()[0])*100)\n",
    "J = (all_mbti['JP'].value_counts()[1] / (all_mbti['JP'].value_counts()[1] + all_mbti['JP'].value_counts()[0])*100)\n",
    "P = (all_mbti['JP'].value_counts()[0] / (all_mbti['JP'].value_counts()[1] + all_mbti['JP'].value_counts()[0])*100)\n",
    "                                        \n",
    "print (\"Introversion (I)     -     Extroversion (E):\\t\")\n",
    "print(f\" {all_mbti['IE'].value_counts()[1]} | {I:.4}%     -      {E:.4}% |  {all_mbti['IE'].value_counts()[0]}\")\n",
    "print (\"\\nIntuition (N)        -     Sensing (S):\\t\\t\")\n",
    "print(f\" {all_mbti['NS'].value_counts()[1]} | {N:.4}%     -      {S:.4}% |  {all_mbti['NS'].value_counts()[0]}\")\n",
    "print (\"\\nThinking (T)         -     Feeling (F):\\t\\t\")\n",
    "print(f\" {all_mbti['TF'].value_counts()[1]} | {T:.4}%     -      {F:.4}% |   {all_mbti['TF'].value_counts()[0]}\")\n",
    "print (\"\\nJudging (J)          -     Perceiving (P):\\t\\t\")\n",
    "print(f\" {all_mbti['JP'].value_counts()[1]} | {J:.4}%     -      {P:.4}% |   {all_mbti['JP'].value_counts()[0]}\")"
   ]
  },
  {
   "cell_type": "markdown",
   "metadata": {},
   "source": [
    "<a id='NLP'></a>"
   ]
  },
  {
   "cell_type": "markdown",
   "metadata": {},
   "source": [
    "The categories are very unbalanced except T/F which is close to perfect balance.<br>\n",
    "The Dataset needs to either be balanced, or the algorithms used needs to be able to accomodate the imbalance."
   ]
  },
  {
   "cell_type": "markdown",
   "metadata": {},
   "source": [
    "## Natural Language Processing"
   ]
  },
  {
   "cell_type": "code",
   "execution_count": 3,
   "metadata": {},
   "outputs": [],
   "source": [
    "# create structured data from unstructured text"
   ]
  },
  {
   "cell_type": "code",
   "execution_count": 46,
   "metadata": {},
   "outputs": [],
   "source": [
    "my_stopwords2 = ['a', 'about', 'above', 'across', 'after', 'afterwards', 'again', 'against', 'all', 'almost', 'alone', 'along',\n",
    "                 'already', 'also', 'although', 'always', 'among', 'amongst', 'amoungst', 'amount', 'an', 'and', \n",
    "                 'another', 'any', 'anyhow', 'anyone', 'anything', 'anyway', 'anywhere', 'are', 'around', 'as', 'at', 'back', \n",
    "                 'be', 'became', 'because', 'become', 'becomes', 'becoming', 'been', 'before', 'beforehand', 'behind', 'being',\n",
    "                 'below', 'beside', 'besides', 'between', 'beyond', 'bill', 'both', 'bottom', 'but', 'by', 'call', 'can', \n",
    "                 'cannot', 'cant', 'co', 'con', 'could', 'couldnt', 'cry', 'de', 'describe', 'detail', 'do', 'done', 'down', \n",
    "                 'due', 'during', 'each', 'eg', 'eight', 'either', 'eleven', 'else', 'elsewhere', 'empty', 'enough', 'etc', \n",
    "                 'even', 'ever', 'every', 'everyone', 'everything', 'everywhere', 'except', 'few', 'fifteen', 'fifty', 'fill', \n",
    "                 'find', 'fire', 'first', 'five', 'for', 'former', 'formerly', 'forty', 'found', 'four', 'from', 'front', \n",
    "                 'full', 'further', 'get', 'give', 'go', 'had', 'has', 'hasnt', 'have', 'hence', 'here', \n",
    "                 'hereafter', 'hereby', 'herein', 'hereupon', 'how', 'however', \n",
    "                 'hundred', 'ie', 'if', 'in', 'inc', 'indeed', 'interest', 'into', 'is', 'it', 'its', 'itself', 'keep', \n",
    "                 'last', 'latter', 'latterly', 'least', 'less', 'ltd', 'made', 'many', 'may', 'meanwhile', 'might', \n",
    "                 'mill', 'more', 'moreover', 'most', 'mostly', 'move', 'much', 'must', 'name', 'namely', \n",
    "                 'neither', 'never', 'nevertheless', 'next', 'nine', 'no', 'nobody', 'none', 'noone', 'nor', 'nothing', \n",
    "                 'now', 'nowhere', 'of', 'off', 'often', 'on', 'once', 'one', 'only', 'onto', 'or', 'other', 'others', 'otherwise', \n",
    "                 'out', 'over', 'own', 'part', 'per', 'perhaps', 'please', 'put', 'rather', 're', 'same',\n",
    "                 'see', 'seem', 'seemed', 'seeming', 'seems', 'serious', 'several', 'should', 'show', 'side', 'since', \n",
    "                 'sincere', 'six', 'sixty', 'so', 'some', 'somehow', 'someone', 'something', 'sometime', 'sometimes', 'somewhere', \n",
    "                 'still', 'such', 'system', 'take', 'ten', 'than', 'that', 'the', 'then', 'thence', \n",
    "                 'there', 'thereafter', 'thereby', 'therefore', 'therein', 'thereupon', 'these', 'they', 'thick', 'thin', 'third', \n",
    "                 'this', 'those', 'though', 'three', 'through', 'throughout', 'thru', 'thus', 'to', 'together', 'too', 'top', 'toward', \n",
    "                 'towards', 'twelve', 'twenty', 'two', 'un', 'under', 'until', 'up', 'upon', 'us', 'very', 'via', 'was', 'well', \n",
    "                 'were', 'what', 'whatever', 'when', 'whence', 'whenever', 'where', 'whereafter', 'whereas', 'whereby', 'wherein', \n",
    "                 'whereupon', 'wherever', 'whether', 'which', 'while', 'whither', 'who', 'whoever', 'whole', 'whom', 'whose', 'why', \n",
    "                 'will', 'with', 'within', 'without', 'would', 'yet', 'you', 'your', 'yours', 'yourself', 'yourselves']"
   ]
  },
  {
   "cell_type": "code",
   "execution_count": 57,
   "metadata": {},
   "outputs": [],
   "source": [
    "# This class is used in the count/tfidfvectorizer as they do not lemmatise the text by default.\n",
    "class LemmaTokenizer(object):\n",
    "    def __init__(self):\n",
    "        self.wnl = WordNetLemmatizer()\n",
    "    def __call__(self, articles):\n",
    "        return [self.wnl.lemmatize(t) for t in word_tokenize(articles)]"
   ]
  },
  {
   "cell_type": "code",
   "execution_count": 151,
   "metadata": {},
   "outputs": [
    {
     "data": {
      "text/plain": [
       "0                                               urlweb\n",
       "1                                               urlweb\n",
       "2    enfp and intj moments  urlweb  sportscenter no...\n",
       "3    What has been the most lifechanging experience...\n",
       "4             urlweb   urlweb   repeat for most  today\n",
       "Name: post, dtype: object"
      ]
     },
     "execution_count": 151,
     "metadata": {},
     "output_type": "execute_result"
    }
   ],
   "source": [
    "# data before preprocessing\n",
    "all_mbti['post'].head()"
   ]
  },
  {
   "cell_type": "code",
   "execution_count": 48,
   "metadata": {},
   "outputs": [],
   "source": [
    "def pre_process(all_mbti):\n",
    "    '''\n",
    "       Preprocessing of the text column (post).\n",
    "       replacing web urls, emojis and removing punctuation, digits and words less than 3 characters.\n",
    "    '''\n",
    "    # remove web URLs\n",
    "    pattern_url = r'http[s]?://(?:[A-Za-z]|[0-9]|[$-_@.&+]|[!*\\(\\),]|(?:%[0-9A-Fa-f][0-9A-Fa-f]))+'\n",
    "    subs_url = r'url-web'\n",
    "    all_mbti['post'] = all_mbti['post'].replace(to_replace = pattern_url, value = subs_url, regex = True)\n",
    "\n",
    "    # remove emojis\n",
    "    pattern_url = r\"(:[a-z]*:)|([:;][()pdo03])\"\n",
    "    subs_url = r'emoji'\n",
    "    all_mbti['post'] = all_mbti['post'].replace(to_replace = pattern_url, value = subs_url, regex = True)\n",
    "    \n",
    "    # remove punctuation\n",
    "    all_mbti['post'] = all_mbti['post'].str.replace('[^\\w\\s]', '')  \n",
    "    \n",
    "    # remove words less than 3 letters\n",
    "    all_mbti['post'] = all_mbti['post'].str.replace(r'(\\b\\w{1,2}\\b)', '') \n",
    "    \n",
    "    # remove digits\n",
    "    all_mbti['post'] = all_mbti['post'].str.replace('\\d+', '') "
   ]
  },
  {
   "cell_type": "code",
   "execution_count": 49,
   "metadata": {},
   "outputs": [],
   "source": [
    "pre_process(all_mbti)"
   ]
  },
  {
   "cell_type": "code",
   "execution_count": 50,
   "metadata": {},
   "outputs": [
    {
     "data": {
      "text/plain": [
       "0                                               urlweb\n",
       "1                                               urlweb\n",
       "2    enfp and intj moments  urlweb  sportscenter no...\n",
       "3    What has been the most lifechanging experience...\n",
       "4             urlweb   urlweb   repeat for most  today\n",
       "Name: post, dtype: object"
      ]
     },
     "execution_count": 50,
     "metadata": {},
     "output_type": "execute_result"
    }
   ],
   "source": [
    "# after preprocessing\n",
    "all_mbti['post'].head()"
   ]
  },
  {
   "cell_type": "markdown",
   "metadata": {},
   "source": [
    "<a id='build'></a>"
   ]
  },
  {
   "cell_type": "markdown",
   "metadata": {},
   "source": [
    "## Build classification models"
   ]
  },
  {
   "cell_type": "code",
   "execution_count": 4,
   "metadata": {},
   "outputs": [],
   "source": [
    "# which algorithms will you use?"
   ]
  },
  {
   "cell_type": "code",
   "execution_count": 19,
   "metadata": {},
   "outputs": [],
   "source": [
    "# initial testing\n",
    "vect = CountVectorizer(stop_words='english', min_df= .01)"
   ]
  },
  {
   "cell_type": "code",
   "execution_count": 20,
   "metadata": {},
   "outputs": [],
   "source": [
    "# The better text processing vectorizer with optimal parameters\n",
    "#vect = TfidfVectorizer( binary=True, min_df=3, ngram_range=(1,2), stop_words=my_stopwords2) "
   ]
  },
  {
   "cell_type": "code",
   "execution_count": 21,
   "metadata": {},
   "outputs": [],
   "source": [
    "X = vect.fit_transform(all_mbti['post'])"
   ]
  },
  {
   "cell_type": "code",
   "execution_count": 22,
   "metadata": {},
   "outputs": [],
   "source": [
    "y = all_mbti['IE']"
   ]
  },
  {
   "cell_type": "code",
   "execution_count": 24,
   "metadata": {},
   "outputs": [],
   "source": [
    "X_train, X_test, y_train, y_test = train_test_split(X, y)"
   ]
  },
  {
   "cell_type": "code",
   "execution_count": 29,
   "metadata": {},
   "outputs": [],
   "source": [
    "names = ['Logistic Regression', \n",
    "         'Nearest Neighbors', \n",
    "         'Linear SVM', \n",
    "         'RBF SVM', \n",
    "         'Naive Bayes', \n",
    "         'LDA', \n",
    "         \"QDA\",          \n",
    "         \"Decision Tree\", \n",
    "         \"Random Forest\",  \n",
    "         \"AdaBoost\", \n",
    "         \"Neural Net\",\n",
    "         'HingeSGDC', \n",
    "         'LogSGDC',\n",
    "         'MultiNB',\n",
    "         'GradBoost']"
   ]
  },
  {
   "cell_type": "code",
   "execution_count": 31,
   "metadata": {},
   "outputs": [],
   "source": [
    "classifiers = [\n",
    "    LogisticRegression(), \n",
    "    KNeighborsClassifier(3),\n",
    "    SVC(kernel=\"linear\", C=0.025),\n",
    "    SVC(gamma=2, C=1),    \n",
    "    GaussianNB(),    \n",
    "    LinearDiscriminantAnalysis(),\n",
    "    QuadraticDiscriminantAnalysis(),    \n",
    "    \n",
    "    DecisionTreeClassifier(max_depth=5),\n",
    "    RandomForestClassifier(max_depth=5, n_estimators=10, max_features=1),    \n",
    "    AdaBoostClassifier(n_estimators=100),\n",
    "    \n",
    "    MLPClassifier(alpha=1),\n",
    "    \n",
    "    SGDClassifier(class_weight='balanced'),    \n",
    "    SGDClassifier(loss='log', class_weight='balanced'),\n",
    "    MultinomialNB(alpha=0.1),\n",
    "    GradientBoostingClassifier()\n",
    "]"
   ]
  },
  {
   "cell_type": "code",
   "execution_count": null,
   "metadata": {},
   "outputs": [
    {
     "name": "stdout",
     "output_type": "stream",
     "text": [
      "Fitting Logistic Regression model...\n",
      "... predicting\n",
      "... scoring\n",
      "Fitting Linear SVM model..."
     ]
    }
   ],
   "source": [
    "results = []\n",
    "\n",
    "models = {}\n",
    "confusion = {}\n",
    "class_report = {}\n",
    "\n",
    "\n",
    "for name, clf in zip(names, classifiers):    \n",
    "    print ('Fitting {:s} model...'.format(name))\n",
    "    #run_time = %timeit -q -o \n",
    "    clf.fit(X_train, y_train)\n",
    "    \n",
    "    print ('... predicting')\n",
    "    y_pred = clf.predict(X_train)   \n",
    "    y_pred_test = clf.predict(X_test)\n",
    "    \n",
    "    print ('... scoring')\n",
    "    accuracy  = metrics.accuracy_score(y_test, y_pred_test)\n",
    "    precision = metrics.precision_score(y_test, y_pred_test)\n",
    "    recall    = metrics.recall_score(y_test, y_pred_test)\n",
    "    \n",
    "    f1        = metrics.f1_score(y_train, y_pred)    \n",
    "    f1_test   = metrics.f1_score(y_test, y_pred_test)    \n",
    "    \n",
    "    # save the results to dictionaries\n",
    "    models[name] = clf    \n",
    "    confusion[name] = metrics.confusion_matrix(y_test, y_pred_test)\n",
    "    class_report[name] = metrics.classification_report(y_test, y_pred_test)\n",
    "    \n",
    "    results.append([name, accuracy, precision, recall, f1, f1_test])\n",
    "\n",
    "    \n",
    "results = pd.DataFrame(results, columns=['Classifier', 'Accuracy', 'Precision', 'Recall', 'F1 Train', 'F1 Test', 'Train Time'])\n",
    "results.set_index('Classifier', inplace= True)"
   ]
  },
  {
   "cell_type": "code",
   "execution_count": null,
   "metadata": {},
   "outputs": [],
   "source": [
    "results.sort_values('F1 Test', ascending=False)"
   ]
  },
  {
   "cell_type": "code",
   "execution_count": 44,
   "metadata": {},
   "outputs": [
    {
     "data": {
      "text/plain": [
       "<matplotlib.axes._subplots.AxesSubplot at 0x3c8274cfd0>"
      ]
     },
     "execution_count": 44,
     "metadata": {},
     "output_type": "execute_result"
    },
    {
     "data": {
      "image/png": "[encoded data removed]",
      "text/plain": [
       "<matplotlib.figure.Figure at 0x3c82818208>"
      ]
     },
     "metadata": {},
     "output_type": "display_data"
    }
   ],
   "source": [
    "fig, ax = plt.subplots(1, 2, figsize=(10, 5))\n",
    "results.sort_values('F1 Train', ascending=False, inplace=True)\n",
    "results.plot(y=['F1 Test'], kind='bar', ax=ax[0], xlim=[0,1.1])\n",
    "results.plot(y='Train Time', kind='bar', ax=ax[1])"
   ]
  },
  {
   "cell_type": "markdown",
   "metadata": {},
   "source": [
    "---"
   ]
  },
  {
   "cell_type": "markdown",
   "metadata": {},
   "source": [
    "<a id='valid'></a>"
   ]
  },
  {
   "cell_type": "markdown",
   "metadata": {},
   "source": [
    "## Model validation and evaluation"
   ]
  },
  {
   "cell_type": "code",
   "execution_count": 5,
   "metadata": {},
   "outputs": [],
   "source": [
    "# make sure your models are robust, and pick the best one"
   ]
  },
  {
   "cell_type": "code",
   "execution_count": null,
   "metadata": {},
   "outputs": [],
   "source": [
    "cv = []\n",
    "for name, model in models.items():\n",
    "    print(name)\n",
    "    scores = cross_val_score(model, X=X[:n].toarray(), y=y[:n], cv=10)\n",
    "    print(\"Accuracy: {:0.2f} (+/- {:0.2f})\".format(scores.mean(), scores.std()))\n",
    "    cv.append([name, scores.mean(), scores.std() ])\n",
    "    \n",
    "cv = pd.DataFrame(cv, columns=['Model', 'CV_Mean', 'CV_Std_Dev'])\n",
    "cv.set_index('Model', inplace=True)"
   ]
  },
  {
   "cell_type": "code",
   "execution_count": null,
   "metadata": {},
   "outputs": [],
   "source": [
    "cv.plot(y='CV_Mean', yerr='CV_Std_Dev',kind='bar', ylim=[0, 1])"
   ]
  },
  {
   "cell_type": "markdown",
   "metadata": {},
   "source": [
    "Due to limited resources the some models were not explored due to time constraints<br>\n",
    "The more advanced algorithms that can handle the unbalanced dataset are tree base,<br> with multiNB used as a baseline due to its efficiency and accuracy w.r.t. time"
   ]
  },
  {
   "cell_type": "markdown",
   "metadata": {},
   "source": [
    "### Final Models"
   ]
  },
  {
   "cell_type": "code",
   "execution_count": 58,
   "metadata": {},
   "outputs": [],
   "source": [
    "multiNB = Pipeline([('count_vec', TfidfVectorizer(tokenizer=LemmaTokenizer(), binary=True, min_df=3, ngram_range=(1,2), stop_words=my_stopwords2)),\n",
    "                    ('bayes', MultinomialNB(alpha=0.1))\n",
    "                   ])"
   ]
  },
  {
   "cell_type": "code",
   "execution_count": 68,
   "metadata": {},
   "outputs": [],
   "source": [
    "forest = Pipeline([('count_vec', TfidfVectorizer(tokenizer=LemmaTokenizer(), binary=True, min_df=3, ngram_range=(1,2), stop_words=my_stopwords2)),\n",
    "                   ('forest', RandomForestClassifier(n_estimators=10, random_state=2, class_weight=\"balanced\"))\n",
    "                  ])"
   ]
  },
  {
   "cell_type": "code",
   "execution_count": 86,
   "metadata": {},
   "outputs": [],
   "source": [
    "gradboost = Pipeline([('count_vec', TfidfVectorizer(tokenizer=LemmaTokenizer(), min_df=3, ngram_range=(1,2), stop_words=my_stopwords2)),\n",
    "                      ('adaboost', AdaBoostClassifier(RandomForestClassifier(n_estimators=50)))\n",
    "                     ])"
   ]
  },
  {
   "cell_type": "markdown",
   "metadata": {},
   "source": [
    "unfortunately the above models are not performing as well as during the testing phase.<br>\n",
    "luckily I have a backup!<br>\n",
    "Logistic Regression does reasonably well, and is quick to fit and predict as time is up."
   ]
  },
  {
   "cell_type": "code",
   "execution_count": 108,
   "metadata": {},
   "outputs": [],
   "source": [
    "logreg = Pipeline([('count_vec', TfidfVectorizer(tokenizer=LemmaTokenizer(), min_df=3, ngram_range=(1,2), stop_words=my_stopwords2)),\n",
    "                    ('logreg', LogisticRegression(C=0.1, penalty='l1', class_weight='balanced' ))\n",
    "                  ])"
   ]
  },
  {
   "cell_type": "markdown",
   "metadata": {},
   "source": [
    "### GridSearch"
   ]
  },
  {
   "cell_type": "code",
   "execution_count": null,
   "metadata": {},
   "outputs": [],
   "source": [
    "model = multiNB\n",
    "\n",
    "params = {  'count_vec__tokenizer': [None, LemmaTokenizer()],\n",
    "          'count_vec__stop_words' : [None, 'english', my_stopwords2, my_stopwords, ENGLISH_STOP_WORDS ],\n",
    "          'count_vec__binary'     : [True, False],\n",
    "          'count_vec__min_df'     : [0.01, 0.1, 3, 10],\n",
    "          'bayes__alpha'          : [0.001, 0.01, 0.1, 1]\n",
    "         }\n",
    "\n",
    "baye_grid = GridSearchCV(model, params, scoring ='f1')\n",
    "\n",
    "baye_grid.fit(X_train, y_train)"
   ]
  },
  {
   "cell_type": "code",
   "execution_count": null,
   "metadata": {},
   "outputs": [],
   "source": [
    "baye_grid.best_params_"
   ]
  },
  {
   "cell_type": "code",
   "execution_count": null,
   "metadata": {},
   "outputs": [],
   "source": [
    "baye_grid.grid_scores_"
   ]
  },
  {
   "cell_type": "markdown",
   "metadata": {},
   "source": [
    " "
   ]
  },
  {
   "cell_type": "code",
   "execution_count": null,
   "metadata": {},
   "outputs": [],
   "source": [
    "params = {'logreg__C': [10,1,0.1,0.01]}\n",
    "log_grid = GridSearchCV(logreg, params)\n",
    "log_grid.fit(X_train, y_train)"
   ]
  },
  {
   "cell_type": "code",
   "execution_count": null,
   "metadata": {},
   "outputs": [],
   "source": [
    "log_grid.best_params_"
   ]
  },
  {
   "cell_type": "code",
   "execution_count": null,
   "metadata": {},
   "outputs": [],
   "source": [
    "log_grid.grid_scores_"
   ]
  },
  {
   "cell_type": "markdown",
   "metadata": {},
   "source": [
    " "
   ]
  },
  {
   "cell_type": "code",
   "execution_count": 59,
   "metadata": {},
   "outputs": [
    {
     "data": {
      "text/plain": [
       "Index(['type', 'IE', 'NS', 'TF', 'JP', 'post'], dtype='object')"
      ]
     },
     "execution_count": 59,
     "metadata": {},
     "output_type": "execute_result"
    }
   ],
   "source": [
    "all_mbti.columns"
   ]
  },
  {
   "cell_type": "markdown",
   "metadata": {},
   "source": [
    "### Training the model/s"
   ]
  },
  {
   "cell_type": "code",
   "execution_count": 109,
   "metadata": {},
   "outputs": [],
   "source": [
    "# Introvert vs Extrovert\n",
    "IE_logreg = logreg.fit(all_mbti['post'],all_mbti['IE'])"
   ]
  },
  {
   "cell_type": "code",
   "execution_count": 110,
   "metadata": {},
   "outputs": [],
   "source": [
    "# iNtuitive vs Sensing\n",
    "NS_logreg = logreg.fit(all_mbti['post'],all_mbti['NS'])"
   ]
  },
  {
   "cell_type": "code",
   "execution_count": 111,
   "metadata": {},
   "outputs": [],
   "source": [
    "# Thinking vs Feeling\n",
    "TF_logreg = logreg.fit(all_mbti['post'],all_mbti['TF'])"
   ]
  },
  {
   "cell_type": "code",
   "execution_count": 112,
   "metadata": {},
   "outputs": [],
   "source": [
    "# Judging vs Perception\n",
    "JP_logreg = logreg.fit(all_mbti['post'],all_mbti['JP'])"
   ]
  },
  {
   "cell_type": "markdown",
   "metadata": {},
   "source": [
    "## Import test data"
   ]
  },
  {
   "cell_type": "code",
   "execution_count": 29,
   "metadata": {},
   "outputs": [
    {
     "data": {
      "text/html": [
       "<div>\n",
       "<style>\n",
       "    .dataframe thead tr:only-child th {\n",
       "        text-align: right;\n",
       "    }\n",
       "\n",
       "    .dataframe thead th {\n",
       "        text-align: left;\n",
       "    }\n",
       "\n",
       "    .dataframe tbody tr th {\n",
       "        vertical-align: top;\n",
       "    }\n",
       "</style>\n",
       "<table border=\"1\" class=\"dataframe\">\n",
       "  <thead>\n",
       "    <tr style=\"text-align: right;\">\n",
       "      <th></th>\n",
       "      <th>type</th>\n",
       "      <th>post</th>\n",
       "    </tr>\n",
       "  </thead>\n",
       "  <tbody>\n",
       "    <tr>\n",
       "      <th>0</th>\n",
       "      <td>NaN</td>\n",
       "      <td>Musical  Linguistic Logic &amp; Naturalist (tied)|...</td>\n",
       "    </tr>\n",
       "    <tr>\n",
       "      <th>1</th>\n",
       "      <td>NaN</td>\n",
       "      <td>'You: hello :) Stranger: hii You: how are you ...</td>\n",
       "    </tr>\n",
       "    <tr>\n",
       "      <th>2</th>\n",
       "      <td>NaN</td>\n",
       "      <td>'What worked for me was knowing that limerence...</td>\n",
       "    </tr>\n",
       "    <tr>\n",
       "      <th>3</th>\n",
       "      <td>NaN</td>\n",
       "      <td>'Please forget about him. You should definitel...</td>\n",
       "    </tr>\n",
       "    <tr>\n",
       "      <th>4</th>\n",
       "      <td>NaN</td>\n",
       "      <td>'Ooh, ENTJ Celestia is actually an interesting...</td>\n",
       "    </tr>\n",
       "  </tbody>\n",
       "</table>\n",
       "</div>"
      ],
      "text/plain": [
       "   type                                               post\n",
       "0   NaN  Musical  Linguistic Logic & Naturalist (tied)|...\n",
       "1   NaN  'You: hello :) Stranger: hii You: how are you ...\n",
       "2   NaN  'What worked for me was knowing that limerence...\n",
       "3   NaN  'Please forget about him. You should definitel...\n",
       "4   NaN  'Ooh, ENTJ Celestia is actually an interesting..."
      ]
     },
     "execution_count": 29,
     "metadata": {},
     "output_type": "execute_result"
    }
   ],
   "source": [
    "df_test  = pd.read_csv('data/test.csv', header=0, names=['type', 'post']) # rename columns to use preprocess function\n",
    "df_test.head()"
   ]
  },
  {
   "cell_type": "code",
   "execution_count": 30,
   "metadata": {},
   "outputs": [
    {
     "data": {
      "text/html": [
       "<div>\n",
       "<style>\n",
       "    .dataframe thead tr:only-child th {\n",
       "        text-align: right;\n",
       "    }\n",
       "\n",
       "    .dataframe thead th {\n",
       "        text-align: left;\n",
       "    }\n",
       "\n",
       "    .dataframe tbody tr th {\n",
       "        vertical-align: top;\n",
       "    }\n",
       "</style>\n",
       "<table border=\"1\" class=\"dataframe\">\n",
       "  <thead>\n",
       "    <tr style=\"text-align: right;\">\n",
       "      <th></th>\n",
       "      <th>type</th>\n",
       "      <th>post</th>\n",
       "    </tr>\n",
       "  </thead>\n",
       "  <tbody>\n",
       "    <tr>\n",
       "      <th>0</th>\n",
       "      <td>NaN</td>\n",
       "      <td>Musical  Linguistic Logic  Naturalist tiedGenu...</td>\n",
       "    </tr>\n",
       "    <tr>\n",
       "      <th>1</th>\n",
       "      <td>NaN</td>\n",
       "      <td>You hello emoji Stranger hii You how are you t...</td>\n",
       "    </tr>\n",
       "    <tr>\n",
       "      <th>2</th>\n",
       "      <td>NaN</td>\n",
       "      <td>What worked for  was knowing that limerence  i...</td>\n",
       "    </tr>\n",
       "    <tr>\n",
       "      <th>3</th>\n",
       "      <td>NaN</td>\n",
       "      <td>Please forget about him You should definitely ...</td>\n",
       "    </tr>\n",
       "    <tr>\n",
       "      <th>4</th>\n",
       "      <td>NaN</td>\n",
       "      <td>Ooh ENTJ Celestia  actually  interesting thoug...</td>\n",
       "    </tr>\n",
       "  </tbody>\n",
       "</table>\n",
       "</div>"
      ],
      "text/plain": [
       "   type                                               post\n",
       "0   NaN  Musical  Linguistic Logic  Naturalist tiedGenu...\n",
       "1   NaN  You hello emoji Stranger hii You how are you t...\n",
       "2   NaN  What worked for  was knowing that limerence  i...\n",
       "3   NaN  Please forget about him You should definitely ...\n",
       "4   NaN  Ooh ENTJ Celestia  actually  interesting thoug..."
      ]
     },
     "execution_count": 30,
     "metadata": {},
     "output_type": "execute_result"
    }
   ],
   "source": [
    "pre_process(df_test)\n",
    "df_test.head()"
   ]
  },
  {
   "cell_type": "code",
   "execution_count": 61,
   "metadata": {},
   "outputs": [],
   "source": [
    "X_test = df_test['post']"
   ]
  },
  {
   "cell_type": "markdown",
   "metadata": {},
   "source": [
    "<a id='predict'> </a>"
   ]
  },
  {
   "cell_type": "markdown",
   "metadata": {},
   "source": [
    "## Predict test data labels from winning model"
   ]
  },
  {
   "cell_type": "code",
   "execution_count": 8,
   "metadata": {},
   "outputs": [],
   "source": [
    "# .predict\n",
    "# export as CSV in prescribed format"
   ]
  },
  {
   "cell_type": "markdown",
   "metadata": {},
   "source": [
    "#### I vs E"
   ]
  },
  {
   "cell_type": "code",
   "execution_count": 131,
   "metadata": {},
   "outputs": [],
   "source": [
    "IE_pred = IE_logreg.predict(X_test)"
   ]
  },
  {
   "cell_type": "code",
   "execution_count": 132,
   "metadata": {},
   "outputs": [],
   "source": [
    "labelsIE = pd.DataFrame({'E/I':IE_pred})"
   ]
  },
  {
   "cell_type": "code",
   "execution_count": 134,
   "metadata": {},
   "outputs": [
    {
     "data": {
      "text/html": [
       "<div>\n",
       "<style>\n",
       "    .dataframe thead tr:only-child th {\n",
       "        text-align: right;\n",
       "    }\n",
       "\n",
       "    .dataframe thead th {\n",
       "        text-align: left;\n",
       "    }\n",
       "\n",
       "    .dataframe tbody tr th {\n",
       "        vertical-align: top;\n",
       "    }\n",
       "</style>\n",
       "<table border=\"1\" class=\"dataframe\">\n",
       "  <thead>\n",
       "    <tr style=\"text-align: right;\">\n",
       "      <th></th>\n",
       "      <th>E/I</th>\n",
       "    </tr>\n",
       "  </thead>\n",
       "  <tbody>\n",
       "    <tr>\n",
       "      <th>0</th>\n",
       "      <td>E</td>\n",
       "    </tr>\n",
       "    <tr>\n",
       "      <th>1</th>\n",
       "      <td>E</td>\n",
       "    </tr>\n",
       "    <tr>\n",
       "      <th>2</th>\n",
       "      <td>I</td>\n",
       "    </tr>\n",
       "    <tr>\n",
       "      <th>3</th>\n",
       "      <td>E</td>\n",
       "    </tr>\n",
       "    <tr>\n",
       "      <th>4</th>\n",
       "      <td>I</td>\n",
       "    </tr>\n",
       "  </tbody>\n",
       "</table>\n",
       "</div>"
      ],
      "text/plain": [
       "  E/I\n",
       "0   E\n",
       "1   E\n",
       "2   I\n",
       "3   E\n",
       "4   I"
      ]
     },
     "execution_count": 134,
     "metadata": {},
     "output_type": "execute_result"
    }
   ],
   "source": [
    "labelsIE = labelsIE.replace({0:'E',1:'I'})\n",
    "labelsIE.head()"
   ]
  },
  {
   "cell_type": "markdown",
   "metadata": {},
   "source": [
    "#### N vs S"
   ]
  },
  {
   "cell_type": "code",
   "execution_count": 116,
   "metadata": {},
   "outputs": [],
   "source": [
    "NS_pred = NS_logreg.predict(X_test)"
   ]
  },
  {
   "cell_type": "code",
   "execution_count": 117,
   "metadata": {},
   "outputs": [],
   "source": [
    "labelsNS = pd.DataFrame({'N/S':NS_pred})"
   ]
  },
  {
   "cell_type": "code",
   "execution_count": 136,
   "metadata": {},
   "outputs": [
    {
     "data": {
      "text/html": [
       "<div>\n",
       "<style>\n",
       "    .dataframe thead tr:only-child th {\n",
       "        text-align: right;\n",
       "    }\n",
       "\n",
       "    .dataframe thead th {\n",
       "        text-align: left;\n",
       "    }\n",
       "\n",
       "    .dataframe tbody tr th {\n",
       "        vertical-align: top;\n",
       "    }\n",
       "</style>\n",
       "<table border=\"1\" class=\"dataframe\">\n",
       "  <thead>\n",
       "    <tr style=\"text-align: right;\">\n",
       "      <th></th>\n",
       "      <th>N/S</th>\n",
       "    </tr>\n",
       "  </thead>\n",
       "  <tbody>\n",
       "    <tr>\n",
       "      <th>0</th>\n",
       "      <td>S</td>\n",
       "    </tr>\n",
       "    <tr>\n",
       "      <th>1</th>\n",
       "      <td>S</td>\n",
       "    </tr>\n",
       "    <tr>\n",
       "      <th>2</th>\n",
       "      <td>N</td>\n",
       "    </tr>\n",
       "    <tr>\n",
       "      <th>3</th>\n",
       "      <td>S</td>\n",
       "    </tr>\n",
       "    <tr>\n",
       "      <th>4</th>\n",
       "      <td>N</td>\n",
       "    </tr>\n",
       "  </tbody>\n",
       "</table>\n",
       "</div>"
      ],
      "text/plain": [
       "  N/S\n",
       "0   S\n",
       "1   S\n",
       "2   N\n",
       "3   S\n",
       "4   N"
      ]
     },
     "execution_count": 136,
     "metadata": {},
     "output_type": "execute_result"
    }
   ],
   "source": [
    "labelsNS =labelsNS.replace({0:'S',1:'N'})\n",
    "labelsNS.head()"
   ]
  },
  {
   "cell_type": "markdown",
   "metadata": {},
   "source": [
    "#### T vs F"
   ]
  },
  {
   "cell_type": "code",
   "execution_count": 119,
   "metadata": {},
   "outputs": [],
   "source": [
    "TF_pred = TF_logreg.predict(X_test)"
   ]
  },
  {
   "cell_type": "code",
   "execution_count": 120,
   "metadata": {},
   "outputs": [],
   "source": [
    "labelsTF = pd.DataFrame({'T/F':TF_pred})"
   ]
  },
  {
   "cell_type": "code",
   "execution_count": 138,
   "metadata": {},
   "outputs": [
    {
     "data": {
      "text/html": [
       "<div>\n",
       "<style>\n",
       "    .dataframe thead tr:only-child th {\n",
       "        text-align: right;\n",
       "    }\n",
       "\n",
       "    .dataframe thead th {\n",
       "        text-align: left;\n",
       "    }\n",
       "\n",
       "    .dataframe tbody tr th {\n",
       "        vertical-align: top;\n",
       "    }\n",
       "</style>\n",
       "<table border=\"1\" class=\"dataframe\">\n",
       "  <thead>\n",
       "    <tr style=\"text-align: right;\">\n",
       "      <th></th>\n",
       "      <th>T/F</th>\n",
       "    </tr>\n",
       "  </thead>\n",
       "  <tbody>\n",
       "    <tr>\n",
       "      <th>0</th>\n",
       "      <td>F</td>\n",
       "    </tr>\n",
       "    <tr>\n",
       "      <th>1</th>\n",
       "      <td>F</td>\n",
       "    </tr>\n",
       "    <tr>\n",
       "      <th>2</th>\n",
       "      <td>T</td>\n",
       "    </tr>\n",
       "    <tr>\n",
       "      <th>3</th>\n",
       "      <td>F</td>\n",
       "    </tr>\n",
       "    <tr>\n",
       "      <th>4</th>\n",
       "      <td>T</td>\n",
       "    </tr>\n",
       "  </tbody>\n",
       "</table>\n",
       "</div>"
      ],
      "text/plain": [
       "  T/F\n",
       "0   F\n",
       "1   F\n",
       "2   T\n",
       "3   F\n",
       "4   T"
      ]
     },
     "execution_count": 138,
     "metadata": {},
     "output_type": "execute_result"
    }
   ],
   "source": [
    "labelsTF = labelsTF.replace({0:'F',1:'T'})\n",
    "labelsTF.head()"
   ]
  },
  {
   "cell_type": "markdown",
   "metadata": {},
   "source": [
    "#### J vs P"
   ]
  },
  {
   "cell_type": "code",
   "execution_count": 122,
   "metadata": {},
   "outputs": [],
   "source": [
    "JP_pred = JP_logreg.predict(X_test)"
   ]
  },
  {
   "cell_type": "code",
   "execution_count": 123,
   "metadata": {},
   "outputs": [],
   "source": [
    "labelsJP = pd.DataFrame({'J/P':TF_pred})"
   ]
  },
  {
   "cell_type": "code",
   "execution_count": 141,
   "metadata": {},
   "outputs": [
    {
     "data": {
      "text/html": [
       "<div>\n",
       "<style>\n",
       "    .dataframe thead tr:only-child th {\n",
       "        text-align: right;\n",
       "    }\n",
       "\n",
       "    .dataframe thead th {\n",
       "        text-align: left;\n",
       "    }\n",
       "\n",
       "    .dataframe tbody tr th {\n",
       "        vertical-align: top;\n",
       "    }\n",
       "</style>\n",
       "<table border=\"1\" class=\"dataframe\">\n",
       "  <thead>\n",
       "    <tr style=\"text-align: right;\">\n",
       "      <th></th>\n",
       "      <th>J/P</th>\n",
       "    </tr>\n",
       "  </thead>\n",
       "  <tbody>\n",
       "    <tr>\n",
       "      <th>0</th>\n",
       "      <td>P</td>\n",
       "    </tr>\n",
       "    <tr>\n",
       "      <th>1</th>\n",
       "      <td>P</td>\n",
       "    </tr>\n",
       "    <tr>\n",
       "      <th>2</th>\n",
       "      <td>J</td>\n",
       "    </tr>\n",
       "    <tr>\n",
       "      <th>3</th>\n",
       "      <td>P</td>\n",
       "    </tr>\n",
       "    <tr>\n",
       "      <th>4</th>\n",
       "      <td>J</td>\n",
       "    </tr>\n",
       "  </tbody>\n",
       "</table>\n",
       "</div>"
      ],
      "text/plain": [
       "  J/P\n",
       "0   P\n",
       "1   P\n",
       "2   J\n",
       "3   P\n",
       "4   J"
      ]
     },
     "execution_count": 141,
     "metadata": {},
     "output_type": "execute_result"
    }
   ],
   "source": [
    "labelsJP = labelsJP.replace({0:'P',1:'J'})\n",
    "labelsJP.head()"
   ]
  },
  {
   "cell_type": "code",
   "execution_count": 142,
   "metadata": {},
   "outputs": [],
   "source": [
    "results = pd.concat([labelsIE, labelsNS, labelsTF, labelsJP, df_test], axis=1)"
   ]
  },
  {
   "cell_type": "code",
   "execution_count": 143,
   "metadata": {},
   "outputs": [],
   "source": [
    "results = results.drop('type', axis=1)"
   ]
  },
  {
   "cell_type": "code",
   "execution_count": 144,
   "metadata": {},
   "outputs": [
    {
     "data": {
      "text/html": [
       "<div>\n",
       "<style>\n",
       "    .dataframe thead tr:only-child th {\n",
       "        text-align: right;\n",
       "    }\n",
       "\n",
       "    .dataframe thead th {\n",
       "        text-align: left;\n",
       "    }\n",
       "\n",
       "    .dataframe tbody tr th {\n",
       "        vertical-align: top;\n",
       "    }\n",
       "</style>\n",
       "<table border=\"1\" class=\"dataframe\">\n",
       "  <thead>\n",
       "    <tr style=\"text-align: right;\">\n",
       "      <th></th>\n",
       "      <th>E/I</th>\n",
       "      <th>N/S</th>\n",
       "      <th>T/F</th>\n",
       "      <th>J/P</th>\n",
       "      <th>post</th>\n",
       "    </tr>\n",
       "  </thead>\n",
       "  <tbody>\n",
       "    <tr>\n",
       "      <th>0</th>\n",
       "      <td>E</td>\n",
       "      <td>S</td>\n",
       "      <td>F</td>\n",
       "      <td>P</td>\n",
       "      <td>Musical  Linguistic Logic  Naturalist tiedGenu...</td>\n",
       "    </tr>\n",
       "    <tr>\n",
       "      <th>1</th>\n",
       "      <td>E</td>\n",
       "      <td>S</td>\n",
       "      <td>F</td>\n",
       "      <td>P</td>\n",
       "      <td>You hello emoji Stranger hii You how are you t...</td>\n",
       "    </tr>\n",
       "    <tr>\n",
       "      <th>2</th>\n",
       "      <td>I</td>\n",
       "      <td>N</td>\n",
       "      <td>T</td>\n",
       "      <td>J</td>\n",
       "      <td>What worked for  was knowing that limerence  i...</td>\n",
       "    </tr>\n",
       "    <tr>\n",
       "      <th>3</th>\n",
       "      <td>E</td>\n",
       "      <td>S</td>\n",
       "      <td>F</td>\n",
       "      <td>P</td>\n",
       "      <td>Please forget about him You should definitely ...</td>\n",
       "    </tr>\n",
       "    <tr>\n",
       "      <th>4</th>\n",
       "      <td>I</td>\n",
       "      <td>N</td>\n",
       "      <td>T</td>\n",
       "      <td>J</td>\n",
       "      <td>Ooh ENTJ Celestia  actually  interesting thoug...</td>\n",
       "    </tr>\n",
       "  </tbody>\n",
       "</table>\n",
       "</div>"
      ],
      "text/plain": [
       "  E/I N/S T/F J/P                                               post\n",
       "0   E   S   F   P  Musical  Linguistic Logic  Naturalist tiedGenu...\n",
       "1   E   S   F   P  You hello emoji Stranger hii You how are you t...\n",
       "2   I   N   T   J  What worked for  was knowing that limerence  i...\n",
       "3   E   S   F   P  Please forget about him You should definitely ...\n",
       "4   I   N   T   J  Ooh ENTJ Celestia  actually  interesting thoug..."
      ]
     },
     "execution_count": 144,
     "metadata": {},
     "output_type": "execute_result"
    }
   ],
   "source": [
    "results.head()"
   ]
  },
  {
   "cell_type": "code",
   "execution_count": 145,
   "metadata": {},
   "outputs": [],
   "source": [
    "results.to_csv('Waheeb_Agherdien.csv')"
   ]
  },
  {
   "cell_type": "code",
   "execution_count": 152,
   "metadata": {},
   "outputs": [
    {
     "name": "stdout",
     "output_type": "stream",
     "text": [
      "<class 'pandas.core.frame.DataFrame'>\n",
      "RangeIndex: 2169 entries, 0 to 2168\n",
      "Data columns (total 5 columns):\n",
      "E/I     2169 non-null object\n",
      "N/S     2169 non-null object\n",
      "T/F     2169 non-null object\n",
      "J/P     2169 non-null object\n",
      "post    2169 non-null object\n",
      "dtypes: object(5)\n",
      "memory usage: 84.8+ KB\n"
     ]
    }
   ],
   "source": [
    "#checking\n",
    "results.info()"
   ]
  },
  {
   "cell_type": "markdown",
   "metadata": {},
   "source": [
    "<a id='other'> </a>"
   ]
  },
  {
   "cell_type": "markdown",
   "metadata": {},
   "source": [
    "---\n",
    "## List how you've gone above and beyond the minimum"
   ]
  },
  {
   "cell_type": "markdown",
   "metadata": {},
   "source": [
    "List:\n",
    "\n",
    "* additional pre-processing you've done or NLP techniques you've applied\n",
    "* classification algorithms you've applied, beyond those covered in this sprint (logistic regression, KNN, LDA, QDA, SVM)\n",
    "* model validation you're performed\n",
    "* any other creative problem-solving you've done"
   ]
  },
  {
   "cell_type": "markdown",
   "metadata": {},
   "source": [
    "#### Choice of Models\n",
    "decision trees often perform well on imbalanced datasets. <br>\n",
    "The splitting rules that look at the class variable used in the creation of the trees, \n",
    "can force both classes to be addressed.\n",
    "\n",
    "Due to limited processing power and time I focused on tree based algorythms, RandomForest and adaBoost using RandomForest.<br>\n",
    "On the morning of handing in, the models are not performing as they previously did.\n",
    "\n",
    "I had to resort to building and optimising logistic regression to make the deadline."
   ]
  },
  {
   "cell_type": "markdown",
   "metadata": {},
   "source": [
    "#### Model Validation\n",
    "I tried using RandomSearch (for hints on values to start w.r.t. optimizing hyperparameters) but it took too long to run.<br>\n",
    "I used GridSearchCV on Kaggle kernels for hyperparameter tuning.\n"
   ]
  },
  {
   "cell_type": "markdown",
   "metadata": {},
   "source": [
    "#### Extra Classification Algorithm's applied,\n",
    "- SGDClassifier\n",
    "- - loss = 'log' similar to logistic regression\n",
    "- - loss = 'hinge' similar to linearSVC\n",
    "- MultinomialNB\n",
    "- AdaBoost with RandomForrestClassifier()\n",
    "- GradientBoostingClassifier show promise but i was unable to implement successfully\n"
   ]
  },
  {
   "cell_type": "markdown",
   "metadata": {},
   "source": [
    "#### Downsample Majority Class To Match Minority Class"
   ]
  },
  {
   "cell_type": "markdown",
   "metadata": {},
   "source": [
    "``` python\n",
    "# after y = all_mbti['IE']\n",
    "# Indicies of each class' observations\n",
    "i_class0 = np.where(y == 0)[0]\n",
    "i_class1 = np.where(y == 1)[0]\n",
    "\n",
    "# Number of observations in each class\n",
    "n_class0 = len(i_class0)\n",
    "n_class1 = len(i_class1)\n",
    "\n",
    "# For every observation of class 0, randomly sample from class 1 without replacement\n",
    "i_class1_downsampled = np.random.choice(i_class1, size=n_class0, replace=False)\n",
    "\n",
    "# Join together class 0's target vector with the downsampled class 1's target vector\n",
    "np.hstack((y[i_class0], y[i_class1_downsampled]))\n",
    "```"
   ]
  },
  {
   "cell_type": "markdown",
   "metadata": {},
   "source": [
    "#### Additional pre-Processing"
   ]
  },
  {
   "cell_type": "markdown",
   "metadata": {},
   "source": [
    "1. Count/Tfidfvectorizer doesn't include stemming or lemmatization.<br>\n",
    "I found a way to include a lemmatizer in a vectorizer (token=LemmaTokenizer())<br>\n",
    "Unfortunately it was not used as it increases running time dramatically with little improvement to the metric.\n",
    "``` python\n",
    "   class LemmaTokenizer(object):\n",
    "    def __init__(self):\n",
    "        self.wnl = WordNetLemmatizer()\n",
    "    def __call__(self, articles):\n",
    "        return [self.wnl.lemmatize(t) for t in word_tokenize(articles)]\n",
    "```  \n",
    "\n",
    "2. I created pipelines that used the same classifier, but different [transformations](#baseline) to the data.\n",
    "\n",
    "3. I created my own lists [stop words](#stop), neither improved from the default (using GridSearch)\n"
   ]
  },
  {
   "cell_type": "markdown",
   "metadata": {},
   "source": [
    "#### Other Creative Problem-Solving"
   ]
  },
  {
   "cell_type": "markdown",
   "metadata": {},
   "source": [
    "1. I found a function that combines countvectorize and tf-idf; Tfidfvectorizer. easier to do gridsearch and less chance of error, also reducing redundant code.\n",
    "\n",
    "2. Using RegEx I created extra features by counting the number of question marks, exclamation marks, pictures, <br>youtube links, elipses, emojis, words in all caps, and words bigger than 5 letters.\n",
    "\n",
    "3. I created pipelines to select numerical features columns and apply MinMaxScaler, another to countvectorize the text feature. <br>The main pipeline that used FeatureUnion to combine the resuts of previous pipelines and feed to the classifier ([code below](#FUnion))\n",
    "\n",
    "4. I saved the models by \"pickling\" them, so as to save time on retraining using `joblib`\n",
    "``` python\n",
    "# save the model to disk\n",
    "filename = 'finalized_model.sav'\n",
    "joblib.dump(model, filename)\n",
    "# load the model from disk\n",
    "loaded_model = joblib.load(filename)\n",
    "```"
   ]
  },
  {
   "cell_type": "markdown",
   "metadata": {},
   "source": [
    "---\n",
    "### Code snippets"
   ]
  },
  {
   "cell_type": "markdown",
   "metadata": {},
   "source": [
    "<a id='stop'> </a>\n",
    "#### Stopwords"
   ]
  },
  {
   "cell_type": "markdown",
   "metadata": {},
   "source": [
    "``` python\n",
    "my_stopwords = ['a', 'about', 'above', 'after', 'again', 'against', 'ain', 'all', 'am', 'an', 'and', 'any', 'are', 'aren',\n",
    "                \"aren't\", 'as', 'at', 'be', 'because', 'been', 'before', 'being', 'below', 'between', 'both', 'but', 'by', 'can',\n",
    "                'couldn', \"couldn't\", 'd', 'did', 'didn', \"didn't\", 'do', 'does', 'doesn', \"doesn't\", 'doing', 'don', \"don't\",\n",
    "                'down', 'during', 'each', 'few', 'for', 'from', 'further', 'had', 'hadn', \"hadn't\", 'has', 'hasn', \"hasn't\", 'ESTJ',\n",
    "                'have', 'haven', \"haven't\", 'having',  'how', 'if', 'in', 'into', 'is', 'isn', \"isn't\", 'it', \"it's\", 'its', 'then',\n",
    "                'itself', 'just', 'll', 'm', 'ma', 'me', 'mightn', \"mightn't\", 'more', 'most', 'mustn', \"mustn't\", 'needn', \"shan't\",\n",
    "                \"needn't\", 'now', 'o', 'of', 'off', 'on', 'once', 'only', 'or', 'other', 'out', 'over', 'own', 're', 's', 'same', 'shan', \n",
    "                'she', \"she's\", 'should', \"should've\",'shouldn', \"shouldn't\", 'so', 'some', 'such', 't', 'than', 'that', \"that'll\", 'the', \n",
    "                'there', 'these', 'this', 'those', 'through', 'to', 'too', 'under', 'until', 'up', 've', 'very', 'was', 'wasn', \"wasn't\", 'we',\n",
    "                'were', 'weren', \"weren't\", 'what', 'when', 'where', 'which', 'while', 'who', 'whom', 'why', 'will', 'with', 'won', \"won't\",\n",
    "                'wouldn', \"wouldn't\", 'y','ISTJ', 'ISFJ', 'INFJ', 'INTJ', 'ISTP', 'ISFP', 'INFP', 'INTP', 'ESTP', 'ESFP', 'ENFP', 'ENTP', \n",
    "                'ESFJ', 'ENFJ', 'ENTJ']\n",
    "```\n",
    "another list of stopwords from sklearn library<br>\n",
    "`from sklearn.feature_extraction.text import ENGLISH_STOP_WORDS `\n",
    "``` python\n",
    "my_stopwords2 = ['a', 'about', 'above', 'across', 'after', 'afterwards', 'again', 'against', 'all', 'almost', 'alone', 'along',\n",
    "                 'already', 'also', 'although', 'always', 'among', 'amongst', 'amoungst', 'amount', 'an', 'and', \n",
    "                 'another', 'any', 'anyhow', 'anyone', 'anything', 'anyway', 'anywhere', 'are', 'around', 'as', 'at', 'back', \n",
    "                 'be', 'became', 'because', 'become', 'becomes', 'becoming', 'been', 'before', 'beforehand', 'behind', 'being',\n",
    "                 'below', 'beside', 'besides', 'between', 'beyond', 'bill', 'both', 'bottom', 'but', 'by', 'call', 'can', \n",
    "                 'cannot', 'cant', 'co', 'con', 'could', 'couldnt', 'cry', 'de', 'describe', 'detail', 'do', 'done', 'down', \n",
    "                 'due', 'during', 'each', 'eg', 'eight', 'either', 'eleven', 'else', 'elsewhere', 'empty', 'enough', 'etc', \n",
    "                 'even', 'ever', 'every', 'everyone', 'everything', 'everywhere', 'except', 'few', 'fifteen', 'fifty', 'fill', \n",
    "                 'find', 'fire', 'first', 'five', 'for', 'former', 'formerly', 'forty', 'found', 'four', 'from', 'front', \n",
    "                 'full', 'further', 'get', 'give', 'go', 'had', 'has', 'hasnt', 'have', 'hence', 'here', \n",
    "                 'hereafter', 'hereby', 'herein', 'hereupon', 'how', 'however', \n",
    "                 'hundred', 'ie', 'if', 'in', 'inc', 'indeed', 'interest', 'into', 'is', 'it', 'its', 'itself', 'keep', \n",
    "                 'last', 'latter', 'latterly', 'least', 'less', 'ltd', 'made', 'many', 'may', 'meanwhile', 'might', \n",
    "                 'mill', 'more', 'moreover', 'most', 'mostly', 'move', 'much', 'must', 'name', 'namely', \n",
    "                 'neither', 'never', 'nevertheless', 'next', 'nine', 'no', 'nobody', 'none', 'noone', 'nor', 'nothing', \n",
    "                 'now', 'nowhere', 'of', 'off', 'often', 'on', 'once', 'one', 'only', 'onto', 'or', 'other', 'others', 'otherwise', \n",
    "                 'out', 'over', 'own', 'part', 'per', 'perhaps', 'please', 'put', 'rather', 're', 'same',\n",
    "                 'see', 'seem', 'seemed', 'seeming', 'seems', 'serious', 'several', 'should', 'show', 'side', 'since', \n",
    "                 'sincere', 'six', 'sixty', 'so', 'some', 'somehow', 'someone', 'something', 'sometime', 'sometimes', 'somewhere', \n",
    "                 'still', 'such', 'system', 'take', 'ten', 'than', 'that', 'the', 'then', 'thence', \n",
    "                 'there', 'thereafter', 'thereby', 'therefore', 'therein', 'thereupon', 'these', 'they', 'thick', 'thin', 'third', \n",
    "                 'this', 'those', 'though', 'three', 'through', 'throughout', 'thru', 'thus', 'to', 'together', 'too', 'top', 'toward', \n",
    "                 'towards', 'twelve', 'twenty', 'two', 'un', 'under', 'until', 'up', 'upon', 'us', 'very', 'via', 'was', 'well', \n",
    "                 'were', 'what', 'whatever', 'when', 'whence', 'whenever', 'where', 'whereafter', 'whereas', 'whereby', 'wherein', \n",
    "                 'whereupon', 'wherever', 'whether', 'which', 'while', 'whither', 'who', 'whoever', 'whole', 'whom', 'whose', 'why', \n",
    "                 'will', 'with', 'within', 'without', 'would', 'yet', 'you', 'your', 'yours', 'yourself', 'yourselves']\n",
    "\n",
    "\n",
    "```"
   ]
  },
  {
   "cell_type": "markdown",
   "metadata": {},
   "source": [
    "---\n",
    "<a id='FUnion'></a>\n",
    "#### FeatureUnion code"
   ]
  },
  {
   "cell_type": "markdown",
   "metadata": {},
   "source": [
    "``` python\n",
    "# Functions to create additional features\n",
    "import re\n",
    "\n",
    "# count question marks\n",
    "def qm_count(string):\n",
    "    q_mark = re.compile(r'(\\?)')\n",
    "    return len(re.findall(q_mark, string))\n",
    "    \n",
    "def exclaim_count(string):\n",
    "    ex_mark = re.compile(r'(\\!)')\n",
    "    return len(re.findall(ex_mark, string))\n",
    "\n",
    "def elipse_count(string):\n",
    "    elipse = re.compile(r\"(\\.\\.\\.)\")\n",
    "    return len(re.findall(elipse, string))\n",
    "\n",
    "def emoji_count(string):\n",
    "    emojis = re.compile(r\"(:[a-z]*:)|([:;][()pdo03])\",re.I)\n",
    "    return len(re.findall(emojis,string))\n",
    "\n",
    "def word_count(string):\n",
    "    words = re.compile(r\"(\\w+)\")\n",
    "    count = len(re.findall(words, string))\n",
    "    return count\n",
    "\n",
    "def word_len(string):\n",
    "    len5 = re.compile(r\"\\w{5,}\")\n",
    "    return len(re.findall(len5,string))\n",
    "\n",
    "def all_caps(string):\n",
    "    mbti_type = set(all_mbti.type) # set of all mbti types\n",
    "    capsloc = re.compile(r\"\\b[A-Z]{2,}\\b\")\n",
    "    caps_words = [x for x in re.findall(capsloc,string) if x not in mbti_type]\n",
    "    return len(caps_words)\n",
    "\n",
    "def count_pix(string):\n",
    "    pix = re.compile(r\"\\b(jpe?g|gif|png|img)\\b\",re.I)\n",
    "    return len(re.findall(pix, string))\n",
    "\n",
    "def create_features(df):\n",
    "    df['questions'] = df['post'].apply(qm_count)\n",
    "    df['exclaimed'] = df['post'].apply(exclaim_count)\n",
    "    df['elipses'] = df['post'].apply(elipse_count)\n",
    "    df['emojis'] = df['post'].apply(emoji_count)\n",
    "    df['word_count'] = df['post'].apply(word_count)\n",
    "    df['big_words'] = df['post'].apply(word_len)\n",
    "    df['images'] = df['post'].apply(count_pix)    \n",
    "    df['words_all_caps'] = df['post'].apply(all_caps) \n",
    "    \n",
    "# note: when running create_features function the below code results in cleaner display output\n",
    "import warnings\n",
    "with warnings.catch_warnings():\n",
    "    warnings.simplefilter(\"ignore\") # ignore warning messages cluttering up view\n",
    "    create_features(all_mbti)\n",
    "```"
   ]
  },
  {
   "cell_type": "markdown",
   "metadata": {},
   "source": [
    "``` python\n",
    "# Pipelines for processing and Classification\n",
    "\n",
    "from sklearn.base import TransformerMixin, BaseEstimator\n",
    "# Functions that can be used in pipeline, that select columns based on type of feature\n",
    "class get_numeric_col(BaseEstimator, TransformerMixin):\n",
    "    def __init__(self, cols):\n",
    "        self.cols = cols\n",
    "        \n",
    "    def fit(self, X, y=None):\n",
    "        return self\n",
    "    \n",
    "    def transform(self, X):\n",
    "        num_cols = X[self.cols]\n",
    "        return num_cols\n",
    "\n",
    "class get_text_col(BaseEstimator, TransformerMixin):\n",
    "    def __init__(self, cols):\n",
    "        self.cols = cols\n",
    "        \n",
    "    def fit(self, X, y=None):\n",
    "        return self\n",
    "    \n",
    "    def transform(self, X):\n",
    "        text_col = X[self.cols]\n",
    "        return text_col\n",
    "\n",
    "\n",
    "num_cols = ['questions', 'exclaimed', 'elipses', 'emojis',\n",
    "       'word_count', 'big_words', 'images', 'words_all_caps']\n",
    "\n",
    "text_col = ['post']\n",
    "\n",
    "numeric_pipeline  = Pipeline([('num_data', get_numeric_col(num_cols)),  # 1\n",
    "                              ('scaler', MinMaxScaler()),\n",
    "                             ])\n",
    "\n",
    "text_pipeline = Pipeline([('text_data', get_text_col(text_col)),        # 2 \n",
    "                          ('count_vec', CountVectorizer())\n",
    "                         ])\n",
    "\n",
    "union = FeatureUnion([                                               #combines 1 and 2\n",
    "         ('numeric', numeric_pipeline),\n",
    "         ('text',text_pipeline)])\n",
    "\n",
    "main_pipe = Pipeline([\n",
    "    ('feature', union),             \n",
    "    ('bayes', MultinomialNB())\n",
    "])\n",
    "```"
   ]
  },
  {
   "cell_type": "markdown",
   "metadata": {},
   "source": [
    "---\n",
    "<a id='baseline'></a>\n",
    "#### Baseline pipelines"
   ]
  },
  {
   "cell_type": "markdown",
   "metadata": {},
   "source": [
    "``` python\n",
    "baseline = Pipeline([('cnt_vec', CountVectorizer(stop_words='english')),\n",
    "                     ('bayes', MultinomialNB())\n",
    "                    ])\n",
    "\n",
    "baseline_lem = Pipeline([('lem_vec', CountVectorizer(tokenizer=LemmaTokenizer(),stop_words='english')),\n",
    "                          ('bayes', MultinomialNB())\n",
    "                        ])\n",
    "\n",
    "baseline_tfidf = Pipeline([('lem_vec', TfidfVectorizer(stop_words='english')),\n",
    "                           ('bayes', MultinomialNB())\n",
    "                         ])\n",
    "\n",
    "baseline_tfidf_lem = Pipeline([('lem_vec', TfidfVectorizer(tokenizer=LemmaTokenizer(),stop_words='english')),\n",
    "                               ('bayes', MultinomialNB())\n",
    "                              ])\n",
    "\n",
    "```"
   ]
  },
  {
   "cell_type": "code",
   "execution_count": null,
   "metadata": {},
   "outputs": [],
   "source": []
  }
 ],
 "metadata": {
  "kernelspec": {
   "display_name": "Python 3",
   "language": "python",
   "name": "python3"
  },
  "language_info": {
   "codemirror_mode": {
    "name": "ipython",
    "version": 3
   },
   "file_extension": ".py",
   "mimetype": "text/x-python",
   "name": "python",
   "nbconvert_exporter": "python",
   "pygments_lexer": "ipython3",
   "version": "3.6.1"
  }
 },
 "nbformat": 4,
 "nbformat_minor": 2
}
