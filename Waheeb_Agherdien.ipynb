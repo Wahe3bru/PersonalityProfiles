{
 "cells": [
  {
   "cell_type": "markdown",
   "metadata": {},
   "source": [
    "# Personality sprint individual project template"
   ]
  },
  {
   "cell_type": "markdown",
   "metadata": {},
   "source": [
    "### Table of Contents\n",
    "1. [Import libraries](#imports)\n",
    "1. [Import, inspect and clean training data](#inspect)\n",
    "1. [Natural Language Processing](#NLP)\n",
    "1. [Build classification models](#build)\n",
    "1. [Model validation and evaluation](#valid)\n",
    "1. [Predict test data labels from winning model](#predict)\n",
    "1. [List how you've gone above and beyond the minimum](#other)\n"
   ]
  },
  {
   "cell_type": "markdown",
   "metadata": {},
   "source": [
    "<a id='imports'></a>"
   ]
  },
  {
   "cell_type": "markdown",
   "metadata": {},
   "source": [
    "## Import libraries"
   ]
  },
  {
   "cell_type": "code",
   "execution_count": 297,
   "metadata": {},
   "outputs": [],
   "source": [
    "import pandas            as pd\n",
    "import numpy             as np\n",
    "import matplotlib.pyplot as plt\n",
    "import seaborn           as sns\n",
    "%matplotlib inline\n",
    "\n",
    "#models\n",
    "from sklearn.svm                      import SVC\n",
    "from sklearn.naive_bayes              import GaussianNB\n",
    "from sklearn.ensemble                 import RandomForestClassifier, AdaBoostClassifier\n",
    "from sklearn.linear_model             import SGDClassifier\n",
    "from sklearn.linear_model             import LogisticRegression\n",
    "from sklearn.neighbors                import KNeighborsClassifier\n",
    "from sklearn.discriminant_analysis    import LinearDiscriminantAnalysis\n",
    "from sklearn.discriminant_analysis    import QuadraticDiscriminantAnalysis\n",
    "from sklearn.gaussian_process         import GaussianProcessClassifier\n",
    "from sklearn.gaussian_process.kernels import RBF\n",
    "from sklearn.neural_network           import MLPClassifier\n",
    "from sklearn.linear_model             import SGDClassifier\n",
    "from sklearn.ensemble                 import GradientBoostingClassifier\n",
    "\n",
    "#NLP\n",
    "import re\n",
    "from sklearn.feature_extraction.text import TfidfVectorizer\n",
    "from sklearn.feature_extraction.text import CountVectorizer\n",
    "\n",
    "# validation\n",
    "from sklearn.model_selection import train_test_split\n",
    "from sklearn.metrics         import classification_report, confusion_matrix\n",
    "from sklearn                 import metrics\n",
    "from sklearn.model_selection import GridSearchCV\n"
   ]
  },
  {
   "cell_type": "markdown",
   "metadata": {},
   "source": [
    "<a id='inspect'> </a>"
   ]
  },
  {
   "cell_type": "markdown",
   "metadata": {},
   "source": [
    "## Import, inspect and clean training data"
   ]
  },
  {
   "cell_type": "code",
   "execution_count": 19,
   "metadata": {},
   "outputs": [],
   "source": [
    "mbti = pd.read_csv('data/train.csv')"
   ]
  },
  {
   "cell_type": "code",
   "execution_count": 131,
   "metadata": {},
   "outputs": [
    {
     "data": {
      "image/png": "[encoded data removed]",
      "text/plain": [
       "<matplotlib.figure.Figure at 0x1a15a71630>"
      ]
     },
     "metadata": {},
     "output_type": "display_data"
    }
   ],
   "source": [
    "mbti['type'].value_counts().plot(kind = 'bar', title='Number of posts for each type')\n",
    "plt.show()"
   ]
  },
  {
   "cell_type": "code",
   "execution_count": 21,
   "metadata": {},
   "outputs": [],
   "source": [
    "# to increase the number of posts per type, split on the '|||' which designate a new post\n",
    "all_mbti = []\n",
    "for i, row in mbti.iterrows():\n",
    "    for post in row['posts'].split('|||'):\n",
    "        all_mbti.append([row['type'], post])\n",
    "all_mbti = pd.DataFrame(all_mbti, columns=['type', 'post'])"
   ]
  },
  {
   "cell_type": "code",
   "execution_count": 22,
   "metadata": {},
   "outputs": [
    {
     "name": "stdout",
     "output_type": "stream",
     "text": [
      "before:  (6506, 2) \n",
      "after: (316548, 2)\n"
     ]
    }
   ],
   "source": [
    "print(f\"before:  {mbti.shape} \\nafter: {all_mbti.shape}\")"
   ]
  },
  {
   "cell_type": "code",
   "execution_count": 23,
   "metadata": {},
   "outputs": [
    {
     "data": {
      "text/html": [
       "<div>\n",
       "<style>\n",
       "    .dataframe thead tr:only-child th {\n",
       "        text-align: right;\n",
       "    }\n",
       "\n",
       "    .dataframe thead th {\n",
       "        text-align: left;\n",
       "    }\n",
       "\n",
       "    .dataframe tbody tr th {\n",
       "        vertical-align: top;\n",
       "    }\n",
       "</style>\n",
       "<table border=\"1\" class=\"dataframe\">\n",
       "  <thead>\n",
       "    <tr style=\"text-align: right;\">\n",
       "      <th></th>\n",
       "      <th>before</th>\n",
       "      <th>after</th>\n",
       "    </tr>\n",
       "  </thead>\n",
       "  <tbody>\n",
       "    <tr>\n",
       "      <th>ENFJ</th>\n",
       "      <td>143</td>\n",
       "      <td>6947</td>\n",
       "    </tr>\n",
       "    <tr>\n",
       "      <th>ENFP</th>\n",
       "      <td>496</td>\n",
       "      <td>23925</td>\n",
       "    </tr>\n",
       "    <tr>\n",
       "      <th>ENTJ</th>\n",
       "      <td>167</td>\n",
       "      <td>8174</td>\n",
       "    </tr>\n",
       "    <tr>\n",
       "      <th>ENTP</th>\n",
       "      <td>530</td>\n",
       "      <td>26017</td>\n",
       "    </tr>\n",
       "    <tr>\n",
       "      <th>ESFJ</th>\n",
       "      <td>35</td>\n",
       "      <td>1668</td>\n",
       "    </tr>\n",
       "    <tr>\n",
       "      <th>ESFP</th>\n",
       "      <td>36</td>\n",
       "      <td>1663</td>\n",
       "    </tr>\n",
       "    <tr>\n",
       "      <th>ESTJ</th>\n",
       "      <td>30</td>\n",
       "      <td>1495</td>\n",
       "    </tr>\n",
       "    <tr>\n",
       "      <th>ESTP</th>\n",
       "      <td>71</td>\n",
       "      <td>3437</td>\n",
       "    </tr>\n",
       "    <tr>\n",
       "      <th>INFJ</th>\n",
       "      <td>1100</td>\n",
       "      <td>53807</td>\n",
       "    </tr>\n",
       "    <tr>\n",
       "      <th>INFP</th>\n",
       "      <td>1386</td>\n",
       "      <td>67846</td>\n",
       "    </tr>\n",
       "    <tr>\n",
       "      <th>INTJ</th>\n",
       "      <td>830</td>\n",
       "      <td>39776</td>\n",
       "    </tr>\n",
       "    <tr>\n",
       "      <th>INTP</th>\n",
       "      <td>960</td>\n",
       "      <td>46637</td>\n",
       "    </tr>\n",
       "    <tr>\n",
       "      <th>ISFJ</th>\n",
       "      <td>124</td>\n",
       "      <td>6051</td>\n",
       "    </tr>\n",
       "    <tr>\n",
       "      <th>ISFP</th>\n",
       "      <td>198</td>\n",
       "      <td>9521</td>\n",
       "    </tr>\n",
       "    <tr>\n",
       "      <th>ISTJ</th>\n",
       "      <td>145</td>\n",
       "      <td>7018</td>\n",
       "    </tr>\n",
       "    <tr>\n",
       "      <th>ISTP</th>\n",
       "      <td>255</td>\n",
       "      <td>12566</td>\n",
       "    </tr>\n",
       "  </tbody>\n",
       "</table>\n",
       "</div>"
      ],
      "text/plain": [
       "      before  after\n",
       "ENFJ     143   6947\n",
       "ENFP     496  23925\n",
       "ENTJ     167   8174\n",
       "ENTP     530  26017\n",
       "ESFJ      35   1668\n",
       "ESFP      36   1663\n",
       "ESTJ      30   1495\n",
       "ESTP      71   3437\n",
       "INFJ    1100  53807\n",
       "INFP    1386  67846\n",
       "INTJ     830  39776\n",
       "INTP     960  46637\n",
       "ISFJ     124   6051\n",
       "ISFP     198   9521\n",
       "ISTJ     145   7018\n",
       "ISTP     255  12566"
      ]
     },
     "execution_count": 23,
     "metadata": {},
     "output_type": "execute_result"
    }
   ],
   "source": [
    "mbti_type = pd.concat([mbti['type'].value_counts().to_frame(name='before'), all_mbti['type'].value_counts().to_frame(name='after')],axis=1)\n",
    "mbti_type"
   ]
  },
  {
   "cell_type": "code",
   "execution_count": 132,
   "metadata": {},
   "outputs": [
    {
     "data": {
      "image/png": "[encoded data removed]",
      "text/plain": [
       "<matplotlib.figure.Figure at 0x1a41b52fd0>"
      ]
     },
     "metadata": {},
     "output_type": "display_data"
    }
   ],
   "source": [
    "mbti_type.plot(kind='barh', title='Number of posts for each type')\n",
    "plt.show()"
   ]
  },
  {
   "cell_type": "code",
   "execution_count": 25,
   "metadata": {},
   "outputs": [],
   "source": [
    "def split_type(row):\n",
    "    \n",
    "    ''' Split MBTI type into individual features for Binary Classification\n",
    "        eg ENFP = [0 1 0 0]\n",
    "    '''\n",
    "    t = row['type']\n",
    "    I,N,T,J = 0,0,0,0\n",
    "    \n",
    "    I = 1 if t[0] =='I' else 0\n",
    "    N = 1 if t[1] == 'N' else 0\n",
    "    T = 1 if t[2] == 'T' else 0\n",
    "    J = 1 if t[3] == 'J' else 0\n",
    "    \n",
    "    return pd.Series( {'IE':I, 'NS':N , 'TF': T, 'JP': J }) "
   ]
  },
  {
   "cell_type": "code",
   "execution_count": 26,
   "metadata": {},
   "outputs": [
    {
     "data": {
      "text/html": [
       "<div>\n",
       "<style>\n",
       "    .dataframe thead tr:only-child th {\n",
       "        text-align: right;\n",
       "    }\n",
       "\n",
       "    .dataframe thead th {\n",
       "        text-align: left;\n",
       "    }\n",
       "\n",
       "    .dataframe tbody tr th {\n",
       "        vertical-align: top;\n",
       "    }\n",
       "</style>\n",
       "<table border=\"1\" class=\"dataframe\">\n",
       "  <thead>\n",
       "    <tr style=\"text-align: right;\">\n",
       "      <th></th>\n",
       "      <th>type</th>\n",
       "      <th>post</th>\n",
       "      <th>IE</th>\n",
       "      <th>JP</th>\n",
       "      <th>NS</th>\n",
       "      <th>TF</th>\n",
       "    </tr>\n",
       "  </thead>\n",
       "  <tbody>\n",
       "    <tr>\n",
       "      <th>0</th>\n",
       "      <td>INFJ</td>\n",
       "      <td>'http://www.youtube.com/watch?v=qsXHcwe3krw</td>\n",
       "      <td>1</td>\n",
       "      <td>1</td>\n",
       "      <td>1</td>\n",
       "      <td>0</td>\n",
       "    </tr>\n",
       "    <tr>\n",
       "      <th>1</th>\n",
       "      <td>INFJ</td>\n",
       "      <td>http://41.media.tumblr.com/tumblr_lfouy03PMA1q...</td>\n",
       "      <td>1</td>\n",
       "      <td>1</td>\n",
       "      <td>1</td>\n",
       "      <td>0</td>\n",
       "    </tr>\n",
       "    <tr>\n",
       "      <th>2</th>\n",
       "      <td>INFJ</td>\n",
       "      <td>enfp and intj moments  https://www.youtube.com...</td>\n",
       "      <td>1</td>\n",
       "      <td>1</td>\n",
       "      <td>1</td>\n",
       "      <td>0</td>\n",
       "    </tr>\n",
       "    <tr>\n",
       "      <th>3</th>\n",
       "      <td>INFJ</td>\n",
       "      <td>What has been the most life-changing experienc...</td>\n",
       "      <td>1</td>\n",
       "      <td>1</td>\n",
       "      <td>1</td>\n",
       "      <td>0</td>\n",
       "    </tr>\n",
       "    <tr>\n",
       "      <th>4</th>\n",
       "      <td>INFJ</td>\n",
       "      <td>http://www.youtube.com/watch?v=vXZeYwwRDw8   h...</td>\n",
       "      <td>1</td>\n",
       "      <td>1</td>\n",
       "      <td>1</td>\n",
       "      <td>0</td>\n",
       "    </tr>\n",
       "  </tbody>\n",
       "</table>\n",
       "</div>"
      ],
      "text/plain": [
       "   type                                               post  IE  JP  NS  TF\n",
       "0  INFJ        'http://www.youtube.com/watch?v=qsXHcwe3krw   1   1   1   0\n",
       "1  INFJ  http://41.media.tumblr.com/tumblr_lfouy03PMA1q...   1   1   1   0\n",
       "2  INFJ  enfp and intj moments  https://www.youtube.com...   1   1   1   0\n",
       "3  INFJ  What has been the most life-changing experienc...   1   1   1   0\n",
       "4  INFJ  http://www.youtube.com/watch?v=vXZeYwwRDw8   h...   1   1   1   0"
      ]
     },
     "execution_count": 26,
     "metadata": {},
     "output_type": "execute_result"
    }
   ],
   "source": [
    "all_mbti = all_mbti.join(all_mbti.apply(lambda row: split_type(row), axis=1))"
   ]
  },
  {
   "cell_type": "code",
   "execution_count": 27,
   "metadata": {},
   "outputs": [
    {
     "data": {
      "text/html": [
       "<div>\n",
       "<style>\n",
       "    .dataframe thead tr:only-child th {\n",
       "        text-align: right;\n",
       "    }\n",
       "\n",
       "    .dataframe thead th {\n",
       "        text-align: left;\n",
       "    }\n",
       "\n",
       "    .dataframe tbody tr th {\n",
       "        vertical-align: top;\n",
       "    }\n",
       "</style>\n",
       "<table border=\"1\" class=\"dataframe\">\n",
       "  <thead>\n",
       "    <tr style=\"text-align: right;\">\n",
       "      <th></th>\n",
       "      <th>type</th>\n",
       "      <th>IE</th>\n",
       "      <th>NS</th>\n",
       "      <th>TF</th>\n",
       "      <th>JP</th>\n",
       "      <th>post</th>\n",
       "    </tr>\n",
       "  </thead>\n",
       "  <tbody>\n",
       "    <tr>\n",
       "      <th>0</th>\n",
       "      <td>INFJ</td>\n",
       "      <td>1</td>\n",
       "      <td>1</td>\n",
       "      <td>0</td>\n",
       "      <td>1</td>\n",
       "      <td>'http://www.youtube.com/watch?v=qsXHcwe3krw</td>\n",
       "    </tr>\n",
       "    <tr>\n",
       "      <th>1</th>\n",
       "      <td>INFJ</td>\n",
       "      <td>1</td>\n",
       "      <td>1</td>\n",
       "      <td>0</td>\n",
       "      <td>1</td>\n",
       "      <td>http://41.media.tumblr.com/tumblr_lfouy03PMA1q...</td>\n",
       "    </tr>\n",
       "    <tr>\n",
       "      <th>2</th>\n",
       "      <td>INFJ</td>\n",
       "      <td>1</td>\n",
       "      <td>1</td>\n",
       "      <td>0</td>\n",
       "      <td>1</td>\n",
       "      <td>enfp and intj moments  https://www.youtube.com...</td>\n",
       "    </tr>\n",
       "    <tr>\n",
       "      <th>3</th>\n",
       "      <td>INFJ</td>\n",
       "      <td>1</td>\n",
       "      <td>1</td>\n",
       "      <td>0</td>\n",
       "      <td>1</td>\n",
       "      <td>What has been the most life-changing experienc...</td>\n",
       "    </tr>\n",
       "    <tr>\n",
       "      <th>4</th>\n",
       "      <td>INFJ</td>\n",
       "      <td>1</td>\n",
       "      <td>1</td>\n",
       "      <td>0</td>\n",
       "      <td>1</td>\n",
       "      <td>http://www.youtube.com/watch?v=vXZeYwwRDw8   h...</td>\n",
       "    </tr>\n",
       "  </tbody>\n",
       "</table>\n",
       "</div>"
      ],
      "text/plain": [
       "   type  IE  NS  TF  JP                                               post\n",
       "0  INFJ   1   1   0   1        'http://www.youtube.com/watch?v=qsXHcwe3krw\n",
       "1  INFJ   1   1   0   1  http://41.media.tumblr.com/tumblr_lfouy03PMA1q...\n",
       "2  INFJ   1   1   0   1  enfp and intj moments  https://www.youtube.com...\n",
       "3  INFJ   1   1   0   1  What has been the most life-changing experienc...\n",
       "4  INFJ   1   1   0   1  http://www.youtube.com/watch?v=vXZeYwwRDw8   h..."
      ]
     },
     "execution_count": 27,
     "metadata": {},
     "output_type": "execute_result"
    }
   ],
   "source": [
    "# rearrange columns\n",
    "all_mbti = all_mbti[['type', 'IE', 'NS', 'TF', 'JP', 'post']]\n",
    "all_mbti.head(5)"
   ]
  },
  {
   "cell_type": "code",
   "execution_count": 17,
   "metadata": {},
   "outputs": [
    {
     "data": {
      "text/html": [
       "<div>\n",
       "<style>\n",
       "    .dataframe thead tr:only-child th {\n",
       "        text-align: right;\n",
       "    }\n",
       "\n",
       "    .dataframe thead th {\n",
       "        text-align: left;\n",
       "    }\n",
       "\n",
       "    .dataframe tbody tr th {\n",
       "        vertical-align: top;\n",
       "    }\n",
       "</style>\n",
       "<table border=\"1\" class=\"dataframe\">\n",
       "  <thead>\n",
       "    <tr style=\"text-align: right;\">\n",
       "      <th></th>\n",
       "      <th>type</th>\n",
       "      <th>IE</th>\n",
       "      <th>NS</th>\n",
       "      <th>TF</th>\n",
       "      <th>JP</th>\n",
       "      <th>post</th>\n",
       "    </tr>\n",
       "  </thead>\n",
       "  <tbody>\n",
       "    <tr>\n",
       "      <th>0</th>\n",
       "      <td>INFJ</td>\n",
       "      <td>1</td>\n",
       "      <td>1</td>\n",
       "      <td>0</td>\n",
       "      <td>1</td>\n",
       "      <td>'http://www.youtube.com/watch?v=qsXHcwe3krw</td>\n",
       "    </tr>\n",
       "    <tr>\n",
       "      <th>1</th>\n",
       "      <td>INFJ</td>\n",
       "      <td>1</td>\n",
       "      <td>1</td>\n",
       "      <td>0</td>\n",
       "      <td>1</td>\n",
       "      <td>http://41.media.tumblr.com/tumblr_lfouy03PMA1q...</td>\n",
       "    </tr>\n",
       "    <tr>\n",
       "      <th>2</th>\n",
       "      <td>INFJ</td>\n",
       "      <td>1</td>\n",
       "      <td>1</td>\n",
       "      <td>0</td>\n",
       "      <td>1</td>\n",
       "      <td>enfp and intj moments  https://www.youtube.com...</td>\n",
       "    </tr>\n",
       "    <tr>\n",
       "      <th>3</th>\n",
       "      <td>INFJ</td>\n",
       "      <td>1</td>\n",
       "      <td>1</td>\n",
       "      <td>0</td>\n",
       "      <td>1</td>\n",
       "      <td>What has been the most life-changing experienc...</td>\n",
       "    </tr>\n",
       "    <tr>\n",
       "      <th>4</th>\n",
       "      <td>INFJ</td>\n",
       "      <td>1</td>\n",
       "      <td>1</td>\n",
       "      <td>0</td>\n",
       "      <td>1</td>\n",
       "      <td>http://www.youtube.com/watch?v=vXZeYwwRDw8   h...</td>\n",
       "    </tr>\n",
       "  </tbody>\n",
       "</table>\n",
       "</div>"
      ],
      "text/plain": [
       "   type  IE  NS  TF  JP                                               post\n",
       "0  INFJ   1   1   0   1        'http://www.youtube.com/watch?v=qsXHcwe3krw\n",
       "1  INFJ   1   1   0   1  http://41.media.tumblr.com/tumblr_lfouy03PMA1q...\n",
       "2  INFJ   1   1   0   1  enfp and intj moments  https://www.youtube.com...\n",
       "3  INFJ   1   1   0   1  What has been the most life-changing experienc...\n",
       "4  INFJ   1   1   0   1  http://www.youtube.com/watch?v=vXZeYwwRDw8   h..."
      ]
     },
     "execution_count": 17,
     "metadata": {},
     "output_type": "execute_result"
    }
   ],
   "source": [
    "#all_mbti.to_csv('data/all_mbti_split.csv')\n",
    "all_mbti = pd.read_csv('data/all_mbti_split.csv').drop('Unnamed: 0',axis=1)\n",
    "all_mbti.head()"
   ]
  },
  {
   "cell_type": "code",
   "execution_count": 176,
   "metadata": {},
   "outputs": [
    {
     "name": "stdout",
     "output_type": "stream",
     "text": [
      "Introversion (I)     -     Extroversion (E):\t\n",
      " 243222 | 76.84%     -      23.16% |  73326\n",
      "\n",
      "Intuition (N)        -     Sensing (S):\t\t\n",
      " 273129 | 86.28%     -      13.72% |  43419\n",
      "\n",
      "Thinking (T)         -     Feeling (F):\t\t\n",
      " 145120 | 45.84%     -      54.16% |   171428\n",
      "\n",
      "Judging (J)          -     Perceiving (P):\t\t\n",
      " 124936 | 39.47%     -      60.53% |   191612\n"
     ]
    }
   ],
   "source": [
    "I = (all_mbti['IE'].value_counts()[1] / (all_mbti['IE'].value_counts()[1] + all_mbti['IE'].value_counts()[0])*100)\n",
    "E = (all_mbti['IE'].value_counts()[0] / (all_mbti['IE'].value_counts()[1] + all_mbti['IE'].value_counts()[0])*100)\n",
    "N = (all_mbti['NS'].value_counts()[1] / (all_mbti['NS'].value_counts()[1] + all_mbti['NS'].value_counts()[0])*100)\n",
    "S = (all_mbti['NS'].value_counts()[0] / (all_mbti['NS'].value_counts()[1] + all_mbti['NS'].value_counts()[0])*100)\n",
    "T = (all_mbti['TF'].value_counts()[1] / (all_mbti['TF'].value_counts()[1] + all_mbti['TF'].value_counts()[0])*100)\n",
    "F = (all_mbti['TF'].value_counts()[0] / (all_mbti['TF'].value_counts()[1] + all_mbti['TF'].value_counts()[0])*100)\n",
    "J = (all_mbti['JP'].value_counts()[1] / (all_mbti['JP'].value_counts()[1] + all_mbti['JP'].value_counts()[0])*100)\n",
    "P = (all_mbti['JP'].value_counts()[0] / (all_mbti['JP'].value_counts()[1] + all_mbti['JP'].value_counts()[0])*100)\n",
    "                                        \n",
    "print (\"Introversion (I)     -     Extroversion (E):\\t\")\n",
    "print(f\" {all_mbti['IE'].value_counts()[1]} | {I:.4}%     -      {E:.4}% |  {all_mbti['IE'].value_counts()[0]}\")\n",
    "print (\"\\nIntuition (N)        -     Sensing (S):\\t\\t\")\n",
    "print(f\" {all_mbti['NS'].value_counts()[1]} | {N:.4}%     -      {S:.4}% |  {all_mbti['NS'].value_counts()[0]}\")\n",
    "print (\"\\nThinking (T)         -     Feeling (F):\\t\\t\")\n",
    "print(f\" {all_mbti['TF'].value_counts()[1]} | {T:.4}%     -      {F:.4}% |   {all_mbti['TF'].value_counts()[0]}\")\n",
    "print (\"\\nJudging (J)          -     Perceiving (P):\\t\\t\")\n",
    "print(f\" {all_mbti['JP'].value_counts()[1]} | {J:.4}%     -      {P:.4}% |   {all_mbti['JP'].value_counts()[0]}\")"
   ]
  },
  {
   "cell_type": "markdown",
   "metadata": {},
   "source": [
    "<a id='NLP'></a>"
   ]
  },
  {
   "cell_type": "markdown",
   "metadata": {},
   "source": [
    "## Natural Language Processing"
   ]
  },
  {
   "cell_type": "code",
   "execution_count": 3,
   "metadata": {},
   "outputs": [],
   "source": [
    "# create structured data from unstructured text"
   ]
  },
  {
   "cell_type": "code",
   "execution_count": 33,
   "metadata": {},
   "outputs": [],
   "source": [
    "# remove web URLs\n",
    "pattern_url = r'http[s]?://(?:[A-Za-z]|[0-9]|[$-_@.&+]|[!*\\(\\),]|(?:%[0-9A-Fa-f][0-9A-Fa-f]))+'\n",
    "subs_url = r'url-web'\n",
    "all_mbti['post'] = all_mbti['post'].replace(to_replace = pattern_url, value = subs_url, regex = True)"
   ]
  },
  {
   "cell_type": "code",
   "execution_count": 34,
   "metadata": {},
   "outputs": [],
   "source": [
    "# remove emojis\n",
    "pattern_url = r\"(:[a-z]*:)|([:;][()pdo03])\"\n",
    "subs_url = r'emoji'\n",
    "all_mbti['post'] = all_mbti['post'].replace(to_replace = pattern_url, value = subs_url, regex = True)"
   ]
  },
  {
   "cell_type": "code",
   "execution_count": 35,
   "metadata": {},
   "outputs": [],
   "source": [
    "all_mbti['post'] = all_mbti['post'].str.replace('[^\\w\\s]', '') # remove punctuation "
   ]
  },
  {
   "cell_type": "code",
   "execution_count": 36,
   "metadata": {},
   "outputs": [],
   "source": [
    "all_mbti['post'] = all_mbti['post'].str.replace(r'(\\b\\w{1,2}\\b)', '') # remove words less than 3 letters"
   ]
  },
  {
   "cell_type": "code",
   "execution_count": 37,
   "metadata": {},
   "outputs": [],
   "source": [
    "all_mbti['post'] = all_mbti['post'].str.replace('\\d+', '') # remove digits"
   ]
  },
  {
   "cell_type": "code",
   "execution_count": 178,
   "metadata": {},
   "outputs": [
    {
     "data": {
      "text/plain": [
       "0                                                urlweb\n",
       "1                                                urlweb\n",
       "2     enfp and intj moments  urlweb  sportscenter no...\n",
       "3     What has been the most lifechanging experience...\n",
       "4              urlweb   urlweb   repeat for most  today\n",
       "5                   May the PerC Experience immerse you\n",
       "6     The last thing  INFJ friend posted  his facebo...\n",
       "7     Hello ENFJ Sorry  hear  your distress Its only...\n",
       "8                                       urlweb  urlweb \n",
       "9                                     Welcome and stuff\n",
       "10                               urlweb  Game Set Match\n",
       "11    Prozac wellbrutin  least thirty minutes  movin...\n",
       "12    Basically come  with three items youve determi...\n",
       "13    All things  moderation  Sims  indeed  video ga...\n",
       "14    Dear ENFP  What were your favorite video games...\n",
       "15                                               urlweb\n",
       "16                             appears   too late emoji\n",
       "17                Theres someone out there for everyone\n",
       "18             Wait  thought confidence was  good thing\n",
       "Name: post, dtype: object"
      ]
     },
     "execution_count": 178,
     "metadata": {},
     "output_type": "execute_result"
    }
   ],
   "source": [
    "all_mbti['post'].head()"
   ]
  },
  {
   "cell_type": "markdown",
   "metadata": {},
   "source": [
    "<a id='build'></a>"
   ]
  },
  {
   "cell_type": "markdown",
   "metadata": {},
   "source": [
    "## Build classification models"
   ]
  },
  {
   "cell_type": "code",
   "execution_count": 4,
   "metadata": {},
   "outputs": [],
   "source": [
    "# which algorithms will you use?"
   ]
  },
  {
   "cell_type": "code",
   "execution_count": null,
   "metadata": {},
   "outputs": [],
   "source": [
    "names = ['Logistic Regression', \n",
    "         'Nearest Neighbors', \n",
    "         'Linear SVM', \n",
    "         'RBF SVM', \n",
    "         'Naive Bayes', \n",
    "         'LDA', \n",
    "         \"QDA\",          \n",
    "         \"Decision Tree\", \n",
    "         \"Random Forest\",  \n",
    "         \"AdaBoost\", \n",
    "         \"Neural Net\",\n",
    "         'hingeSGDC', \n",
    "         'logSGDC']"
   ]
  },
  {
   "cell_type": "code",
   "execution_count": null,
   "metadata": {},
   "outputs": [],
   "source": [
    "classifiers = [\n",
    "    LogisticRegression(), \n",
    "    KNeighborsClassifier(3),\n",
    "    SVC(kernel=\"linear\", C=0.025),\n",
    "    SVC(gamma=2, C=1),    \n",
    "    GaussianNB(),    \n",
    "    LinearDiscriminantAnalysis(),\n",
    "    QuadraticDiscriminantAnalysis(),    \n",
    "    \n",
    "    DecisionTreeClassifier(max_depth=5),\n",
    "    RandomForestClassifier(max_depth=5, n_estimators=10, max_features=1),    \n",
    "    AdaBoostClassifier(),\n",
    "    \n",
    "    MLPClassifier(alpha=1),\n",
    "    \n",
    "    SGDClassifier(class_weight='balanced'),    \n",
    "    SGDClassifier(loss='log', class_weight='balanced')\n",
    "]"
   ]
  },
  {
   "cell_type": "code",
   "execution_count": null,
   "metadata": {},
   "outputs": [],
   "source": [
    "results = []\n",
    "\n",
    "models = {}\n",
    "confusion = {}\n",
    "class_report = {}\n",
    "\n",
    "\n",
    "for name, clf in zip(names, classifiers):    \n",
    "    print ('Fitting {:s} model...'.format(name))\n",
    "    run_time = %time -q -o clf.fit(X_train, y_train)\n",
    "    \n",
    "    print ('... predicting')\n",
    "    y_pred = clf.predict(X_train)   \n",
    "    y_pred_test = clf.predict(X_test)\n",
    "    \n",
    "    print ('... scoring')\n",
    "    accuracy  = metrics.accuracy_score(y_test, y_pred)\n",
    "    precision = metrics.precision_score(y_test, y_pred)\n",
    "    recall    = metrics.recall_score(y_test, y_pred)\n",
    "    \n",
    "    f1        = metrics.f1_score(y_train, y_pred)    \n",
    "    f1_test   = metrics.f1_score(y_test, y_pred_test)    \n",
    "    \n",
    "    # save the results to dictionaries\n",
    "    models[name] = clf    \n",
    "    confusion[name] = metrics.confusion_matrix(y_train, y_pred)\n",
    "    class_report[name] = metrics.classification_report(y_train, y_pred)\n",
    "    \n",
    "    results.append([name, accuracy, precision, recall, f1, f1_test, run_time.best])\n",
    "\n",
    "    \n",
    "results = pd.DataFrame(results, columns=['Classifier', 'Accuracy', 'Precision', 'Recall', 'F1 Train', 'F1 Test', 'Train Time'])\n",
    "results.set_index('Classifier', inplace= True)"
   ]
  },
  {
   "cell_type": "code",
   "execution_count": null,
   "metadata": {},
   "outputs": [],
   "source": [
    "results.sort_values('F1 Test', ascending=False)"
   ]
  },
  {
   "cell_type": "code",
   "execution_count": null,
   "metadata": {},
   "outputs": [],
   "source": [
    "fig, ax = plt.subplots(1, 2, figsize=(10, 5))\n",
    "results.sort_values('F1 Train', ascending=False, inplace=True)\n",
    "results.plot(y=['F1 Test'], kind='bar', ax=ax[0], xlim=[0,1.1])\n",
    "results.plot(y='Train Time', kind='bar', ax=ax[1])"
   ]
  },
  {
   "cell_type": "markdown",
   "metadata": {},
   "source": [
    "---"
   ]
  },
  {
   "cell_type": "code",
   "execution_count": null,
   "metadata": {},
   "outputs": [],
   "source": []
  },
  {
   "cell_type": "code",
   "execution_count": null,
   "metadata": {},
   "outputs": [],
   "source": []
  },
  {
   "cell_type": "code",
   "execution_count": null,
   "metadata": {},
   "outputs": [],
   "source": []
  },
  {
   "cell_type": "code",
   "execution_count": 285,
   "metadata": {},
   "outputs": [],
   "source": [
    "vect = TfidfVectorizer(min_df=3, ngram_range=(1,2), stop_words='english')\n",
    "X = vect.fit_transform(all_mbti['post'])"
   ]
  },
  {
   "cell_type": "code",
   "execution_count": 291,
   "metadata": {},
   "outputs": [],
   "source": [
    "y = all_mbti['IE']"
   ]
  },
  {
   "cell_type": "code",
   "execution_count": 286,
   "metadata": {},
   "outputs": [],
   "source": [
    "\n",
    "X_train, X_test, y_train, y_test = train_test_split(X, y, stratify=y)"
   ]
  },
  {
   "cell_type": "code",
   "execution_count": 287,
   "metadata": {},
   "outputs": [],
   "source": [
    "forest = RandomForestClassifier(n_estimators=50, random_state=2, class_weight='balanced')"
   ]
  },
  {
   "cell_type": "code",
   "execution_count": 288,
   "metadata": {},
   "outputs": [
    {
     "data": {
      "text/plain": [
       "RandomForestClassifier(bootstrap=True, class_weight='balanced',\n",
       "            criterion='gini', max_depth=None, max_features='auto',\n",
       "            max_leaf_nodes=None, min_impurity_decrease=0.0,\n",
       "            min_impurity_split=None, min_samples_leaf=1,\n",
       "            min_samples_split=2, min_weight_fraction_leaf=0.0,\n",
       "            n_estimators=50, n_jobs=1, oob_score=False, random_state=2,\n",
       "            verbose=0, warm_start=False)"
      ]
     },
     "execution_count": 288,
     "metadata": {},
     "output_type": "execute_result"
    }
   ],
   "source": [
    "forest.fit(X_train, y_train)"
   ]
  },
  {
   "cell_type": "code",
   "execution_count": 289,
   "metadata": {},
   "outputs": [
    {
     "data": {
      "text/plain": [
       "0.97171150452169441"
      ]
     },
     "execution_count": 289,
     "metadata": {},
     "output_type": "execute_result"
    }
   ],
   "source": [
    "forest.score(X_train, y_train)"
   ]
  },
  {
   "cell_type": "code",
   "execution_count": 290,
   "metadata": {},
   "outputs": [
    {
     "data": {
      "text/plain": [
       "0.61105424769703176"
      ]
     },
     "execution_count": 290,
     "metadata": {},
     "output_type": "execute_result"
    }
   ],
   "source": [
    "forest.score(X_test, y_test)"
   ]
  },
  {
   "cell_type": "code",
   "execution_count": 284,
   "metadata": {},
   "outputs": [
    {
     "data": {
      "text/plain": [
       "array([[13897, 10712],\n",
       "       [28960, 25568]])"
      ]
     },
     "execution_count": 284,
     "metadata": {},
     "output_type": "execute_result"
    }
   ],
   "source": [
    "y_pred = forest.predict(X_test)\n",
    "confusion_matrix(y_pred, y_test)"
   ]
  },
  {
   "cell_type": "code",
   "execution_count": 204,
   "metadata": {},
   "outputs": [
    {
     "name": "stdout",
     "output_type": "stream",
     "text": [
      "             precision    recall  f1-score   support\n",
      "\n",
      "          0       0.69      0.60      0.64     49158\n",
      "          1       0.46      0.56      0.50     29979\n",
      "\n",
      "avg / total       0.60      0.58      0.59     79137\n",
      "\n"
     ]
    }
   ],
   "source": [
    "print(classification_report(y_pred, y_test))"
   ]
  },
  {
   "cell_type": "code",
   "execution_count": 274,
   "metadata": {},
   "outputs": [],
   "source": [
    "labelsIE = pd.DataFrame({'E/I':y_pred})"
   ]
  },
  {
   "cell_type": "code",
   "execution_count": 275,
   "metadata": {},
   "outputs": [
    {
     "data": {
      "text/html": [
       "<div>\n",
       "<style>\n",
       "    .dataframe thead tr:only-child th {\n",
       "        text-align: right;\n",
       "    }\n",
       "\n",
       "    .dataframe thead th {\n",
       "        text-align: left;\n",
       "    }\n",
       "\n",
       "    .dataframe tbody tr th {\n",
       "        vertical-align: top;\n",
       "    }\n",
       "</style>\n",
       "<table border=\"1\" class=\"dataframe\">\n",
       "  <thead>\n",
       "    <tr style=\"text-align: right;\">\n",
       "      <th></th>\n",
       "      <th>E/I</th>\n",
       "    </tr>\n",
       "  </thead>\n",
       "  <tbody>\n",
       "    <tr>\n",
       "      <th>0</th>\n",
       "      <td>0</td>\n",
       "    </tr>\n",
       "    <tr>\n",
       "      <th>1</th>\n",
       "      <td>0</td>\n",
       "    </tr>\n",
       "    <tr>\n",
       "      <th>2</th>\n",
       "      <td>1</td>\n",
       "    </tr>\n",
       "    <tr>\n",
       "      <th>3</th>\n",
       "      <td>0</td>\n",
       "    </tr>\n",
       "    <tr>\n",
       "      <th>4</th>\n",
       "      <td>1</td>\n",
       "    </tr>\n",
       "  </tbody>\n",
       "</table>\n",
       "</div>"
      ],
      "text/plain": [
       "   E/I\n",
       "0    0\n",
       "1    0\n",
       "2    1\n",
       "3    0\n",
       "4    1"
      ]
     },
     "execution_count": 275,
     "metadata": {},
     "output_type": "execute_result"
    }
   ],
   "source": [
    "labelsIE.head()"
   ]
  },
  {
   "cell_type": "code",
   "execution_count": 277,
   "metadata": {},
   "outputs": [
    {
     "data": {
      "text/html": [
       "<div>\n",
       "<style>\n",
       "    .dataframe thead tr:only-child th {\n",
       "        text-align: right;\n",
       "    }\n",
       "\n",
       "    .dataframe thead th {\n",
       "        text-align: left;\n",
       "    }\n",
       "\n",
       "    .dataframe tbody tr th {\n",
       "        vertical-align: top;\n",
       "    }\n",
       "</style>\n",
       "<table border=\"1\" class=\"dataframe\">\n",
       "  <thead>\n",
       "    <tr style=\"text-align: right;\">\n",
       "      <th></th>\n",
       "      <th>E/I</th>\n",
       "    </tr>\n",
       "  </thead>\n",
       "  <tbody>\n",
       "    <tr>\n",
       "      <th>0</th>\n",
       "      <td>E</td>\n",
       "    </tr>\n",
       "    <tr>\n",
       "      <th>1</th>\n",
       "      <td>E</td>\n",
       "    </tr>\n",
       "    <tr>\n",
       "      <th>2</th>\n",
       "      <td>I</td>\n",
       "    </tr>\n",
       "    <tr>\n",
       "      <th>3</th>\n",
       "      <td>E</td>\n",
       "    </tr>\n",
       "    <tr>\n",
       "      <th>4</th>\n",
       "      <td>I</td>\n",
       "    </tr>\n",
       "  </tbody>\n",
       "</table>\n",
       "</div>"
      ],
      "text/plain": [
       "  E/I\n",
       "0   E\n",
       "1   E\n",
       "2   I\n",
       "3   E\n",
       "4   I"
      ]
     },
     "execution_count": 277,
     "metadata": {},
     "output_type": "execute_result"
    }
   ],
   "source": [
    "labelsIE.replace({0:'E',1:'I'}).head()"
   ]
  },
  {
   "cell_type": "code",
   "execution_count": null,
   "metadata": {},
   "outputs": [],
   "source": []
  },
  {
   "cell_type": "code",
   "execution_count": null,
   "metadata": {},
   "outputs": [],
   "source": []
  },
  {
   "cell_type": "code",
   "execution_count": null,
   "metadata": {},
   "outputs": [],
   "source": []
  },
  {
   "cell_type": "code",
   "execution_count": 294,
   "metadata": {},
   "outputs": [],
   "source": [
    "from sklearn.model_selection import GridSearchCV"
   ]
  },
  {
   "cell_type": "code",
   "execution_count": 59,
   "metadata": {},
   "outputs": [],
   "source": [
    "from sklearn.ensemble import AdaBoostClassifier"
   ]
  },
  {
   "cell_type": "code",
   "execution_count": 57,
   "metadata": {},
   "outputs": [],
   "source": [
    "# Adaboost classifier using SAMME.R\n",
    "bdt_real = AdaBoostClassifier(\n",
    "    #    SVC(C=44, kernel='linear', probability=True),\n",
    "     RandomForestClassifier(),\n",
    "   # DecisionTreeClassifier(max_depth=2),\n",
    "   # n_estimators=num_estimators,\n",
    "    learning_rate=1)"
   ]
  },
  {
   "cell_type": "code",
   "execution_count": 58,
   "metadata": {},
   "outputs": [],
   "source": [
    "# Adaboost classifier using SAMME\n",
    "bdt_discrete = AdaBoostClassifier(\n",
    "   # DecisionTreeClassifier(max_depth=2),\n",
    "    RandomForestClassifier(),\n",
    "   #SVC(C=44, kernel='linear', probability=True),\n",
    "  #  n_estimators=num_estimators,\n",
    "    learning_rate=1,\n",
    "    algorithm=\"SAMME\")"
   ]
  },
  {
   "cell_type": "code",
   "execution_count": null,
   "metadata": {},
   "outputs": [],
   "source": [
    "# Find best value of n_estimator using grid search\n",
    "param_grid = {\"n_estimators\" : [1, 10, 50, 100]}  #, 200, 300, 400, 500, 600]}\n",
    "\n",
    "grid_search = GridSearchCV(bdt_real, param_grid=param_grid, cv=3, n_jobs=-1)\n",
    "grid_search.fit(X_train, y_train)\n",
    "print('Best parameters of Adaboost SAMME.R:' , grid_search.best_params_)\n",
    "print('Best scrore of Adaboost SAMME.R:', grid_search.best_score_)"
   ]
  },
  {
   "cell_type": "code",
   "execution_count": null,
   "metadata": {},
   "outputs": [],
   "source": [
    "%%time\n",
    "grid_search = GridSearchCV(bdt_discrete, param_grid=param_grid, cv=3, n_jobs=-1)\n",
    "grid_search.fit(X_train, y_train)\n",
    "print 'Best parameters of Adaboost SAMME:' , grid_search.best_params_\n",
    "print 'Best scrore of Adaboost SAMME:', grid_search.best_score_"
   ]
  },
  {
   "cell_type": "code",
   "execution_count": null,
   "metadata": {},
   "outputs": [],
   "source": []
  },
  {
   "cell_type": "code",
   "execution_count": null,
   "metadata": {},
   "outputs": [],
   "source": []
  },
  {
   "cell_type": "code",
   "execution_count": null,
   "metadata": {},
   "outputs": [],
   "source": []
  },
  {
   "cell_type": "code",
   "execution_count": null,
   "metadata": {},
   "outputs": [],
   "source": []
  },
  {
   "cell_type": "code",
   "execution_count": null,
   "metadata": {},
   "outputs": [],
   "source": []
  },
  {
   "cell_type": "code",
   "execution_count": null,
   "metadata": {},
   "outputs": [],
   "source": []
  },
  {
   "cell_type": "code",
   "execution_count": null,
   "metadata": {},
   "outputs": [],
   "source": []
  },
  {
   "cell_type": "code",
   "execution_count": null,
   "metadata": {},
   "outputs": [],
   "source": []
  },
  {
   "cell_type": "markdown",
   "metadata": {},
   "source": [
    "<a id='valid'></a>"
   ]
  },
  {
   "cell_type": "markdown",
   "metadata": {},
   "source": [
    "## Model validation and evaluation"
   ]
  },
  {
   "cell_type": "code",
   "execution_count": 5,
   "metadata": {},
   "outputs": [],
   "source": [
    "# make sure your models are robust, and pick the best one"
   ]
  },
  {
   "cell_type": "code",
   "execution_count": null,
   "metadata": {},
   "outputs": [],
   "source": [
    "from sklearn.model_selection import cross_val_score"
   ]
  },
  {
   "cell_type": "code",
   "execution_count": null,
   "metadata": {},
   "outputs": [],
   "source": [
    "cv = []\n",
    "for name, model in models.items():\n",
    "    print(name)\n",
    "    scores = cross_val_score(model, X=X[:n].toarray(), y=y[:n], cv=10)\n",
    "    print(\"Accuracy: {:0.2f} (+/- {:0.2f})\".format(scores.mean(), scores.std()))\n",
    "    cv.append([name, scores.mean(), scores.std() ])\n",
    "    \n",
    "cv = pd.DataFrame(cv, columns=['Model', 'CV_Mean', 'CV_Std_Dev'])\n",
    "cv.set_index('Model', inplace=True)"
   ]
  },
  {
   "cell_type": "code",
   "execution_count": null,
   "metadata": {},
   "outputs": [],
   "source": [
    "cv.plot(y='CV_Mean', yerr='CV_Std_Dev',kind='bar', ylim=[0, 1])"
   ]
  },
  {
   "cell_type": "code",
   "execution_count": null,
   "metadata": {},
   "outputs": [],
   "source": []
  },
  {
   "cell_type": "code",
   "execution_count": null,
   "metadata": {},
   "outputs": [],
   "source": []
  },
  {
   "cell_type": "markdown",
   "metadata": {},
   "source": [
    "## Import test data"
   ]
  },
  {
   "cell_type": "code",
   "execution_count": 6,
   "metadata": {},
   "outputs": [],
   "source": [
    "# pd.read_csv..."
   ]
  },
  {
   "cell_type": "markdown",
   "metadata": {},
   "source": [
    "<a id='predict'> </a>"
   ]
  },
  {
   "cell_type": "markdown",
   "metadata": {},
   "source": [
    "## Predict test data labels from winning model"
   ]
  },
  {
   "cell_type": "code",
   "execution_count": 8,
   "metadata": {},
   "outputs": [],
   "source": [
    "# .predict\n",
    "# export as CSV in prescribed format"
   ]
  },
  {
   "cell_type": "markdown",
   "metadata": {},
   "source": [
    "<a id='other'> </a>"
   ]
  },
  {
   "cell_type": "markdown",
   "metadata": {},
   "source": [
    "## List how you've gone above and beyond the minimum"
   ]
  },
  {
   "cell_type": "markdown",
   "metadata": {},
   "source": [
    "List:\n",
    "\n",
    "* additional pre-processing you've done or NLP techniques you've applied\n",
    "* classification algorithms you've applied, beyond those covered in this sprint (logistic regression, KNN, LDA, QDA, SVM)\n",
    "* model validation you're performed\n",
    "* any other creative problem-solving you've done"
   ]
  },
  {
   "cell_type": "markdown",
   "metadata": {},
   "source": [
    "#### Choice of Models\n",
    "decision trees often perform well on imbalanced datasets. <br>\n",
    "The splitting rules that look at the class variable used in the creation of the trees, \n",
    "can force both classes to be addressed.\n",
    "\n",
    "Due to limited processing power and time I focused on tree based algorythms, RandomForest and adaBoost using RandomForest"
   ]
  },
  {
   "cell_type": "markdown",
   "metadata": {},
   "source": [
    "#### Model Validation\n",
    "I tried using RandomSearch (for hints on values to start w.r.t. optimizing hyperparameters) but it took too long to run.<br>\n",
    "I used GridSearchCV on Kaggle kernels for hyperparameter tuning.\n"
   ]
  },
  {
   "cell_type": "markdown",
   "metadata": {},
   "source": [
    "#### Extra Classification Algorithm's applied,\n",
    "- SGDClassifier\n",
    "- - loss = 'log' similar to logistic regression\n",
    "- - loss = 'hinge' similar to linearSVC\n",
    "- MultinomialNB\n",
    "- AdaBoost with RandomForrestClassifier()"
   ]
  },
  {
   "cell_type": "markdown",
   "metadata": {},
   "source": [
    "#### Downsample Majority Class To Match Minority Class"
   ]
  },
  {
   "cell_type": "markdown",
   "metadata": {},
   "source": [
    "``` python\n",
    "# after y = all_mbti['IE']\n",
    "# Indicies of each class' observations\n",
    "i_class0 = np.where(y == 0)[0]\n",
    "i_class1 = np.where(y == 1)[0]\n",
    "\n",
    "# Number of observations in each class\n",
    "n_class0 = len(i_class0)\n",
    "n_class1 = len(i_class1)\n",
    "\n",
    "# For every observation of class 0, randomly sample from class 1 without replacement\n",
    "i_class1_downsampled = np.random.choice(i_class1, size=n_class0, replace=False)\n",
    "\n",
    "# Join together class 0's target vector with the downsampled class 1's target vector\n",
    "np.hstack((y[i_class0], y[i_class1_downsampled]))\n",
    "```"
   ]
  },
  {
   "cell_type": "markdown",
   "metadata": {},
   "source": [
    "#### Additional pre-Processing"
   ]
  },
  {
   "cell_type": "markdown",
   "metadata": {},
   "source": [
    "1. Count/Tfidfvectorizer doesn't include stemming or lemmatization.<br>\n",
    "I found a way to include a lemmatizer in a vectorizer (token=LemmaTokenizer())<br>\n",
    "Unfortunately it was not used as it increases running time dramatically with little improvement to the metric.\n",
    "``` python\n",
    "   class LemmaTokenizer(object):\n",
    "    def __init__(self):\n",
    "        self.wnl = WordNetLemmatizer()\n",
    "    def __call__(self, articles):\n",
    "        return [self.wnl.lemmatize(t) for t in word_tokenize(articles)]\n",
    "```  \n",
    "\n",
    "2. I created pipelines that used the same classifier, but different [transformations](#baseline) to the data.\n",
    "\n",
    "3. I created my own lists [stop words](#stop), neither improved from the default (using GridSearch)\n"
   ]
  },
  {
   "cell_type": "markdown",
   "metadata": {},
   "source": [
    "#### Other Creative Problem-Solving"
   ]
  },
  {
   "cell_type": "markdown",
   "metadata": {},
   "source": [
    "1. I found a function that combines countvectorize and tf-idf; Tfidfvectorizer. easier to do gridsearch and less chance of error, also reducing redundant code.\n",
    "\n",
    "2. Using RegEx I created extra features by counting the number of question marks, exclamation marks, pictures, <br>youtube links, elipses, emojis, words in all caps, and words bigger than 5 letters.\n",
    "\n",
    "3. I created pipelines to select numerical features columns and apply MinMaxScaler, another to countvectorize the text feature. <br>The main pipeline that used FeatureUnion to combine the resuts of previous pipelines and feed to the classifier ([code below](#FUnion))\n",
    "\n",
    "4. I saved the models by \"pickling\" them, so as to save time on retraining using `joblib`\n",
    "``` python\n",
    "# save the model to disk\n",
    "filename = 'finalized_model.sav'\n",
    "joblib.dump(model, filename)\n",
    "# load the model from disk\n",
    "loaded_model = joblib.load(filename)\n",
    "```"
   ]
  },
  {
   "cell_type": "markdown",
   "metadata": {},
   "source": [
    "---\n",
    "### Code snippets"
   ]
  },
  {
   "cell_type": "markdown",
   "metadata": {},
   "source": [
    "<a id='stop'> </a>\n",
    "#### Stopwords"
   ]
  },
  {
   "cell_type": "markdown",
   "metadata": {},
   "source": [
    "``` python\n",
    "my_stopwords = ['a', 'about', 'above', 'after', 'again', 'against', 'ain', 'all', 'am', 'an', 'and', 'any', 'are', 'aren',\n",
    "                \"aren't\", 'as', 'at', 'be', 'because', 'been', 'before', 'being', 'below', 'between', 'both', 'but', 'by', 'can',\n",
    "                'couldn', \"couldn't\", 'd', 'did', 'didn', \"didn't\", 'do', 'does', 'doesn', \"doesn't\", 'doing', 'don', \"don't\",\n",
    "                'down', 'during', 'each', 'few', 'for', 'from', 'further', 'had', 'hadn', \"hadn't\", 'has', 'hasn', \"hasn't\", 'ESTJ',\n",
    "                'have', 'haven', \"haven't\", 'having',  'how', 'if', 'in', 'into', 'is', 'isn', \"isn't\", 'it', \"it's\", 'its', 'then',\n",
    "                'itself', 'just', 'll', 'm', 'ma', 'me', 'mightn', \"mightn't\", 'more', 'most', 'mustn', \"mustn't\", 'needn', \"shan't\",\n",
    "                \"needn't\", 'now', 'o', 'of', 'off', 'on', 'once', 'only', 'or', 'other', 'out', 'over', 'own', 're', 's', 'same', 'shan', \n",
    "                'she', \"she's\", 'should', \"should've\",'shouldn', \"shouldn't\", 'so', 'some', 'such', 't', 'than', 'that', \"that'll\", 'the', \n",
    "                'there', 'these', 'this', 'those', 'through', 'to', 'too', 'under', 'until', 'up', 've', 'very', 'was', 'wasn', \"wasn't\", 'we',\n",
    "                'were', 'weren', \"weren't\", 'what', 'when', 'where', 'which', 'while', 'who', 'whom', 'why', 'will', 'with', 'won', \"won't\",\n",
    "                'wouldn', \"wouldn't\", 'y','ISTJ', 'ISFJ', 'INFJ', 'INTJ', 'ISTP', 'ISFP', 'INFP', 'INTP', 'ESTP', 'ESFP', 'ENFP', 'ENTP', \n",
    "                'ESFJ', 'ENFJ', 'ENTJ']\n",
    "```\n",
    "another list of stopwords from sklearn library<br>\n",
    "`from sklearn.feature_extraction.text import ENGLISH_STOP_WORDS `\n",
    "``` python\n",
    "my_stopwords2 = ['a', 'about', 'above', 'across', 'after', 'afterwards', 'again', 'against', 'all', 'almost', 'alone', 'along',\n",
    "                 'already', 'also', 'although', 'always', 'among', 'amongst', 'amoungst', 'amount', 'an', 'and', \n",
    "                 'another', 'any', 'anyhow', 'anyone', 'anything', 'anyway', 'anywhere', 'are', 'around', 'as', 'at', 'back', \n",
    "                 'be', 'became', 'because', 'become', 'becomes', 'becoming', 'been', 'before', 'beforehand', 'behind', 'being',\n",
    "                 'below', 'beside', 'besides', 'between', 'beyond', 'bill', 'both', 'bottom', 'but', 'by', 'call', 'can', \n",
    "                 'cannot', 'cant', 'co', 'con', 'could', 'couldnt', 'cry', 'de', 'describe', 'detail', 'do', 'done', 'down', \n",
    "                 'due', 'during', 'each', 'eg', 'eight', 'either', 'eleven', 'else', 'elsewhere', 'empty', 'enough', 'etc', \n",
    "                 'even', 'ever', 'every', 'everyone', 'everything', 'everywhere', 'except', 'few', 'fifteen', 'fifty', 'fill', \n",
    "                 'find', 'fire', 'first', 'five', 'for', 'former', 'formerly', 'forty', 'found', 'four', 'from', 'front', \n",
    "                 'full', 'further', 'get', 'give', 'go', 'had', 'has', 'hasnt', 'have', 'hence', 'here', \n",
    "                 'hereafter', 'hereby', 'herein', 'hereupon', 'how', 'however', \n",
    "                 'hundred', 'ie', 'if', 'in', 'inc', 'indeed', 'interest', 'into', 'is', 'it', 'its', 'itself', 'keep', \n",
    "                 'last', 'latter', 'latterly', 'least', 'less', 'ltd', 'made', 'many', 'may', 'meanwhile', 'might', \n",
    "                 'mill', 'more', 'moreover', 'most', 'mostly', 'move', 'much', 'must', 'name', 'namely', \n",
    "                 'neither', 'never', 'nevertheless', 'next', 'nine', 'no', 'nobody', 'none', 'noone', 'nor', 'nothing', \n",
    "                 'now', 'nowhere', 'of', 'off', 'often', 'on', 'once', 'one', 'only', 'onto', 'or', 'other', 'others', 'otherwise', \n",
    "                 'out', 'over', 'own', 'part', 'per', 'perhaps', 'please', 'put', 'rather', 're', 'same',\n",
    "                 'see', 'seem', 'seemed', 'seeming', 'seems', 'serious', 'several', 'should', 'show', 'side', 'since', \n",
    "                 'sincere', 'six', 'sixty', 'so', 'some', 'somehow', 'someone', 'something', 'sometime', 'sometimes', 'somewhere', \n",
    "                 'still', 'such', 'system', 'take', 'ten', 'than', 'that', 'the', 'then', 'thence', \n",
    "                 'there', 'thereafter', 'thereby', 'therefore', 'therein', 'thereupon', 'these', 'they', 'thick', 'thin', 'third', \n",
    "                 'this', 'those', 'though', 'three', 'through', 'throughout', 'thru', 'thus', 'to', 'together', 'too', 'top', 'toward', \n",
    "                 'towards', 'twelve', 'twenty', 'two', 'un', 'under', 'until', 'up', 'upon', 'us', 'very', 'via', 'was', 'well', \n",
    "                 'were', 'what', 'whatever', 'when', 'whence', 'whenever', 'where', 'whereafter', 'whereas', 'whereby', 'wherein', \n",
    "                 'whereupon', 'wherever', 'whether', 'which', 'while', 'whither', 'who', 'whoever', 'whole', 'whom', 'whose', 'why', \n",
    "                 'will', 'with', 'within', 'without', 'would', 'yet', 'you', 'your', 'yours', 'yourself', 'yourselves']\n",
    "\n",
    "\n",
    "```"
   ]
  },
  {
   "cell_type": "markdown",
   "metadata": {},
   "source": [
    "---\n",
    "<a id='FUnion'></a>\n",
    "#### FeatureUnion code"
   ]
  },
  {
   "cell_type": "markdown",
   "metadata": {},
   "source": [
    "``` python\n",
    "# Functions to create additional features\n",
    "import re\n",
    "\n",
    "# count question marks\n",
    "def qm_count(string):\n",
    "    q_mark = re.compile(r'(\\?)')\n",
    "    return len(re.findall(q_mark, string))\n",
    "    \n",
    "def exclaim_count(string):\n",
    "    ex_mark = re.compile(r'(\\!)')\n",
    "    return len(re.findall(ex_mark, string))\n",
    "\n",
    "def elipse_count(string):\n",
    "    elipse = re.compile(r\"(\\.\\.\\.)\")\n",
    "    return len(re.findall(elipse, string))\n",
    "\n",
    "def emoji_count(string):\n",
    "    emojis = re.compile(r\"(:[a-z]*:)|([:;][()pdo03])\",re.I)\n",
    "    return len(re.findall(emojis,string))\n",
    "\n",
    "def word_count(string):\n",
    "    words = re.compile(r\"(\\w+)\")\n",
    "    count = len(re.findall(words, string))\n",
    "    return count\n",
    "\n",
    "def word_len(string):\n",
    "    len5 = re.compile(r\"\\w{5,}\")\n",
    "    return len(re.findall(len5,string))\n",
    "\n",
    "def all_caps(string):\n",
    "    mbti_type = set(all_mbti.type) # set of all mbti types\n",
    "    capsloc = re.compile(r\"\\b[A-Z]{2,}\\b\")\n",
    "    caps_words = [x for x in re.findall(capsloc,string) if x not in mbti_type]\n",
    "    return len(caps_words)\n",
    "\n",
    "def count_pix(string):\n",
    "    pix = re.compile(r\"\\b(jpe?g|gif|png|img)\\b\",re.I)\n",
    "    return len(re.findall(pix, string))\n",
    "\n",
    "def create_features(df):\n",
    "    df['questions'] = df['post'].apply(qm_count)\n",
    "    df['exclaimed'] = df['post'].apply(exclaim_count)\n",
    "    df['elipses'] = df['post'].apply(elipse_count)\n",
    "    df['emojis'] = df['post'].apply(emoji_count)\n",
    "    df['word_count'] = df['post'].apply(word_count)\n",
    "    df['big_words'] = df['post'].apply(word_len)\n",
    "    df['images'] = df['post'].apply(count_pix)    \n",
    "    df['words_all_caps'] = df['post'].apply(all_caps) \n",
    "    \n",
    "# note: when running create_features function the below code results in cleaner display output\n",
    "import warnings\n",
    "with warnings.catch_warnings():\n",
    "    warnings.simplefilter(\"ignore\") # ignore warning messages cluttering up view\n",
    "    create_features(all_mbti)\n",
    "```"
   ]
  },
  {
   "cell_type": "markdown",
   "metadata": {},
   "source": [
    "``` python\n",
    "# Pipelines for processing and Classification\n",
    "\n",
    "from sklearn.base import TransformerMixin, BaseEstimator\n",
    "# Functions that can be used in pipeline, that select columns based on type of feature\n",
    "class get_numeric_col(BaseEstimator, TransformerMixin):\n",
    "    def __init__(self, cols):\n",
    "        self.cols = cols\n",
    "        \n",
    "    def fit(self, X, y=None):\n",
    "        return self\n",
    "    \n",
    "    def transform(self, X):\n",
    "        num_cols = X[self.cols]\n",
    "        return num_cols\n",
    "\n",
    "class get_text_col(BaseEstimator, TransformerMixin):\n",
    "    def __init__(self, cols):\n",
    "        self.cols = cols\n",
    "        \n",
    "    def fit(self, X, y=None):\n",
    "        return self\n",
    "    \n",
    "    def transform(self, X):\n",
    "        text_col = X[self.cols]\n",
    "        return text_col\n",
    "\n",
    "\n",
    "num_cols = ['questions', 'exclaimed', 'elipses', 'emojis',\n",
    "       'word_count', 'big_words', 'images', 'words_all_caps']\n",
    "\n",
    "text_col = ['post']\n",
    "\n",
    "numeric_pipeline  = Pipeline([('num_data', get_numeric_col(num_cols)),  # 1\n",
    "                              ('scaler', MinMaxScaler()),\n",
    "                             ])\n",
    "\n",
    "text_pipeline = Pipeline([('text_data', get_text_col(text_col)),        # 2 \n",
    "                          ('count_vec', CountVectorizer())\n",
    "                         ])\n",
    "\n",
    "union = FeatureUnion([                                               #combines 1 and 2\n",
    "         ('numeric', numeric_pipeline),\n",
    "         ('text',text_pipeline)])\n",
    "\n",
    "main_pipe = Pipeline([\n",
    "    ('feature', union),             \n",
    "    ('bayes', MultinomialNB())\n",
    "])\n",
    "```"
   ]
  },
  {
   "cell_type": "markdown",
   "metadata": {},
   "source": [
    "---\n",
    "<a id='baseline'></a>\n",
    "#### Baseline pipelines"
   ]
  },
  {
   "cell_type": "markdown",
   "metadata": {},
   "source": [
    "``` python\n",
    "baseline = Pipeline([('cnt_vec', CountVectorizer(stop_words='english')),\n",
    "                     ('bayes', MultinomialNB())\n",
    "                    ])\n",
    "\n",
    "baseline_lem = Pipeline([('lem_vec', CountVectorizer(tokenizer=LemmaTokenizer(),stop_words='english')),\n",
    "                          ('bayes', MultinomialNB())\n",
    "                        ])\n",
    "\n",
    "baseline_tfidf = Pipeline([('lem_vec', TfidfVectorizer(stop_words='english')),\n",
    "                           ('bayes', MultinomialNB())\n",
    "                         ])\n",
    "\n",
    "baseline_tfidf_lem = Pipeline([('lem_vec', TfidfVectorizer(tokenizer=LemmaTokenizer(),stop_words='english')),\n",
    "                               ('bayes', MultinomialNB())\n",
    "                              ])\n",
    "\n",
    "```"
   ]
  },
  {
   "cell_type": "code",
   "execution_count": null,
   "metadata": {},
   "outputs": [],
   "source": []
  }
 ],
 "metadata": {
  "kernelspec": {
   "display_name": "Python 3",
   "language": "python",
   "name": "python3"
  },
  "language_info": {
   "codemirror_mode": {
    "name": "ipython",
    "version": 3
   },
   "file_extension": ".py",
   "mimetype": "text/x-python",
   "name": "python",
   "nbconvert_exporter": "python",
   "pygments_lexer": "ipython3",
   "version": "3.6.2"
  }
 },
 "nbformat": 4,
 "nbformat_minor": 2
}
