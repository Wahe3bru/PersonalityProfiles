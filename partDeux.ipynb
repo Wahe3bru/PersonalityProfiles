{
 "cells": [
  {
   "cell_type": "markdown",
   "metadata": {},
   "source": [
    "get a list of words used for each part of type to be used in [word cloud](https://www.wordclouds.com/) for presentation\n",
    "\n",
    "like word cloud 'E' of all words used by Extroverts versus word cloud 'I'"
   ]
  },
  {
   "cell_type": "code",
   "execution_count": 3,
   "metadata": {},
   "outputs": [],
   "source": [
    "import pandas as pd\n",
    "import matplotlib.pyplot as plt\n",
    "import seaborn as sns\n",
    "%matplotlib inline"
   ]
  },
  {
   "cell_type": "code",
   "execution_count": 4,
   "metadata": {},
   "outputs": [],
   "source": [
    "mbti = pd.read_csv('data/train.csv')"
   ]
  },
  {
   "cell_type": "code",
   "execution_count": 5,
   "metadata": {},
   "outputs": [
    {
     "data": {
      "text/plain": [
       "<matplotlib.axes._subplots.AxesSubplot at 0x11445c780>"
      ]
     },
     "execution_count": 5,
     "metadata": {},
     "output_type": "execute_result"
    },
    {
     "data": {
      "image/png": "[encoded data removed]",
      "text/plain": [
       "<matplotlib.figure.Figure at 0x114449e80>"
      ]
     },
     "metadata": {},
     "output_type": "display_data"
    }
   ],
   "source": [
    "mbti['type'].value_counts().plot(kind = 'bar')\n"
   ]
  },
  {
   "cell_type": "code",
   "execution_count": 6,
   "metadata": {},
   "outputs": [],
   "source": [
    "\n",
    "all_mbti = []\n",
    "for i, row in mbti.iterrows():\n",
    "    for post in row['posts'].split('|||'):\n",
    "        all_mbti.append([row['type'], post])\n",
    "all_mbti = pd.DataFrame(all_mbti, columns=['type', 'post'])"
   ]
  },
  {
   "cell_type": "code",
   "execution_count": 7,
   "metadata": {},
   "outputs": [
    {
     "name": "stdout",
     "output_type": "stream",
     "text": [
      "before:  (6506, 2) \n",
      "after: (316548, 2)\n"
     ]
    }
   ],
   "source": [
    "print(f\"before:  {mbti.shape} \\nafter: {all_mbti.shape}\")"
   ]
  },
  {
   "cell_type": "code",
   "execution_count": 115,
   "metadata": {},
   "outputs": [
    {
     "data": {
      "text/html": [
       "<div>\n",
       "<style>\n",
       "    .dataframe thead tr:only-child th {\n",
       "        text-align: right;\n",
       "    }\n",
       "\n",
       "    .dataframe thead th {\n",
       "        text-align: left;\n",
       "    }\n",
       "\n",
       "    .dataframe tbody tr th {\n",
       "        vertical-align: top;\n",
       "    }\n",
       "</style>\n",
       "<table border=\"1\" class=\"dataframe\">\n",
       "  <thead>\n",
       "    <tr style=\"text-align: right;\">\n",
       "      <th></th>\n",
       "      <th>before</th>\n",
       "      <th>after</th>\n",
       "    </tr>\n",
       "  </thead>\n",
       "  <tbody>\n",
       "    <tr>\n",
       "      <th>ENFJ</th>\n",
       "      <td>143</td>\n",
       "      <td>6947</td>\n",
       "    </tr>\n",
       "    <tr>\n",
       "      <th>ENFP</th>\n",
       "      <td>496</td>\n",
       "      <td>23925</td>\n",
       "    </tr>\n",
       "    <tr>\n",
       "      <th>ENTJ</th>\n",
       "      <td>167</td>\n",
       "      <td>8174</td>\n",
       "    </tr>\n",
       "    <tr>\n",
       "      <th>ENTP</th>\n",
       "      <td>530</td>\n",
       "      <td>26017</td>\n",
       "    </tr>\n",
       "    <tr>\n",
       "      <th>ESFJ</th>\n",
       "      <td>35</td>\n",
       "      <td>1668</td>\n",
       "    </tr>\n",
       "    <tr>\n",
       "      <th>ESFP</th>\n",
       "      <td>36</td>\n",
       "      <td>1663</td>\n",
       "    </tr>\n",
       "    <tr>\n",
       "      <th>ESTJ</th>\n",
       "      <td>30</td>\n",
       "      <td>1495</td>\n",
       "    </tr>\n",
       "    <tr>\n",
       "      <th>ESTP</th>\n",
       "      <td>71</td>\n",
       "      <td>3437</td>\n",
       "    </tr>\n",
       "    <tr>\n",
       "      <th>INFJ</th>\n",
       "      <td>1100</td>\n",
       "      <td>53807</td>\n",
       "    </tr>\n",
       "    <tr>\n",
       "      <th>INFP</th>\n",
       "      <td>1386</td>\n",
       "      <td>67846</td>\n",
       "    </tr>\n",
       "    <tr>\n",
       "      <th>INTJ</th>\n",
       "      <td>830</td>\n",
       "      <td>39776</td>\n",
       "    </tr>\n",
       "    <tr>\n",
       "      <th>INTP</th>\n",
       "      <td>960</td>\n",
       "      <td>46637</td>\n",
       "    </tr>\n",
       "    <tr>\n",
       "      <th>ISFJ</th>\n",
       "      <td>124</td>\n",
       "      <td>6051</td>\n",
       "    </tr>\n",
       "    <tr>\n",
       "      <th>ISFP</th>\n",
       "      <td>198</td>\n",
       "      <td>9521</td>\n",
       "    </tr>\n",
       "    <tr>\n",
       "      <th>ISTJ</th>\n",
       "      <td>145</td>\n",
       "      <td>7018</td>\n",
       "    </tr>\n",
       "    <tr>\n",
       "      <th>ISTP</th>\n",
       "      <td>255</td>\n",
       "      <td>12566</td>\n",
       "    </tr>\n",
       "  </tbody>\n",
       "</table>\n",
       "</div>"
      ],
      "text/plain": [
       "      before  after\n",
       "ENFJ     143   6947\n",
       "ENFP     496  23925\n",
       "ENTJ     167   8174\n",
       "ENTP     530  26017\n",
       "ESFJ      35   1668\n",
       "ESFP      36   1663\n",
       "ESTJ      30   1495\n",
       "ESTP      71   3437\n",
       "INFJ    1100  53807\n",
       "INFP    1386  67846\n",
       "INTJ     830  39776\n",
       "INTP     960  46637\n",
       "ISFJ     124   6051\n",
       "ISFP     198   9521\n",
       "ISTJ     145   7018\n",
       "ISTP     255  12566"
      ]
     },
     "execution_count": 115,
     "metadata": {},
     "output_type": "execute_result"
    }
   ],
   "source": [
    "mbti_type = pd.concat([mbti['type'].value_counts().to_frame(name='before'), all_mbti['type'].value_counts().to_frame(name='after')],axis=1)\n",
    "mbti_type\n"
   ]
  },
  {
   "cell_type": "code",
   "execution_count": 120,
   "metadata": {},
   "outputs": [
    {
     "data": {
      "text/plain": [
       "<matplotlib.axes._subplots.AxesSubplot at 0x1a8145ebe0>"
      ]
     },
     "execution_count": 120,
     "metadata": {},
     "output_type": "execute_result"
    },
    {
     "data": {
      "image/png": "[encoded data removed]",
      "text/plain": [
       "<matplotlib.figure.Figure at 0x1a787dbac8>"
      ]
     },
     "metadata": {},
     "output_type": "display_data"
    }
   ],
   "source": [
    "mbti_type.plot.bar(stacked=True)"
   ]
  },
  {
   "cell_type": "markdown",
   "metadata": {},
   "source": [
    "It's easier to do binary classification than 16 class (multi-class) classification."
   ]
  },
  {
   "cell_type": "code",
   "execution_count": 9,
   "metadata": {},
   "outputs": [],
   "source": [
    "def split_type(row):\n",
    "    ''' \n",
    "       Split MBTI type into individual features for Binary Classification\n",
    "       eg ENFP = [0 1 0 0]\n",
    "    '''\n",
    "    t = row['type']\n",
    "    I,N,T,J = 0,0,0,0\n",
    "    \n",
    "    I = 1 if t[0] =='I' else 0\n",
    "    \n",
    "    N = 1 if t[1] == 'N' else 0\n",
    "    \n",
    "    T = 1 if t[2] == 'T' else 0\n",
    "    \n",
    "    J = 1 if t[3] == 'J' else 0\n",
    "    \n",
    "    return pd.Series( {'IE':I, 'NS':N , 'TF': T, 'JP': J }) "
   ]
  },
  {
   "cell_type": "code",
   "execution_count": 10,
   "metadata": {},
   "outputs": [
    {
     "data": {
      "text/html": [
       "<div>\n",
       "<style>\n",
       "    .dataframe thead tr:only-child th {\n",
       "        text-align: right;\n",
       "    }\n",
       "\n",
       "    .dataframe thead th {\n",
       "        text-align: left;\n",
       "    }\n",
       "\n",
       "    .dataframe tbody tr th {\n",
       "        vertical-align: top;\n",
       "    }\n",
       "</style>\n",
       "<table border=\"1\" class=\"dataframe\">\n",
       "  <thead>\n",
       "    <tr style=\"text-align: right;\">\n",
       "      <th></th>\n",
       "      <th>type</th>\n",
       "      <th>post</th>\n",
       "      <th>IE</th>\n",
       "      <th>JP</th>\n",
       "      <th>NS</th>\n",
       "      <th>TF</th>\n",
       "    </tr>\n",
       "  </thead>\n",
       "  <tbody>\n",
       "    <tr>\n",
       "      <th>0</th>\n",
       "      <td>INFJ</td>\n",
       "      <td>'http://www.youtube.com/watch?v=qsXHcwe3krw</td>\n",
       "      <td>1</td>\n",
       "      <td>1</td>\n",
       "      <td>1</td>\n",
       "      <td>0</td>\n",
       "    </tr>\n",
       "    <tr>\n",
       "      <th>1</th>\n",
       "      <td>INFJ</td>\n",
       "      <td>http://41.media.tumblr.com/tumblr_lfouy03PMA1q...</td>\n",
       "      <td>1</td>\n",
       "      <td>1</td>\n",
       "      <td>1</td>\n",
       "      <td>0</td>\n",
       "    </tr>\n",
       "    <tr>\n",
       "      <th>2</th>\n",
       "      <td>INFJ</td>\n",
       "      <td>enfp and intj moments  https://www.youtube.com...</td>\n",
       "      <td>1</td>\n",
       "      <td>1</td>\n",
       "      <td>1</td>\n",
       "      <td>0</td>\n",
       "    </tr>\n",
       "    <tr>\n",
       "      <th>3</th>\n",
       "      <td>INFJ</td>\n",
       "      <td>What has been the most life-changing experienc...</td>\n",
       "      <td>1</td>\n",
       "      <td>1</td>\n",
       "      <td>1</td>\n",
       "      <td>0</td>\n",
       "    </tr>\n",
       "    <tr>\n",
       "      <th>4</th>\n",
       "      <td>INFJ</td>\n",
       "      <td>http://www.youtube.com/watch?v=vXZeYwwRDw8   h...</td>\n",
       "      <td>1</td>\n",
       "      <td>1</td>\n",
       "      <td>1</td>\n",
       "      <td>0</td>\n",
       "    </tr>\n",
       "  </tbody>\n",
       "</table>\n",
       "</div>"
      ],
      "text/plain": [
       "   type                                               post  IE  JP  NS  TF\n",
       "0  INFJ        'http://www.youtube.com/watch?v=qsXHcwe3krw   1   1   1   0\n",
       "1  INFJ  http://41.media.tumblr.com/tumblr_lfouy03PMA1q...   1   1   1   0\n",
       "2  INFJ  enfp and intj moments  https://www.youtube.com...   1   1   1   0\n",
       "3  INFJ  What has been the most life-changing experienc...   1   1   1   0\n",
       "4  INFJ  http://www.youtube.com/watch?v=vXZeYwwRDw8   h...   1   1   1   0"
      ]
     },
     "execution_count": 10,
     "metadata": {},
     "output_type": "execute_result"
    }
   ],
   "source": [
    "all_mbti = all_mbti.join(all_mbti.apply(lambda row: split_type(row), axis=1))\n",
    "all_mbti.head(5)"
   ]
  },
  {
   "cell_type": "code",
   "execution_count": 11,
   "metadata": {},
   "outputs": [
    {
     "data": {
      "text/html": [
       "<div>\n",
       "<style>\n",
       "    .dataframe thead tr:only-child th {\n",
       "        text-align: right;\n",
       "    }\n",
       "\n",
       "    .dataframe thead th {\n",
       "        text-align: left;\n",
       "    }\n",
       "\n",
       "    .dataframe tbody tr th {\n",
       "        vertical-align: top;\n",
       "    }\n",
       "</style>\n",
       "<table border=\"1\" class=\"dataframe\">\n",
       "  <thead>\n",
       "    <tr style=\"text-align: right;\">\n",
       "      <th></th>\n",
       "      <th>type</th>\n",
       "      <th>IE</th>\n",
       "      <th>NS</th>\n",
       "      <th>TF</th>\n",
       "      <th>JP</th>\n",
       "      <th>post</th>\n",
       "    </tr>\n",
       "  </thead>\n",
       "  <tbody>\n",
       "    <tr>\n",
       "      <th>0</th>\n",
       "      <td>INFJ</td>\n",
       "      <td>1</td>\n",
       "      <td>1</td>\n",
       "      <td>0</td>\n",
       "      <td>1</td>\n",
       "      <td>'http://www.youtube.com/watch?v=qsXHcwe3krw</td>\n",
       "    </tr>\n",
       "    <tr>\n",
       "      <th>1</th>\n",
       "      <td>INFJ</td>\n",
       "      <td>1</td>\n",
       "      <td>1</td>\n",
       "      <td>0</td>\n",
       "      <td>1</td>\n",
       "      <td>http://41.media.tumblr.com/tumblr_lfouy03PMA1q...</td>\n",
       "    </tr>\n",
       "    <tr>\n",
       "      <th>2</th>\n",
       "      <td>INFJ</td>\n",
       "      <td>1</td>\n",
       "      <td>1</td>\n",
       "      <td>0</td>\n",
       "      <td>1</td>\n",
       "      <td>enfp and intj moments  https://www.youtube.com...</td>\n",
       "    </tr>\n",
       "    <tr>\n",
       "      <th>3</th>\n",
       "      <td>INFJ</td>\n",
       "      <td>1</td>\n",
       "      <td>1</td>\n",
       "      <td>0</td>\n",
       "      <td>1</td>\n",
       "      <td>What has been the most life-changing experienc...</td>\n",
       "    </tr>\n",
       "    <tr>\n",
       "      <th>4</th>\n",
       "      <td>INFJ</td>\n",
       "      <td>1</td>\n",
       "      <td>1</td>\n",
       "      <td>0</td>\n",
       "      <td>1</td>\n",
       "      <td>http://www.youtube.com/watch?v=vXZeYwwRDw8   h...</td>\n",
       "    </tr>\n",
       "  </tbody>\n",
       "</table>\n",
       "</div>"
      ],
      "text/plain": [
       "   type  IE  NS  TF  JP                                               post\n",
       "0  INFJ   1   1   0   1        'http://www.youtube.com/watch?v=qsXHcwe3krw\n",
       "1  INFJ   1   1   0   1  http://41.media.tumblr.com/tumblr_lfouy03PMA1q...\n",
       "2  INFJ   1   1   0   1  enfp and intj moments  https://www.youtube.com...\n",
       "3  INFJ   1   1   0   1  What has been the most life-changing experienc...\n",
       "4  INFJ   1   1   0   1  http://www.youtube.com/watch?v=vXZeYwwRDw8   h..."
      ]
     },
     "execution_count": 11,
     "metadata": {},
     "output_type": "execute_result"
    }
   ],
   "source": [
    "# rearrange columns\n",
    "all_mbti = all_mbti[['type', 'IE', 'NS', 'TF', 'JP', 'post']]\n",
    "all_mbti.head(5)"
   ]
  },
  {
   "cell_type": "code",
   "execution_count": 128,
   "metadata": {},
   "outputs": [
    {
     "name": "stdout",
     "output_type": "stream",
     "text": [
      "Introversion (I) -     Extroversion (E):\t\n",
      "\t 73326   -      243222\n",
      "Intuition (N)    -     Sensing (S):\t\t\n",
      "\t 43419   -      273129\n",
      "Thinking (T)     -     Feeling (F):\t\t\n",
      "\t 171428  -       145120\n",
      "Judging (J)      -     Perceiving (P):\t\t\n",
      "\t 191612  -       124936\n"
     ]
    }
   ],
   "source": [
    "print (\"Introversion (I) -     Extroversion (E):\\t\")\n",
    "print(\"\\t\", all_mbti['IE'].value_counts()[0], \"  -     \", all_mbti['IE'].value_counts()[1])\n",
    "print (\"Intuition (N)    -     Sensing (S):\\t\\t\")\n",
    "print(\"\\t\", all_mbti['NS'].value_counts()[0], \"  -     \", all_mbti['NS'].value_counts()[1])\n",
    "print (\"Thinking (T)     -     Feeling (F):\\t\\t\")\n",
    "print(\"\\t\", all_mbti['TF'].value_counts()[0], \" -      \", all_mbti['TF'].value_counts()[1])\n",
    "print (\"Judging (J)      -     Perceiving (P):\\t\\t\")\n",
    "print(\"\\t\", all_mbti['JP'].value_counts()[0], \" -      \", all_mbti['JP'].value_counts()[1])"
   ]
  },
  {
   "cell_type": "markdown",
   "metadata": {},
   "source": [
    "### Stop Words"
   ]
  },
  {
   "cell_type": "code",
   "execution_count": 114,
   "metadata": {},
   "outputs": [
    {
     "name": "stdout",
     "output_type": "stream",
     "text": [
      "Number of stop words: 164\n"
     ]
    }
   ],
   "source": [
    "my_stopwords = ['a', 'about', 'above', 'after', 'again', 'against', 'ain', 'all', 'am', 'an', 'and', 'any', 'are', 'aren',\n",
    "\"aren't\", 'as', 'at', 'be', 'because', 'been', 'before', 'being', 'below', 'between', 'both', 'but', 'by', 'can',\n",
    "'couldn', \"couldn't\", 'd', 'did', 'didn', \"didn't\", 'do', 'does', 'doesn', \"doesn't\", 'doing', 'don', \"don't\",\n",
    "'down', 'during', 'each', 'few', 'for', 'from', 'further', 'had', 'hadn', \"hadn't\", 'has', 'hasn', \"hasn't\",\n",
    "'have', 'haven', \"haven't\", 'having',  'how', 'if', 'in', 'into', 'is', 'isn', \"isn't\", 'it', \"it's\", 'its',\n",
    "'itself', 'just', 'll', 'm', 'ma', 'me', 'mightn', \"mightn't\", 'more', 'most', 'mustn', \"mustn't\", 'needn',\n",
    "\"needn't\", 'now', 'o', 'of', 'off', 'on', 'once', 'only', 'or', 'other', 'out', 'over', 'own', 're', 's', 'same', 'shan', \"shan't\",\n",
    "'she', \"she's\", 'should', \"should've\",'shouldn', \"shouldn't\", 'so', 'some', 'such', 't', 'than', 'that', \"that'll\", 'the', 'then',\n",
    "'there', 'these', 'this', 'those', 'through', 'to', 'too', 'under', 'until', 'up', 've', 'very', 'was', 'wasn', \"wasn't\", 'we',\n",
    "'were', 'weren', \"weren't\", 'what', 'when', 'where', 'which', 'while', 'who', 'whom', 'why', 'will', 'with', 'won', \"won't\",\n",
    "'wouldn', \"wouldn't\", 'y','ISTJ', 'ISFJ', 'INFJ', 'INTJ', 'ISTP', 'ISFP', 'INFP', 'INTP', 'ESTP', 'ESFP', 'ENFP', 'ENTP', 'ESTJ',\n",
    "'ESFJ', 'ENFJ', 'ENTJ']\n",
    "print(\"Number of stop words: {}\".format(len(my_stopwords)))"
   ]
  },
  {
   "cell_type": "code",
   "execution_count": 105,
   "metadata": {},
   "outputs": [
    {
     "name": "stdout",
     "output_type": "stream",
     "text": [
      "Number of stop words: 318\n"
     ]
    }
   ],
   "source": [
    "from sklearn.feature_extraction.text import ENGLISH_STOP_WORDS \n",
    "print(\"Number of stop words: {}\".format(len(ENGLISH_STOP_WORDS)))"
   ]
  },
  {
   "cell_type": "code",
   "execution_count": 106,
   "metadata": {},
   "outputs": [
    {
     "name": "stdout",
     "output_type": "stream",
     "text": [
      "frozenset({'somehow', 'too', 'namely', 'around', 'during', 'most', 'or', 'beforehand', 'part', 'four', 'he', 'an', 'our', 'again', 'becomes', 'everything', 'go', 'becoming', 'fifteen', 'hasnt', 'nobody', 'about', 'not', 'hence', 'alone', 'my', 'myself', 'his', 'whereafter', 'latterly', 'etc', 'inc', 'if', 'mill', 'herself', 'describe', 'due', 'then', 'whence', 'whereby', 'six', 'became', 'twelve', 'beyond', 'be', 'con', 'interest', 'when', 'at', 'eleven', 'detail', 'twenty', 'serious', 'well', 'therein', 'cry', 'three', 'every', 'are', 'what', 'herein', 'moreover', 'i', 'become', 'no', 'same', 'whom', 'how', 'nowhere', 'two', 'any', 'name', 'made', 'among', 'ever', 'down', 'everywhere', 'many', 'noone', 'out', 'thence', 'eight', 'yours', 'there', 'further', 'eg', 'throughout', 'since', 'their', 'himself', 'sixty', 'find', 'who', 'do', 'between', 'them', 'would', 'via', 'front', 'being', 'first', 'perhaps', 'within', 'bottom', 'yourselves', 'afterwards', 'take', 'its', 'ie', 'never', 'yourself', 'amongst', 'give', 'besides', 'all', 'has', 'each', 'however', 'system', 'wherein', 'yet', 'seeming', 'should', 'somewhere', 'whereas', 'been', 'formerly', 'into', 'these', 'sincere', 'for', 'anywhere', 'enough', 'please', 'below', 'might', 'top', 'toward', 'you', 'above', 'with', 'am', 'show', 'to', 'from', 'even', 'in', 'will', 'get', 'now', 'something', 'sometime', 'ten', 'some', 'therefore', 'five', 'such', 'whole', 'themselves', 'fifty', 'by', 'against', 'up', 'ourselves', 'thereby', 'us', 'either', 'nothing', 'thin', 'after', 'your', 'neither', 'other', 'full', 'otherwise', 'were', 'over', 'she', 'also', 'though', 'found', 'ltd', 'thru', 'but', 'and', 'because', 'much', 'only', 'hereby', 'must', 'whoever', 'across', 'former', 'that', 'ours', 'whither', 'indeed', 'always', 'anyone', 'the', 'without', 'see', 'others', 'both', 'can', 'least', 'on', 'hers', 'of', 'seems', 'co', 'nine', 'side', 'thus', 'until', 'own', 'upon', 'had', 'whether', 'amoungst', 'have', 'fill', 'very', 'wherever', 'once', 'along', 're', 'still', 'her', 'forty', 'whereupon', 'while', 'nevertheless', 'may', 'everyone', 'thick', 'back', 'this', 'seem', 'nor', 'rather', 'except', 'towards', 'him', 'itself', 'hereafter', 'cant', 'whatever', 'than', 'thereupon', 'is', 'here', 'hereupon', 'less', 'put', 'already', 'third', 'none', 'someone', 'call', 'done', 'amount', 'we', 'anyhow', 'one', 'it', 'was', 'almost', 'un', 'seemed', 'under', 'whose', 'hundred', 'mostly', 'thereafter', 'me', 'mine', 'several', 'off', 'sometimes', 'bill', 'few', 'de', 'they', 'why', 'behind', 'next', 'another', 'per', 'cannot', 'before', 'anything', 'together', 'move', 'as', 'could', 'fire', 'beside', 'onto', 'which', 'last', 'those', 'couldnt', 'else', 'elsewhere', 'meanwhile', 'often', 'so', 'through', 'a', 'anyway', 'keep', 'although', 'more', 'latter', 'whenever', 'where', 'empty'})\n"
     ]
    }
   ],
   "source": [
    "print(ENGLISH_STOP_WORDS)"
   ]
  },
  {
   "cell_type": "markdown",
   "metadata": {},
   "source": [
    "### Training"
   ]
  },
  {
   "cell_type": "code",
   "execution_count": 90,
   "metadata": {},
   "outputs": [],
   "source": [
    "from sklearn.model_selection import train_test_split\n",
    "from sklearn.tree import DecisionTreeClassifier\n",
    "from sklearn.pipeline import Pipeline\n",
    "from sklearn.feature_extraction.text import CountVectorizer\n",
    "from sklearn.svm import LinearSVC"
   ]
  },
  {
   "cell_type": "code",
   "execution_count": 51,
   "metadata": {},
   "outputs": [],
   "source": [
    "from sklearn.metrics import classification_report, confusion_matrix"
   ]
  },
  {
   "cell_type": "code",
   "execution_count": 107,
   "metadata": {},
   "outputs": [],
   "source": [
    "X_train, X_test, y_train, y_test = train_test_split(all_mbti['post'], all_mbti['IE'], test_size=0.3, \n",
    "                                                    random_state=42)"
   ]
  },
  {
   "cell_type": "markdown",
   "metadata": {},
   "source": [
    "### LinearSVC\n",
    "LinearSVC with the parameter: `class_weight='balanced'` will penalize incorrect predictions and help with training on imbalanced dataset"
   ]
  },
  {
   "cell_type": "code",
   "execution_count": 102,
   "metadata": {},
   "outputs": [],
   "source": [
    "svc_pipe = Pipeline([('count_vec', CountVectorizer(binary=True, min_df=3, ngram_range=(1,2), stop_words=my_stopwords)),\n",
    "                      ('svc', LinearSVC(class_weight='balanced')) # penalize \n",
    "                    ])"
   ]
  },
  {
   "cell_type": "code",
   "execution_count": 103,
   "metadata": {},
   "outputs": [
    {
     "name": "stdout",
     "output_type": "stream",
     "text": [
      "CPU times: user 1min 22s, sys: 837 ms, total: 1min 23s\n",
      "Wall time: 1min 23s\n"
     ]
    },
    {
     "data": {
      "text/plain": [
       "Pipeline(memory=None,\n",
       "     steps=[('count_vec', CountVectorizer(analyzer='word', binary=True, decode_error='strict',\n",
       "        dtype=<class 'numpy.int64'>, encoding='utf-8', input='content',\n",
       "        lowercase=True, max_df=1.0, max_features=None, min_df=3,\n",
       "        ngram_range=(1, 2), preprocessor=None,\n",
       "        stop_words=['a', '...ax_iter=1000,\n",
       "     multi_class='ovr', penalty='l2', random_state=None, tol=0.0001,\n",
       "     verbose=0))])"
      ]
     },
     "execution_count": 103,
     "metadata": {},
     "output_type": "execute_result"
    }
   ],
   "source": [
    "%%time\n",
    "svc_pipe.fit(X_train, y_train)"
   ]
  },
  {
   "cell_type": "code",
   "execution_count": 104,
   "metadata": {},
   "outputs": [
    {
     "name": "stdout",
     "output_type": "stream",
     "text": [
      "Accuracy on training set: 0.990\n",
      "Accuracy on test set: 0.700\n"
     ]
    }
   ],
   "source": [
    "print(\"Accuracy on training set: {:.3f}\".format(post_pipe.score(X_train, y_train)))\n",
    "print(\"Accuracy on test set: {:.3f}\".format(post_pipe.score(X_test, y_test)))"
   ]
  },
  {
   "cell_type": "markdown",
   "metadata": {},
   "source": [
    "### Decision tree"
   ]
  },
  {
   "cell_type": "markdown",
   "metadata": {},
   "source": [
    "Decision trees often perform well on imbalanced datasets because their hierarchical structure allows them to learn signals from both classes.\n",
    "\n",
    "In modern applied machine learning, tree ensembles (Random Forests, Gradient Boosted Trees, etc.) almost always outperform singular decision trees"
   ]
  },
  {
   "cell_type": "code",
   "execution_count": 35,
   "metadata": {},
   "outputs": [],
   "source": [
    "post_pipe = Pipeline([('count_vec', CountVectorizer(binary=True, min_df=3, ngram_range=(1,2), stop_words=my_stopwords)),\n",
    "                      ('tree', DecisionTreeClassifier(random_state=0))# random state fixed used for tie breaking\n",
    "                    ])"
   ]
  },
  {
   "cell_type": "code",
   "execution_count": 36,
   "metadata": {},
   "outputs": [
    {
     "name": "stdout",
     "output_type": "stream",
     "text": [
      "CPU times: user 21min 50s, sys: 7.92 s, total: 21min 58s\n",
      "Wall time: 22min 23s\n"
     ]
    },
    {
     "data": {
      "text/plain": [
       "Pipeline(memory=None,\n",
       "     steps=[('count_vec', CountVectorizer(analyzer='word', binary=True, decode_error='strict',\n",
       "        dtype=<class 'numpy.int64'>, encoding='utf-8', input='content',\n",
       "        lowercase=True, max_df=1.0, max_features=None, min_df=3,\n",
       "        ngram_range=(1, 2), preprocessor=None,\n",
       "        stop_words=['a', '...         min_weight_fraction_leaf=0.0, presort=False, random_state=0,\n",
       "            splitter='best'))])"
      ]
     },
     "execution_count": 36,
     "metadata": {},
     "output_type": "execute_result"
    }
   ],
   "source": [
    "%%time\n",
    "post_pipe.fit(X_train, y_train)"
   ]
  },
  {
   "cell_type": "code",
   "execution_count": 44,
   "metadata": {},
   "outputs": [
    {
     "name": "stdout",
     "output_type": "stream",
     "text": [
      "Accuracy on training set: 0.990\n",
      "Accuracy on test set: 0.700\n"
     ]
    }
   ],
   "source": [
    "print(\"Accuracy on training set: {:.3f}\".format(post_pipe.score(X_train, y_train)))\n",
    "print(\"Accuracy on test set: {:.3f}\".format(post_pipe.score(X_test, y_test)))"
   ]
  },
  {
   "cell_type": "markdown",
   "metadata": {},
   "source": [
    "one is good, more is better. Random Forest"
   ]
  },
  {
   "cell_type": "code",
   "execution_count": 40,
   "metadata": {},
   "outputs": [],
   "source": [
    "from sklearn.ensemble import RandomForestClassifier"
   ]
  },
  {
   "cell_type": "code",
   "execution_count": 111,
   "metadata": {},
   "outputs": [],
   "source": [
    "forest_pipe = Pipeline([('count_vec', CountVectorizer(binary=True, min_df=3, ngram_range=(1,2), stop_words=ENGLISH_STOP_WORDS)),\n",
    "                      ('forest', RandomForestClassifier(n_estimators=5, random_state=2))\n",
    "                    ])"
   ]
  },
  {
   "cell_type": "code",
   "execution_count": 112,
   "metadata": {},
   "outputs": [
    {
     "name": "stdout",
     "output_type": "stream",
     "text": [
      "CPU times: user 46.1 s, sys: 510 ms, total: 46.6 s\n",
      "Wall time: 47.5 s\n"
     ]
    },
    {
     "data": {
      "text/plain": [
       "Pipeline(memory=None,\n",
       "     steps=[('count_vec', CountVectorizer(analyzer='word', binary=True, decode_error='strict',\n",
       "        dtype=<class 'numpy.int64'>, encoding='utf-8', input='content',\n",
       "        lowercase=True, max_df=1.0, max_features=None, min_df=3,\n",
       "        ngram_range=(1, 2), preprocessor=None,\n",
       "        stop_words=frozens..._estimators=5, n_jobs=1,\n",
       "            oob_score=False, random_state=2, verbose=0, warm_start=False))])"
      ]
     },
     "execution_count": 112,
     "metadata": {},
     "output_type": "execute_result"
    }
   ],
   "source": [
    "%%time\n",
    "forest_pipe.fit(X_test, y_test)"
   ]
  },
  {
   "cell_type": "code",
   "execution_count": 113,
   "metadata": {},
   "outputs": [
    {
     "name": "stdout",
     "output_type": "stream",
     "text": [
      "Accuracy on training set: 0.732\n",
      "Accuracy on test set: 0.954\n"
     ]
    }
   ],
   "source": [
    "print(\"Accuracy on training set: {:.3f}\".format(forest_pipe.score(X_train, y_train)))\n",
    "print(\"Accuracy on test set: {:.3f}\".format(forest_pipe.score(X_test, y_test)))"
   ]
  },
  {
   "cell_type": "code",
   "execution_count": 70,
   "metadata": {},
   "outputs": [
    {
     "data": {
      "text/plain": [
       "array([[ 1969,    20,     5,    12,     1,     3,     1,     1,    28,\n",
       "           35,    26,    30,     6,     6,     8,     8],\n",
       "       [    6,  6732,    19,    75,     7,     7,     3,     9,   112,\n",
       "          138,    88,   125,    17,    24,    12,    36],\n",
       "       [    1,     3,  2215,    13,     2,     2,     1,     1,    21,\n",
       "           20,    18,    19,     4,     9,     4,     7],\n",
       "       [    7,    35,    18,  7197,     8,     6,     9,    18,   130,\n",
       "          149,   122,   146,    23,    36,    19,    46],\n",
       "       [    0,     2,     0,     0,   415,     0,     0,     0,     4,\n",
       "            4,     4,     4,     0,     0,     0,     1],\n",
       "       [    0,     1,     1,     2,     0,   433,     1,     0,     2,\n",
       "            2,     3,     1,     1,     0,     3,     1],\n",
       "       [    0,     0,     0,     3,     1,     0,   410,     0,     1,\n",
       "            2,     4,     6,     0,     1,     2,     1],\n",
       "       [    0,     1,     0,     2,     0,     0,     0,   916,     9,\n",
       "            9,     8,     2,     3,     1,     1,     2],\n",
       "       [   41,    96,    33,   110,    10,     7,     8,    12, 14958,\n",
       "          465,   277,   341,    48,    82,    68,   113],\n",
       "       [   97,   289,    95,   267,    12,    18,    18,    60,   698,\n",
       "        19177,   652,   819,   146,   228,   167,   264],\n",
       "       [   13,    31,    21,    58,     4,     3,     2,     8,    98,\n",
       "          116, 10522,   176,    33,    34,    33,    52],\n",
       "       [   12,    48,    28,    69,     4,     9,     5,    12,   123,\n",
       "          122,    98, 12271,    28,    41,    47,    74],\n",
       "       [    1,     4,     2,     1,     0,     1,     0,     2,    12,\n",
       "            4,    11,    10,  1480,     3,     1,     3],\n",
       "       [    2,     6,     1,     9,     0,     3,     0,     1,    14,\n",
       "           13,     6,    11,     3,  2347,     2,    10],\n",
       "       [    2,     5,     5,     6,     0,     0,     0,     1,     4,\n",
       "            8,     4,    10,     0,     2,  1754,     5],\n",
       "       [    4,     9,     6,     7,     0,     1,     0,     0,    19,\n",
       "           14,    13,    10,     6,    11,     2,  3075]])"
      ]
     },
     "execution_count": 70,
     "metadata": {},
     "output_type": "execute_result"
    }
   ],
   "source": [
    "y_pred = forest_pipe.predict(X_test)\n",
    "confusion_matrix(y_pred, y_test)"
   ]
  },
  {
   "cell_type": "code",
   "execution_count": 72,
   "metadata": {},
   "outputs": [
    {
     "name": "stdout",
     "output_type": "stream",
     "text": [
      "             precision    recall  f1-score   support\n",
      "\n",
      "       ENFJ       0.91      0.91      0.91      2159\n",
      "       ENFP       0.92      0.91      0.92      7410\n",
      "       ENTJ       0.90      0.95      0.93      2340\n",
      "       ENTP       0.92      0.90      0.91      7969\n",
      "       ESFJ       0.89      0.96      0.92       434\n",
      "       ESFP       0.88      0.96      0.92       451\n",
      "       ESTJ       0.90      0.95      0.92       431\n",
      "       ESTP       0.88      0.96      0.92       954\n",
      "       INFJ       0.92      0.90      0.91     16669\n",
      "       INFP       0.95      0.83      0.89     23007\n",
      "       INTJ       0.89      0.94      0.91     11204\n",
      "       INTP       0.88      0.94      0.91     12991\n",
      "       ISFJ       0.82      0.96      0.89      1535\n",
      "       ISFP       0.83      0.97      0.89      2428\n",
      "       ISTJ       0.83      0.97      0.89      1806\n",
      "       ISTP       0.83      0.97      0.89      3177\n",
      "\n",
      "avg / total       0.91      0.90      0.90     94965\n",
      "\n"
     ]
    }
   ],
   "source": [
    "print(classification_report(y_pred, y_test))"
   ]
  },
  {
   "cell_type": "code",
   "execution_count": 74,
   "metadata": {},
   "outputs": [
    {
     "data": {
      "text/plain": [
       "<matplotlib.axes._subplots.AxesSubplot at 0x1a220b5160>"
      ]
     },
     "execution_count": 74,
     "metadata": {},
     "output_type": "execute_result"
    },
    {
     "data": {
      "image/png": "[encoded data removed]",
      "text/plain": [
       "<matplotlib.figure.Figure at 0x1a1dbb3048>"
      ]
     },
     "metadata": {},
     "output_type": "display_data"
    }
   ],
   "source": [
    "sns.heatmap(confusion_matrix(y_pred, y_test))"
   ]
  },
  {
   "cell_type": "markdown",
   "metadata": {},
   "source": [
    "___\n",
    "another ensemle model; Gradient Boosting"
   ]
  },
  {
   "cell_type": "code",
   "execution_count": 45,
   "metadata": {},
   "outputs": [],
   "source": [
    "from sklearn.ensemble import GradientBoostingClassifier"
   ]
  },
  {
   "cell_type": "code",
   "execution_count": 46,
   "metadata": {},
   "outputs": [],
   "source": [
    "gbrt_pipe = Pipeline([('count_vec', CountVectorizer(binary=True, min_df=3, ngram_range=(1,2), stop_words=my_stopwords)),\n",
    "                        ('gbrt', GradientBoostingClassifier(random_state=0))\n",
    "                      ])"
   ]
  },
  {
   "cell_type": "code",
   "execution_count": 47,
   "metadata": {},
   "outputs": [
    {
     "name": "stdout",
     "output_type": "stream",
     "text": [
      "CPU times: user 3min 10s, sys: 2.25 s, total: 3min 12s\n",
      "Wall time: 3min 16s\n"
     ]
    },
    {
     "data": {
      "text/plain": [
       "Pipeline(memory=None,\n",
       "     steps=[('count_vec', CountVectorizer(analyzer='word', binary=True, decode_error='strict',\n",
       "        dtype=<class 'numpy.int64'>, encoding='utf-8', input='content',\n",
       "        lowercase=True, max_df=1.0, max_features=None, min_df=3,\n",
       "        ngram_range=(1, 2), preprocessor=None,\n",
       "        stop_words=['a', '...         presort='auto', random_state=0, subsample=1.0, verbose=0,\n",
       "              warm_start=False))])"
      ]
     },
     "execution_count": 47,
     "metadata": {},
     "output_type": "execute_result"
    }
   ],
   "source": [
    "%%time\n",
    "gbrt_pipe.fit(X_train, y_train)"
   ]
  },
  {
   "cell_type": "code",
   "execution_count": 49,
   "metadata": {},
   "outputs": [
    {
     "name": "stdout",
     "output_type": "stream",
     "text": [
      "Accuracy on training set: 0.776\n",
      "Accuracy on test set: 0.772\n"
     ]
    }
   ],
   "source": [
    "print(\"Accuracy on training set: {:.3f}\".format(gbrt_pipe.score(X_train, y_train)))\n",
    "print(\"Accuracy on test set: {:.3f}\".format(gbrt_pipe.score(X_test, y_test)))"
   ]
  },
  {
   "cell_type": "markdown",
   "metadata": {},
   "source": [
    "How do they measure up?"
   ]
  },
  {
   "cell_type": "markdown",
   "metadata": {},
   "source": [
    "---\n",
    "GridSearch to find best parameters of LinearSVM, LogisticRegression, DecisionTree and RandomForest"
   ]
  },
  {
   "cell_type": "markdown",
   "metadata": {},
   "source": [
    "include tfidfvectorizer (True, False)"
   ]
  },
  {
   "cell_type": "code",
   "execution_count": null,
   "metadata": {},
   "outputs": [],
   "source": [
    "from sklearn.grid_search import GridSearchCV"
   ]
  },
  {
   "cell_type": "code",
   "execution_count": null,
   "metadata": {},
   "outputs": [],
   "source": [
    "rfc = RandomForestClassifier(n_jobs=-1, oob_score = True) \n",
    "\n",
    "param_grid = { \n",
    "    'n_estimators': [200, 700],\n",
    "    'max_features': ['auto', 'sqrt', 'log2']\n",
    "}\n",
    "\n",
    "CV_rfc = GridSearchCV(estimator=rfc, param_grid=param_grid, cv= 5)\n",
    "CV_rfc.fit(X, y)\n",
    "print CV_rfc.best_params_"
   ]
  },
  {
   "cell_type": "code",
   "execution_count": null,
   "metadata": {},
   "outputs": [],
   "source": [
    "parameters= {\n",
    "    count_vec__binary = (False, True),\n",
    "    count_vec__min_df = (1,2,3),\n",
    "    count_vec__ngram_range = ((1,1),(1,2),(1,3)),\n",
    "    count_vec__stop_words = (None, 'english', my_stopwords),\n",
    "    \n",
    "}"
   ]
  },
  {
   "cell_type": "code",
   "execution_count": null,
   "metadata": {},
   "outputs": [],
   "source": []
  }
 ],
 "metadata": {
  "kernelspec": {
   "display_name": "Python 3",
   "language": "python",
   "name": "python3"
  },
  "language_info": {
   "codemirror_mode": {
    "name": "ipython",
    "version": 3
   },
   "file_extension": ".py",
   "mimetype": "text/x-python",
   "name": "python",
   "nbconvert_exporter": "python",
   "pygments_lexer": "ipython3",
   "version": "3.6.2"
  }
 },
 "nbformat": 4,
 "nbformat_minor": 2
}
